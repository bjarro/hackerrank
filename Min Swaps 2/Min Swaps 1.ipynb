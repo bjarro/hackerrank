{
 "cells": [
  {
   "cell_type": "code",
   "execution_count": 2,
   "id": "dd9330ab-bfaf-4c25-8c35-cfda291f9669",
   "metadata": {},
   "outputs": [],
   "source": [
    "#!/bin/python3\n",
    "\n",
    "import math\n",
    "import os\n",
    "import random\n",
    "import re\n",
    "import sys\n",
    "\n",
    "\n",
    "name_test = 'temp'\n",
    "os.environ['OUTPUT_PATH'] = f\"./out/{name_test}.txt\"\n"
   ]
  },
  {
   "cell_type": "code",
   "execution_count": null,
   "id": "99cdc697-49b9-4ad7-b3fd-9e02b8b6f853",
   "metadata": {},
   "outputs": [],
   "source": []
  },
  {
   "cell_type": "code",
   "execution_count": 20,
   "id": "118915a6-d22d-4b6f-9eb2-dcf9ddf8409a",
   "metadata": {},
   "outputs": [],
   "source": [
    "list_temp = [0 for _ in range(10)]"
   ]
  },
  {
   "cell_type": "code",
   "execution_count": 22,
   "id": "48363beb-b21e-4785-94dc-04a7c48e10d4",
   "metadata": {},
   "outputs": [],
   "source": [
    "list_temp[1:4] = [num + 3 for num in list_temp[1:4]]"
   ]
  },
  {
   "cell_type": "code",
   "execution_count": 23,
   "id": "b1da28c1-823c-4e86-b8e9-05b3ea3b9f7b",
   "metadata": {},
   "outputs": [
    {
     "data": {
      "text/plain": [
       "[0, 3, 3, 3, 0, 0, 0, 0, 0, 0]"
      ]
     },
     "execution_count": 23,
     "metadata": {},
     "output_type": "execute_result"
    }
   ],
   "source": [
    "list_temp"
   ]
  },
  {
   "cell_type": "code",
   "execution_count": 1,
   "id": "32009b8f-980a-44bf-af7b-3602e29130c6",
   "metadata": {},
   "outputs": [],
   "source": [
    "from itertools import combinations\n",
    "from math import comb\n",
    "from collections import defaultdict"
   ]
  },
  {
   "cell_type": "code",
   "execution_count": 14,
   "id": "4e037799-5841-41f9-bafe-ed25d906b71d",
   "metadata": {},
   "outputs": [],
   "source": [
    "def minimumSwaps(arr):\n",
    "    print(arr)\n",
    "    \n",
    "    arr_iterate = [num-1 for num in arr]\n",
    "    \n",
    "    print(arr_iterate)\n",
    "    \n",
    "    num_swaps = 0\n",
    "    \n",
    "    for i, start_num in enumerate(arr_iterate):\n",
    "        \n",
    "        if start_num == -1:\n",
    "            continue\n",
    "\n",
    "        num = start_num\n",
    "        \n",
    "        arr_cycle = [start_num]\n",
    "\n",
    "        while start_num != arr_iterate[num] and arr_iterate[num] != -1:\n",
    "            arr_cycle.append(arr_iterate[num])\n",
    "            old_num = num\n",
    "            num = arr_iterate[num]\n",
    "            arr_iterate[old_num] = -1\n",
    "        \n",
    "        num_swaps += len(arr_cycle) - 1\n",
    "        \n",
    "        print(arr_cycle)\n",
    "        \n",
    "        \n",
    "    print(num_swaps)\n",
    "    return num_swaps\n"
   ]
  },
  {
   "cell_type": "code",
   "execution_count": 18,
   "id": "17545a33-31de-447f-9ef0-3b7b7c8f44e0",
   "metadata": {},
   "outputs": [
    {
     "name": "stdout",
     "output_type": "stream",
     "text": [
      "[1, 3, 5, 2, 4, 6, 7]\n",
      "[0, 2, 4, 1, 3, 5, 6]\n",
      "[0]\n",
      "[2, 4, 3, 1]\n",
      "[5]\n",
      "[6]\n",
      "3\n"
     ]
    }
   ],
   "source": [
    "name_test = 'input02.txt'\n",
    "\n",
    "f_input = open(f\"./in/{name_test}\", \"r\")\n",
    "\n",
    "if __name__ == '__main__':\n",
    "#     fptr = open(os.environ['OUTPUT_PATH'], 'w')\n",
    "\n",
    "    n = int(f_input.readline())\n",
    "\n",
    "    arr = list(map(int, f_input.readline().rstrip().split()))\n",
    "\n",
    "    res = minimumSwaps(arr)\n",
    "\n",
    "#     fptr.write(str(res) + '\\n')\n",
    "\n",
    "#     fptr.close()"
   ]
  }
 ],
 "metadata": {
  "kernelspec": {
   "display_name": "Python [conda env:hackerrank]",
   "language": "python",
   "name": "conda-env-hackerrank-py"
  },
  "language_info": {
   "codemirror_mode": {
    "name": "ipython",
    "version": 3
   },
   "file_extension": ".py",
   "mimetype": "text/x-python",
   "name": "python",
   "nbconvert_exporter": "python",
   "pygments_lexer": "ipython3",
   "version": "3.11.3"
  }
 },
 "nbformat": 4,
 "nbformat_minor": 5
}
