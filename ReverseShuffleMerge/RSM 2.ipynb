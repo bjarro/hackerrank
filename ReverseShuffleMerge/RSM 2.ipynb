{
 "cells": [
  {
   "cell_type": "code",
   "execution_count": null,
   "id": "f4e04fed-0fe7-4318-9347-13e115f90667",
   "metadata": {},
   "outputs": [],
   "source": [
    "#!/bin/python3\n",
    "\n",
    "import math\n",
    "import os\n",
    "import random\n",
    "import re\n",
    "import sys\n",
    "\n",
    "#\n",
    "# Complete the 'reverseShuffleMerge' function below.\n",
    "#\n",
    "# The function is expected to return a STRING.\n",
    "# The function accepts STRING s as parameter.\n",
    "#\n",
    "\n",
    "\n",
    "    \n",
    "    \n",
    "\n"
   ]
  },
  {
   "cell_type": "code",
   "execution_count": 44,
   "id": "5ed624b8-8a26-4079-80f7-90592729cbde",
   "metadata": {},
   "outputs": [],
   "source": [
    "from collections import defaultdict"
   ]
  },
  {
   "cell_type": "code",
   "execution_count": 6,
   "id": "da39249d-8441-49e6-9bfb-21f18f42a0fa",
   "metadata": {},
   "outputs": [
    {
     "data": {
      "text/plain": [
       "123"
      ]
     },
     "execution_count": 6,
     "metadata": {},
     "output_type": "execute_result"
    }
   ],
   "source": [
    "ord('{')"
   ]
  },
  {
   "cell_type": "code",
   "execution_count": 5,
   "id": "9e8b3ca7-1fdd-4b3a-8c73-8597571a7b8e",
   "metadata": {},
   "outputs": [
    {
     "data": {
      "text/plain": [
       "'{'"
      ]
     },
     "execution_count": 5,
     "metadata": {},
     "output_type": "execute_result"
    }
   ],
   "source": [
    "chr(123)"
   ]
  },
  {
   "cell_type": "code",
   "execution_count": 20,
   "id": "65f96057-5814-40f3-8edc-78c973173dd9",
   "metadata": {},
   "outputs": [
    {
     "data": {
      "text/plain": [
       "[3, 2, 1]"
      ]
     },
     "execution_count": 23,
     "metadata": {},
     "output_type": "execute_result"
    }
   ],
   "source": [
    "[1,2,3,4][:-1:-2]"
   ]
  },
  {
   "cell_type": "code",
   "execution_count": 25,
   "id": "3bc6a907-a390-4190-b435-c642a5d66131",
   "metadata": {},
   "outputs": [
    {
     "data": {
      "text/plain": [
       "[1, 2, 3, 4]"
      ]
     },
     "execution_count": 25,
     "metadata": {},
     "output_type": "execute_result"
    }
   ],
   "source": [
    "[1,2,3,4][-0:]"
   ]
  },
  {
   "cell_type": "code",
   "execution_count": 38,
   "id": "429ee6c4-4315-48f6-8b9c-9bf5f05d3dcc",
   "metadata": {},
   "outputs": [
    {
     "data": {
      "text/plain": [
       "[1, 2, 3, 4]"
      ]
     },
     "execution_count": 38,
     "metadata": {},
     "output_type": "execute_result"
    }
   ],
   "source": [
    "[1,2,3,4][-0:]"
   ]
  },
  {
   "cell_type": "code",
   "execution_count": 67,
   "id": "dc522012-6b85-4eec-85c3-149ae1044b5c",
   "metadata": {},
   "outputs": [],
   "source": [
    "def reverseShuffleMerge(s):\n",
    "    \n",
    "    dict_s = defaultdict(list)\n",
    "    \n",
    "    for i, char in enumerate(s):\n",
    "        dict_s[char].append(i)\n",
    "        \n",
    "    #all counts are even\n",
    "    cur_split_rem = {char:len(i_list)/2 for char, i_list in dict_s.items()}\n",
    "    cur_str_rem = {char:len(i_list) for char, i_list in dict_s.items()}\n",
    "    \n",
    "\n",
    "    first_char = s[-1] # Base case\n",
    "    cur_str = [first_char] \n",
    "    cur_split_rem[first_char] -= 1\n",
    "    cur_str_rem[first_char]-=1\n",
    "    \n",
    "    for i, char in enumerate(s[-2::-1]):\n",
    "        \n",
    "#         print('-------------------------')\n",
    "#         print(f'cur_str = [{cur_str}]')\n",
    "#         print(f'loop = [{i}], char = [{char}]')\n",
    "#         print(f'cur_split_rem [{char}] = [{cur_str_rem[char]}]')\n",
    "        \n",
    "        \n",
    "        #If not yet filled - insert\n",
    "        if cur_split_rem[char] > 0:\n",
    "        \n",
    "            #Identify insertion point j\n",
    "            j = 0\n",
    "            while j < len(cur_str):\n",
    "            \n",
    "                b_char = cur_str[-1-j]\n",
    " \n",
    "                if char < b_char and cur_split_rem[b_char]+1 <= cur_str_rem[b_char]:\n",
    "                    #Valid to remove backtracked letter\n",
    "                    cur_split_rem[b_char] +=1\n",
    "                    j+=1\n",
    "                    \n",
    "                else:\n",
    "                    # cur_iter must stop\n",
    "                    break\n",
    "                   \n",
    "#             print(f'Insertion point = [{j}]')\n",
    "\n",
    "            #Remove Trailing\n",
    "            if j!= 0:\n",
    "                del cur_str[-j:]\n",
    "            \n",
    "            #Append\n",
    "            cur_str.append(char)\n",
    "            cur_split_rem[char]-=1\n",
    "\n",
    "        cur_str_rem[char] -= 1\n",
    "       \n",
    "        \n",
    "        \n",
    "    print(cur_split_rem)\n",
    "    print(cur_str_rem)\n",
    "    \n",
    "    return ''.join(cur_str)\n"
   ]
  },
  {
   "cell_type": "code",
   "execution_count": 68,
   "id": "6cf03131-0633-4e91-b465-7f25f679ec8e",
   "metadata": {},
   "outputs": [
    {
     "name": "stdout",
     "output_type": "stream",
     "text": [
      "{'a': 0.0, 'b': 0.0}\n",
      "{'a': 0, 'b': 0}\n"
     ]
    },
    {
     "data": {
      "text/plain": [
       "'aabab'"
      ]
     },
     "execution_count": 68,
     "metadata": {},
     "output_type": "execute_result"
    }
   ],
   "source": [
    "# test_str = 'abababaaba'\n",
    "test_str = 'aabaabbaba'\n",
    "reverseShuffleMerge(test_str)"
   ]
  },
  {
   "cell_type": "code",
   "execution_count": null,
   "id": "e8df471a-5f2d-4443-9320-94a6a1935474",
   "metadata": {},
   "outputs": [],
   "source": [
    "name_test = 'input09.txt'\n",
    "\n",
    "f_input = open(f\"./in/{name_test}\", \"r\")\n",
    "\n",
    "if __name__ == '__main__':\n",
    "    fptr = open(os.environ['OUTPUT_PATH'], 'w')\n",
    "\n",
    "    s = f_input.readline()\n",
    "\n",
    "    result = reverseShuffleMerge(s)\n",
    "\n",
    "    fptr.write(result + '\\n')\n",
    "\n",
    "    fptr.close()"
   ]
  },
  {
   "cell_type": "code",
   "execution_count": null,
   "id": "ff307da3-0cb9-492b-b778-d62253b4cafe",
   "metadata": {},
   "outputs": [],
   "source": []
  },
  {
   "cell_type": "markdown",
   "id": "45740ad3-82cc-4083-b436-3a2caf84aad0",
   "metadata": {},
   "source": [
    "# Backup"
   ]
  },
  {
   "cell_type": "code",
   "execution_count": null,
   "id": "ce1c0df9-99e7-4840-9d01-669f53424045",
   "metadata": {},
   "outputs": [],
   "source": [
    "# def reverseShuffleMerge(s):\n",
    "    \n",
    "#     #Find character split by dividing counting and chars/2\n",
    "#      # O(n)\n",
    "        \n",
    "#     #dict_s = {chr(char_ord):[] for chr_ord in range(ord(a), ord(z))}\n",
    "#     dict_s = defaultdict(list)\n",
    "    \n",
    "#     for i, char in enumerate(s):\n",
    "#         dict_s[char].append(i)\n",
    "        \n",
    "#     #all counts are even\n",
    "#     dict_split_counts = [char:len(i_list)/2 for char, i_list in dict_s.items()]\n",
    "    \n",
    "    \n",
    "#     #Loop left to right until we fill the split\n",
    "#     #Continue looping and comparing if new chars make a lower lex (reversed) compared to cur_string\n",
    "#       # Outer loop (O(n))\n",
    "#         # Comparison \n",
    "#           # (O(1)) if using prefix sum?\n",
    "#           # Current: O(k) where k = number of replacements \n",
    "#         # Update # worst case O(n) because of deletions\n",
    "#           # - Bulk deletions?\n",
    "#       # Building and updating of prefix sum - O(n) max\n",
    "    \n",
    "    \n",
    "#     cur_split_counts = defaultdict(int)\n",
    "#     dict_not_filled = [char:True for char in dict_s]\n",
    "    \n",
    "#     dict_min = defaultdict(list)\n",
    "#     list_char = []\n",
    "#     list_prefix = []\n",
    "    \n",
    "#     dict_remove = defaultdict(int)\n",
    "    \n",
    "    \n",
    "#     is_filled = False\n",
    "    \n",
    "#     for i, char in enumerate(s):\n",
    "        \n",
    "#         # Until first split is not filled\n",
    "#         # Fill/find first valid split\n",
    "        \n",
    "#         if not is_filled:\n",
    "            \n",
    "#             #cur char is not yet filled\n",
    "#             if cur_split_counts[char] < dict_split_counts[char]:\n",
    "#                 dict_min[char].append(i)\n",
    "#                 list_char.append(char)\n",
    "                \n",
    "#                 if cur_split_counts[char] ==  dict_split_counts[char]:\n",
    "#                     del dict_filled[char]\n",
    "     \n",
    "#             #cur char is filled - compare lex?\n",
    "#             # Think about properties\n",
    "#             else: # Same as filled clause\n",
    "#                 pass\n",
    "                \n",
    "                \n",
    "#             if not dict_not_filled:\n",
    "#                 is_filled=True\n",
    "#                 continue\n",
    "              \n",
    "#         else:\n",
    "            \n",
    "#             #if cur char is less than cur_char of min\n",
    "            \n",
    "            \n",
    "#             #Compare\n",
    "            \n",
    "#             j=0\n",
    "            \n",
    "#             list_replace = []\n",
    "#             while s[i-j] < dict_min[-1-j]\n",
    "#                 list_replace.append(s[i-j])\n",
    "    \n",
    "#                 j-=1\n",
    "        \n",
    "#             list_replace = reversed(list_replace)\n",
    "    \n",
    "#             #append to replace in reverse\n",
    "#             list_char.append(list_replace)\n",
    "            \n",
    "#             for char in list_replace:\n",
    "#                 dict_remove[char] += 1\n",
    "                \n",
    "            \n",
    "#     #Mark for removal:\n",
    "    \n",
    "#     set_remove = set()\n",
    "    \n",
    "#     i=0\n",
    "#     while dict_remove:\n",
    "#         char = list_char[i]\n",
    "        \n",
    "#         if dict_remove[char] > 0:\n",
    "#             dict_remove[char] -= 1\n",
    "#             set_remove.add(i)\n",
    "            \n",
    "#             if dict_remove[char] == 0:\n",
    "#                 del dict_remove[char]\n",
    " \n",
    "#         i+=1\n",
    "    \n",
    "#     #Remove\n",
    "#     ans = ''.join([char for i,char in enumerate(list_char) if i not in set_remove])\n",
    "    \n",
    "#     print(ans)\n",
    "#     return ans\n",
    "            \n",
    "#         # If split is filled\n",
    "#         # Compare split \n",
    "        \n",
    "#         #\n",
    "    \n",
    "    \n",
    "    \n",
    "    \n",
    "    \n",
    "    \n",
    "    \n",
    "\n",
    "    "
   ]
  },
  {
   "cell_type": "code",
   "execution_count": null,
   "id": "b3aaf4cd-472c-4f5f-895d-16036bca4cce",
   "metadata": {},
   "outputs": [],
   "source": [
    "def reverseShuffleMerge(s):\n",
    "    # Write your code here\n",
    "    \n",
    "    #Reverse string\n",
    "    list_reversed = list(reversed(s))\n",
    "    \n",
    "    #Generate smallest shuffle / sorted\n",
    "    list_shuffled = sorted(s)\n",
    "    \n",
    "    #Loop from 0 to len*2\n",
    "    #select smaller string between reversed[j] and shuffled[k]\n",
    "    #increment proper index\n",
    "    \n",
    "    j=0\n",
    "    k=0\n",
    "    merged = []\n",
    "    for i in range(len(s)*2):\n",
    "        \n",
    "        if j < len(s) and list_reversed[j] <= list_shuffled[k]:\n",
    "            merged.append(list_reversed[j])\n",
    "            j += 1\n",
    "        else:\n",
    "            merged.append(list_shuffled[k])\n",
    "            k += 1\n",
    "    \n",
    "    return ''.join(merged)\n",
    "    "
   ]
  }
 ],
 "metadata": {
  "kernelspec": {
   "display_name": "Python [conda env:hackerrank]",
   "language": "python",
   "name": "conda-env-hackerrank-py"
  },
  "language_info": {
   "codemirror_mode": {
    "name": "ipython",
    "version": 3
   },
   "file_extension": ".py",
   "mimetype": "text/x-python",
   "name": "python",
   "nbconvert_exporter": "python",
   "pygments_lexer": "ipython3",
   "version": "3.11.3"
  }
 },
 "nbformat": 4,
 "nbformat_minor": 5
}
