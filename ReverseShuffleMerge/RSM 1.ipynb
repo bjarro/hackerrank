{
 "cells": [
  {
   "cell_type": "code",
   "execution_count": null,
   "id": "f4e04fed-0fe7-4318-9347-13e115f90667",
   "metadata": {},
   "outputs": [],
   "source": [
    "#!/bin/python3\n",
    "\n",
    "import math\n",
    "import os\n",
    "import random\n",
    "import re\n",
    "import sys\n",
    "\n",
    "#\n",
    "# Complete the 'reverseShuffleMerge' function below.\n",
    "#\n",
    "# The function is expected to return a STRING.\n",
    "# The function accepts STRING s as parameter.\n",
    "#\n",
    "\n",
    "\n",
    "    \n",
    "    \n",
    "\n"
   ]
  },
  {
   "cell_type": "code",
   "execution_count": 15,
   "id": "5ed624b8-8a26-4079-80f7-90592729cbde",
   "metadata": {},
   "outputs": [],
   "source": [
    "from collections import defaultdict"
   ]
  },
  {
   "cell_type": "code",
   "execution_count": 66,
   "id": "dc522012-6b85-4eec-85c3-149ae1044b5c",
   "metadata": {},
   "outputs": [],
   "source": [
    "def reverseShuffleMerge(s):\n",
    "    \n",
    "    #Find character split by dividing counting and chars/2\n",
    "     # O(n)\n",
    "        \n",
    "    #dict_s = {chr(char_ord):[] for chr_ord in range(ord(a), ord(z))}\n",
    "    dict_s = defaultdict(list)\n",
    "    \n",
    "    for i, char in enumerate(s):\n",
    "        dict_s[char].append(i)\n",
    "        \n",
    "    #all counts are even\n",
    "    dict_split_counts = {char:len(i_list)/2 for char, i_list in dict_s.items()}\n",
    "    \n",
    "    \n",
    "    #Loop left to right until we fill the split\n",
    "    #Continue looping and comparing if new chars make a lower lex (reversed) compared to cur_string\n",
    "      # Outer loop (O(n))\n",
    "        # Comparison \n",
    "          # (O(1)) if using prefix sum?\n",
    "          # Current: O(k) where k = number of replacements \n",
    "        # Update # worst case O(n) because of deletions\n",
    "          # - Bulk deletions?\n",
    "      # Building and updating of prefix sum - O(n) max\n",
    "    \n",
    "    \n",
    "    cur_split_counts = defaultdict(int)\n",
    "    dict_not_filled = {char:True for char in dict_s}\n",
    "    \n",
    "    dict_min = defaultdict(list)\n",
    "    list_char = []\n",
    "    list_prefix = []\n",
    "    \n",
    "    dict_remove = defaultdict(int)\n",
    "    \n",
    "    \n",
    "    is_filled = False\n",
    "    \n",
    "    \n",
    "    print(f'split = [{dict_split_counts}]')\n",
    "    \n",
    "    for i, char in enumerate(s):\n",
    "        \n",
    "        print(f'loop = [{i}], char = [{char}]')\n",
    "        \n",
    "        # Until first split is not filled\n",
    "        # Fill/find first valid split\n",
    "        \n",
    "        #cur char is not yet filled\n",
    "        if cur_split_counts[char] < dict_split_counts[char]:\n",
    "            \n",
    "            print(f'cur_char_count = [{cur_split_counts[char]}] | out of [{dict_split_counts[char]}]')\n",
    "            \n",
    "            cur_split_counts[char] += 1\n",
    "            \n",
    "            dict_min[char].append(i)\n",
    "            list_char.append(char)\n",
    "\n",
    "#             if cur_split_counts[char] ==  dict_split_counts[char]:\n",
    "#                 del dict_filled[char]\n",
    "\n",
    "        #cur char is filled - compare lex?\n",
    "        # Think about properties\n",
    "#         if not dict_not_filled:\n",
    "#             is_filled=True\n",
    "#             continue\n",
    "              \n",
    "        else:\n",
    "            #if cur char is less than cur_char of min\n",
    "            #Compare\n",
    "            \n",
    "            j=0\n",
    "            list_replace = []\n",
    "            while j < min(len(s), len(list_char)) and s[i-j] <= list_char[-1-j]:\n",
    "                \n",
    "                list_replace.append(s[i-j])\n",
    "    \n",
    "                j+=1\n",
    "        \n",
    "            list_replace = list_replace[::-1]\n",
    "    \n",
    "            #append to replace in reverse\n",
    "            list_char.extend(list_replace)\n",
    "            \n",
    "            for char in list_replace:\n",
    "                dict_remove[char] += 1\n",
    "\n",
    "    print('dict_remove')\n",
    "    print(dict_remove)\n",
    "            \n",
    "    #Mark for removal:\n",
    "    set_remove = set()\n",
    "    \n",
    "    i=0\n",
    "    while dict_remove:\n",
    "        char = list_char[i]\n",
    "        \n",
    "        if char in dict_remove and dict_remove[char] > 0:\n",
    "            dict_remove[char] -= 1\n",
    "            set_remove.add(i)\n",
    "            \n",
    "            if dict_remove[char] == 0:\n",
    "                del dict_remove[char]\n",
    " \n",
    "        i+=1\n",
    "    \n",
    "    #Remove\n",
    "    \n",
    "    print('before removal')\n",
    "    print(list_char)\n",
    "    \n",
    "    ans = ''.join([char for i,char in enumerate(list_char) if i not in set_remove])\n",
    "    \n",
    "    print(ans)\n",
    "    \n",
    "    return ans[::-1]\n"
   ]
  },
  {
   "cell_type": "code",
   "execution_count": 64,
   "id": "afae760e-e6ce-4987-afb1-3dcf94c7c389",
   "metadata": {},
   "outputs": [
    {
     "data": {
      "text/plain": [
       "['a', 's', 'd', 'a', 'd']"
      ]
     },
     "execution_count": 64,
     "metadata": {},
     "output_type": "execute_result"
    }
   ],
   "source": [
    "list(reversed('dadsa'))"
   ]
  },
  {
   "cell_type": "code",
   "execution_count": 65,
   "id": "da233eae-c0e5-47a6-9ba8-3bf6e76efb3b",
   "metadata": {},
   "outputs": [
    {
     "data": {
      "text/plain": [
       "'asdad'"
      ]
     },
     "execution_count": 65,
     "metadata": {},
     "output_type": "execute_result"
    }
   ],
   "source": [
    "'dadsa'[::-1]"
   ]
  },
  {
   "cell_type": "code",
   "execution_count": 45,
   "id": "b62457ea-4acf-4052-bb91-c821b19d3878",
   "metadata": {},
   "outputs": [
    {
     "data": {
      "text/plain": [
       "True"
      ]
     },
     "execution_count": 45,
     "metadata": {},
     "output_type": "execute_result"
    }
   ],
   "source": [
    "'a' < 's'"
   ]
  },
  {
   "cell_type": "code",
   "execution_count": 37,
   "id": "2ba257ed-6236-456a-a882-dc7c5734d6f0",
   "metadata": {},
   "outputs": [],
   "source": [
    "temp_str = test_str\n",
    "\n",
    "temp_list = list(temp_str)"
   ]
  },
  {
   "cell_type": "code",
   "execution_count": 38,
   "id": "da35fac2-6193-46d3-8ce4-63761f83f896",
   "metadata": {},
   "outputs": [
    {
     "data": {
      "text/plain": [
       "False"
      ]
     },
     "execution_count": 38,
     "metadata": {},
     "output_type": "execute_result"
    }
   ],
   "source": [
    "temp_str[1] < temp_list[1]"
   ]
  },
  {
   "cell_type": "code",
   "execution_count": 58,
   "id": "6cf03131-0633-4e91-b465-7f25f679ec8e",
   "metadata": {},
   "outputs": [
    {
     "name": "stdout",
     "output_type": "stream",
     "text": [
      "split = [{'a': 3.0, 'b': 2.0}]\n",
      "loop = [0], char = [a]\n",
      "cur_char_count = [0] | out of [3.0]\n",
      "loop = [1], char = [b]\n",
      "cur_char_count = [0] | out of [2.0]\n",
      "loop = [2], char = [a]\n",
      "cur_char_count = [1] | out of [3.0]\n",
      "loop = [3], char = [b]\n",
      "cur_char_count = [1] | out of [2.0]\n",
      "loop = [4], char = [a]\n",
      "cur_char_count = [2] | out of [3.0]\n",
      "loop = [5], char = [b]\n",
      "loop = [6], char = [a]\n",
      "loop = [7], char = [a]\n",
      "loop = [8], char = [b]\n",
      "loop = [9], char = [a]\n",
      "dict_remove\n",
      "defaultdict(<class 'int'>, {'a': 6, 'b': 2})\n",
      "before removal\n",
      "['a', 'b', 'a', 'b', 'a', 'a', 'b', 'a', 'b', 'a', 'a', 'a', 'a']\n",
      "bbaaa\n"
     ]
    },
    {
     "data": {
      "text/plain": [
       "'bbaaa'"
      ]
     },
     "execution_count": 58,
     "metadata": {},
     "output_type": "execute_result"
    }
   ],
   "source": [
    "test_str = 'abababaaba'\n",
    "reverseShuffleMerge(test_str)"
   ]
  },
  {
   "cell_type": "code",
   "execution_count": null,
   "id": "e8df471a-5f2d-4443-9320-94a6a1935474",
   "metadata": {},
   "outputs": [],
   "source": [
    "name_test = 'input09.txt'\n",
    "\n",
    "f_input = open(f\"./in/{name_test}\", \"r\")\n",
    "\n",
    "if __name__ == '__main__':\n",
    "    fptr = open(os.environ['OUTPUT_PATH'], 'w')\n",
    "\n",
    "    s = f_input.readline()\n",
    "\n",
    "    result = reverseShuffleMerge(s)\n",
    "\n",
    "    fptr.write(result + '\\n')\n",
    "\n",
    "    fptr.close()"
   ]
  },
  {
   "cell_type": "code",
   "execution_count": null,
   "id": "ff307da3-0cb9-492b-b778-d62253b4cafe",
   "metadata": {},
   "outputs": [],
   "source": []
  },
  {
   "cell_type": "markdown",
   "id": "45740ad3-82cc-4083-b436-3a2caf84aad0",
   "metadata": {},
   "source": [
    "# Backup"
   ]
  },
  {
   "cell_type": "code",
   "execution_count": null,
   "id": "ce1c0df9-99e7-4840-9d01-669f53424045",
   "metadata": {},
   "outputs": [],
   "source": [
    "# def reverseShuffleMerge(s):\n",
    "    \n",
    "#     #Find character split by dividing counting and chars/2\n",
    "#      # O(n)\n",
    "        \n",
    "#     #dict_s = {chr(char_ord):[] for chr_ord in range(ord(a), ord(z))}\n",
    "#     dict_s = defaultdict(list)\n",
    "    \n",
    "#     for i, char in enumerate(s):\n",
    "#         dict_s[char].append(i)\n",
    "        \n",
    "#     #all counts are even\n",
    "#     dict_split_counts = [char:len(i_list)/2 for char, i_list in dict_s.items()]\n",
    "    \n",
    "    \n",
    "#     #Loop left to right until we fill the split\n",
    "#     #Continue looping and comparing if new chars make a lower lex (reversed) compared to cur_string\n",
    "#       # Outer loop (O(n))\n",
    "#         # Comparison \n",
    "#           # (O(1)) if using prefix sum?\n",
    "#           # Current: O(k) where k = number of replacements \n",
    "#         # Update # worst case O(n) because of deletions\n",
    "#           # - Bulk deletions?\n",
    "#       # Building and updating of prefix sum - O(n) max\n",
    "    \n",
    "    \n",
    "#     cur_split_counts = defaultdict(int)\n",
    "#     dict_not_filled = [char:True for char in dict_s]\n",
    "    \n",
    "#     dict_min = defaultdict(list)\n",
    "#     list_char = []\n",
    "#     list_prefix = []\n",
    "    \n",
    "#     dict_remove = defaultdict(int)\n",
    "    \n",
    "    \n",
    "#     is_filled = False\n",
    "    \n",
    "#     for i, char in enumerate(s):\n",
    "        \n",
    "#         # Until first split is not filled\n",
    "#         # Fill/find first valid split\n",
    "        \n",
    "#         if not is_filled:\n",
    "            \n",
    "#             #cur char is not yet filled\n",
    "#             if cur_split_counts[char] < dict_split_counts[char]:\n",
    "#                 dict_min[char].append(i)\n",
    "#                 list_char.append(char)\n",
    "                \n",
    "#                 if cur_split_counts[char] ==  dict_split_counts[char]:\n",
    "#                     del dict_filled[char]\n",
    "     \n",
    "#             #cur char is filled - compare lex?\n",
    "#             # Think about properties\n",
    "#             else: # Same as filled clause\n",
    "#                 pass\n",
    "                \n",
    "                \n",
    "#             if not dict_not_filled:\n",
    "#                 is_filled=True\n",
    "#                 continue\n",
    "              \n",
    "#         else:\n",
    "            \n",
    "#             #if cur char is less than cur_char of min\n",
    "            \n",
    "            \n",
    "#             #Compare\n",
    "            \n",
    "#             j=0\n",
    "            \n",
    "#             list_replace = []\n",
    "#             while s[i-j] < dict_min[-1-j]\n",
    "#                 list_replace.append(s[i-j])\n",
    "    \n",
    "#                 j-=1\n",
    "        \n",
    "#             list_replace = reversed(list_replace)\n",
    "    \n",
    "#             #append to replace in reverse\n",
    "#             list_char.append(list_replace)\n",
    "            \n",
    "#             for char in list_replace:\n",
    "#                 dict_remove[char] += 1\n",
    "                \n",
    "            \n",
    "#     #Mark for removal:\n",
    "    \n",
    "#     set_remove = set()\n",
    "    \n",
    "#     i=0\n",
    "#     while dict_remove:\n",
    "#         char = list_char[i]\n",
    "        \n",
    "#         if dict_remove[char] > 0:\n",
    "#             dict_remove[char] -= 1\n",
    "#             set_remove.add(i)\n",
    "            \n",
    "#             if dict_remove[char] == 0:\n",
    "#                 del dict_remove[char]\n",
    " \n",
    "#         i+=1\n",
    "    \n",
    "#     #Remove\n",
    "#     ans = ''.join([char for i,char in enumerate(list_char) if i not in set_remove])\n",
    "    \n",
    "#     print(ans)\n",
    "#     return ans\n",
    "            \n",
    "#         # If split is filled\n",
    "#         # Compare split \n",
    "        \n",
    "#         #\n",
    "    \n",
    "    \n",
    "    \n",
    "    \n",
    "    \n",
    "    \n",
    "    \n",
    "\n",
    "    "
   ]
  },
  {
   "cell_type": "code",
   "execution_count": null,
   "id": "b3aaf4cd-472c-4f5f-895d-16036bca4cce",
   "metadata": {},
   "outputs": [],
   "source": [
    "def reverseShuffleMerge(s):\n",
    "    # Write your code here\n",
    "    \n",
    "    #Reverse string\n",
    "    list_reversed = list(reversed(s))\n",
    "    \n",
    "    #Generate smallest shuffle / sorted\n",
    "    list_shuffled = sorted(s)\n",
    "    \n",
    "    #Loop from 0 to len*2\n",
    "    #select smaller string between reversed[j] and shuffled[k]\n",
    "    #increment proper index\n",
    "    \n",
    "    j=0\n",
    "    k=0\n",
    "    merged = []\n",
    "    for i in range(len(s)*2):\n",
    "        \n",
    "        if j < len(s) and list_reversed[j] <= list_shuffled[k]:\n",
    "            merged.append(list_reversed[j])\n",
    "            j += 1\n",
    "        else:\n",
    "            merged.append(list_shuffled[k])\n",
    "            k += 1\n",
    "    \n",
    "    return ''.join(merged)\n",
    "    "
   ]
  }
 ],
 "metadata": {
  "kernelspec": {
   "display_name": "Python [conda env:hackerrank]",
   "language": "python",
   "name": "conda-env-hackerrank-py"
  },
  "language_info": {
   "codemirror_mode": {
    "name": "ipython",
    "version": 3
   },
   "file_extension": ".py",
   "mimetype": "text/x-python",
   "name": "python",
   "nbconvert_exporter": "python",
   "pygments_lexer": "ipython3",
   "version": "3.11.3"
  }
 },
 "nbformat": 4,
 "nbformat_minor": 5
}
