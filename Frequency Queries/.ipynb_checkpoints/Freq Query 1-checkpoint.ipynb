{
 "cells": [
  {
   "cell_type": "code",
   "execution_count": null,
   "id": "5e896454-7ffd-47a9-8791-8d6d2b379945",
   "metadata": {},
   "outputs": [],
   "source": []
  },
  {
   "cell_type": "code",
   "execution_count": 1,
   "id": "f9228fde-afae-459b-9692-e59c70865cd6",
   "metadata": {},
   "outputs": [],
   "source": [
    "#!/bin/python3\n",
    "\n",
    "import math\n",
    "import os\n",
    "import random\n",
    "import re\n",
    "import sys\n",
    "\n",
    "\n",
    "name_test = 'temp'\n",
    "os.environ['OUTPUT_PATH'] = f\"./out/{name_test}.txt\"\n"
   ]
  },
  {
   "cell_type": "code",
   "execution_count": 7,
   "id": "ca3c3cbf-0cb5-4630-a656-5d97b5679f12",
   "metadata": {},
   "outputs": [],
   "source": [
    "from itertools import combinations\n",
    "from math import comb\n",
    "from collections import defaultdict\n",
    "from copy import deepcopy\n",
    "from itertools import product"
   ]
  },
  {
   "cell_type": "code",
   "execution_count": 10,
   "id": "3be8bec6-f61f-4ffc-9993-b93d1b8a643f",
   "metadata": {},
   "outputs": [],
   "source": [
    "temp_dict = defaultdict(int)"
   ]
  },
  {
   "cell_type": "code",
   "execution_count": 11,
   "id": "bd34f06b-d378-4c6e-b128-10d547bdda4c",
   "metadata": {},
   "outputs": [
    {
     "data": {
      "text/plain": [
       "0"
      ]
     },
     "execution_count": 11,
     "metadata": {},
     "output_type": "execute_result"
    }
   ],
   "source": [
    "temp_dict[0]"
   ]
  },
  {
   "cell_type": "code",
   "execution_count": 13,
   "id": "89edbf3f-c60f-4ca4-9af1-79be11656cfe",
   "metadata": {},
   "outputs": [],
   "source": [
    "temp_set = set()"
   ]
  },
  {
   "cell_type": "code",
   "execution_count": 15,
   "id": "dbca94dd-8489-45f2-a8e3-fbf048c1edc9",
   "metadata": {},
   "outputs": [
    {
     "ename": "TypeError",
     "evalue": "unsupported operand type(s) for -: 'set' and 'int'",
     "output_type": "error",
     "traceback": [
      "\u001b[1;31m---------------------------------------------------------------------------\u001b[0m",
      "\u001b[1;31mTypeError\u001b[0m                                 Traceback (most recent call last)",
      "Cell \u001b[1;32mIn[15], line 1\u001b[0m\n\u001b[1;32m----> 1\u001b[0m \u001b[43mtemp_set\u001b[49m\u001b[43m \u001b[49m\u001b[38;5;241;43m-\u001b[39;49m\u001b[43m \u001b[49m\u001b[38;5;241;43m0\u001b[39;49m\n",
      "\u001b[1;31mTypeError\u001b[0m: unsupported operand type(s) for -: 'set' and 'int'"
     ]
    }
   ],
   "source": [
    "temp_set - 0"
   ]
  },
  {
   "cell_type": "code",
   "execution_count": 37,
   "id": "8d771c6c-bee0-4911-a675-f2411cd43c4f",
   "metadata": {},
   "outputs": [],
   "source": [
    "def freqQuery(queries):\n",
    "    \n",
    "    dict_freq = defaultdict(set)\n",
    "    dict_num = defaultdict(int)\n",
    "    \n",
    "    results = []\n",
    "    \n",
    "    for q in queries:\n",
    "        \n",
    "        num = q[1]\n",
    "        \n",
    "        if q[0] == 1:\n",
    "            \n",
    "            cur_freq = dict_num[num]\n",
    "            \n",
    "            if cur_freq != 0:\n",
    "                dict_freq[cur_freq].remove(num)\n",
    "            \n",
    "            dict_freq[cur_freq+1].add(num)\n",
    "            dict_num[num] += 1\n",
    "        \n",
    "        elif q[0] == 2:\n",
    "            \n",
    "            cur_freq = dict_num[num]\n",
    "            \n",
    "            if cur_freq != 0:\n",
    "                dict_freq[cur_freq].remove(num)\n",
    "            \n",
    "            if cur_freq > 1:\n",
    "                dict_freq[cur_freq-1].add(num)\n",
    "            \n",
    "            dict_num[num] = max(dict_num[num] - 1, 0)\n",
    "        \n",
    "        elif q[0] == 3:\n",
    "            results.append(int(num in dict_freq))\n",
    "            \n",
    "    print(results)\n",
    "    return results\n",
    "            "
   ]
  },
  {
   "cell_type": "code",
   "execution_count": 39,
   "id": "1ecd656c-6cb8-4bbb-9349-1a526741df55",
   "metadata": {},
   "outputs": [
    {
     "name": "stdout",
     "output_type": "stream",
     "text": [
      "num == 0\n"
     ]
    },
    {
     "ename": "Exception",
     "evalue": "",
     "output_type": "error",
     "traceback": [
      "\u001b[1;31m---------------------------------------------------------------------------\u001b[0m",
      "\u001b[1;31mException\u001b[0m                                 Traceback (most recent call last)",
      "Cell \u001b[1;32mIn[39], line 13\u001b[0m\n\u001b[0;32m     10\u001b[0m     \u001b[38;5;28;01mfor\u001b[39;00m _ \u001b[38;5;129;01min\u001b[39;00m \u001b[38;5;28mrange\u001b[39m(q):\n\u001b[0;32m     11\u001b[0m         queries\u001b[38;5;241m.\u001b[39mappend(\u001b[38;5;28mlist\u001b[39m(\u001b[38;5;28mmap\u001b[39m(\u001b[38;5;28mint\u001b[39m, f_input\u001b[38;5;241m.\u001b[39mreadline()\u001b[38;5;241m.\u001b[39mrstrip()\u001b[38;5;241m.\u001b[39msplit())))\n\u001b[1;32m---> 13\u001b[0m     ans \u001b[38;5;241m=\u001b[39m \u001b[43mfreqQuery\u001b[49m\u001b[43m(\u001b[49m\u001b[43mqueries\u001b[49m\u001b[43m)\u001b[49m\n\u001b[0;32m     15\u001b[0m \u001b[38;5;66;03m#     fptr.write('\\n'.join(map(str, ans)))\u001b[39;00m\n\u001b[0;32m     16\u001b[0m \u001b[38;5;66;03m#     fptr.write('\\n')\u001b[39;00m\n\u001b[0;32m     17\u001b[0m \n\u001b[0;32m     18\u001b[0m \u001b[38;5;66;03m#     fptr.close()\u001b[39;00m\n",
      "Cell \u001b[1;32mIn[37], line 38\u001b[0m, in \u001b[0;36mfreqQuery\u001b[1;34m(queries)\u001b[0m\n\u001b[0;32m     36\u001b[0m         \u001b[38;5;28;01mif\u001b[39;00m num \u001b[38;5;241m==\u001b[39m \u001b[38;5;241m0\u001b[39m:\n\u001b[0;32m     37\u001b[0m             \u001b[38;5;28mprint\u001b[39m(\u001b[38;5;124m'\u001b[39m\u001b[38;5;124mnum == 0\u001b[39m\u001b[38;5;124m'\u001b[39m)\n\u001b[1;32m---> 38\u001b[0m             \u001b[38;5;28;01mraise\u001b[39;00m \u001b[38;5;167;01mException\u001b[39;00m \n\u001b[0;32m     41\u001b[0m         results\u001b[38;5;241m.\u001b[39mappend(\u001b[38;5;28mint\u001b[39m(num \u001b[38;5;129;01min\u001b[39;00m dict_freq))\n\u001b[0;32m     43\u001b[0m \u001b[38;5;28mprint\u001b[39m(results)\n",
      "\u001b[1;31mException\u001b[0m: "
     ]
    }
   ],
   "source": [
    "name_test = 'inputa.txt'\n",
    "\n",
    "f_input = open(f\"./in/{name_test}\", \"r\")\n",
    "\n",
    "if __name__ == '__main__': \n",
    "    q = int(f_input.readline().strip())\n",
    "\n",
    "    queries = []\n",
    "\n",
    "    for _ in range(q):\n",
    "        queries.append(list(map(int, f_input.readline().rstrip().split())))\n",
    "\n",
    "    ans = freqQuery(queries)\n",
    "\n",
    "#     fptr.write('\\n'.join(map(str, ans)))\n",
    "#     fptr.write('\\n')\n",
    "\n",
    "#     fptr.close()\n"
   ]
  },
  {
   "cell_type": "code",
   "execution_count": null,
   "id": "f09be934-2c2a-4dc4-ac0f-360b95aada30",
   "metadata": {},
   "outputs": [],
   "source": []
  }
 ],
 "metadata": {
  "kernelspec": {
   "display_name": "Python [conda env:hackerrank]",
   "language": "python",
   "name": "conda-env-hackerrank-py"
  },
  "language_info": {
   "codemirror_mode": {
    "name": "ipython",
    "version": 3
   },
   "file_extension": ".py",
   "mimetype": "text/x-python",
   "name": "python",
   "nbconvert_exporter": "python",
   "pygments_lexer": "ipython3",
   "version": "3.11.3"
  }
 },
 "nbformat": 4,
 "nbformat_minor": 5
}
