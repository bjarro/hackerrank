{
 "cells": [
  {
   "cell_type": "markdown",
   "id": "362ff1eb-5ddb-402d-8118-d07f8e1f3cc5",
   "metadata": {},
   "source": [
    "# Main"
   ]
  },
  {
   "cell_type": "code",
   "execution_count": 2,
   "id": "dba9853e-c90f-46a3-847a-430661037ef9",
   "metadata": {},
   "outputs": [],
   "source": [
    "#!/bin/python3\n",
    "\n",
    "import math\n",
    "import os\n",
    "import random\n",
    "import re\n",
    "import sys\n",
    "\n",
    "#\n",
    "# Complete the 'maximumSum' function below.\n",
    "#\n",
    "# The function is expected to return a LONG_INTEGER.\n",
    "# The function accepts following parameters:\n",
    "#  1. LONG_INTEGER_ARRAY a\n",
    "#  2. LONG_INTEGER m\n",
    "#\n",
    "\n",
    "\n",
    "    \n",
    "    \n",
    "\n"
   ]
  },
  {
   "cell_type": "code",
   "execution_count": 138,
   "id": "15b670b5-9b69-46c6-98fc-22b4c7f8b7bc",
   "metadata": {},
   "outputs": [],
   "source": [
    "from bisect import bisect_left\n",
    "from math import ceil, floor"
   ]
  },
  {
   "cell_type": "markdown",
   "id": "a2ba6108-2898-4d26-835f-42523930256f",
   "metadata": {},
   "source": [
    "## Func"
   ]
  },
  {
   "cell_type": "code",
   "execution_count": 149,
   "id": "efa4691d-9c68-47d8-89c4-ff89c6685e9e",
   "metadata": {},
   "outputs": [],
   "source": [
    "def maximumSum(a, m):\n",
    "    \n",
    "        \n",
    "    global list_cumsum, list_cumsum_mod, a_mod\n",
    "    \n",
    "    n = len(a)\n",
    "    \n",
    "    a_mod = [x % m for x in a]\n",
    "\n",
    "    \n",
    "    cumsum = 0\n",
    "    max_sum = 0\n",
    "    \n",
    "    \n",
    "    list_cumsum = [0]\n",
    "    list_cumsum = []\n",
    "\n",
    "    \n",
    "    for i, num in enumerate(a_mod):\n",
    "        cumsum += num\n",
    "        list_cumsum.append(cumsum)\n",
    "        \n",
    "        \n",
    "    list_cumsum_mod = [c % m for c in list_cumsum]\n",
    "    \n",
    "    m_end = floor(list_cumsum[-1] / m) + 1\n",
    "    \n",
    "    \n",
    "    \n",
    "#     print(list_cumsum)\n",
    "    \n",
    "    max_sum = max(list_cumsum_mod)\n",
    "    \n",
    "    \n",
    "    print(f'm_end = {m_end}')\n",
    "#     print(f'max_sum = {max_sum}')\n",
    "    \n",
    "#     print(f'-----------------------------------------')\n",
    "    \n",
    "    for i, cur_val in enumerate(a_mod[1:]):\n",
    "        \n",
    "        prev_cumsum = list_cumsum[i]\n",
    "        m_prev_cumsum = list_cumsum_mod[i]\n",
    "        \n",
    "        #Find index where cumsum >= m\n",
    "        m_start = ceil(prev_cumsum / m)\n",
    "        \n",
    "        list_candidates = []\n",
    "        \n",
    "        \n",
    "#         print(f'prev_cumsum = {prev_cumsum}')\n",
    "#         print(f'm_prev_cumsum = {m_prev_cumsum}')\n",
    "#         print(f'm_start = {m_start}')\n",
    "       \n",
    "        for j in range(m_start,m_end):\n",
    "            i_closest = bisect_left(list_cumsum, j*m + m_prev_cumsum)\n",
    "            list_candidates.append(list_cumsum[i_closest-1] - ((j-1)*m + prev_cumsum))\n",
    "            \n",
    "#         print(list_candidates)\n",
    "        if not list_candidates:\n",
    "            continue\n",
    "            \n",
    "        cur_max = max(list_candidates)\n",
    "        max_sum = max(cur_max, max_sum)\n",
    "        \n",
    "#         print(f'cur_max = {cur_max}')\n",
    "#         print(f'max_sum = {max_sum}')\n",
    "        \n",
    "#         print(f'-----------------------------------------')\n",
    "        \n",
    "    print(max_sum)\n",
    "        \n",
    "        \n",
    "    return max_sum"
   ]
  },
  {
   "cell_type": "code",
   "execution_count": 135,
   "id": "3e66aae5-1c31-4f79-9f1b-8d3530e6638c",
   "metadata": {},
   "outputs": [
    {
     "data": {
      "text/plain": [
       "[1, 0, 4]"
      ]
     },
     "execution_count": 135,
     "metadata": {},
     "output_type": "execute_result"
    }
   ],
   "source": [
    "a_mod"
   ]
  },
  {
   "cell_type": "code",
   "execution_count": 131,
   "id": "1c22cdb0-68a9-4b0a-a488-2bf75f685768",
   "metadata": {},
   "outputs": [
    {
     "data": {
      "text/plain": [
       "[1, 1, 5]"
      ]
     },
     "execution_count": 131,
     "metadata": {},
     "output_type": "execute_result"
    }
   ],
   "source": [
    "list_cumsum"
   ]
  },
  {
   "cell_type": "code",
   "execution_count": 128,
   "id": "ee75f089-f273-4fe9-b1a6-5bb52aad831f",
   "metadata": {},
   "outputs": [
    {
     "data": {
      "text/plain": [
       "[1, 1, 0]"
      ]
     },
     "execution_count": 128,
     "metadata": {},
     "output_type": "execute_result"
    }
   ],
   "source": [
    "list_cumsum_mod"
   ]
  },
  {
   "cell_type": "code",
   "execution_count": 129,
   "id": "b44b224e-ae50-4da7-967c-686a48bf3d02",
   "metadata": {},
   "outputs": [
    {
     "data": {
      "text/plain": [
       "5"
      ]
     },
     "execution_count": 129,
     "metadata": {},
     "output_type": "execute_result"
    }
   ],
   "source": [
    "m"
   ]
  },
  {
   "cell_type": "code",
   "execution_count": 130,
   "id": "75dcf48e-148f-454d-9447-59b2b33b05a6",
   "metadata": {},
   "outputs": [
    {
     "data": {
      "text/plain": [
       "[1, 5, 9]"
      ]
     },
     "execution_count": 130,
     "metadata": {},
     "output_type": "execute_result"
    }
   ],
   "source": [
    "a"
   ]
  },
  {
   "cell_type": "code",
   "execution_count": 139,
   "id": "cd3c0203-7147-4d14-a7c1-79afe53a3301",
   "metadata": {},
   "outputs": [
    {
     "name": "stdout",
     "output_type": "stream",
     "text": [
      "m_end = 2\n",
      "max_sum = 1\n",
      "-----------------------------------------\n",
      "prev_cumsum = 1\n",
      "m_prev_cumsum = 1\n",
      "m_start = 1\n",
      "[4]\n",
      "cur_max = 4\n",
      "max_sum = 4\n",
      "-----------------------------------------\n",
      "prev_cumsum = 1\n",
      "m_prev_cumsum = 1\n",
      "m_start = 1\n",
      "[4]\n",
      "cur_max = 4\n",
      "max_sum = 4\n",
      "-----------------------------------------\n",
      "4\n"
     ]
    }
   ],
   "source": [
    "result = maximumSum(a, m)"
   ]
  },
  {
   "cell_type": "code",
   "execution_count": 18,
   "id": "da0de59c-7fa9-4f1a-a083-b30f568c3363",
   "metadata": {},
   "outputs": [
    {
     "data": {
      "text/plain": [
       "[(0, 0), (1, 3), (2, 6), (3, 1), (4, 3)]"
      ]
     },
     "execution_count": 18,
     "metadata": {},
     "output_type": "execute_result"
    }
   ],
   "source": [
    "[cumsum for cumsum in enumerate(list_cumsum[0:-1])]"
   ]
  },
  {
   "cell_type": "code",
   "execution_count": 30,
   "id": "87a8b2fc-2a91-451c-adc9-b68715961d76",
   "metadata": {},
   "outputs": [
    {
     "data": {
      "text/plain": [
       "[-1, 0]"
      ]
     },
     "execution_count": 30,
     "metadata": {},
     "output_type": "execute_result"
    }
   ],
   "source": [
    "list_cumsum"
   ]
  },
  {
   "cell_type": "markdown",
   "id": "299eef50-d490-4f7e-915f-bf2d4a46c9e1",
   "metadata": {},
   "source": [
    "## Run"
   ]
  },
  {
   "cell_type": "code",
   "execution_count": 150,
   "id": "e3440f17-5293-4a1c-a614-8be095b055d6",
   "metadata": {},
   "outputs": [
    {
     "name": "stdout",
     "output_type": "stream",
     "text": [
      "4\n"
     ]
    }
   ],
   "source": [
    "name_test = 'in02.txt'\n",
    "\n",
    "f_input = open(f\"./in/{name_test}\", \"r\")\n",
    "\n",
    "if __name__ == '__main__':\n",
    "    q = int(f_input.readline().strip())\n",
    "\n",
    "    for q_itr in range(q):\n",
    "        first_multiple_input = f_input.readline().rstrip().split()\n",
    "\n",
    "        n = int(first_multiple_input[0])\n",
    "\n",
    "        m = int(first_multiple_input[1])\n",
    "\n",
    "        a = list(map(int, f_input.readline().rstrip().split()))\n",
    "\n",
    "        result = maximumSum(a, m)"
   ]
  },
  {
   "cell_type": "markdown",
   "id": "bd0e2d11-883a-4d94-bcfe-b208bb996f42",
   "metadata": {},
   "source": [
    "# Input tester"
   ]
  },
  {
   "cell_type": "code",
   "execution_count": null,
   "id": "f5dd8db6-9ac5-4975-bf9b-7e35f7ea4af7",
   "metadata": {},
   "outputs": [],
   "source": []
  },
  {
   "cell_type": "code",
   "execution_count": 42,
   "id": "ceb48e4e-2c53-473f-a757-8c14c0904154",
   "metadata": {},
   "outputs": [],
   "source": [
    "import random"
   ]
  },
  {
   "cell_type": "code",
   "execution_count": 145,
   "id": "184110da-c372-4f04-8723-e79369a7da3d",
   "metadata": {},
   "outputs": [
    {
     "name": "stdout",
     "output_type": "stream",
     "text": [
      "10000\n",
      "1\n"
     ]
    }
   ],
   "source": [
    "rand_list = [random.randint(0,1000000000000000000) for i in range(10000)]\n",
    "rand_m = random.randint(0,1)\n",
    "\n",
    "print(len(rand_list))\n",
    "print(rand_m)"
   ]
  },
  {
   "cell_type": "code",
   "execution_count": 11,
   "id": "6da09e4a-9a1c-4479-93cb-8b56b7a4eb62",
   "metadata": {},
   "outputs": [
    {
     "data": {
      "text/plain": [
       "2047"
      ]
     },
     "execution_count": 11,
     "metadata": {},
     "output_type": "execute_result"
    }
   ],
   "source": [
    "len(list_sums)"
   ]
  },
  {
   "cell_type": "code",
   "execution_count": 157,
   "id": "514d5b98-b65e-40f3-89b2-3cef3cb77558",
   "metadata": {
    "tags": []
   },
   "outputs": [
    {
     "name": "stdout",
     "output_type": "stream",
     "text": [
      "99999\n",
      "CPU times: total: 17.3 s\n",
      "Wall time: 17.4 s\n"
     ]
    },
    {
     "data": {
      "text/plain": [
       "99999"
      ]
     },
     "execution_count": 157,
     "metadata": {},
     "output_type": "execute_result"
    }
   ],
   "source": [
    "%%time\n",
    "\n",
    "maximumSum(rand_list[0:10000], 100000)\n"
   ]
  },
  {
   "cell_type": "markdown",
   "id": "44c132a3-ee78-47c0-8b5a-31a43a35f494",
   "metadata": {
    "tags": []
   },
   "source": [
    "# Backup"
   ]
  },
  {
   "cell_type": "markdown",
   "id": "ccabf4c0-ac5b-4c95-b666-46a9addc126b",
   "metadata": {},
   "source": [
    "## Mod always"
   ]
  },
  {
   "cell_type": "code",
   "execution_count": null,
   "id": "844e4cdf-4bd2-46d5-a6af-9f2e3ef709df",
   "metadata": {},
   "outputs": [],
   "source": [
    "# def maximumSum(a, m):\n",
    "    \n",
    "#     n = len(a)\n",
    "    \n",
    "#     a_mod = [x % m for x in a]\n",
    "    \n",
    "#     global list_cumsum\n",
    "    \n",
    "#     cumsum = 0\n",
    "    \n",
    "#     list_cumsum = [0]\n",
    "# #     list_cumsum = [(list_cumsum[i-1] + a_mod[i-1]) % m for i in range(1,n+1)]\n",
    "    \n",
    "#     for i, num in enumerate(a_mod):\n",
    "#         cumsum = (cumsum + num) % m\n",
    "#         list_cumsum.append(cumsum)\n",
    "    \n",
    "#     max_sum = max(list_cumsum)\n",
    "    \n",
    "#     for i, cur_val in enumerate(a_mod[1:]):\n",
    "        \n",
    "#         cur_val = a_mod[i]\n",
    "        \n",
    "#         new_cumsum = [(cumsum - cur_val) % m for _, cumsum in enumerate(list_cumsum[0:-1])]\n",
    "        \n",
    "#         cur_max = max(new_cumsum)\n",
    "#         max_sum = max(max_sum, cur_max)\n",
    "        \n",
    "        \n",
    "#     print(max_sum)\n",
    "        \n",
    "        \n",
    "#     return max_sum"
   ]
  },
  {
   "cell_type": "markdown",
   "id": "85283aa6-1f28-42f8-bf01-900e08c024e6",
   "metadata": {},
   "source": [
    "## Mod at the end"
   ]
  },
  {
   "cell_type": "code",
   "execution_count": 80,
   "id": "40c6fbbf-5bd2-4431-a938-8daeb09413f3",
   "metadata": {},
   "outputs": [],
   "source": [
    "def maximumSum(a, m):\n",
    "    \n",
    "    n = len(a)\n",
    "    \n",
    "    a_mod = [x % m for x in a]\n",
    "    \n",
    "    global list_cumsum\n",
    "    \n",
    "    cumsum = 0\n",
    "    max_sum = 0\n",
    "    \n",
    "    \n",
    "    list_cumsum = [0]\n",
    "\n",
    "    \n",
    "    for i, num in enumerate(a_mod):\n",
    "        cumsum += num\n",
    "        list_cumsum.append(cumsum)\n",
    "        \n",
    "    list_cumsum_mod = [c % m for c in list_cumsum]\n",
    "    \n",
    "#     print(list_cumsum)\n",
    "    \n",
    "    max_sum = max(list_cumsum_mod)\n",
    "    \n",
    "    for i, cur_val in enumerate(a_mod[1:]):\n",
    "        \n",
    "        cur_val = a_mod[i]\n",
    "        \n",
    "        list_cumsum = [c - cur_val for _, c in enumerate(list_cumsum[1:])]\n",
    "#         print(list_cumsum)\n",
    "        \n",
    "        list_cumsum_mod = [c % m for c in list_cumsum]\n",
    "        \n",
    "        cur_max = max(list_cumsum_mod)\n",
    "        max_sum = max(max_sum, cur_max)\n",
    "        \n",
    "        \n",
    "    print(max_sum)\n",
    "        \n",
    "        \n",
    "    return max_sum"
   ]
  }
 ],
 "metadata": {
  "kernelspec": {
   "display_name": "Python [conda env:hackerrank]",
   "language": "python",
   "name": "conda-env-hackerrank-py"
  },
  "language_info": {
   "codemirror_mode": {
    "name": "ipython",
    "version": 3
   },
   "file_extension": ".py",
   "mimetype": "text/x-python",
   "name": "python",
   "nbconvert_exporter": "python",
   "pygments_lexer": "ipython3",
   "version": "3.11.3"
  }
 },
 "nbformat": 4,
 "nbformat_minor": 5
}
