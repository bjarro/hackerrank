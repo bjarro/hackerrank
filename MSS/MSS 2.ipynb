{
 "cells": [
  {
   "cell_type": "markdown",
   "id": "cb98667f-029c-483c-8107-95a5de9bbda2",
   "metadata": {},
   "source": [
    "# Main"
   ]
  },
  {
   "cell_type": "code",
   "execution_count": 2,
   "id": "57ceb7c2-a7fe-4be0-a991-41669c79c019",
   "metadata": {},
   "outputs": [],
   "source": [
    "#!/bin/python3\n",
    "\n",
    "import math\n",
    "import os\n",
    "import random\n",
    "import re\n",
    "import sys\n",
    "\n",
    "#\n",
    "# Complete the 'maximumSum' function below.\n",
    "#\n",
    "# The function is expected to return a LONG_INTEGER.\n",
    "# The function accepts following parameters:\n",
    "#  1. LONG_INTEGER_ARRAY a\n",
    "#  2. LONG_INTEGER m\n",
    "#\n",
    "\n",
    "\n",
    "    \n",
    "    \n",
    "\n"
   ]
  },
  {
   "cell_type": "code",
   "execution_count": 58,
   "id": "339beffa-5cc5-45d1-a2e8-4f21051cb03f",
   "metadata": {},
   "outputs": [],
   "source": [
    "def maximumSum(a, m):\n",
    "    \n",
    "    global dp\n",
    "    \n",
    "    n = len(a)\n",
    "    \n",
    "    print(n)\n",
    "    print(m)\n",
    "\n",
    "    a_mod = sorted([x % m for x in a], reverse=True)\n",
    "    \n",
    "    if n < 20:\n",
    "        print(a)\n",
    "        print(a_mod)\n",
    "    \n",
    "    cur_max = 0\n",
    "    i = 0\n",
    "    \n",
    "    for i in range(n):\n",
    "        new_max = cur_max + a_mod[i]\n",
    "        if new_max >= m:\n",
    "            last_i = i-1\n",
    "            break\n",
    "        else:\n",
    "            cur_max = new_max\n",
    "            \n",
    "            \n",
    "    print(f'Initial sum = [{cur_max}]')\n",
    "        \n",
    "    #Terminate if condition met\n",
    "\n",
    "    #\n",
    "    \n",
    "    #Initialize dp \n",
    "    \n",
    "    rem = m - 1 - cur_max\n",
    "    to_remove = a_mod[last_i+1] - rem # target_min\n",
    "    target_max = a_mod[last_i+1] + rem\n",
    "    \n",
    "    print(f'last_i = [{last_i}]')\n",
    "    print(f'Initial rem = [{rem}]')\n",
    "    print(f'Initial to_remove = [{to_remove}]')\n",
    "    print(f'Initial target_max = [{target_max}]')\n",
    "    #print(f'last_i = [{last_i}]')\n",
    "    \n",
    "    \n",
    "    dp = [[False] * (target_max + 1) for _ in range(n + 1)]\n",
    "    \n",
    "    for i in range(n + 1):\n",
    "        dp[i][0] = True\n",
    "        \n",
    "        \n",
    "    # from 0 to last_i\n",
    "    \n",
    "    for i in range(1, last_i + 1):\n",
    "        for j in range(1, target_max + 1): \n",
    "            \n",
    "            try:\n",
    "            \n",
    "                if a_mod[i - 1] <= j: # cur_num might sum up to j\n",
    "                    #Sum of previous i or if sum - j is True\n",
    "                    dp[i][j] = dp[i - 1][j] or dp[i - 1][j - a_mod[i - 1]]\n",
    "                else: #cur_num cannot sum to j (exceeds j)\n",
    "                    dp[i][j] = dp[i - 1][j]\n",
    "                    \n",
    "            except Exception as e:\n",
    "                print(i,j)\n",
    "                raise e\n",
    "    \n",
    "   \n",
    "    #Min Search\n",
    "    \n",
    "    for i in range(last_i, n+1):\n",
    "        \n",
    "        next_val = a_mod[i-1]\n",
    "        \n",
    "        rem = m - 1 - cur_max\n",
    "        to_remove = a_mod[last_i+1] - rem # target_min\n",
    "        target_max = a_mod[last_i+1] + rem\n",
    "        \n",
    "        for j in range(1, target_max + 1): \n",
    "                        \n",
    "            try:\n",
    "\n",
    "                if a_mod[i - 1] <= j: # cur_num might sum up to j\n",
    "                    #Sum of previous i or if sum - j is True\n",
    "                    dp[i][j] = dp[i - 1][j] or dp[i - 1][j - a_mod[i - 1]]\n",
    "                else: #cur_num cannot sum to j (exceeds j)\n",
    "                    dp[i][j] = dp[i - 1][j]\n",
    "                                \n",
    "            except Exception as e:\n",
    "                print(i,j)\n",
    "                raise e\n",
    "\n",
    "        #Min Search\n",
    "        lowest_sum = 0\n",
    "        for j in range(to_remove, target_max):\n",
    "            if dp[i][j]:\n",
    "                lowest_sum = j\n",
    "                break\n",
    "                \n",
    "        print(lowest_sum)\n",
    "                \n",
    "        #modify max\n",
    "        if lowest_sum:\n",
    "            cur_max = cur_max + next_val - lowest_sum\n",
    "    \n",
    "        #check condition\n",
    "         #no condition yet\n",
    "            \n",
    "    print(cur_max)\n",
    "    return cur_max\n",
    "        \n",
    "            \n",
    "            \n",
    "        \n",
    "        \n",
    "    \n",
    "    \n",
    "    \n",
    "    # Write your code here"
   ]
  },
  {
   "cell_type": "code",
   "execution_count": 46,
   "id": "06c26d06-f173-4e11-a6b9-cd21a92acd96",
   "metadata": {},
   "outputs": [
    {
     "data": {
      "text/plain": [
       "[[True, False, False, False, False, False],\n",
       " [True, False, True, False, False, False],\n",
       " [True, False, True, False, True, False],\n",
       " [True, False, True, True, True, True],\n",
       " [True, False, True, True, True, True],\n",
       " [True, False, True, True, True, True]]"
      ]
     },
     "execution_count": 46,
     "metadata": {},
     "output_type": "execute_result"
    }
   ],
   "source": [
    "dp"
   ]
  },
  {
   "cell_type": "code",
   "execution_count": 59,
   "id": "90173ce6-5358-4959-b9fe-b061465a3d72",
   "metadata": {},
   "outputs": [
    {
     "name": "stdout",
     "output_type": "stream",
     "text": [
      "5\n",
      "7\n",
      "[3, 3, 9, 9, 5]\n",
      "[5, 3, 3, 2, 2]\n",
      "Initial sum = [5]\n",
      "last_i = [0]\n",
      "Initial rem = [1]\n",
      "Initial to_remove = [2]\n",
      "Initial target_max = [4]\n",
      "2\n",
      "2\n",
      "0\n",
      "0\n",
      "0\n",
      "0\n",
      "8\n"
     ]
    }
   ],
   "source": [
    "name_test = 'in00.txt'\n",
    "\n",
    "f_input = open(f\"./in/{name_test}\", \"r\")\n",
    "\n",
    "if __name__ == '__main__':\n",
    "    q = int(f_input.readline().strip())\n",
    "\n",
    "    for q_itr in range(q):\n",
    "        first_multiple_input = f_input.readline().rstrip().split()\n",
    "\n",
    "        n = int(first_multiple_input[0])\n",
    "\n",
    "        m = int(first_multiple_input[1])\n",
    "\n",
    "        a = list(map(int, f_input.readline().rstrip().split()))\n",
    "\n",
    "        result = maximumSum(a, m)"
   ]
  },
  {
   "cell_type": "markdown",
   "id": "683c6d7c-a481-4683-85a7-43c85dda7fc2",
   "metadata": {
    "tags": []
   },
   "source": [
    "# Other "
   ]
  },
  {
   "cell_type": "code",
   "execution_count": null,
   "id": "6011d3d5-f2ba-49a6-a1c8-a8e16dc8d0cb",
   "metadata": {},
   "outputs": [],
   "source": [
    "def subset_with_lowest_sum(nums, target_min, target_max):\n",
    "    n = len(nums)\n",
    "    dp = [[False] * (target + 1) for _ in range(n + 1)]\n",
    "\n",
    "    for i in range(n + 1):\n",
    "        dp[i][0] = True\n",
    "\n",
    "    for i in range(1, n + 1):\n",
    "        for j in range(1, target + 1): \n",
    "            if nums[i - 1] <= j: # cur_num might sum up to j\n",
    "                #Sum of previous i or if sum - j is True\n",
    "                dp[i][j] = dp[i - 1][j] or dp[i - 1][j - nums[i - 1]]\n",
    "            else: #cur_num cannot sum to j (exceeds j)\n",
    "                dp[i][j] = dp[i - 1][j]\n",
    "\n",
    "    lowest_sum = 0\n",
    "    for j in range(target_min, target_max):\n",
    "        if dp[n][j]:\n",
    "            lowest_sum = j\n",
    "            break\n",
    "\n",
    "#     subset = []\n",
    "#     i, j = n, highest_sum\n",
    "#     while i > 0 and j > 0:\n",
    "#         if dp[i - 1][j]:\n",
    "#             i -= 1\n",
    "#         else:\n",
    "#             subset.append(nums[i - 1])\n",
    "#             j -= nums[i - 1]\n",
    "#             i -= 1\n",
    "\n",
    "    return lowest_sum\n",
    "\n",
    "#     return highest_sum, subset\n",
    "\n",
    "# Example usage:\n",
    "nums = [1, 3, 4, 6, 8]\n",
    "target_min = 4\n",
    "target_max = 6\n",
    "min_sum = subset_with_lowest_sum(nums, target_min, target_max)\n",
    "# print(\"Subset with the lowest sum:\", subset)\n",
    "print(\"Sum of the subset:\", min_sum)"
   ]
  },
  {
   "cell_type": "markdown",
   "id": "e0826d55-edf5-43b7-ad0f-b3637e4a160c",
   "metadata": {},
   "source": [
    "# Input tester"
   ]
  },
  {
   "cell_type": "code",
   "execution_count": 1,
   "id": "c0318001-aaf9-4b62-80e9-a036985b68b7",
   "metadata": {},
   "outputs": [],
   "source": [
    "import random"
   ]
  },
  {
   "cell_type": "code",
   "execution_count": 52,
   "id": "02dc2de4-ec63-4d5b-9f94-6dc1696debb2",
   "metadata": {},
   "outputs": [
    {
     "name": "stdout",
     "output_type": "stream",
     "text": [
      "10\n",
      "4789\n"
     ]
    }
   ],
   "source": [
    "rand_list = [random.randint(0,10000) for i in range(10)]\n",
    "rand_m = random.randint(0,5000)\n",
    "\n",
    "print(len(rand_list))\n",
    "print(rand_m)"
   ]
  },
  {
   "cell_type": "code",
   "execution_count": 11,
   "id": "fc0455ca-b1f3-4e37-a21d-1c1a5826f894",
   "metadata": {},
   "outputs": [
    {
     "data": {
      "text/plain": [
       "2047"
      ]
     },
     "execution_count": 11,
     "metadata": {},
     "output_type": "execute_result"
    }
   ],
   "source": [
    "len(list_sums)"
   ]
  },
  {
   "cell_type": "code",
   "execution_count": 92,
   "id": "f045ea9e-2adf-4807-a5ea-b025f99bf3eb",
   "metadata": {},
   "outputs": [
    {
     "name": "stdout",
     "output_type": "stream",
     "text": [
      "CPU times: total: 15.3 s\n",
      "Wall time: 15.4 s\n"
     ]
    },
    {
     "data": {
      "text/plain": [
       "[8, 6]"
      ]
     },
     "execution_count": 92,
     "metadata": {},
     "output_type": "execute_result"
    }
   ],
   "source": [
    "%%time\n",
    "subset_with_least_sum(rand_list,200)"
   ]
  },
  {
   "cell_type": "code",
   "execution_count": 57,
   "id": "d7a5d47c-46a2-4db1-8e65-9dca366a9e6e",
   "metadata": {},
   "outputs": [
    {
     "name": "stdout",
     "output_type": "stream",
     "text": [
      "10\n",
      "4789\n",
      "[4708, 497, 8561, 3003, 6767, 4911, 6140, 2617, 8394, 5391]\n",
      "[122, 497, 602, 1351, 1978, 2617, 3003, 3605, 3772, 4708]\n",
      "Initial sum = [4550]\n",
      "last_i = [4]\n",
      "Initial rem = [238]\n",
      "Initial to_remove = [2379]\n",
      "Initial target_max = [2855]\n",
      "2450\n",
      "5 2856\n"
     ]
    },
    {
     "ename": "IndexError",
     "evalue": "list index out of range",
     "output_type": "error",
     "traceback": [
      "\u001b[1;31m---------------------------------------------------------------------------\u001b[0m",
      "\u001b[1;31mIndexError\u001b[0m                                Traceback (most recent call last)",
      "File \u001b[1;32m<timed eval>:1\u001b[0m\n",
      "Cell \u001b[1;32mIn[56], line 93\u001b[0m, in \u001b[0;36mmaximumSum\u001b[1;34m(a, m)\u001b[0m\n\u001b[0;32m     91\u001b[0m     \u001b[38;5;28;01mexcept\u001b[39;00m \u001b[38;5;167;01mException\u001b[39;00m \u001b[38;5;28;01mas\u001b[39;00m e:\n\u001b[0;32m     92\u001b[0m         \u001b[38;5;28mprint\u001b[39m(i,j)\n\u001b[1;32m---> 93\u001b[0m         \u001b[38;5;28;01mraise\u001b[39;00m e\n\u001b[0;32m     95\u001b[0m \u001b[38;5;66;03m#Min Search\u001b[39;00m\n\u001b[0;32m     96\u001b[0m lowest_sum \u001b[38;5;241m=\u001b[39m \u001b[38;5;241m0\u001b[39m\n",
      "Cell \u001b[1;32mIn[56], line 87\u001b[0m, in \u001b[0;36mmaximumSum\u001b[1;34m(a, m)\u001b[0m\n\u001b[0;32m     83\u001b[0m \u001b[38;5;28;01mtry\u001b[39;00m:\n\u001b[0;32m     85\u001b[0m     \u001b[38;5;28;01mif\u001b[39;00m a_mod[i \u001b[38;5;241m-\u001b[39m \u001b[38;5;241m1\u001b[39m] \u001b[38;5;241m<\u001b[39m\u001b[38;5;241m=\u001b[39m j: \u001b[38;5;66;03m# cur_num might sum up to j\u001b[39;00m\n\u001b[0;32m     86\u001b[0m         \u001b[38;5;66;03m#Sum of previous i or if sum - j is True\u001b[39;00m\n\u001b[1;32m---> 87\u001b[0m         dp[i][j] \u001b[38;5;241m=\u001b[39m \u001b[43mdp\u001b[49m\u001b[43m[\u001b[49m\u001b[43mi\u001b[49m\u001b[43m \u001b[49m\u001b[38;5;241;43m-\u001b[39;49m\u001b[43m \u001b[49m\u001b[38;5;241;43m1\u001b[39;49m\u001b[43m]\u001b[49m\u001b[43m[\u001b[49m\u001b[43mj\u001b[49m\u001b[43m]\u001b[49m \u001b[38;5;129;01mor\u001b[39;00m dp[i \u001b[38;5;241m-\u001b[39m \u001b[38;5;241m1\u001b[39m][j \u001b[38;5;241m-\u001b[39m a_mod[i \u001b[38;5;241m-\u001b[39m \u001b[38;5;241m1\u001b[39m]]\n\u001b[0;32m     88\u001b[0m     \u001b[38;5;28;01melse\u001b[39;00m: \u001b[38;5;66;03m#cur_num cannot sum to j (exceeds j)\u001b[39;00m\n\u001b[0;32m     89\u001b[0m         dp[i][j] \u001b[38;5;241m=\u001b[39m dp[i \u001b[38;5;241m-\u001b[39m \u001b[38;5;241m1\u001b[39m][j]\n",
      "\u001b[1;31mIndexError\u001b[0m: list index out of range"
     ]
    }
   ],
   "source": [
    "%%time\n",
    "\n",
    "maximumSum(rand_list, rand_m)\n"
   ]
  }
 ],
 "metadata": {
  "kernelspec": {
   "display_name": "Python [conda env:hackerrank]",
   "language": "python",
   "name": "conda-env-hackerrank-py"
  },
  "language_info": {
   "codemirror_mode": {
    "name": "ipython",
    "version": 3
   },
   "file_extension": ".py",
   "mimetype": "text/x-python",
   "name": "python",
   "nbconvert_exporter": "python",
   "pygments_lexer": "ipython3",
   "version": "3.11.3"
  }
 },
 "nbformat": 4,
 "nbformat_minor": 5
}
