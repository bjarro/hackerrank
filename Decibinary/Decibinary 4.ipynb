{
 "cells": [
  {
   "cell_type": "code",
   "execution_count": 1,
   "id": "3193a22f-0888-49b7-b778-2c5a88cc2e0a",
   "metadata": {
    "tags": []
   },
   "outputs": [],
   "source": [
    "#!/bin/python3\n",
    "\n",
    "import math\n",
    "import os\n",
    "import random\n",
    "import re\n",
    "import sys\n",
    "\n",
    "#\n",
    "# Complete the 'decibinaryNumbers' function below.\n",
    "#\n",
    "# The function is expected to return a LONG_INTEGER.\n",
    "# The function accepts LONG_INTEGER x as parameter.\n",
    "#"
   ]
  },
  {
   "cell_type": "markdown",
   "id": "5a963150-0c69-46ef-9b83-543aee3da67f",
   "metadata": {
    "toc-hr-collapsed": true
   },
   "source": [
    "## Initialize Logging"
   ]
  },
  {
   "cell_type": "code",
   "execution_count": 2,
   "id": "d6efd735-8452-41c2-a13e-a6e0cdff4065",
   "metadata": {},
   "outputs": [],
   "source": [
    "import logging\n",
    "\n",
    "logging.basicConfig(stream=sys.stdout, level=logging.DEBUG)\n",
    "\n",
    "\n",
    "#Remove existing handlers from root logger\n",
    "root_logger = logging.getLogger()\n",
    "root_logger.setLevel(logging.DEBUG)\n",
    "root_logger.handlers = []\n",
    "\n",
    "#Create custom logger\n",
    "\n",
    "logger = logging.getLogger(__name__)\n",
    "ch = logging.StreamHandler(stream=sys.stdout)\n",
    "ch.setLevel(logging.DEBUG)\n",
    "\n",
    "formatter = logging.Formatter('%(message)s')\n",
    "ch.setFormatter(formatter)\n",
    "\n",
    "logger.addHandler(ch)"
   ]
  },
  {
   "cell_type": "code",
   "execution_count": 3,
   "id": "e26f3d0c-9aef-47d2-a8b6-20b775a509ad",
   "metadata": {},
   "outputs": [
    {
     "data": {
      "text/plain": [
       "[<StreamHandler stdout (DEBUG)>]"
      ]
     },
     "execution_count": 3,
     "metadata": {},
     "output_type": "execute_result"
    }
   ],
   "source": [
    "logger.handlers"
   ]
  },
  {
   "cell_type": "markdown",
   "id": "558bd060-b75f-4d4e-abec-49112ea98e24",
   "metadata": {},
   "source": [
    "## Imports"
   ]
  },
  {
   "cell_type": "code",
   "execution_count": 4,
   "id": "90c93cf7-bb6f-4d16-a71e-2879435507f7",
   "metadata": {
    "tags": []
   },
   "outputs": [],
   "source": [
    "from heapq import heappush, heappop\n",
    "from collections import defaultdict\n",
    "from bisect import bisect_left, bisect_right"
   ]
  },
  {
   "cell_type": "code",
   "execution_count": 5,
   "id": "8e500a00-b333-47e8-a979-e6802d57182c",
   "metadata": {},
   "outputs": [],
   "source": [
    "import math"
   ]
  },
  {
   "cell_type": "markdown",
   "id": "1986e86e-33bb-40d3-83a6-7c006fc0944c",
   "metadata": {
    "tags": []
   },
   "source": [
    "# Utility"
   ]
  },
  {
   "cell_type": "code",
   "execution_count": 6,
   "id": "87db995b-5fa0-4c03-8dfc-585ae50d0035",
   "metadata": {},
   "outputs": [
    {
     "data": {
      "text/plain": [
       "4.0"
      ]
     },
     "execution_count": 6,
     "metadata": {},
     "output_type": "execute_result"
    }
   ],
   "source": [
    "math.log(16,2)"
   ]
  },
  {
   "cell_type": "code",
   "execution_count": 48,
   "id": "5f32f65f-4d74-4118-8ad7-709fe691c674",
   "metadata": {
    "tags": []
   },
   "outputs": [],
   "source": [
    "def generate_start(value):\n",
    "    \n",
    "    if value < 10:\n",
    "        return [value]\n",
    "        \n",
    "    else:\n",
    "        rem = value\n",
    "        mult = 1\n",
    "        \n",
    "        list_digit = []\n",
    "\n",
    "       #logger.debug.*('in first while')\n",
    "        while rem >= mult:\n",
    "           #logger.debug(f'rem = {rem}')\n",
    "            max_digit = min(8,rem // mult)\n",
    "            \n",
    "            list_digit.append(max_digit)\n",
    "            rem -= max_digit*mult\n",
    "            \n",
    "            mult *= 2\n",
    "            \n",
    "        #Distribute leftovers\n",
    "       #logger.debug('in second while')\n",
    "        while rem > 0:\n",
    "           #logger.debug(f'rem = {rem}')\n",
    "            \n",
    "            index = int(math.log(rem,2))\n",
    "            list_digit[index] += 1\n",
    "            rem -= 2**index\n",
    "        \n",
    "    return list_digit\n",
    "    \n",
    "def get_count(pv, mod_rem, dict_counts):\n",
    "    \n",
    "    if dict_counts is None:\n",
    "        dict_counts = defaultdict(dict)\n",
    "        dict_counts[0] = {0:[2,4,5,5,5,3,1,0,0], 1:[1,3,5,5,5,4,2,0,0]}\n",
    "    \n",
    "    #Accumulate\n",
    "    if not (pv in dict_counts and mod_rem in dict_counts[pv]):\n",
    "        list_generate = []\n",
    "        \n",
    "        cur_pv = pv\n",
    "        cur_mod_rem = mod_rem\n",
    "        \n",
    "        while cur_mod_rem not in dict_counts[cur_pv]:\n",
    "            \n",
    "            list_generate.append((cur_pv, cur_mod_rem))\n",
    "            \n",
    "            if cur_mod_rem < 2**cur_pv:\n",
    "                cur_mode_rem = cur_mod_rem\n",
    "                \n",
    "            else:\n",
    "                cur_mod_rem -= 2**cur_pv\n",
    "            \n",
    "            cur_pv -= 1\n",
    "            \n",
    "       #logger.debug(list_generate)\n",
    "        \n",
    "        #Generate\n",
    "        for cur_pv, cur_mod_rem in reversed(list_generate):\n",
    "            \n",
    "            sum_base = 5**(cur_pv+1)\n",
    "            even_case = cur_mod_rem < 2**cur_pv\n",
    "            \n",
    "            #Generate Even\n",
    "            if even_case:\n",
    "                list_input = dict_counts[cur_pv-1][cur_mod_rem]\n",
    "                list_1 = []\n",
    "                list_2 = [sum_base]\n",
    "                for j in range(2, 9, 2):\n",
    "                    sum_subset = sum(list_input[0:j])\n",
    "                    list_1.append(sum_subset)\n",
    "                    list_2.append(sum_base - sum_subset)\n",
    "                    \n",
    "#                 list_final = list_1 + list_2[:-1]\n",
    "                list_final = list_1 + list_2\n",
    "        \n",
    "            #Generate Odd\n",
    "            else:\n",
    "                list_input = dict_counts[cur_pv-1][cur_mod_rem - 2**cur_pv]\n",
    "                list_1 = []\n",
    "                list_2 = [sum_base]\n",
    "                for j in range(1,8,2):\n",
    "                    sum_pair = sum(list_input[0:j])\n",
    "                    list_1.append(sum_pair)\n",
    "                    list_2.append(sum_base - sum_pair)\n",
    "                    \n",
    "                list_final = list_1 + list_2\n",
    "                    \n",
    "                    \n",
    "            dict_counts[cur_pv][cur_mod_rem] = list_final\n",
    "            \n",
    "    return dict_counts, dict_counts[pv][mod_rem]\n",
    "    \n",
    "    \n",
    "def generate_index(x, list_index):\n",
    "\n",
    "    if list_index is None:\n",
    "        list_index= [(1,2,1, 1),\n",
    "                     (3,5,2, 2), \n",
    "                     (7,11,4, 4), \n",
    "                     (15,21,6, 6), \n",
    "                     (27,37,10, 10)]\n",
    "    \n",
    "    while x >= list_index[-1][0]:\n",
    "          \n",
    "        i = len(list_index)\n",
    "\n",
    "        \n",
    "        B4 = list_index[(i)//2][3]\n",
    "        B2 = list_index[(i-2)//2][3]\n",
    "        \n",
    "        A = list_index[i-1][2] + B4\n",
    "        next_count =  A - list_index[i-5][2]\n",
    "\n",
    "        starting = list_index[-1][1] + list_index[-1][3]\n",
    "         \n",
    "        list_index.append((starting, starting+next_count, A, next_count))\n",
    "        \n",
    "    return list_index\n",
    "        \n",
    "            "
   ]
  },
  {
   "cell_type": "code",
   "execution_count": 11,
   "id": "05880c31-76be-4b8c-a09a-37e3469dbbff",
   "metadata": {},
   "outputs": [
    {
     "data": {
      "text/plain": [
       "2.0"
      ]
     },
     "execution_count": 11,
     "metadata": {},
     "output_type": "execute_result"
    }
   ],
   "source": [
    "math.log(4,2)"
   ]
  },
  {
   "cell_type": "markdown",
   "id": "c2267dd6-e251-443a-946f-89538a5d74e9",
   "metadata": {},
   "source": [
    "# Func"
   ]
  },
  {
   "cell_type": "code",
   "execution_count": 49,
   "id": "9d564524-6455-4c91-962e-13a451b0ad57",
   "metadata": {
    "tags": []
   },
   "outputs": [],
   "source": [
    "def decibinaryNumbers(x):\n",
    "    # Write your code here\n",
    "    \n",
    "    if x == 1:\n",
    "        return 0\n",
    "    elif x == 2:\n",
    "        return 1\n",
    "    \n",
    "    \n",
    "    global list_index, dict_counts\n",
    "\n",
    "    # list_index not initialized\n",
    "    if 'list_index' not in globals() or list_index == None:\n",
    "       #logger.info.*(f'list_index NOT in globals')\n",
    "        \n",
    "        list_index = generate_index(x, None)\n",
    "        \n",
    "#         i_index = len(list_index)-2\n",
    "    \n",
    "#    #logger.info.*(f'list_index in globals')\n",
    "\n",
    "    i_index = bisect_right(list_index, x, key = lambda tup: tup[0]) + 1\n",
    "    \n",
    "    if i_index < len(list_index) and x < list_index[i_index][0]:\n",
    "       #logger.info.*(f'in if')\n",
    "        i_index -= 2\n",
    "    # Generate\n",
    "    else:\n",
    "       #logger.info.*(f'in else')\n",
    "        list_index = generate_index(x, list_index)\n",
    "        i_index = len(list_index)-2\n",
    "\n",
    "    \n",
    "   #logger.info.*(f'i_index = {i_index}')\n",
    "    \n",
    "    \n",
    "    value = i_index*2    \n",
    "    \n",
    "    if x >= list_index[i_index][1]:\n",
    "        lower_bound = list_index[i_index][1]\n",
    "        value += 1 \n",
    "        \n",
    "    else:\n",
    "        lower_bound = list_index[i_index][0]\n",
    "        \n",
    "   #logger.info.*(f'value = {value}')\n",
    "        \n",
    "   #logger.info.*(f'x = {x}') \n",
    "   #logger.info.*(f'lower_bound = {lower_bound}') \n",
    "    \n",
    "    list_digits = [0]* int(math.log(value,2) + 1)\n",
    "    new_digits = generate_start(value)\n",
    "    list_digits[0:len(new_digits)] = new_digits\n",
    "    \n",
    "   #logger.info.*(f'decib_start = {int(\"\".join(map(str, reversed(list_digits))))}')\n",
    "    \n",
    "    \n",
    "#     while len(list_digits) <= int(math.log(value,2)):\n",
    "#         list_digits.append(0)\n",
    "    \n",
    "    \n",
    "    rem = x - lower_bound\n",
    "    \n",
    "        \n",
    "   #logger.info.*(f'rem index = {rem}')\n",
    "\n",
    "\n",
    "    if 'dict_counts' not in globals():\n",
    "        dict_counts, _ = get_count(0,0,None)\n",
    "    \n",
    "    \n",
    "    rem_val = value\n",
    "    index = lower_bound\n",
    "    \n",
    "    k_break = 0\n",
    "    \n",
    "#     max_pv = \n",
    "    \n",
    "    cur_pv = int(math.log((rem_val + 8), 2)) - 5\n",
    "#     cur_pv = int(math.log((rem + 8), 2)) - 5\n",
    "    cur_pv = max(0,cur_pv)\n",
    "    \n",
    "    while len(list_digits) > 2 and rem > 5 and cur_pv >= 0:\n",
    "#     while rem >= 5:\n",
    "\n",
    "#         cur_pv = int(math.log(rem,5)) - 1\n",
    "\n",
    "\n",
    "        mod_val = 2**(cur_pv+2)\n",
    "        mod_rem = (rem_val+ 8) % mod_val // 2\n",
    "        \n",
    "       #logger.info.*(f'----------------------------------------')\n",
    "        \n",
    "       #logger.info.*(f'cur_pv {cur_pv}')\n",
    "       #logger.info.*(f'mod_val {mod_val}')\n",
    "       #logger.info.*(f'mod_rem {mod_rem}')\n",
    "        \n",
    "#         break\n",
    "        \n",
    "        dict_counts, list_counts = get_count(cur_pv, mod_rem, dict_counts)\n",
    "\n",
    "#         cur_digit = 0 if cur_pv >= len(list_digits)  else list_digits[cur_pv]\n",
    "    \n",
    "#         if cur_digit == 0:\n",
    "#             is_odd = 1 if list_digits[cur_pv-1] % 2 == 1 else 0\n",
    "            \n",
    "#         else:\n",
    "#             is_odd = 1 if cur_digit % 2 == 1 else 0\n",
    "        \n",
    "        i_start = 0\n",
    "        i_end = len(list_counts)\n",
    "#         quot_val = rem_val // 2**(cur_pv+2) + 1\n",
    "        quot_val = (rem_val + 8) // 2**(cur_pv+2)\n",
    "        \n",
    "       #logger.info.*(f'quot_val {quot_val}')\n",
    "        \n",
    "        if quot_val < 8:\n",
    "            i_start += 8 - quot_val\n",
    "            \n",
    "        elif quot_val >= 8 and quot_val < 10:\n",
    "            pass\n",
    "            \n",
    "        elif quot_val == 10:\n",
    "           #logger.info.*('quot_val == 10')\n",
    "            if rem_val - (quot_val * mod_val) >= 0:\n",
    "               #logger.info.*('in i_end - 1')\n",
    "                i_end -= 1\n",
    "            \n",
    "        elif quot_val > 10 and quot_val < 18:\n",
    "            i_end -= quot_val - 9\n",
    "#             i_end -= quot_val - 10\n",
    "        else:\n",
    "            if quot_val % 2 == 0:\n",
    "                i_end = 2\n",
    "            else:\n",
    "                i_end = 1\n",
    "                 \n",
    "            \n",
    "       #logger.info.*(f'i_start {i_start}')\n",
    "       #logger.info.*(f'i_end {i_end}')\n",
    "       #logger.info.*(f'list_counts {list_counts}')\n",
    "       #logger.info.*(f'list_counts actual {list_counts[i_start:i_end]}')\n",
    "       #logger.info.*(f'length of counts: {i_end - i_start}')\n",
    "            \n",
    "#         break\n",
    "        \n",
    "        cumsum = 0\n",
    "        increase = 0\n",
    "        for count in list_counts[i_start:i_end]:\n",
    "            if cumsum + count > rem:\n",
    "                break\n",
    "            \n",
    "            increase +=1\n",
    "            cumsum += count\n",
    "            \n",
    "            \n",
    "       #logger.info.*(f'cumsum = {cumsum}')\n",
    "       #logger.info.*(f'increase = {increase}') \n",
    "                 \n",
    "        \n",
    "#         if increase == 0 or increase == i_end - i_start:\n",
    "#             print('in equal')\n",
    "#             break\n",
    "\n",
    "        \n",
    "        if increase == 0:\n",
    "           #logger.info.*('increase == 0')\n",
    "           #logger.info.*(f'rem_val = {rem_val}')\n",
    "           #logger.info.*(f'digit = { list_digits[cur_pv+2]}')\n",
    "            \n",
    "            rem_val -= 2**(cur_pv+2) * list_digits[cur_pv+2]\n",
    "            cur_pv -= 1\n",
    "            \n",
    "           #logger.info.*(f'rem_val == {rem_val}')\n",
    "            continue\n",
    "        \n",
    "        elif increase == i_end - i_start:\n",
    "           #logger.info.*('increase == len counts')\n",
    "           #logger.info.*('increasing pv (first)')\n",
    "            cur_pv += 1\n",
    "            \n",
    "#             if cur_pv > max_pv:\n",
    "#                 logger.warning(f'cur_pv > max_pv: {cur_pv} > {max_pv}')\n",
    "#                 break\n",
    "\n",
    "            continue\n",
    "#             while list_digits[cur_pv+2] + increase > 9:\n",
    "#                #logger.info.*('increasing pv')\n",
    "#                 cur_pv += 1\n",
    "#             increase = 1\n",
    "\n",
    "        rem -= cumsum\n",
    "        index += cumsum\n",
    "            \n",
    "        \n",
    "        list_digits[cur_pv+2] += increase\n",
    "        list_digits[0:cur_pv+2] = [0] * (cur_pv+2)\n",
    "\n",
    "        \n",
    "        rem_val -= 2**(cur_pv+2) * list_digits[cur_pv+2]\n",
    "         \n",
    "        \n",
    "       #logger.info.*(f'rem_val = {rem_val}')\n",
    "        \n",
    "        \n",
    "        new_digits = generate_start(rem_val)\n",
    "         \n",
    "       #logger.info.*(f'new_digits = {new_digits}')\n",
    "        \n",
    "        list_digits[0:len(new_digits)] = new_digits\n",
    "        \n",
    "        cur_pv -= 1\n",
    "        \n",
    "       #logger.info.*(f'-------------------')\n",
    "       #logger.info.*(f'index = {index}')\n",
    "       #logger.info.*(f'rem index = {rem}')\n",
    "       #logger.info.*(f'rem value = {rem_val}')\n",
    "       #logger.info.*(f'list_digits {list_digits}')\n",
    "       #logger.info.*(f'decibinary = {int(\"\".join(map(str, reversed(list_digits))))}')\n",
    "        \n",
    "    \n",
    "    #Naive implementation?:\n",
    "    ##Assumes list_digits[1] + rem is always < 10\n",
    "    ##Assumes list_digits[0] - 2*rem is always >= 0\n",
    "#     if rem != 0:\n",
    "# #         print('in rem < 5')\n",
    "#         list_digits[1] += rem\n",
    "#         list_digits[0] -= 2*rem\n",
    "        \n",
    "    cur_pv = 1\n",
    "    \n",
    "   #logger.info.*('in rem < 5')\n",
    "    \n",
    "    while rem != 0:\n",
    "       #logger.info.*(f'in rem == {rem}')\n",
    "       #logger.info.*(f'list_digits == {list_digits}')\n",
    "        \n",
    "#        #logger.info.*(f'cur_pv = {cur_pv}')\n",
    "#        #logger.info.*(f'cur_pv = {cur_pv}')\n",
    "        \n",
    "        \n",
    "        if list_digits[cur_pv] < 9 and list_digits[cur_pv-1] >= 2:\n",
    "            \n",
    "            \n",
    "            list_digits[cur_pv] += 1\n",
    "            rem_val = sum([list_digits[i] * 2**i for i in range(cur_pv)]) - 2**cur_pv\n",
    "            list_digits[0:cur_pv] = [0] * (cur_pv)\n",
    "            new_digits = generate_start(rem_val)\n",
    "            list_digits[0:len(new_digits)] = new_digits\n",
    "            \n",
    "            rem -= 1\n",
    "            cur_pv = 1\n",
    "            \n",
    "        else:\n",
    "            cur_pv +=1\n",
    "                \n",
    "    \n",
    "    return int(\"\".join(map(str, reversed(list_digits))))\n",
    "        \n"
   ]
  },
  {
   "cell_type": "code",
   "execution_count": 30,
   "id": "f5a9d4e3-35fd-44bd-8ff9-ea807b0988be",
   "metadata": {},
   "outputs": [],
   "source": [
    "list_digits = [8,8,8,8,2]"
   ]
  },
  {
   "cell_type": "code",
   "execution_count": 32,
   "id": "499bd14b-21bc-413b-baa3-f54b339453b3",
   "metadata": {},
   "outputs": [],
   "source": [
    "list_digits[1+2] += 1"
   ]
  },
  {
   "cell_type": "code",
   "execution_count": 33,
   "id": "619b5f63-98fa-4ece-b697-e02995cecff5",
   "metadata": {},
   "outputs": [
    {
     "data": {
      "text/plain": [
       "80"
      ]
     },
     "execution_count": 33,
     "metadata": {},
     "output_type": "execute_result"
    }
   ],
   "source": [
    "152 - 2**(1+2) * list_digits[1+2]"
   ]
  },
  {
   "cell_type": "code",
   "execution_count": null,
   "id": "f94af02d-4de6-4086-94cd-8b2588065752",
   "metadata": {},
   "outputs": [],
   "source": [
    "64 - 2**(2+2) * list_digits[cur_pv+2]"
   ]
  },
  {
   "cell_type": "code",
   "execution_count": 19,
   "id": "ae1200fd-2ad9-4ab8-acc8-ffa7208f393d",
   "metadata": {},
   "outputs": [
    {
     "data": {
      "text/plain": [
       "(1008, 172)"
      ]
     },
     "execution_count": 19,
     "metadata": {},
     "output_type": "execute_result"
    }
   ],
   "source": [
    "ds[16][19]"
   ]
  },
  {
   "cell_type": "code",
   "execution_count": 25,
   "id": "034e0377-7f7b-4599-9118-94eed66bc4fc",
   "metadata": {},
   "outputs": [
    {
     "data": {
      "text/plain": [
       "(29688, 145387)"
      ]
     },
     "execution_count": 25,
     "metadata": {},
     "output_type": "execute_result"
    }
   ],
   "source": [
    "ds[152][6]"
   ]
  },
  {
   "cell_type": "code",
   "execution_count": 19,
   "id": "6170b5a4-f59b-4313-9bb6-ee609e533962",
   "metadata": {},
   "outputs": [
    {
     "data": {
      "text/plain": [
       "(1112, 178)"
      ]
     },
     "execution_count": 19,
     "metadata": {},
     "output_type": "execute_result"
    }
   ],
   "source": [
    "ds[16][25]"
   ]
  },
  {
   "cell_type": "code",
   "execution_count": 19,
   "id": "d8f9e1ec-78be-4711-b0c8-d3b529babe76",
   "metadata": {},
   "outputs": [
    {
     "data": {
      "text/plain": [
       "(248, 485)"
      ]
     },
     "execution_count": 19,
     "metadata": {},
     "output_type": "execute_result"
    }
   ],
   "source": [
    "ds[24][6]"
   ]
  },
  {
   "cell_type": "code",
   "execution_count": 51,
   "id": "c23e0c4b-bfbc-4690-8817-f0f61fd099a3",
   "metadata": {},
   "outputs": [
    {
     "data": {
      "text/plain": [
       "(109888, 172257)"
      ]
     },
     "execution_count": 51,
     "metadata": {},
     "output_type": "execute_result"
    }
   ],
   "source": [
    "ds[160][624]"
   ]
  },
  {
   "cell_type": "markdown",
   "id": "d9c1ec68-71b3-475e-aa30-257eb5ef4cb3",
   "metadata": {
    "toc-hr-collapsed": true
   },
   "source": [
    "## Res"
   ]
  },
  {
   "cell_type": "code",
   "execution_count": 31,
   "id": "0c106c30-1d9d-4dbf-afa7-1c34dbf1b2f3",
   "metadata": {
    "tags": []
   },
   "outputs": [
    {
     "name": "stdout",
     "output_type": "stream",
     "text": [
      "CPU times: total: 641 ms\n",
      "Wall time: 642 ms\n"
     ]
    },
    {
     "data": {
      "text/plain": [
       "3112165009320290429"
      ]
     },
     "execution_count": 31,
     "metadata": {},
     "output_type": "execute_result"
    }
   ],
   "source": [
    "%%time\n",
    "# logger.setLevel(logging.INFO)\n",
    "# logger.setLevel(logging.DEBUG)\n",
    "logger.setLevel(logging.WARNING)\n",
    "# target_index = 145387\n",
    "# target_index = 1593\n",
    "# target_index = 178\n",
    "# target_index = 485\n",
    "# target_index = 186595\n",
    "n_exp = 18\n",
    "target_index = 10**n_exp\n",
    "decibinaryNumbers(target_index)"
   ]
  },
  {
   "cell_type": "code",
   "execution_count": 28,
   "id": "a50e0bd3-042c-4f29-98e9-7f610d644559",
   "metadata": {
    "collapsed": true,
    "jupyter": {
     "outputs_hidden": true
    },
    "tags": []
   },
   "outputs": [
    {
     "data": {
      "text/plain": [
       "defaultdict(dict,\n",
       "            {0: {0: [2, 4, 5, 5, 5, 3, 1, 0, 0],\n",
       "              1: [1, 3, 5, 5, 5, 4, 2, 0, 0]},\n",
       "             15: {45946: [1152733920,\n",
       "               33979136733,\n",
       "               94547993049,\n",
       "               144111983949,\n",
       "               152587890625,\n",
       "               151435156705,\n",
       "               118608753892,\n",
       "               58039897576,\n",
       "               8475906676]},\n",
       "             14: {13178: [1152733920,\n",
       "               10318431430,\n",
       "               22507971383,\n",
       "               30051278191,\n",
       "               30517578125,\n",
       "               29364844205,\n",
       "               20199146695,\n",
       "               8009606742,\n",
       "               466299934]},\n",
       "             13: {13178: [17491297,\n",
       "               1135242623,\n",
       "               3528481819,\n",
       "               5637215691,\n",
       "               6103515625,\n",
       "               6086024328,\n",
       "               4968273002,\n",
       "               2575033806,\n",
       "               466299934]},\n",
       "             12: {4986: [17491297,\n",
       "               315181081,\n",
       "               802570245,\n",
       "               1172536071,\n",
       "               1220703125,\n",
       "               1203211828,\n",
       "               905522044,\n",
       "               418132880,\n",
       "               48167054]},\n",
       "             11: {890: [17491297,\n",
       "               100824127,\n",
       "               196865657,\n",
       "               243248539,\n",
       "               244140625,\n",
       "               226649328,\n",
       "               143316498,\n",
       "               47274968,\n",
       "               892086]},\n",
       "             10: {890: [1614720,\n",
       "               15876577,\n",
       "               35396791,\n",
       "               47936039,\n",
       "               48828125,\n",
       "               47213405,\n",
       "               32951548,\n",
       "               13431334,\n",
       "               892086]},\n",
       "             9: {890: [11036,\n",
       "               1603684,\n",
       "               5388318,\n",
       "               8873539,\n",
       "               9765625,\n",
       "               9754589,\n",
       "               8161941,\n",
       "               4377307,\n",
       "               892086]},\n",
       "             8: {378: [11036,\n",
       "               409993,\n",
       "               1182655,\n",
       "               1831509,\n",
       "               1953125,\n",
       "               1942089,\n",
       "               1543132,\n",
       "               770470,\n",
       "               121616]},\n",
       "             7: {122: [11036,\n",
       "               121360,\n",
       "               277597,\n",
       "               382037,\n",
       "               390625,\n",
       "               379589,\n",
       "               269265,\n",
       "               113028,\n",
       "               8588]},\n",
       "             6: {122: [13,\n",
       "               11023,\n",
       "               40787,\n",
       "               69537,\n",
       "               78125,\n",
       "               78112,\n",
       "               67102,\n",
       "               37338,\n",
       "               8588]},\n",
       "             5: {58: [13, 2487, 8523, 14139, 15625, 15612, 13138, 7102, 1486]},\n",
       "             4: {26: [13, 621, 1853, 2911, 3125, 3112, 2504, 1272, 214]},\n",
       "             3: {10: [13, 179, 429, 607, 625, 612, 446, 196, 18]},\n",
       "             2: {2: [13, 59, 107, 125, 125, 112, 66, 18, 0]},\n",
       "             1: {2: [2, 11, 21, 25, 25, 23, 14, 4, 0]},\n",
       "             16: {45946: [35131870653,\n",
       "               273791847651,\n",
       "               577814894981,\n",
       "               754463546449,\n",
       "               762939453125,\n",
       "               727807582472,\n",
       "               489147605474,\n",
       "               185124558144,\n",
       "               8475906676]}})"
      ]
     },
     "execution_count": 28,
     "metadata": {},
     "output_type": "execute_result"
    }
   ],
   "source": [
    "dict_counts"
   ]
  },
  {
   "cell_type": "code",
   "execution_count": 32,
   "id": "cd09ab61-99c2-4ad7-85a2-c39653a565d1",
   "metadata": {
    "collapsed": true,
    "jupyter": {
     "outputs_hidden": true
    },
    "tags": []
   },
   "outputs": [
    {
     "data": {
      "text/plain": [
       "[(1, 2, 1, 1),\n",
       " (3, 5, 2, 2),\n",
       " (7, 11, 4, 4),\n",
       " (15, 21, 6, 6),\n",
       " (27, 37, 10, 10),\n",
       " (47, 60, 14, 13),\n",
       " (73, 91, 20, 18),\n",
       " (109, 131, 26, 22),\n",
       " (153, 183, 36, 30),\n",
       " (213, 249, 46, 36),\n",
       " (285, 330, 59, 45),\n",
       " (375, 427, 72, 52),\n",
       " (479, 543, 90, 64),\n",
       " (607, 679, 108, 72),\n",
       " (751, 835, 130, 84),\n",
       " (919, 1012, 152, 93),\n",
       " (1105, 1215, 182, 110),\n",
       " (1325, 1447, 212, 122),\n",
       " (1569, 1709, 248, 140),\n",
       " (1849, 2003, 284, 154),\n",
       " (2157, 2334, 329, 177),\n",
       " (2511, 2703, 374, 192),\n",
       " (2895, 3109, 426, 214),\n",
       " (3323, 3553, 478, 230),\n",
       " (3783, 4041, 542, 258),\n",
       " (4299, 4576, 606, 277),\n",
       " (4853, 5157, 678, 304),\n",
       " (5461, 5785, 750, 324),\n",
       " (6109, 6465, 834, 356),\n",
       " (6821, 7197, 918, 376),\n",
       " (7573, 7978, 1011, 405),\n",
       " (8383, 8809, 1104, 426),\n",
       " (9235, 9699, 1214, 464),\n",
       " (10163, 10653, 1324, 490),\n",
       " (11143, 11671, 1446, 528),\n",
       " (12199, 12756, 1568, 557),\n",
       " (13313, 13917, 1708, 604),\n",
       " (14521, 15155, 1848, 634),\n",
       " (15789, 16467, 2002, 678),\n",
       " (17145, 17855, 2156, 710),\n",
       " (18565, 19330, 2333, 765),\n",
       " (20095, 20897, 2510, 802),\n",
       " (21699, 22553, 2702, 854),\n",
       " (23407, 24299, 2894, 892),\n",
       " (25191, 26143, 3108, 952),\n",
       " (27095, 28084, 3322, 989),\n",
       " (29073, 30115, 3552, 1042),\n",
       " (31157, 32237, 3782, 1080),\n",
       " (33317, 34463, 4040, 1146),\n",
       " (35609, 36799, 4298, 1190),\n",
       " (37989, 39242, 4575, 1253),\n",
       " (40495, 41795, 4852, 1300),\n",
       " (43095, 44469, 5156, 1374),\n",
       " (45843, 47263, 5460, 1420),\n",
       " (48683, 50169, 5784, 1486),\n",
       " (51655, 53188, 6108, 1533),\n",
       " (54721, 56333, 6464, 1612),\n",
       " (57945, 59609, 6820, 1664),\n",
       " (61273, 63009, 7196, 1736),\n",
       " (64745, 66533, 7572, 1788),\n",
       " (68321, 70190, 7977, 1869),\n",
       " (72059, 73977, 8382, 1918),\n",
       " (75895, 77883, 8808, 1988),\n",
       " (79871, 81909, 9234, 2038),\n",
       " (83947, 86073, 9698, 2126),\n",
       " (88199, 90384, 10162, 2185),\n",
       " (92569, 94839, 10652, 2270),\n",
       " (97109, 99443, 11142, 2334),\n",
       " (101777, 104213, 11670, 2436),\n",
       " (106649, 109149, 12198, 2500),\n",
       " (111649, 114242, 12755, 2593),\n",
       " (116835, 119495, 13312, 2660),\n",
       " (122155, 124929, 13916, 2774),\n",
       " (127703, 130553, 14520, 2850),\n",
       " (133403, 136359, 15154, 2956),\n",
       " (139315, 142348, 15788, 3033),\n",
       " (145381, 148535, 16466, 3154),\n",
       " (151689, 154917, 17144, 3228),\n",
       " (158145, 161479, 17854, 3334),\n",
       " (164813, 168223, 18564, 3410),\n",
       " (171633, 175174, 19329, 3541),\n",
       " (178715, 182343, 20094, 3628),\n",
       " (185971, 189723, 20896, 3752),\n",
       " (193475, 197319, 21698, 3844),\n",
       " (201163, 205151, 22552, 3988),\n",
       " (209139, 213216, 23406, 4077),\n",
       " (217293, 221497, 24298, 4204),\n",
       " (225701, 229995, 25190, 4294),\n",
       " (234289, 238733, 26142, 4444),\n",
       " (243177, 247719, 27094, 4542),\n",
       " (252261, 256938, 28083, 4677),\n",
       " (261615, 266389, 29072, 4774),\n",
       " (271163, 276087, 30114, 4924),\n",
       " (281011, 286025, 31156, 5014),\n",
       " (291039, 296181, 32236, 5142),\n",
       " (301323, 306556, 33316, 5233),\n",
       " (311789, 317179, 34462, 5390),\n",
       " (322569, 328063, 35608, 5494),\n",
       " (333557, 339199, 36798, 5642),\n",
       " (344841, 350593, 37988, 5752),\n",
       " (356345, 362270, 39241, 5925),\n",
       " (368195, 374227, 40494, 6032),\n",
       " (380259, 386445, 41794, 6186),\n",
       " (392631, 398927, 43094, 6296),\n",
       " (405223, 411703, 44468, 6480),\n",
       " (418183, 424784, 45842, 6601),\n",
       " (431385, 438153, 47262, 6768),\n",
       " (444921, 451809, 48682, 6888),\n",
       " (458697, 465771, 50168, 7074),\n",
       " (472845, 480031, 51654, 7186),\n",
       " (487217, 494562, 53187, 7345),\n",
       " (501907, 509365, 54720, 7458),\n",
       " (516823, 524473, 56332, 7650),\n",
       " (532123, 539899, 57944, 7776),\n",
       " (547675, 555629, 59608, 7954),\n",
       " (563583, 571668, 61272, 8085),\n",
       " (579753, 588041, 63008, 8288),\n",
       " (596329, 604741, 64744, 8412),\n",
       " (613153, 621741, 66532, 8588),\n",
       " (630329, 639041, 68320, 8712),\n",
       " (647753, 656670, 70189, 8917),\n",
       " (665587, 674637, 72058, 9050),\n",
       " (683687, 692919, 73976, 9232),\n",
       " (702151, 711513, 75894, 9362),\n",
       " (720875, 730437, 77882, 9562),\n",
       " (739999, 749680, 79870, 9681),\n",
       " (759361, 769211, 81908, 9850),\n",
       " (779061, 789031, 83946, 9970),\n",
       " (799001, 809179, 86072, 10178),\n",
       " (819357, 829673, 88198, 10316),\n",
       " (839989, 850502, 90383, 10513),\n",
       " (861015, 871675, 92568, 10660),\n",
       " (882335, 893227, 94838, 10892),\n",
       " (904119, 915155, 97108, 11036),\n",
       " (926191, 937435, 99442, 11244),\n",
       " (948679, 960072, 101776, 11393),\n",
       " (971465, 983109, 104212, 11644),\n",
       " (994753, 1006563, 106648, 11810),\n",
       " (1018373, 1030413, 109148, 12040),\n",
       " (1042453, 1054659, 111648, 12206),\n",
       " (1066865, 1079330, 114241, 12465),\n",
       " (1091795, 1104417, 116834, 12622),\n",
       " (1117039, 1129885, 119494, 12846),\n",
       " (1142731, 1155737, 122154, 13006),\n",
       " (1168743, 1182023, 124928, 13280),\n",
       " (1195303, 1208764, 127702, 13461),\n",
       " (1222225, 1235943, 130552, 13718),\n",
       " (1249661, 1263569, 133402, 13908),\n",
       " (1277477, 1291681, 136358, 14204),\n",
       " (1305885, 1320271, 139314, 14386),\n",
       " (1334657, 1349302, 142347, 14645),\n",
       " (1363947, 1378775, 145380, 14828),\n",
       " (1393603, 1408735, 148534, 15132),\n",
       " (1423867, 1439197, 151688, 15330),\n",
       " (1454527, 1470129, 154916, 15602),\n",
       " (1485731, 1501528, 158144, 15797),\n",
       " (1517325, 1533423, 161478, 16098),\n",
       " (1549521, 1565799, 164812, 16278),\n",
       " (1582077, 1598611, 168222, 16534),\n",
       " (1615145, 1631861, 171632, 16716),\n",
       " (1648577, 1665606, 175173, 17029),\n",
       " (1682635, 1699871, 178714, 17236),\n",
       " (1717107, 1734637, 182342, 17530),\n",
       " (1752167, 1769915, 185970, 17748),\n",
       " (1787663, 1805753, 189722, 18090),\n",
       " (1823843, 1842144, 193474, 18301),\n",
       " (1860445, 1879049, 197318, 18604),\n",
       " (1897653, 1916473, 201162, 18820),\n",
       " (1935293, 1954473, 205150, 19180),\n",
       " (1973653, 1993069, 209138, 19416),\n",
       " (2012485, 2032226, 213215, 19741),\n",
       " (2051967, 2071941, 217292, 19974),\n",
       " (2091915, 2112249, 221496, 20334),\n",
       " (2132583, 2153133, 225700, 20550),\n",
       " (2173683, 2194539, 229994, 20856),\n",
       " (2215395, 2236468, 234288, 21073),\n",
       " (2257541, 2278981, 238732, 21440),\n",
       " (2300421, 2322101, 243176, 21680),\n",
       " (2343781, 2365799, 247718, 22018),\n",
       " (2387817, 2410083, 252260, 22266),\n",
       " (2432349, 2454998, 256937, 22649),\n",
       " (2477647, 2500529, 261614, 22882),\n",
       " (2523411, 2546623, 266388, 23212),\n",
       " (2569835, 2593279, 271162, 23444),\n",
       " (2616723, 2640549, 276086, 23826),\n",
       " (2664375, 2688448, 281010, 24073),\n",
       " (2712521, 2736931, 286024, 24410),\n",
       " (2761341, 2785991, 291038, 24650),\n",
       " (2810641, 2835659, 296180, 25018),\n",
       " (2860677, 2885913, 301322, 25236),\n",
       " (2911149, 2936694, 306555, 25545),\n",
       " (2962239, 2988003, 311788, 25764),\n",
       " (3013767, 3039907, 317178, 26140),\n",
       " (3066047, 3092435, 322568, 26388),\n",
       " (3118823, 3145563, 328062, 26740),\n",
       " (3172303, 3199304, 333556, 27001),\n",
       " (3226305, 3253715, 339198, 27410),\n",
       " (3281125, 3308787, 344840, 27662),\n",
       " (3336449, 3364473, 350592, 28024),\n",
       " (3392497, 3420779, 356344, 28282),\n",
       " (3449061, 3477774, 362269, 28713),\n",
       " (3506487, 3535483, 368194, 28996),\n",
       " (3564479, 3593865, 374226, 29386),\n",
       " (3623251, 3652917, 380258, 29666),\n",
       " (3682583, 3712683, 386444, 30100),\n",
       " (3742783, 3773144, 392630, 30361),\n",
       " (3803505, 3834237, 398926, 30732),\n",
       " (3864969, 3895965, 405222, 30996),\n",
       " (3926961, 3958405, 411702, 31444),\n",
       " (3989849, 4021587, 418182, 31738),\n",
       " (4053325, 4085478, 424783, 32153),\n",
       " (4117631, 4150089, 431384, 32458),\n",
       " (4182547, 4215477, 438152, 32930),\n",
       " (4248407, 4281625, 444920, 33218),\n",
       " (4314843, 4348469, 451808, 33626),\n",
       " (4382095, 4416008, 458696, 33913),\n",
       " (4449921, 4484307, 465770, 34386),\n",
       " (4518693, 4553385, 472844, 34692),\n",
       " (4588077, 4623187, 480030, 35110),\n",
       " (4658297, 4693705, 487216, 35408),\n",
       " (4729113, 4764978, 494561, 35865),\n",
       " (4800843, 4836979, 501906, 36136),\n",
       " (4873115, 4909635, 509364, 36520),\n",
       " (4946155, 4982947, 516822, 36792),\n",
       " (5019739, 5056995, 524472, 37256),\n",
       " (5094251, 5131812, 532122, 37561),\n",
       " (5169373, 5207365, 539898, 37992),\n",
       " (5245357, 5283667, 547674, 38310),\n",
       " (5321977, 5360783, 555628, 38806),\n",
       " (5399589, 5438699, 563582, 39110),\n",
       " (5477809, 5517354, 571667, 39545),\n",
       " (5556899, 5596753, 579752, 39854),\n",
       " (5636607, 5676973, 588040, 40366),\n",
       " (5717339, 5758039, 596328, 40700),\n",
       " (5798739, 5839897, 604740, 41158),\n",
       " (5881055, 5922540, 613152, 41485),\n",
       " (5964025, 6006013, 621740, 41988),\n",
       " (6048001, 6090289, 630328, 42288),\n",
       " (6132577, 6175289, 639040, 42712),\n",
       " (6218001, 6261013, 647752, 43012),\n",
       " (6304025, 6347542, 656669, 43517),\n",
       " (6391059, 6434905, 665586, 43846),\n",
       " (6478751, 6523059, 674636, 44308),\n",
       " (6567367, 6612013, 683686, 44646),\n",
       " (6656659, 6701825, 692918, 45166),\n",
       " (6746991, 6792472, 702150, 45481),\n",
       " (6837953, 6883879, 711512, 45926),\n",
       " (6929805, 6976043, 720874, 46238),\n",
       " (7022281, 7069031, 730436, 46750),\n",
       " (7115781, 7162861, 739998, 47080),\n",
       " (7209941, 7257470, 749679, 47529),\n",
       " (7304999, 7352847, 759360, 47848),\n",
       " (7400695, 7449031, 769210, 48336),\n",
       " (7497367, 7545991, 779060, 48624),\n",
       " (7594615, 7643647, 789030, 49032),\n",
       " (7692679, 7742000, 799000, 49321),\n",
       " (7791321, 7841139, 809178, 49818),\n",
       " (7890957, 7941103, 819356, 50146),\n",
       " (7991249, 8041861, 829672, 50612),\n",
       " (8092473, 8143431, 839988, 50958),\n",
       " (8194389, 8245890, 850501, 51501),\n",
       " (8297391, 8349227, 861014, 51836),\n",
       " (8401063, 8453381, 871674, 52318),\n",
       " (8505699, 8558361, 882334, 52662),\n",
       " (8611023, 8664261, 893226, 53238),\n",
       " (8717499, 8771116, 904118, 53617),\n",
       " (8824733, 8878873, 915154, 54140),\n",
       " (8933013, 8987529, 926190, 54516),\n",
       " (9042045, 9097145, 937434, 55100),\n",
       " (9152245, 9207697, 948678, 55452),\n",
       " (9263149, 9319102, 960071, 55953),\n",
       " (9375055, 9431365, 971464, 56310),\n",
       " (9487675, 9544593, 983108, 56918),\n",
       " (9601511, 9658829, 994752, 57318),\n",
       " (9716147, 9774031, 1006562, 57884),\n",
       " (9831915, 9890216, 1018372, 58301),\n",
       " (9948517, 10007465, 1030412, 58948),\n",
       " (10066413, 10125757, 1042452, 59344),\n",
       " (10185101, 10245007, 1054658, 59906),\n",
       " (10304913, 10365215, 1066864, 60302),\n",
       " (10425517, 10486474, 1079329, 60957),\n",
       " (10547431, 10608813, 1091794, 61382),\n",
       " (10670195, 10732159, 1104416, 61964),\n",
       " (10794123, 10856503, 1117038, 62380),\n",
       " (10918883, 10981903, 1129884, 63020),\n",
       " (11044923, 11108324, 1142730, 63401),\n",
       " (11171725, 11235667, 1155736, 63942),\n",
       " (11299609, 11363935, 1168742, 64326),\n",
       " (11428261, 11493245, 1182022, 64984),\n",
       " (11558229, 11623647, 1195302, 65418),\n",
       " (11689065, 11755098, 1208763, 66033),\n",
       " (11821131, 11887619, 1222224, 66488),\n",
       " (11954107, 12021307, 1235942, 67200),\n",
       " (12088507, 12156145, 1249660, 67638),\n",
       " (12223783, 12292049, 1263568, 68266),\n",
       " (12360315, 12429028, 1277476, 68713),\n",
       " (12497741, 12567197, 1291680, 69456),\n",
       " (12636653, 12706595, 1305884, 69942),\n",
       " (12776537, 12847147, 1320270, 70610),\n",
       " (12917757, 12988845, 1334656, 71088),\n",
       " (13059933, 13131758, 1349301, 71825),\n",
       " (13203583, 13275849, 1363946, 72266),\n",
       " (13348115, 13421005, 1378774, 72890),\n",
       " (13493895, 13567227, 1393602, 73332),\n",
       " (13640559, 13714637, 1408734, 74078),\n",
       " (13788715, 13863280, 1423866, 74565),\n",
       " (13937845, 14013095, 1439196, 75250),\n",
       " (14088345, 14164097, 1454526, 75752),\n",
       " (14239849, 14316375, 1470128, 76526),\n",
       " (14392901, 14469897, 1485730, 76996),\n",
       " (14546893, 14624554, 1501527, 77661),\n",
       " (14702215, 14780343, 1517324, 78128),\n",
       " (14858471, 14937367, 1533422, 78896),\n",
       " (15016263, 15095655, 1549520, 79392),\n",
       " (15175047, 15255115, 1565798, 80068),\n",
       " (15335183, 15415732, 1582076, 80549),\n",
       " (15496281, 15577567, 1598610, 81286),\n",
       " (15658853, 15740575, 1615144, 81722),\n",
       " (15822297, 15904637, 1631860, 82340),\n",
       " (15986977, 16069755, 1648576, 82778),\n",
       " (16152533, 16236062, 1665605, 83529),\n",
       " (16319591, 16403615, 1682634, 84024),\n",
       " (16487639, 16572365, 1699870, 84726),\n",
       " (16657091, 16742337, 1717106, 85246),\n",
       " (16827583, 16913643, 1734636, 86060),\n",
       " (16999703, 17086264, 1752166, 86561),\n",
       " (17172825, 17260105, 1769914, 87280),\n",
       " (17347385, 17435177, 1787662, 87792),\n",
       " (17522969, 17611615, 1805752, 88646),\n",
       " (17700261, 17789467, 1823842, 89206),\n",
       " (17878673, 17968650, 1842143, 89977),\n",
       " (18058627, 18149157, 1860444, 90530),\n",
       " (18239687, 18331073, 1879048, 91386),\n",
       " (18422459, 18514359, 1897652, 91900),\n",
       " (18606259, 18698889, 1916472, 92630),\n",
       " (18791519, 18884668, 1935292, 93149),\n",
       " (18977817, 19071845, 1954472, 94028),\n",
       " (19165873, 19260477, 1973652, 94604),\n",
       " (19355081, 19450497, 1993068, 95416),\n",
       " (19545913, 19641925, 2012484, 96012),\n",
       " (19737937, 19834870, 2032225, 96933),\n",
       " (19931803, 20029297, 2051966, 97494),\n",
       " (20126791, 20225079, 2071940, 98288),\n",
       " (20323367, 20422213, 2091914, 98846),\n",
       " (20521059, 20620823, 2112248, 99764),\n",
       " (20720587, 20820944, 2132582, 100357),\n",
       " (20921301, 21022467, 2153132, 101166),\n",
       " (21123633, 21225375, 2173682, 101742),\n",
       " (21327117, 21429741, 2194538, 102624),\n",
       " (21532365, 21635511, 2215394, 103146),\n",
       " (21738657, 21842542, 2236467, 103885),\n",
       " (21946427, 22050835, 2257540, 104408),\n",
       " (22155243, 22260541, 2278980, 105298),\n",
       " (22365839, 22471721, 2300420, 105882),\n",
       " (22577603, 22684309, 2322100, 106706),\n",
       " (22791015, 22898328, 2343780, 107313),\n",
       " (23005641, 23113899, 2365798, 108258),\n",
       " (23222157, 23330993, 2387816, 108836),\n",
       " (23439829, 23549491, 2410082, 109662),\n",
       " (23659153, 23769401, 2432348, 110248),\n",
       " (23879649, 23990866, 2454997, 111217),\n",
       " (24102083, 24213931, 2477646, 111848),\n",
       " (24325779, 24438491, 2500528, 112712),\n",
       " (24551203, 24664531, 2523410, 113328),\n",
       " (24777859, 24892133, 2546622, 114274),\n",
       " (25006407, 25121244, 2569834, 114837),\n",
       " (25236081, 25351713, 2593278, 115632),\n",
       " (25467345, 25583539, 2616722, 116194),\n",
       " (25699733, 25816871, 2640548, 117138),\n",
       " (25934009, 26051761, 2664374, 117752),\n",
       " (26169513, 26288126, 2688447, 118613),\n",
       " (26406739, 26525981, 2712520, 119242),\n",
       " (26645223, 26765431, 2736930, 120208),\n",
       " (26885639, 27006431, 2761340, 120792),\n",
       " (27127223, 27248839, 2785990, 121616),\n",
       " (27370455, 27492648, 2810640, 122193),\n",
       " (27614841, 27737979, 2835658, 123138),\n",
       " (27861117, 27984863, 2860676, 123746),\n",
       " (28108609, 28233181, 2885912, 124572),\n",
       " (28357753, 28482911, 2911148, 125158),\n",
       " (28608069, 28734122, 2936693, 126053),\n",
       " (28860175, 28986755, 2962238, 126580),\n",
       " (29113335, 29240661, 2988002, 127326),\n",
       " (29367987, 29495841, 3013766, 127854),\n",
       " (29623695, 29752453, 3039906, 128758),\n",
       " (29881211, 30010564, 3066046, 129353),\n",
       " (30139917, 30270113, 3092434, 130196),\n",
       " (30400309, 30531129, 3118822, 130820),\n",
       " (30661949, 30793745, 3145562, 131796),\n",
       " (30925541, 31057937, 3172302, 132396),\n",
       " (31190333, 31323590, 3199303, 133257),\n",
       " (31456847, 31590717, 3226304, 133870),\n",
       " (31724587, 31859479, 3253714, 134892),\n",
       " (31994371, 32129933, 3281124, 135562),\n",
       " (32265495, 32401979, 3308786, 136484),\n",
       " (32538463, 32675608, 3336448, 137145),\n",
       " (32812753, 32950921, 3364472, 138168),\n",
       " (33089089, 33227871, 3392496, 138782),\n",
       " (33366653, 33506307, 3420778, 139654),\n",
       " (33645961, 33786235, 3449060, 140274),\n",
       " (33926509, 34067834, 3477773, 141325),\n",
       " (34209159, 34351173, 3506486, 142014),\n",
       " (34493187, 34636173, 3535482, 142986),\n",
       " (34779159, 34922859, 3564478, 143700),\n",
       " (35066559, 35211363, 3593864, 144804),\n",
       " (35356167, 35501644, 3623250, 145477),\n",
       " (35647121, 35793551, 3652916, 146430),\n",
       " (35939981, 36087081, 3682582, 147100),\n",
       " (36234181, 36382385, 3712682, 148204),\n",
       " (36530589, 36679507, 3742782, 148918),\n",
       " (36828425, 36978318, 3773143, 149893),\n",
       " (37128211, 37278799, 3803504, 150588),\n",
       " (37429387, 37581041, 3834236, 151654),\n",
       " (37732695, 37884981, 3864968, 152286),\n",
       " (38037267, 38190449, 3895964, 153182),\n",
       " (38343631, 38497448, 3926960, 153817),\n",
       " (38651265, 38806165, 3958404, 154900),\n",
       " (38961065, 39116677, 3989848, 155612),\n",
       " (39272289, 39428907, 4021586, 156618),\n",
       " (39585525, 39742885, 4053324, 157360),\n",
       " (39900245, 40058762, 4085477, 158517),\n",
       " (40217279, 40376505, 4117630, 159226),\n",
       " (40535731, 40695971, 4150088, 160240),\n",
       " (40856211, 41017171, 4182546, 160960),\n",
       " (41178131, 41340283, 4215476, 162152),\n",
       " (41502435, 41665364, 4248406, 162929),\n",
       " (41828293, 41992287, 4281624, 163994),\n",
       " (42156281, 42321035, 4314842, 164754),\n",
       " (42485789, 42651711, 4348468, 165922),\n",
       " (42817633, 42984251, 4382094, 166618),\n",
       " (43150869, 43318470, 4416007, 167601),\n",
       " (43486071, 43654367, 4449920, 168296),\n",
       " (43822663, 43992127, 4484306, 169464),\n",
       " (44161591, 44331815, 4518692, 170224),\n",
       " (44502039, 44673329, 4553384, 171290),\n",
       " (44844619, 45016688, 4588076, 172069),\n",
       " (45188757, 45362023, 4623186, 173266),\n",
       " (45535289, 45709279, 4658296, 173990),\n",
       " (45883269, 46058281, 4693704, 175012),\n",
       " (46233293, 46409021, 4729112, 175728),\n",
       " (46584749, 46761650, 4764977, 176901),\n",
       " (46938551, 47116207, 4800842, 177656),\n",
       " (47293863, 47472545, 4836978, 178682),\n",
       " (47651227, 47830637, 4873114, 179410),\n",
       " (48010047, 48190569, 4909634, 180522),\n",
       " (48371091, 48552268, 4946154, 181177),\n",
       " (48733445, 48915549, 4982946, 182104),\n",
       " (49097653, 49280413, 5019738, 182760),\n",
       " (49463173, 49647053, 5056994, 183880),\n",
       " (49830933, 50015549, 5094250, 184616),\n",
       " (50200165, 50385822, 5131811, 185657),\n",
       " (50571479, 50757905, 5169372, 186426),\n",
       " (50944331, 51131957, 5207364, 187626),\n",
       " (51319583, 51507945, 5245356, 188362),\n",
       " (51696307, 51885723, 5283666, 189416),\n",
       " (52075139, 52265304, 5321976, 190165),\n",
       " (52455469, 52646879, 5360782, 191410),\n",
       " (52838289, 53030513, 5399588, 192224),\n",
       " (53222737, 53416079, 5438698, 193342),\n",
       " (53609421, 53803563, 5477808, 194142),\n",
       " (53997705, 54193082, 5517353, 195377),\n",
       " (54388459, 54584575, 5556898, 196116),\n",
       " (54780691, 54977855, 5596752, 197164),\n",
       " (55175019, 55372927, 5636606, 197908),\n",
       " (55570835, 55769999, 5676972, 199164),\n",
       " (55969163, 56169148, 5717338, 199985),\n",
       " (56369133, 56570273, 5758038, 201140),\n",
       " (56771413, 56973399, 5798738, 201986),\n",
       " (57175385, 57378675, 5839896, 203290),\n",
       " (57581965, 57786047, 5881054, 204082),\n",
       " (57990129, 58195330, 5922539, 205201),\n",
       " (58400531, 58606517, 5964024, 205986),\n",
       " (58812503, 59019777, 6006012, 207274),\n",
       " (59227051, 59435155, 6048000, 208104),\n",
       " (59643259, 59852493, 6090288, 209234),\n",
       " (60061727, 60271764, 6132576, 210037),\n",
       " (60481801, 60693065, 6175288, 211264),\n",
       " (60904329, 61116317, 6218000, 211988),\n",
       " (61328305, 61541317, 6261012, 213012),\n",
       " (61754329, 61968065, 6304024, 213736),\n",
       " (62181801, 62396766, 6347541, 214965),\n",
       " (62611731, 62827501, 6391058, 215770),\n",
       " (63043271, 63260175, 6434904, 216904),\n",
       " (63477079, 63694817, 6478750, 217738),\n",
       " (63912555, 64131589, 6523058, 219034),\n",
       " (64350623, 64570448, 6567366, 219825),\n",
       " (64790273, 65011227, 6612012, 220954),\n",
       " (65232181, 65453935, 6656658, 221754),\n",
       " (65675689, 65898763, 6701824, 223074),\n",
       " (66121837, 66345769, 6746990, 223932),\n",
       " (66569701, 66794806, 6792471, 225105),\n",
       " (67019911, 67245851, 6837952, 225940),\n",
       " (67471791, 67699011, 6883878, 227220),\n",
       " (67926231, 68154211, 6929804, 227980),\n",
       " (68382191, 68611243, 6976042, 229052),\n",
       " (68840295, 69070104, 7022280, 229809),\n",
       " (69299913, 69530991, 7069030, 231078),\n",
       " (69762069, 69993971, 7115780, 231902),\n",
       " (70225873, 70458929, 7162860, 233056),\n",
       " (70691985, 70925883, 7209940, 233898),\n",
       " (71159781, 71394970, 7257469, 235189),\n",
       " (71630159, 71866127, 7304998, 235968),\n",
       " (72102095, 72339161, 7352846, 237066),\n",
       " (72576227, 72814061, 7400694, 237834),\n",
       " (73051895, 73290985, 7449030, 239090),\n",
       " (73530075, 73769972, 7497366, 239897),\n",
       " (74009869, 74250861, 7545990, 240992),\n",
       " (74491853, 74733621, 7594614, 241768),\n",
       " (74975389, 75218341, 7643646, 242952),\n",
       " (75461293, 75704941, 7692678, 243648),\n",
       " (75948589, 76193222, 7741999, 244633),\n",
       " (76437855, 76683185, 7791320, 245330),\n",
       " (76928515, 77175039, 7841138, 246524),\n",
       " (77421563, 77668873, 7890956, 247310),\n",
       " (77916183, 78164607, 7941102, 248424),\n",
       " (78413031, 78662280, 7991248, 249249),\n",
       " (78911529, 79162069, 8041860, 250540),\n",
       " (79412609, 79663943, 8092472, 251334),\n",
       " (79915277, 80167751, 8143430, 252474),\n",
       " (80420225, 80673511, 8194388, 253286),\n",
       " (80926797, 81181438, 8245889, 254641),\n",
       " (81436079, 81691609, 8297390, 255530),\n",
       " (81947139, 82203893, 8349226, 256754),\n",
       " (82460647, 82718279, 8401062, 257632),\n",
       " (82975911, 83234903, 8453380, 258992),\n",
       " (83493895, 83753704, 8505698, 259809),\n",
       " (84013513, 84274483, 8558360, 260970),\n",
       " (84535453, 84797249, 8611022, 261796),\n",
       " (85059045, 85322243, 8664260, 263198),\n",
       " (85585441, 85849559, 8717498, 264118),\n",
       " (86113677, 86379094, 8771115, 265417),\n",
       " (86644511, 86910883, 8824732, 266372),\n",
       " (87177255, 87445105, 8878872, 267850),\n",
       " (87712955, 87981707, 8933012, 268752),\n",
       " (88250459, 88520489, 8987528, 270030),\n",
       " (88790519, 89061448, 9042044, 270929),\n",
       " (89332377, 89604789, 9097144, 272412),\n",
       " (89877201, 90150573, 9152244, 273372),\n",
       " (90423945, 90698629, 9207696, 274684),\n",
       " (90973313, 91248933, 9263148, 275620),\n",
       " (91524553, 91801610, 9319101, 277057),\n",
       " (92078667, 92356577, 9375054, 277910),\n",
       " (92634487, 92913607, 9431364, 279120),\n",
       " (93192727, 93472705, 9487674, 279978),\n",
       " (93752683, 94034127, 9544592, 281444),\n",
       " (94315571, 94597980, 9601510, 282409),\n",
       " (94880389, 95164163, 9658828, 283774),\n",
       " (95447937, 95732719, 9716146, 284782),\n",
       " (96017501, 96303857, 9774030, 286356),\n",
       " (96590213, 96877535, 9831914, 287322),\n",
       " (97164857, 97453562, 9890215, 288705),\n",
       " (97742267, 98031955, 9948516, 289688),\n",
       " (98321643, 98612961, 10007464, 291318),\n",
       " (98904279, 99196661, 10066412, 292382),\n",
       " (99489043, 99782885, 10125756, 293842),\n",
       " (100076727, 100371612, 10185100, 294885),\n",
       " (100666497, 100962987, 10245006, 296490),\n",
       " (101259477, 101556925, 10304912, 297448),\n",
       " (101854373, 102153175, 10365214, 298802),\n",
       " (102451977, 102751737, 10425516, 299760),\n",
       " (103051497, 103352870, 10486473, 301373),\n",
       " (103654243, 103956667, 10547430, 302424),\n",
       " (104259091, 104562991, 10608812, 303900),\n",
       " (104866891, 105171871, 10670194, 304980),\n",
       " (105476851, 105783493, 10732158, 306642),\n",
       " (106090135, 106397784, 10794122, 307649),\n",
       " (106705433, 107014505, 10856502, 309072),\n",
       " (107323577, 107633647, 10918882, 310070),\n",
       " (107943717, 108255425, 10981902, 311708),\n",
       " (108567133, 108879897, 11044922, 312764),\n",
       " (109192661, 109506862, 11108323, 314201),\n",
       " (109821063, 110136285, 11171724, 315222),\n",
       " (110451507, 110768291, 11235666, 316784),\n",
       " (111085075, 111402781, 11299608, 317706),\n",
       " (111720487, 112039499, 11363934, 319012),\n",
       " (112358511, 112678448, 11428260, 319937),\n",
       " (112998385, 113319905, 11493244, 321520),\n",
       " (113641425, 113963987, 11558228, 322562),\n",
       " (114286549, 114610587, 11623646, 324038),\n",
       " (114934625, 115259755, 11689064, 325130),\n",
       " (115584885, 115911722, 11755097, 326837),\n",
       " (116238559, 116566445, 11821130, 327886),\n",
       " (116894331, 117223721, 11887618, 329390),\n",
       " (117553111, 117883571, 11954106, 330460),\n",
       " (118214031, 118546273, 12021306, 332242),\n",
       " (118878515, 119211924, 12088506, 333409),\n",
       " (119545333, 119880347, 12156144, 335014),\n",
       " (120215361, 120551525, 12223782, 336164),\n",
       " (120887689, 121225631, 12292048, 337942),\n",
       " (121563573, 121902581, 12360314, 339008),\n",
       " (122241589, 122582110, 12429027, 340521),\n",
       " (122922631, 123264227, 12497740, 341596),\n",
       " (123605823, 123949237, 12567196, 343414),\n",
       " (124292651, 124637255, 12636652, 344604),\n",
       " (124981859, 125328139, 12706594, 346280),\n",
       " (125674419, 126021928, 12776536, 347509),\n",
       " (126369437, 126718843, 12847146, 349406),\n",
       " (127068249, 127418809, 12917756, 350560),\n",
       " (127769369, 128121561, 12988844, 352192),\n",
       " (128473753, 128827091, 13059932, 353338),\n",
       " (129180429, 129535650, 13131757, 355221),\n",
       " (129890871, 130247307, 13203582, 356436),\n",
       " (130603743, 130961835, 13275848, 358092),\n",
       " (131319927, 131679197, 13348114, 359270),\n",
       " (132038467, 132399539, 13421004, 361072),\n",
       " (132760611, 133122748, 13493894, 362137),\n",
       " (133484885, 133848529, 13567226, 363644),\n",
       " (134212173, 134576883, 13640558, 364710),\n",
       " (134941593, 135308115, 13714636, 366522),\n",
       " (135674637, 136042347, 13788714, 367710),\n",
       " (136410057, 136779442, 13863279, 369385),\n",
       " (137148827, 137519445, 13937844, 370618),\n",
       " (137890063, 138262599, 14013094, 372536),\n",
       " (138635135, 139008843, 14088344, 373708),\n",
       " (139382551, 139757933, 14164096, 375382),\n",
       " (140133315, 140509884, 14239848, 376569),\n",
       " (140886453, 141264983, 14316374, 378530),\n",
       " (141643513, 142023319, 14392900, 379806),\n",
       " (142403125, 142784677, 14469896, 381552),\n",
       " (143166229, 143549025, 14546892, 382796),\n",
       " (143931821, 144316526, 14624553, 384705),\n",
       " (144701231, 145087071, 14702214, 385840),\n",
       " (145472911, 145860353, 14780342, 387442),\n",
       " (146247795, 146636369, 14858470, 388574),\n",
       " (147024943, 147415417, 14937366, 390474),\n",
       " (147805891, 148197600, 15016262, 391709),\n",
       " (148589309, 148982749, 15095654, 393440),\n",
       " (149376189, 149770893, 15175046, 394704),\n",
       " (150165597, 150562241, 15255114, 396644),\n",
       " (150958885, 151356701, 15335182, 397816),\n",
       " (151754517, 152153986, 15415731, 399469),\n",
       " (152553455, 152954081, 15496280, 400626),\n",
       " (153354707, 153757227, 15577566, 402520),\n",
       " (154159747, 154563485, 15658852, 403738),\n",
       " (154967223, 155372615, 15740574, 405392),\n",
       " (155778007, 156184572, 15822296, 406565),\n",
       " (156591137, 156999493, 15904636, 408356),\n",
       " (157407849, 157817259, 15986976, 409410),\n",
       " (158226669, 158637571, 16069754, 410902),\n",
       " (159048473, 159460431, 16152532, 411958),\n",
       " (159872389, 160286154, 16236061, 413765),\n",
       " (160699919, 161114873, 16319590, 414954),\n",
       " (161529827, 161946465, 16403614, 416638),\n",
       " (162363103, 162780987, 16487638, 417884),\n",
       " (163198871, 163618703, 16572364, 419832),\n",
       " (164038535, 164459564, 16657090, 421029),\n",
       " (164880593, 165303339, 16742336, 422746),\n",
       " (165726085, 166150053, 16827582, 423968),\n",
       " (166574021, 167000025, 16913642, 426004),\n",
       " (167426029, 167853367, 16999702, 427338),\n",
       " (168280705, 168709878, 17086263, 429173),\n",
       " (169139051, 169569539, 17172824, 430488),\n",
       " (170000027, 170432549, 17260104, 432522),\n",
       " (170865071, 171298813, 17347384, 433742),\n",
       " (171732555, 172168029, 17435176, 435474),\n",
       " (172603503, 173040208, 17522968, 436705),\n",
       " (173476913, 173915703, 17611614, 438790),\n",
       " (174354493, 174794649, 17700260, 440156),\n",
       " (175234805, 175676887, 17789466, 442082),\n",
       " (176118969, 176562465, 17878672, 443496),\n",
       " (177005961, 177451642, 17968649, 445681),\n",
       " (177897323, 178344335, 18058626, 447012),\n",
       " (178791347, 179240243, 18149156, 448896),\n",
       " (179689139, 180139359, 18239686, 450220),\n",
       " (180589579, 181041979, 18331072, 452400),\n",
       " (181494379, 181948188, 18422458, 453809),\n",
       " (182401997, 182857729, 18514358, 455732),\n",
       " (183313461, 183770563, 18606258, 457102),\n",
       " (184227665, 184686867, 18698888, 459202),\n",
       " (185146069, 185606515, 18791518, 460446),\n",
       " (186066961, 186529170, 18884667, 462209),\n",
       " (186991379, 187454837, 18977816, 463458),\n",
       " (187918295, 188383881, 19071844, 465586),\n",
       " (188849467, 189316451, 19165872, 466984),\n",
       " (189783435, 190252393, 19260476, 468958),\n",
       " (190721351, 191191764, 19355080, 470413),\n",
       " (191662177, 192134857, 19450496, 472680),\n",
       " (192607537, 193081605, 19545912, 474068),\n",
       " (193555673, 194031725, 19641924, 476052),\n",
       " (194507777, 194985237, 19737936, 477460),\n",
       " (195462697, 195942486, 19834869, 479789),\n",
       " (196422275, 196903581, 19931802, 481306),\n",
       " (197384887, 197868271, 20029296, 483384),\n",
       " (198351655, 198836521, 20126790, 484866),\n",
       " (199321387, 199808529, 20225078, 487142),\n",
       " (200295671, 200784168, 20323366, 488497),\n",
       " (201272665, 201763075, 20422212, 490410),\n",
       " (202253485, 202745247, 20521058, 491762),\n",
       " (203237009, 203731041, 20620822, 494032),\n",
       " (204225073, 204720581, 20720586, 495508),\n",
       " (205216089, 205713666, 20820943, 497577),\n",
       " (206211243, 206710331, 20921300, 499088),\n",
       " (207209419, 207710827, 21022466, 501408),\n",
       " (208212235, 208715045, 21123632, 502810),\n",
       " (209217855, 209722643, 21225374, 504788),\n",
       " (210227431, 210733604, 21327116, 506173),\n",
       " (211239777, 211748217, 21429740, 508440),\n",
       " (212256657, 212766555, 21532364, 509898),\n",
       " (213276453, 213788331, 21635510, 511878),\n",
       " (214300209, 214813491, 21738656, 513282),\n",
       " (215326773, 215842198, 21842541, 515425),\n",
       " (216357623, 216874309, 21946426, 516686),\n",
       " (217390995, 217909465, 22050834, 518470),\n",
       " (218427935, 218947667, 22155242, 519732),\n",
       " (219467399, 219989283, 22260540, 521884),\n",
       " (220511167, 221034464, 22365838, 523297),\n",
       " (221557761, 222083055, 22471720, 525294),\n",
       " (222608349, 223135117, 22577602, 526768),\n",
       " (223661885, 224190951, 22684308, 529066),\n",
       " (224720017, 225250491, 22791014, 530474),\n",
       " (225780965, 226313454, 22898327, 532489),\n",
       " (226845943, 227379863, 23005640, 533920),\n",
       " (227913783, 228450079, 23113898, 536296),\n",
       " (228986375, 229524223, 23222156, 537848),\n",
       " (230062071, 230602049, 23330992, 539978),\n",
       " (231142027, 231683528, 23439828, 541501),\n",
       " (232225029, 232768879, 23549490, 543850),\n",
       " (233312729, 233857983, 23659152, 545254),\n",
       " (234403237, 234950481, 23769400, 547244),\n",
       " (235497725, 236046381, 23879648, 548656),\n",
       " (236595037, 237146074, 23990865, 551037),\n",
       " (237697111, 238249703, 24102082, 552592),\n",
       " (238802295, 239357073, 24213930, 554778),\n",
       " (239911851, 240468229, 24325778, 556378),\n",
       " (241024607, 241583449, 24438490, 558842),\n",
       " (242142291, 242702628, 24551202, 560337),\n",
       " (243262965, 243825413, 24664530, 562448),\n",
       " (244387861, 244951789, 24777858, 563928),\n",
       " (245515717, 246082071, 24892132, 566354),\n",
       " (246648425, 247216341, 25006406, 567916),\n",
       " (247784257, 248354298, 25121243, 570041),\n",
       " (248924339, 249495889, 25236080, 571550),\n",
       " (250067439, 250641293, 25351712, 573854),\n",
       " (251215147, 251790359, 25467344, 575212),\n",
       " (252365571, 252942703, 25583538, 577132),\n",
       " (253519835, 254098324, 25699732, 578489),\n",
       " (254676813, 255257603, 25816870, 580790),\n",
       " (255838393, 256420689, 25934008, 582296),\n",
       " (257002985, 257587401, 26051760, 584416),\n",
       " (258171817, 258757791, 26169512, 585974),\n",
       " (259343765, 259932158, 26288125, 588393),\n",
       " (260520551, 261110419, 26406738, 589868),\n",
       " (261700287, 262292259, 26525980, 591972),\n",
       " (262884231, 263477693, 26645222, 593462),\n",
       " (264071155, 264667073, 26765430, 595918),\n",
       " (265262991, 265860504, 26885638, 597513),\n",
       " (266458017, 267057709, 27006430, 599692),\n",
       " (267657401, 268258643, 27127222, 601242),\n",
       " (268859885, 269463501, 27248838, 603616),\n",
       " (270067117, 270672141, 27370454, 605024),\n",
       " (271277165, 271884174, 27492647, 607009),\n",
       " (272491183, 273099593, 27614840, 608410),\n",
       " (273708003, 274318759, 27737978, 610756),\n",
       " (274929515, 275541793, 27861116, 612278),\n",
       " (276154071, 276768479, 27984862, 614408),\n",
       " (277382887, 277998848, 28108608, 615961),\n",
       " (278614809, 279233149, 28233180, 618340),\n",
       " (279851489, 280471263, 28357752, 619774),\n",
       " (281091037, 281712831, 28482910, 621794),\n",
       " (282334625, 282957831, 28608068, 623206),\n",
       " (283581037, 284206550, 28734121, 625513),\n",
       " (284832063, 285459057, 28860174, 626994),\n",
       " (286086051, 286715053, 28986754, 629002),\n",
       " (287344055, 287974479, 29113334, 630424),\n",
       " (288604903, 289237495, 29240660, 632592),\n",
       " (289870087, 290503952, 29367986, 633865),\n",
       " (291137817, 291773483, 29495840, 635666),\n",
       " (292409149, 293046089, 29623694, 636940),\n",
       " (293683029, 294322147, 29752452, 639118),\n",
       " (294961265, 295601815, 29881210, 640550),\n",
       " (296242365, 296884942, 30010563, 642577),\n",
       " (297527519, 298171595, 30139916, 644076),\n",
       " (298815671, 299462089, 30270112, 646418),\n",
       " (300108507, 300756363, 30400308, 647856),\n",
       " (301404219, 302054137, 30531128, 649918),\n",
       " (302704055, 303355440, 30661948, 651385),\n",
       " (304006825, 304660653, 30793744, 653828),\n",
       " (305314481, 305969909, 30925540, 655428),\n",
       " (306625337, 307282965, 31057936, 657628),\n",
       " (307940593, 308599797, 31190332, 659204),\n",
       " (309259001, 309920642, 31323589, 661641),\n",
       " (310582283, 311245385, 31456846, 663102),\n",
       " (311908487, 312573663, 31590716, 665176),\n",
       " (313238839, 313905489, 31724586, 666650),\n",
       " (314572139, 315241285, 31859478, 669146),\n",
       " (315910431, 316581212, 31994370, 670781),\n",
       " (317251993, 317925079, 32129932, 673086),\n",
       " (318598165, 319272943, 32265494, 674778),\n",
       " (319947721, 320625113, 32401978, 677392),\n",
       " (321302505, 321981489, 32538462, 678984),\n",
       " (322660473, 323341710, 32675607, 681237),\n",
       " (324022947, 324705767, 32812752, 682820),\n",
       " (325388587, 326074013, 32950920, 685426),\n",
       " (326759439, 327446549, 33089088, 687110),\n",
       " (328133659, 328823067, 33227870, 689408),\n",
       " (329512475, 330203520, 33366652, 691045),\n",
       " (330894565, 331588119, 33506306, 693554),\n",
       " (332281673, 332976713, 33645960, 695040),\n",
       " (333671753, 334368899, 33786234, 697146),\n",
       " (335066045, 335764683, 33926508, 698638),\n",
       " (336463321, 337164502, 34067833, 701181),\n",
       " (337865683, 338568535, 34209158, 702852),\n",
       " (339271387, 339976599, 34351172, 705212),\n",
       " (340681811, 341388763, 34493186, 706952),\n",
       " (342095715, 342805379, 34636172, 709664),\n",
       " (343515043, 344226368, 34779158, 711325),\n",
       " (344937693, 345651393, 34922858, 713700),\n",
       " (346365093, 347080479, 35066558, 715386),\n",
       " (347795865, 348514041, 35211362, 718176),\n",
       " (349232217, 349952211, 35356166, 719994),\n",
       " (350672205, 351394690, 35501643, 722485),\n",
       " (352117175, 352841437, 35647120, 724262),\n",
       " (353565699, 354292691, 35793550, 726992),\n",
       " (355019683, 355748301, 35939980, 728618),\n",
       " (356476919, 357207833, 36087080, 730914),\n",
       " (357938747, 358671284, 36234180, 732537),\n",
       " (359403821, 360139085, 36382384, 735264),\n",
       " (360874349, 361611387, 36530588, 737038),\n",
       " (362348425, 363087951, 36679506, 739526),\n",
       " (363827477, 364568821, 36828424, 741344),\n",
       " (365310165, 366054302, 36978317, 744137),\n",
       " (366798439, 367544265, 37128210, 745826),\n",
       " (368290091, 369038301, 37278798, 748210),\n",
       " (369786511, 370536391, 37429386, 749880),\n",
       " (371286271, 372038887, 37581040, 752616),\n",
       " (372791503, 373545880, 37732694, 754377),\n",
       " (374300257, 375057027, 37884980, 756770),\n",
       " (375813797, 376572265, 38037266, 758468),\n",
       " (377330733, 378091795, 38190448, 761062),\n",
       " (378852857, 379615447, 38343630, 762590),\n",
       " (380378037, 381142790, 38497447, 764753),\n",
       " (381907543, 382673827, 38651264, 766284),\n",
       " (383440111, 384209009, 38806164, 768898),\n",
       " (384977907, 385748523, 38961064, 770616),\n",
       " (386519139, 387292185, 39116676, 773046),\n",
       " (388065231, 388840072, 39272288, 774841),\n",
       " (389614913, 390392555, 39428906, 777642),\n",
       " (391170197, 391949557, 39585524, 779360),\n",
       " (392728917, 393510737, 39742884, 781820),\n",
       " (394292557, 395076125, 39900244, 783568),\n",
       " (395859693, 396646166, 40058761, 786473),\n",
       " (397432639, 398221011, 40217278, 788372),\n",
       " (399009383, 399800363, 40376504, 790980),\n",
       " (400591343, 401384189, 40535730, 792846),\n",
       " (402177035, 402972761, 40695970, 795726),\n",
       " (403768487, 404565936, 40856210, 797449),\n",
       " (405363385, 406163277, 41017170, 799892),\n",
       " (406963169, 407764795, 41178130, 801626),\n",
       " (408566421, 409370973, 41340282, 804552),\n",
       " (410175525, 410981989, 41502434, 806464),\n",
       " (411788453, 412597606, 41665363, 809153),\n",
       " (413406759, 414217881, 41828292, 811122),\n",
       " (415029003, 415843159, 41992286, 814156),\n",
       " (416657315, 417473313, 42156280, 815998),\n",
       " (418289311, 419107911, 42321034, 818600),\n",
       " (419926511, 420746936, 42485788, 820425),\n",
       " (421567361, 422390779, 42651710, 823418),\n",
       " (423214197, 424039543, 42817632, 825346),\n",
       " (424864889, 425692859, 42984250, 827970),\n",
       " (426520829, 427350663, 43150868, 829834),\n",
       " (428180497, 429013178, 43318469, 832681),\n",
       " (429845859, 430680219, 43486070, 834360),\n",
       " (431514579, 432351313, 43654366, 836734),\n",
       " (433188047, 434026459, 43822662, 838412),\n",
       " (434864871, 435706129, 43992126, 841258),\n",
       " (436547387, 437390508, 44161590, 843121),\n",
       " (438233629, 439079373, 44331814, 845744),\n",
       " (439925117, 440772789, 44502038, 847672),\n",
       " (441620461, 442471127, 44673328, 850666),\n",
       " (443321793, 444174285, 44844618, 852492),\n",
       " (445026777, 445881874, 45016687, 855097),\n",
       " (446736971, 447593913, 45188756, 856942),\n",
       " (448450855, 449310839, 45362022, 859984),\n",
       " (450170823, 451032783, 45535288, 861960),\n",
       " (451894743, 452759403, 45709278, 864660),\n",
       " (453624063, 454490644, 45883268, 866581),\n",
       " (455357225, 456226749, 46058280, 869524),\n",
       " (457096273, 457967543, 46233292, 871270),\n",
       " (458838813, 459712545, 46409020, 873732),\n",
       " (460586277, 461461747, 46584748, 875470),\n",
       " (462337217, 463215598, 46761649, 878381),\n",
       " (464093979, 464974249, 46938550, 880270),\n",
       " (465854519, 466737433, 47116206, 882914),\n",
       " (467620347, 468505189, 47293862, 884842),\n",
       " (469390031, 470277827, 47472544, 887796),\n",
       " (471165623, 472055200, 47651226, 889577),\n",
       " (472944777, 473836863, 47830636, 892086),\n",
       " (474728949, 475622789, 48010046, 893840),\n",
       " (476516629, 477413335, 48190568, 896706),\n",
       " (478310041, 479208587, 48371090, 898546),\n",
       " (480107133, 481008174, 48552267, 901041),\n",
       " (481909215, 482812023, 48733444, 902808),\n",
       " (483714831, 484620333, 48915548, 905502),\n",
       " (485525835, 486432919, 49097652, 907084),\n",
       " (487340003, 488249325, 49280412, 909322),\n",
       " (489158647, 490069552, 49463172, 910905),\n",
       " (490980457, 491894065, 49647052, 913608),\n",
       " (492807673, 493723057, 49830932, 915384),\n",
       " (494638441, 495556337, 50015548, 917896),\n",
       " (496474233, 497393985, 50200164, 919752),\n",
       " (498313737, 499236386, 50385821, 922649),\n",
       " (500159035, 501083461, 50571478, 924426),\n",
       " (502007887, 502934859, 50757904, 926972),\n",
       " (503861831, 504790613, 50944330, 928782),\n",
       " (505719395, 506651187, 51131956, 931792),\n",
       " (507582979, 508516740, 51319582, 933761),\n",
       " (509450501, 510386967, 51507944, 936466),\n",
       " (511323433, 512261835, 51696306, 938402),\n",
       " (513200237, 514141629, 51885722, 941392),\n",
       " (515083021, 516026203, 52075138, 943182),\n",
       " (516969385, 517915106, 52265303, 945721),\n",
       " (518860827, 519808351, 52455468, 947524),\n",
       " (520755875, 521706447, 52646878, 950572),\n",
       " (522657019, 523609585, 52838288, 952566),\n",
       " (524562151, 525517525, 53030512, 955374),\n",
       " (526472899, 527430332, 53222736, 957433),\n",
       " (528387765, 529348375, 53416078, 960610),\n",
       " (530308985, 531271527, 53609420, 962542),\n",
       " (532234069, 533199343, 53803562, 965274),\n",
       " (534164617, 535131809, 53997704, 967192),\n",
       " (536099001, 537069346, 54193081, 970345),\n",
       " (538039691, 539012071, 54388458, 972380),\n",
       " (539984451, 540959605, 54584574, 975154),\n",
       " (541934759, 542911887, 54780690, 977128),\n",
       " (543889015, 544869165, 54977854, 980150),\n",
       " (545849315, 546831252, 55175018, 981937),\n",
       " (547813189, 548797657, 55372926, 984468),\n",
       " (549782125, 550768385, 55570834, 986260),\n",
       " (551754645, 552743953, 55769998, 989308),\n",
       " (553733261, 554724569, 55969162, 991308),\n",
       " (555715877, 556710006, 56169147, 994129),\n",
       " (557704135, 558700341, 56369132, 996206),\n",
       " (559696547, 560695985, 56570272, 999438),\n",
       " (561695423, 562696837, 56771412, 1001414),\n",
       " (563698251, 564702487, 56973398, 1004236),\n",
       " (565706723, 566712960, 57175384, 1006237),\n",
       " (567719197, 568728739, 57378674, 1009542),\n",
       " (569738281, 570749973, 57581964, 1011692),\n",
       " (571761665, 572776299, 57786046, 1014634),\n",
       " (573790933, 574807663, 57990128, 1016730),\n",
       " (575824393, 576844338, 58195329, 1019945),\n",
       " (577864283, 578886139, 58400530, 1021856),\n",
       " (579907995, 580932547, 58606516, 1024552),\n",
       " (581957099, 582983555, 58812502, 1026456),\n",
       " (584010011, 585039659, 59019776, 1029648),\n",
       " (586069307, 587101028, 59227050, 1031721),\n",
       " (588132749, 589167373, 59435154, 1034624),\n",
       " (590201997, 591238739, 59643258, 1036742),\n",
       " (592275481, 593315471, 59852492, 1039990),\n",
       " (594355461, 595397411, 60061726, 1041950),\n",
       " (596439361, 597484074, 60271763, 1044713),\n",
       " (598528787, 599575433, 60481800, 1046646),\n",
       " (600622079, 601671885, 60693064, 1049806),\n",
       " (602721691, 603773527, 60904328, 1051836),\n",
       " (604825363, 605879953, 61116316, 1054590),\n",
       " (606934543, 607991084, 61328304, 1056541),\n",
       " (609047625, 610107141, 61541316, 1059516),\n",
       " (611166657, 612227921, 61754328, 1061264),\n",
       " (613289185, 614352921, 61968064, 1063736),\n",
       " (615416657, 616482141, 62181800, 1065484),\n",
       " (617547625, 618616086, 62396765, 1068461),\n",
       " (619684547, 620754961, 62611730, 1070414),\n",
       " (621825375, 622898547, 62827500, 1073172),\n",
       " (623971719, 625046925, 63043270, 1075206),\n",
       " (626122131, 627200505, 63260174, 1078374),\n",
       " (628278879, 629359192, 63477078, 1080313),\n",
       " (630439505, 631522591, 63694816, 1083086),\n",
       " (632605677, 633690731, 63912554, 1085054),\n",
       " (634775785, 635864103, 64131588, 1088318),\n",
       " (636952421, 638042869, 64350622, 1090448),\n",
       " (639133317, 640226686, 64570447, 1093369),\n",
       " (641320055, 642415511, 64790272, 1095456),\n",
       " (643510967, 644609639, 65011226, 1098672),\n",
       " (645708311, 646808903, 65232180, 1100592),\n",
       " (647909495, 649012807, 65453934, 1103312),\n",
       " (650116119, 651221360, 65675688, 1105241),\n",
       " (652326601, 653435091, 65898762, 1108490),\n",
       " (654543581, 655654191, 66121836, 1110610),\n",
       " (656764801, 657878389, 66345768, 1113588),\n",
       " (658991977, 660107743, 66569700, 1115766),\n",
       " (661223509, 662342626, 66794805, 1119117),\n",
       " (663461743, 664582891, 67019910, 1121148),\n",
       " (665704039, 666828053, 67245850, 1124014),\n",
       " (667952067, 669078089, 67471790, 1126022),\n",
       " (670204111, 671333421, 67699010, 1129310),\n",
       " (672462731, 673594156, 67926230, 1131425),\n",
       " (674725581, 675859881, 68154210, 1134300),\n",
       " (676994181, 678130521, 68382190, 1136340),\n",
       " (679266861, 680406313, 68611242, 1139452),\n",
       " (681545765, 682687049, 68840294, 1141284),\n",
       " (683828333, 684972206, 69070103, 1143873),\n",
       " (686116079, 687261781, 69299912, 1145702),\n",
       " (688407483, 689556283, 69530990, 1148800),\n",
       " (690705083, 691855909, 69762068, 1150826),\n",
       " (693006735, 694160411, 69993970, 1153676),\n",
       " (695314087, 696469856, 70225872, 1155769),\n",
       " (697625625, 698784641, 70458928, 1159016),\n",
       " (699943657, 701104651, 70691984, 1160994),\n",
       " (702265645, 703429459, 70925882, 1163814),\n",
       " (704593273, 705759083, 71159780, 1165810),\n",
       " ...]"
      ]
     },
     "execution_count": 32,
     "metadata": {},
     "output_type": "execute_result"
    }
   ],
   "source": [
    "list_index"
   ]
  },
  {
   "cell_type": "code",
   "execution_count": 30,
   "id": "03846463-025f-4c65-ac11-df5cba2e0f53",
   "metadata": {},
   "outputs": [],
   "source": [
    "dict_counts = None\n",
    "list_index = None"
   ]
  },
  {
   "cell_type": "code",
   "execution_count": 36,
   "id": "b7464c1e-e3f7-4e73-9b8b-7c55a0442114",
   "metadata": {},
   "outputs": [],
   "source": [
    "rem_val = 160\n",
    "cur_pv = 2\n",
    "mod_val = 2**(cur_pv+2)\n",
    "quot_val = (rem_val + 8) // mod_val"
   ]
  },
  {
   "cell_type": "code",
   "execution_count": 37,
   "id": "b9e31de4-c7e8-46c5-889c-fbcfd1e4aefc",
   "metadata": {},
   "outputs": [
    {
     "data": {
      "text/plain": [
       "10"
      ]
     },
     "execution_count": 37,
     "metadata": {},
     "output_type": "execute_result"
    }
   ],
   "source": [
    "quot_val"
   ]
  },
  {
   "cell_type": "code",
   "execution_count": 42,
   "id": "90c111b2-8b22-46b4-b516-3184fe71c616",
   "metadata": {},
   "outputs": [
    {
     "data": {
      "text/plain": [
       "8"
      ]
     },
     "execution_count": 42,
     "metadata": {},
     "output_type": "execute_result"
    }
   ],
   "source": [
    "rem_val - (quot_val * mod_val - 8)"
   ]
  },
  {
   "cell_type": "code",
   "execution_count": 44,
   "id": "2c9153b3-f81a-4b27-9042-f5a53cbd5e7e",
   "metadata": {},
   "outputs": [
    {
     "data": {
      "text/plain": [
       "False"
      ]
     },
     "execution_count": 44,
     "metadata": {},
     "output_type": "execute_result"
    }
   ],
   "source": [
    "rem_val - (quot_val * mod_val) > 0"
   ]
  },
  {
   "cell_type": "code",
   "execution_count": 31,
   "id": "c51ba9f0-9d42-4cfc-8718-801ed3aac71c",
   "metadata": {},
   "outputs": [
    {
     "data": {
      "text/plain": [
       "4"
      ]
     },
     "execution_count": 31,
     "metadata": {},
     "output_type": "execute_result"
    }
   ],
   "source": [
    "(160+8) % mod_val // 2"
   ]
  },
  {
   "cell_type": "code",
   "execution_count": 33,
   "id": "ac1bf4f3-87c1-40a6-8076-c0d03c335b73",
   "metadata": {},
   "outputs": [
    {
     "data": {
      "text/plain": [
       "10"
      ]
     },
     "execution_count": 33,
     "metadata": {},
     "output_type": "execute_result"
    }
   ],
   "source": []
  },
  {
   "cell_type": "code",
   "execution_count": 29,
   "id": "2a504c8f-5e50-43a8-9465-4306c64a7e40",
   "metadata": {},
   "outputs": [
    {
     "data": {
      "text/plain": [
       "0"
      ]
     },
     "execution_count": 29,
     "metadata": {},
     "output_type": "execute_result"
    }
   ],
   "source": [
    "160 % 2**(2+2)"
   ]
  },
  {
   "cell_type": "code",
   "execution_count": null,
   "id": "ca6e8967-56d3-4d12-82c4-8a91bc741d56",
   "metadata": {},
   "outputs": [],
   "source": []
  },
  {
   "cell_type": "code",
   "execution_count": null,
   "id": "f0584d61-1036-4bdf-bc32-7c4aa72f87bf",
   "metadata": {},
   "outputs": [],
   "source": [
    "160"
   ]
  },
  {
   "cell_type": "code",
   "execution_count": 18,
   "id": "8186b0a5-67ec-439e-b366-610fa5ac3fc9",
   "metadata": {},
   "outputs": [
    {
     "data": {
      "text/plain": [
       "112"
      ]
     },
     "execution_count": 18,
     "metadata": {},
     "output_type": "execute_result"
    }
   ],
   "source": [
    "8 + 16 + 32 + 24 + 32"
   ]
  },
  {
   "cell_type": "markdown",
   "id": "410dbce7-e2f4-4650-8196-706b7135608d",
   "metadata": {},
   "source": [
    "### Res End"
   ]
  },
  {
   "cell_type": "markdown",
   "id": "35fc4d0d-b4a2-4236-8bda-b26282b0261d",
   "metadata": {},
   "source": [
    "## pv = 0"
   ]
  },
  {
   "cell_type": "code",
   "execution_count": 26,
   "id": "241aceb4-94b8-420c-a4b5-afb8ec98670a",
   "metadata": {},
   "outputs": [
    {
     "data": {
      "text/plain": [
       "16"
      ]
     },
     "execution_count": 26,
     "metadata": {},
     "output_type": "execute_result"
    }
   ],
   "source": [
    "(56 + 8) // 4"
   ]
  },
  {
   "cell_type": "code",
   "execution_count": 33,
   "id": "7bd00f8b-6c52-46b6-ae1a-b7435a9ff639",
   "metadata": {},
   "outputs": [
    {
     "data": {
      "text/plain": [
       "5.0"
      ]
     },
     "execution_count": 33,
     "metadata": {},
     "output_type": "execute_result"
    }
   ],
   "source": [
    "math.log((24 + 8), 2)"
   ]
  },
  {
   "cell_type": "code",
   "execution_count": 29,
   "id": "f2d4bb4e-294e-4b1c-8ae7-8c56e54aa738",
   "metadata": {},
   "outputs": [
    {
     "data": {
      "text/plain": [
       "6.0"
      ]
     },
     "execution_count": 29,
     "metadata": {},
     "output_type": "execute_result"
    }
   ],
   "source": [
    "math.log((56 + 8), 2)"
   ]
  },
  {
   "cell_type": "code",
   "execution_count": 32,
   "id": "0f00628b-7044-40bb-b5ba-38074d7fbc87",
   "metadata": {},
   "outputs": [
    {
     "data": {
      "text/plain": [
       "7.0"
      ]
     },
     "execution_count": 32,
     "metadata": {},
     "output_type": "execute_result"
    }
   ],
   "source": [
    "math.log((120 + 8), 2)"
   ]
  },
  {
   "cell_type": "code",
   "execution_count": 31,
   "id": "a65374d3-c968-4882-a60f-bd1b33bfaa3f",
   "metadata": {},
   "outputs": [
    {
     "data": {
      "text/plain": [
       "8.0"
      ]
     },
     "execution_count": 31,
     "metadata": {},
     "output_type": "execute_result"
    }
   ],
   "source": [
    "math.log((248 + 8), 2)"
   ]
  },
  {
   "cell_type": "code",
   "execution_count": 64,
   "id": "68788ac7-d75a-401d-adb4-6beba2e866fb",
   "metadata": {},
   "outputs": [
    {
     "data": {
      "text/plain": [
       "3"
      ]
     },
     "execution_count": 64,
     "metadata": {},
     "output_type": "execute_result"
    }
   ],
   "source": [
    "target_val = 248\n",
    "int(math.log((target_val + 8), 2)) - 5"
   ]
  },
  {
   "cell_type": "markdown",
   "id": "ef2d39aa-0ed5-4395-8013-6403bd2e28db",
   "metadata": {},
   "source": [
    "## pv = 1"
   ]
  },
  {
   "cell_type": "code",
   "execution_count": 16,
   "id": "7e70df48-fc09-497f-96c3-9c433a98a258",
   "metadata": {},
   "outputs": [
    {
     "data": {
      "text/plain": [
       "8"
      ]
     },
     "execution_count": 16,
     "metadata": {},
     "output_type": "execute_result"
    }
   ],
   "source": [
    "(56 + 8) // 8"
   ]
  },
  {
   "cell_type": "markdown",
   "id": "e61fe94c-db46-4c39-917f-d4b856b4eab0",
   "metadata": {},
   "source": [
    "# Test"
   ]
  },
  {
   "cell_type": "code",
   "execution_count": 53,
   "id": "3b3e4625-e52c-4a48-8fe3-82f145e6ac33",
   "metadata": {},
   "outputs": [],
   "source": [
    "import pickle"
   ]
  },
  {
   "cell_type": "code",
   "execution_count": 54,
   "id": "fa6abd1f-44d9-44f4-8be6-27cd8a517be4",
   "metadata": {},
   "outputs": [],
   "source": [
    "with open('./out/ds.obj', 'rb') as f:\n",
    "    ds = pickle.load(f)"
   ]
  },
  {
   "cell_type": "code",
   "execution_count": 55,
   "id": "d473c927-2333-4967-b44a-4d3a60b363bc",
   "metadata": {},
   "outputs": [],
   "source": [
    "logger.setLevel(logging.WARNING)"
   ]
  },
  {
   "cell_type": "code",
   "execution_count": 56,
   "id": "3eba0570-077c-4096-ae33-ed2d15d7c76f",
   "metadata": {},
   "outputs": [
    {
     "data": {
      "text/plain": [
       "100"
      ]
     },
     "execution_count": 56,
     "metadata": {},
     "output_type": "execute_result"
    }
   ],
   "source": [
    "decibinaryNumbers(10)"
   ]
  },
  {
   "cell_type": "code",
   "execution_count": null,
   "id": "5111b55f-3c7b-43c9-9ba3-4dd66f6111a8",
   "metadata": {
    "tags": []
   },
   "outputs": [],
   "source": [
    "list_incorrect"
   ]
  },
  {
   "cell_type": "markdown",
   "id": "fbb3f6e0-7d2b-4136-8301-b79843ba68df",
   "metadata": {},
   "source": [
    "## Test all"
   ]
  },
  {
   "cell_type": "code",
   "execution_count": 66,
   "id": "1ac1789b-ff1d-472d-a4ed-7b30057ecff6",
   "metadata": {
    "tags": []
   },
   "outputs": [
    {
     "name": "stdout",
     "output_type": "stream",
     "text": [
      "10000\n",
      "20000\n",
      "30000\n",
      "40000\n",
      "50000\n",
      "60000\n",
      "70000\n",
      "80000\n",
      "90000\n",
      "100000\n",
      "110000\n",
      "120000\n",
      "130000\n",
      "140000\n",
      "150000\n",
      "160000\n",
      "170000\n",
      "180000\n",
      "190000\n",
      "200000\n",
      "210000\n",
      "220000\n",
      "230000\n",
      "240000\n",
      "250000\n",
      "260000\n",
      "270000\n",
      "280000\n",
      "290000\n",
      "300000\n",
      "310000\n",
      "320000\n",
      "330000\n",
      "340000\n",
      "350000\n",
      "360000\n",
      "370000\n",
      "380000\n",
      "390000\n",
      "400000\n",
      "410000\n",
      "420000\n",
      "430000\n",
      "440000\n",
      "450000\n",
      "460000\n",
      "470000\n",
      "480000\n",
      "490000\n",
      "500000\n",
      "510000\n",
      "520000\n",
      "530000\n",
      "540000\n",
      "550000\n",
      "560000\n",
      "570000\n",
      "580000\n",
      "590000\n",
      "600000\n",
      "610000\n",
      "620000\n",
      "630000\n",
      "640000\n",
      "650000\n",
      "660000\n",
      "670000\n",
      "680000\n",
      "690000\n",
      "700000\n",
      "710000\n",
      "720000\n",
      "730000\n",
      "740000\n",
      "750000\n",
      "760000\n",
      "770000\n",
      "780000\n",
      "790000\n",
      "800000\n",
      "810000\n",
      "820000\n",
      "830000\n",
      "840000\n",
      "850000\n",
      "860000\n",
      "870000\n",
      "880000\n",
      "890000\n",
      "900000\n",
      "910000\n",
      "920000\n",
      "930000\n",
      "940000\n",
      "950000\n",
      "960000\n",
      "970000\n",
      "980000\n",
      "990000\n",
      "1000000\n",
      "CPU times: total: 2min 42s\n",
      "Wall time: 2min 43s\n"
     ]
    }
   ],
   "source": [
    "%%time\n",
    "\n",
    "logger.setLevel(logging.WARNING)\n",
    "\n",
    "last_index = 1\n",
    "\n",
    "list_incorrect = []\n",
    "\n",
    "temp_limit = 1000000\n",
    "# temp_limit = 20000\n",
    "\n",
    "for k, sublist in ds.items():\n",
    "    for j in range(len(sublist)):\n",
    "        decib, index = sublist[j]\n",
    "        \n",
    "        try: \n",
    "            res_decib = decibinaryNumbers(index)\n",
    "\n",
    "            if decib != res_decib:\n",
    "                list_incorrect.append((index, f'{decib} != {res_decib}'))\n",
    "                \n",
    "        except Exception as e:\n",
    "            list_incorrect.append((index, e))\n",
    "        \n",
    "        last_index += 1\n",
    "        \n",
    "#         if last_index >= 0:\n",
    "#             print(last_index)\n",
    "            \n",
    "        if last_index % 10000 == 0:\n",
    "            print(last_index)\n",
    "        \n",
    "        if last_index >= temp_limit:\n",
    "            break\n",
    "        \n",
    "    if last_index >= temp_limit:\n",
    "        break"
   ]
  },
  {
   "cell_type": "markdown",
   "id": "d09aad76-37db-47b5-bbf5-a9e1f7fabe0d",
   "metadata": {},
   "source": [
    "## Test Incorrect only"
   ]
  },
  {
   "cell_type": "code",
   "execution_count": 89,
   "id": "0226ffb4-be53-4bfd-aa11-d1228a6f2894",
   "metadata": {
    "tags": []
   },
   "outputs": [
    {
     "data": {
      "text/plain": [
       "[]"
      ]
     },
     "execution_count": 89,
     "metadata": {},
     "output_type": "execute_result"
    }
   ],
   "source": [
    "list_incorrect"
   ]
  },
  {
   "cell_type": "code",
   "execution_count": 26,
   "id": "187f47d3-d09d-4590-be3e-7189cb611629",
   "metadata": {},
   "outputs": [
    {
     "data": {
      "text/plain": [
       "[(172257, '109888 != 100000'),\n",
       " (175798, '109889 != 100001'),\n",
       " (179338, '109898 != 100002'),\n",
       " (179339, '109978 != 100010'),\n",
       " (182966, '109899 != 100003'),\n",
       " (182967, '109979 != 100011'),\n",
       " (186592, '109988 != 100004'),\n",
       " (186593, '109996 != 100012'),\n",
       " (186594, '117988 != 100020'),\n",
       " (186595, '117996 != 100100')]"
      ]
     },
     "execution_count": 26,
     "metadata": {},
     "output_type": "execute_result"
    }
   ],
   "source": [
    "[(172257, '109888 != 100000'),\n",
    " (175798, '109889 != 100001'),\n",
    " (179338, '109898 != 100002'),\n",
    " (179339, '109978 != 100010'),\n",
    " (182966, '109899 != 100003'),\n",
    " (182967, '109979 != 100011'),\n",
    " (186592, '109988 != 100004'),\n",
    " (186593, '109996 != 100012'),\n",
    " (186594, '117988 != 100020'),\n",
    " (186595, '117996 != 100100')]"
   ]
  },
  {
   "cell_type": "markdown",
   "id": "dcd3a3b1-86e1-4795-ab24-0bd403358ea3",
   "metadata": {
    "jupyter": {
     "source_hidden": true
    },
    "tags": []
   },
   "source": [
    "# Profile"
   ]
  },
  {
   "cell_type": "code",
   "execution_count": 15,
   "id": "49059b4f-bb61-40fa-beb6-3aa2bfa4d992",
   "metadata": {},
   "outputs": [],
   "source": [
    "import cProfile"
   ]
  },
  {
   "cell_type": "code",
   "execution_count": 16,
   "id": "41a81b40-46bf-47f0-8568-45b28027ca0a",
   "metadata": {},
   "outputs": [
    {
     "name": "stdout",
     "output_type": "stream",
     "text": [
      "         1907 function calls in 0.002 seconds\n",
      "\n",
      "   Ordered by: standard name\n",
      "\n",
      "   ncalls  tottime  percall  cumtime  percall filename:lineno(function)\n",
      "        1    0.001    0.001    0.002    0.002 1570547015.py:1(decibinaryNumbers)\n",
      "       19    0.000    0.000    0.000    0.000 1570547015.py:22(<lambda>)\n",
      "       14    0.000    0.000    0.001    0.000 4009161860.py:1(generate_start)\n",
      "       18    0.000    0.000    0.000    0.000 4009161860.py:33(get_count)\n",
      "        1    0.000    0.000    0.000    0.000 4009161860.py:97(generate_index)\n",
      "        1    0.000    0.000    0.002    0.002 <string>:1(<module>)\n",
      "      255    0.000    0.000    0.000    0.000 __init__.py:1467(debug)\n",
      "      346    0.000    0.000    0.000    0.000 __init__.py:1479(info)\n",
      "      601    0.000    0.000    0.000    0.000 __init__.py:1734(isEnabledFor)\n",
      "        1    0.000    0.000    0.000    0.000 {built-in method _bisect.bisect_right}\n",
      "        1    0.000    0.000    0.002    0.002 {built-in method builtins.exec}\n",
      "        2    0.000    0.000    0.000    0.000 {built-in method builtins.globals}\n",
      "       53    0.000    0.000    0.000    0.000 {built-in method builtins.len}\n",
      "        1    0.000    0.000    0.000    0.000 {built-in method builtins.max}\n",
      "      142    0.000    0.000    0.000    0.000 {built-in method builtins.min}\n",
      "       64    0.000    0.000    0.000    0.000 {built-in method builtins.sum}\n",
      "       85    0.000    0.000    0.000    0.000 {built-in method math.log}\n",
      "      286    0.000    0.000    0.000    0.000 {method 'append' of 'list' objects}\n",
      "        1    0.000    0.000    0.000    0.000 {method 'disable' of '_lsprof.Profiler' objects}\n",
      "       15    0.000    0.000    0.000    0.000 {method 'join' of 'str' objects}\n",
      "\n",
      "\n"
     ]
    }
   ],
   "source": [
    "cProfile.run('decibinaryNumbers(target_index)')"
   ]
  },
  {
   "cell_type": "code",
   "execution_count": 34,
   "id": "f7ad5b1c-e01a-499a-a4f9-5bd14b402cbd",
   "metadata": {},
   "outputs": [],
   "source": [
    "import random"
   ]
  },
  {
   "cell_type": "code",
   "execution_count": 50,
   "id": "9fb60fd1-3477-474a-8142-e01fcabe5671",
   "metadata": {},
   "outputs": [],
   "source": [
    "def random_run():\n",
    "    target_index = random.randint(1,10**16)\n",
    "    return decibinaryNumbers(target_index)"
   ]
  },
  {
   "cell_type": "code",
   "execution_count": 51,
   "id": "e0251350-75b4-4399-8a2f-0822e907f02d",
   "metadata": {},
   "outputs": [],
   "source": [
    "def random_batch():\n",
    "    for i in range(50000):\n",
    "        random_run()"
   ]
  },
  {
   "cell_type": "code",
   "execution_count": 52,
   "id": "11d296d0-e0e9-4b0d-8131-1114736d1f8a",
   "metadata": {
    "tags": []
   },
   "outputs": [
    {
     "name": "stdout",
     "output_type": "stream",
     "text": [
      "         450 function calls in 0.001 seconds\n",
      "\n",
      "   Ordered by: standard name\n",
      "\n",
      "   ncalls  tottime  percall  cumtime  percall filename:lineno(function)\n",
      "       17    0.000    0.000    0.000    0.000 2611218294.py:1(generate_start)\n",
      "       16    0.000    0.000    0.000    0.000 2611218294.py:33(get_count)\n",
      "        1    0.000    0.000    0.001    0.001 3062967072.py:1(decibinaryNumbers)\n",
      "       17    0.000    0.000    0.000    0.000 3062967072.py:22(<lambda>)\n",
      "        1    0.000    0.000    0.000    0.000 3062967072.py:246(<listcomp>)\n",
      "        1    0.000    0.000    0.001    0.001 533731235.py:1(random_run)\n",
      "        1    0.000    0.000    0.001    0.001 <string>:1(<module>)\n",
      "        1    0.000    0.000    0.000    0.000 random.py:235(_randbelow_with_getrandbits)\n",
      "        1    0.000    0.000    0.000    0.000 random.py:284(randrange)\n",
      "        1    0.000    0.000    0.000    0.000 random.py:358(randint)\n",
      "        1    0.000    0.000    0.000    0.000 {built-in method _bisect.bisect_right}\n",
      "        3    0.000    0.000    0.000    0.000 {built-in method _operator.index}\n",
      "        1    0.000    0.000    0.001    0.001 {built-in method builtins.exec}\n",
      "        2    0.000    0.000    0.000    0.000 {built-in method builtins.globals}\n",
      "       51    0.000    0.000    0.000    0.000 {built-in method builtins.len}\n",
      "        1    0.000    0.000    0.000    0.000 {built-in method builtins.max}\n",
      "      141    0.000    0.000    0.000    0.000 {built-in method builtins.min}\n",
      "        1    0.000    0.000    0.000    0.000 {built-in method builtins.sum}\n",
      "       47    0.000    0.000    0.000    0.000 {built-in method math.log}\n",
      "      141    0.000    0.000    0.000    0.000 {method 'append' of 'list' objects}\n",
      "        1    0.000    0.000    0.000    0.000 {method 'bit_length' of 'int' objects}\n",
      "        1    0.000    0.000    0.000    0.000 {method 'disable' of '_lsprof.Profiler' objects}\n",
      "        1    0.000    0.000    0.000    0.000 {method 'getrandbits' of '_random.Random' objects}\n",
      "        1    0.000    0.000    0.000    0.000 {method 'join' of 'str' objects}\n",
      "\n",
      "\n"
     ]
    }
   ],
   "source": [
    "cProfile.run('random_run()')"
   ]
  },
  {
   "cell_type": "markdown",
   "id": "46966d1e-fb4e-4da3-a982-b39e861fc197",
   "metadata": {},
   "source": [
    "## Batch"
   ]
  },
  {
   "cell_type": "code",
   "execution_count": 42,
   "id": "6f634696-f261-4f87-850b-3553073f54f7",
   "metadata": {},
   "outputs": [],
   "source": [
    "logger.setLevel(logging.WARNING)"
   ]
  },
  {
   "cell_type": "code",
   "execution_count": 55,
   "id": "d51d667b-d1d8-48bd-90c5-e1018ce11d18",
   "metadata": {},
   "outputs": [
    {
     "name": "stdout",
     "output_type": "stream",
     "text": [
      "CPU times: total: 8.58 s\n",
      "Wall time: 8.6 s\n"
     ]
    }
   ],
   "source": [
    "%%time\n",
    "random_batch()"
   ]
  },
  {
   "cell_type": "code",
   "execution_count": 54,
   "id": "def8b9ce-4ebb-4c8b-ad76-88cbba48795c",
   "metadata": {},
   "outputs": [
    {
     "name": "stdout",
     "output_type": "stream",
     "text": [
      "         21087098 function calls in 22.155 seconds\n",
      "\n",
      "   Ordered by: standard name\n",
      "\n",
      "   ncalls  tottime  percall  cumtime  percall filename:lineno(function)\n",
      "   773523    8.863    0.000   12.259    0.000 2611218294.py:1(generate_start)\n",
      "   775121    1.124    0.000    1.372    0.000 2611218294.py:33(get_count)\n",
      "       10    0.309    0.031    0.341    0.034 2611218294.py:97(generate_index)\n",
      "    50000    6.536    0.000   21.757    0.000 3062967072.py:1(decibinaryNumbers)\n",
      "   857943    0.201    0.000    0.201    0.000 3062967072.py:22(<lambda>)\n",
      "   104732    0.066    0.000    0.066    0.000 3062967072.py:246(<listcomp>)\n",
      "        1    0.034    0.034   22.155   22.155 4073945833.py:1(random_batch)\n",
      "    50000    0.088    0.000   22.121    0.000 533731235.py:1(random_run)\n",
      "        1    0.000    0.000   22.155   22.155 <string>:1(<module>)\n",
      "    50000    0.074    0.000    0.108    0.000 random.py:235(_randbelow_with_getrandbits)\n",
      "    50000    0.104    0.000    0.232    0.000 random.py:284(randrange)\n",
      "    50000    0.044    0.000    0.276    0.000 random.py:358(randint)\n",
      "    50000    0.352    0.000    0.553    0.000 {built-in method _bisect.bisect_right}\n",
      "   150000    0.020    0.000    0.020    0.000 {built-in method _operator.index}\n",
      "        1    0.000    0.000   22.155   22.155 {built-in method builtins.exec}\n",
      "   100000    0.015    0.000    0.015    0.000 {built-in method builtins.globals}\n",
      "  2566325    0.328    0.000    0.328    0.000 {built-in method builtins.len}\n",
      "    50000    0.020    0.000    0.020    0.000 {built-in method builtins.max}\n",
      "  5775534    1.810    0.000    1.810    0.000 {built-in method builtins.min}\n",
      "   326120    0.219    0.000    0.219    0.000 {built-in method builtins.sum}\n",
      "  2701336    0.914    0.000    0.914    0.000 {built-in method math.log}\n",
      "  6416208    0.789    0.000    0.789    0.000 {method 'append' of 'list' objects}\n",
      "    50000    0.008    0.000    0.008    0.000 {method 'bit_length' of 'int' objects}\n",
      "        1    0.000    0.000    0.000    0.000 {method 'disable' of '_lsprof.Profiler' objects}\n",
      "    90242    0.026    0.000    0.026    0.000 {method 'getrandbits' of '_random.Random' objects}\n",
      "    50000    0.212    0.000    0.212    0.000 {method 'join' of 'str' objects}\n",
      "\n",
      "\n"
     ]
    }
   ],
   "source": [
    "dict_counts = None\n",
    "list_index = None\n",
    "cProfile.run('random_batch()')"
   ]
  },
  {
   "cell_type": "code",
   "execution_count": 53,
   "id": "a7b26e0a-e6e0-4b10-ac52-31dce1296742",
   "metadata": {},
   "outputs": [
    {
     "name": "stdout",
     "output_type": "stream",
     "text": [
      "         20173540 function calls in 20.070 seconds\n",
      "\n",
      "   Ordered by: standard name\n",
      "\n",
      "   ncalls  tottime  percall  cumtime  percall filename:lineno(function)\n",
      "   773002    8.487    0.000   11.692    0.000 2611218294.py:1(generate_start)\n",
      "   775164    0.659    0.000    0.685    0.000 2611218294.py:33(get_count)\n",
      "    50000    6.189    0.000   19.712    0.000 3062967072.py:1(decibinaryNumbers)\n",
      "   858112    0.188    0.000    0.188    0.000 3062967072.py:22(<lambda>)\n",
      "   104374    0.062    0.000    0.062    0.000 3062967072.py:246(<listcomp>)\n",
      "        1    0.030    0.030   20.070   20.070 4073945833.py:1(random_batch)\n",
      "    50000    0.077    0.000   20.040    0.000 533731235.py:1(random_run)\n",
      "        1    0.000    0.000   20.070   20.070 <string>:1(<module>)\n",
      "    50000    0.067    0.000    0.098    0.000 random.py:235(_randbelow_with_getrandbits)\n",
      "    50000    0.097    0.000    0.212    0.000 random.py:284(randrange)\n",
      "    50000    0.039    0.000    0.251    0.000 random.py:358(randint)\n",
      "    50000    0.319    0.000    0.507    0.000 {built-in method _bisect.bisect_right}\n",
      "   150000    0.018    0.000    0.018    0.000 {built-in method _operator.index}\n",
      "        1    0.000    0.000   20.070   20.070 {built-in method builtins.exec}\n",
      "   100000    0.013    0.000    0.013    0.000 {built-in method builtins.globals}\n",
      "  2423330    0.289    0.000    0.289    0.000 {built-in method builtins.len}\n",
      "    50000    0.018    0.000    0.018    0.000 {built-in method builtins.max}\n",
      "  5776116    1.732    0.000    1.732    0.000 {built-in method builtins.min}\n",
      "   135926    0.044    0.000    0.044    0.000 {built-in method builtins.sum}\n",
      "  2689972    0.853    0.000    0.853    0.000 {built-in method math.log}\n",
      "  5847108    0.669    0.000    0.669    0.000 {method 'append' of 'list' objects}\n",
      "    50000    0.008    0.000    0.008    0.000 {method 'bit_length' of 'int' objects}\n",
      "        1    0.000    0.000    0.000    0.000 {method 'disable' of '_lsprof.Profiler' objects}\n",
      "    90432    0.023    0.000    0.023    0.000 {method 'getrandbits' of '_random.Random' objects}\n",
      "    50000    0.190    0.000    0.190    0.000 {method 'join' of 'str' objects}\n",
      "\n",
      "\n"
     ]
    }
   ],
   "source": [
    "cProfile.run('random_batch()')"
   ]
  },
  {
   "cell_type": "markdown",
   "id": "63b37a3d-eaa1-4e2a-be08-dcc6226e1880",
   "metadata": {},
   "source": [
    "# To do:\n",
    "\n",
    "1. Implement logic for quot_val 18+\n",
    "2. Implement test for incorrect only\n",
    "\n",
    "\n",
    "## Optional\n",
    "3. Save problematic cases\n"
   ]
  },
  {
   "cell_type": "markdown",
   "id": "5359d93b-6f6c-424a-ac60-b00a7463af5c",
   "metadata": {},
   "source": [
    "## "
   ]
  }
 ],
 "metadata": {
  "kernelspec": {
   "display_name": "Python [conda env:hackerrank]",
   "language": "python",
   "name": "conda-env-hackerrank-py"
  },
  "language_info": {
   "codemirror_mode": {
    "name": "ipython",
    "version": 3
   },
   "file_extension": ".py",
   "mimetype": "text/x-python",
   "name": "python",
   "nbconvert_exporter": "python",
   "pygments_lexer": "ipython3",
   "version": "3.11.3"
  }
 },
 "nbformat": 4,
 "nbformat_minor": 5
}
