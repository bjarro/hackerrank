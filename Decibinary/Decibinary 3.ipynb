{
 "cells": [
  {
   "cell_type": "code",
   "execution_count": 3,
   "id": "3193a22f-0888-49b7-b778-2c5a88cc2e0a",
   "metadata": {
    "tags": []
   },
   "outputs": [],
   "source": [
    "#!/bin/python3\n",
    "\n",
    "import math\n",
    "import os\n",
    "import random\n",
    "import re\n",
    "import sys\n",
    "\n",
    "#\n",
    "# Complete the 'decibinaryNumbers' function below.\n",
    "#\n",
    "# The function is expected to return a LONG_INTEGER.\n",
    "# The function accepts LONG_INTEGER x as parameter.\n",
    "#\n",
    "\n"
   ]
  },
  {
   "cell_type": "markdown",
   "id": "5a963150-0c69-46ef-9b83-543aee3da67f",
   "metadata": {
    "toc-hr-collapsed": true
   },
   "source": [
    "## Initialize Logging"
   ]
  },
  {
   "cell_type": "code",
   "execution_count": 4,
   "id": "d6efd735-8452-41c2-a13e-a6e0cdff4065",
   "metadata": {},
   "outputs": [],
   "source": [
    "import logging\n",
    "\n",
    "logging.basicConfig(stream=sys.stdout, level=logging.DEBUG)\n",
    "\n",
    "\n",
    "#Remove existing handlers from root logger\n",
    "root_logger = logging.getLogger()\n",
    "root_logger.setLevel(logging.DEBUG)\n",
    "root_logger.handlers = []\n",
    "\n",
    "#Create custom logger\n",
    "\n",
    "logger = logging.getLogger(__name__)\n",
    "ch = logging.StreamHandler(stream=sys.stdout)\n",
    "ch.setLevel(logging.DEBUG)\n",
    "\n",
    "formatter = logging.Formatter('%(message)s')\n",
    "ch.setFormatter(formatter)\n",
    "\n",
    "logger.addHandler(ch)"
   ]
  },
  {
   "cell_type": "code",
   "execution_count": 5,
   "id": "e26f3d0c-9aef-47d2-a8b6-20b775a509ad",
   "metadata": {},
   "outputs": [
    {
     "data": {
      "text/plain": [
       "[<StreamHandler stdout (DEBUG)>]"
      ]
     },
     "execution_count": 5,
     "metadata": {},
     "output_type": "execute_result"
    }
   ],
   "source": [
    "logger.handlers"
   ]
  },
  {
   "cell_type": "markdown",
   "id": "558bd060-b75f-4d4e-abec-49112ea98e24",
   "metadata": {},
   "source": [
    "## Imports"
   ]
  },
  {
   "cell_type": "code",
   "execution_count": 6,
   "id": "90c93cf7-bb6f-4d16-a71e-2879435507f7",
   "metadata": {
    "tags": []
   },
   "outputs": [],
   "source": [
    "from heapq import heappush, heappop\n",
    "from collections import defaultdict\n",
    "from bisect import bisect_left"
   ]
  },
  {
   "cell_type": "code",
   "execution_count": 7,
   "id": "8e500a00-b333-47e8-a979-e6802d57182c",
   "metadata": {},
   "outputs": [],
   "source": [
    "import math"
   ]
  },
  {
   "cell_type": "markdown",
   "id": "c2267dd6-e251-443a-946f-89538a5d74e9",
   "metadata": {},
   "source": [
    "# Func"
   ]
  },
  {
   "cell_type": "code",
   "execution_count": 77,
   "id": "9d564524-6455-4c91-962e-13a451b0ad57",
   "metadata": {},
   "outputs": [],
   "source": [
    "def decibinaryNumbers(x):\n",
    "    # Write your code here\n",
    "    \n",
    "    \n",
    "    global list_index, dict_counts\n",
    "\n",
    "    \n",
    "    # list_index not initialized\n",
    "    if 'list_index' not in globals() or list_index == None:\n",
    "        logger.info(f'list_index NOT in globals')\n",
    "        \n",
    "        list_index = generate_index(x, None)\n",
    "        i_index = len(list_index)-2\n",
    "    \n",
    "    else:     \n",
    "        logger.info(f'list_index in globals')\n",
    "        \n",
    "        i_index = bisect_left(list_index, x, key = lambda tup: tup[0]) + 1\n",
    "        \n",
    "        if i_index < len(list_index) and x < list_index[i_index][0]:\n",
    "            logger.info(f'in if')\n",
    "            i_index -= 2\n",
    "        # Generate\n",
    "        else:\n",
    "            logger.info(f'in else')\n",
    "            list_index = generate_index(x, list_index)\n",
    "            i_index = len(list_index)-2\n",
    "\n",
    "    \n",
    "    logger.info(f'i_index = {i_index}')\n",
    "    \n",
    "    value = i_index*2    \n",
    "    \n",
    "    logger.info(f'value = {value}')\n",
    "    \n",
    "    #lower_bound = list_index[i_index]\n",
    "    \n",
    "    if x >= list_index[i_index][1]:\n",
    "        lower_bound = list_index[i_index][1]\n",
    "        value += 1 \n",
    "        \n",
    "    else:\n",
    "        lower_bound = list_index[i_index][0]\n",
    "        \n",
    "    logger.info(f'x = {x}') \n",
    "    logger.info(f'lower_bound = {lower_bound}') \n",
    "        \n",
    "    list_digits = generate_start(value)\n",
    "    logger.info(f'decib_start = {int(\"\".join(map(str, reversed(list_digits))))}')\n",
    "    \n",
    "    \n",
    "    while len(list_digits) < int(math.log(value,2)):\n",
    "        list_digits.append(0)\n",
    "    \n",
    "    \n",
    "    rem = x - lower_bound\n",
    "#     cur_pv = int(math.log(rem,5)) - 1\n",
    "    \n",
    "        \n",
    "    print(f'rem index = {rem}')\n",
    "#     print(f'cur_pv = {cur_pv}')\n",
    "    \n",
    "\n",
    "#     #value exists\n",
    "    \n",
    "#     if 'dict_counts' not in globals():\n",
    "#          generate_counts(cur_pv, None)\n",
    "#     else:\n",
    "#         if cur_pv < len(dict_count[0]):\n",
    "#             pass\n",
    "#         else:\n",
    "#             generate_counts(is_odd, cur_pv, dict_counts)\n",
    "              \n",
    "    \n",
    "    if 'dict_counts' not in globals():\n",
    "        dict_counts, _ = get_count(0,0,None)\n",
    "    \n",
    "    \n",
    "    rem_val = value\n",
    "    index = lower_bound\n",
    "    \n",
    "    k_break = 0\n",
    "    \n",
    "    while rem >= 5:\n",
    "        \n",
    "        cur_pv = int(math.log(rem,5)) - 1\n",
    "#          mod_val = 2**(cur_pv+1)\n",
    "#         mod_val = 2**(cur_pv)\n",
    "        #mod_rem = rem_val % mod_val\n",
    "        mod_val = 2**(cur_pv+2)\n",
    "        mod_rem = (rem_val+ 8) % mod_val // 2\n",
    "        \n",
    "        print(f'----------------------------------------')\n",
    "        \n",
    "        print(f'cur_pv {cur_pv}')\n",
    "        print(f'mod_val {mod_val}')\n",
    "        print(f'mod_rem {mod_rem}')\n",
    "        \n",
    "#         break\n",
    "        \n",
    "        dict_counts, list_counts = get_count(cur_pv, mod_rem, dict_counts)\n",
    "\n",
    "        cur_digit = 0 if cur_pv >= len(list_digits)  else list_digits[cur_pv]\n",
    "    \n",
    "        if cur_digit == 0:\n",
    "            is_odd = 1 if list_digits[cur_pv-1] % 2 == 1 else 0\n",
    "            \n",
    "        else:\n",
    "            is_odd = 1 if cur_digit % 2 == 1 else 0\n",
    "        \n",
    "        i_start = 0\n",
    "        i_end = len(list_counts)\n",
    "        \n",
    "        quot_val = rem_val // 2**(cur_pv+2) + 1\n",
    "        \n",
    "        print(f'quot_val {quot_val}')\n",
    "        \n",
    "        if quot_val < 8:\n",
    "            i_start += 8 - quot_val\n",
    "            \n",
    "        elif quot_val == 10:\n",
    "            print('quot_val == 10')\n",
    "            \n",
    "            \n",
    "            if rem_val % mod_val > 4:\n",
    "                print('in > 4')\n",
    "                i_end -= 1\n",
    "            \n",
    "        elif quot_val > 10:\n",
    "            i_end -= quote_val - 9\n",
    "            \n",
    "            \n",
    "        print(f'i_start {i_start}')\n",
    "        print(f'i_end {i_end}')\n",
    "        print(f'list_counts {list_counts}')\n",
    "        print(f'list_counts actual {list_counts[i_start:i_end]}')\n",
    "        print(f'length of counts: {i_end - i_start}')\n",
    "            \n",
    "#         break\n",
    "        \n",
    "        cumsum = 0\n",
    "        increase = 0\n",
    "        for count in list_counts[i_start:i_end]:\n",
    "            if cumsum + count > rem:\n",
    "                break\n",
    "            \n",
    "            increase +=1\n",
    "            cumsum += count\n",
    "            \n",
    "            \n",
    "        print(f'cumsum = {cumsum}')\n",
    "            \n",
    "        #Compute new vals\n",
    "        \n",
    "#         increase = i_end - i_start\n",
    "        \n",
    "        rem -= cumsum\n",
    "        index += cumsum\n",
    "        \n",
    "\n",
    "        list_digits[cur_pv+2] += increase\n",
    "        list_digits[0:cur_pv+2] = [0] * (cur_pv+2)\n",
    "        \n",
    "#         rem_val -= 2**(cur_pv+2) * increase\n",
    "        rem_val -= 2**(cur_pv+2) * list_digits[cur_pv+2]\n",
    "         \n",
    "        \n",
    "#         list_digits[cur_pv+1] += increase\n",
    "#         list_digits[0:cur_pv+1] = [0] * (cur_pv+1)\n",
    "        \n",
    "#         rem_val -= 2**(cur_pv+1) * increase\n",
    "        \n",
    "        print(f'rem_val = {rem_val}')\n",
    "        \n",
    "        \n",
    "        new_digits = generate_start(rem_val)\n",
    "         \n",
    "        print(f'new_digits = {new_digits}')\n",
    "        \n",
    "        list_digits[0:len(new_digits)] = new_digits\n",
    "        \n",
    "        \n",
    "                \n",
    "        print(f'-------------------')\n",
    "        print(f'index = {index}')\n",
    "        print(f'rem index = {rem}')\n",
    "        print(f'rem value = {rem_val}')\n",
    "        print(f'list_digits {list_digits}')\n",
    "        print(f'decibinary = {int(\"\".join(map(str, reversed(list_digits))))}')\n",
    "        \n",
    "#         break\n",
    "#         if k_break == 2:\n",
    "#             break\n",
    "#         k_break+=1\n",
    "        \n",
    "    \n",
    "    #Naive implementation:\n",
    "    ##Assumes list_digits[1] + rem is always < 10\n",
    "    ##Assumes list_digits[0] - 2*rem is always >= 0\n",
    "    if rem != 0:\n",
    "        list_digits[1] += rem\n",
    "        list_digits[0] -= 2*rem\n",
    "        \n",
    "    \n",
    "    return int(\"\".join(map(str, reversed(list_digits))))\n",
    "        \n",
    "        \n",
    "        \n",
    "        \n",
    "            \n"
   ]
  },
  {
   "cell_type": "code",
   "execution_count": 65,
   "id": "72d021ea-71c3-4e42-b067-945577e2b9b2",
   "metadata": {},
   "outputs": [],
   "source": [
    "list_index = None"
   ]
  },
  {
   "cell_type": "code",
   "execution_count": 41,
   "id": "e0afc55a-01c1-40b7-9fdf-09f2ea3494f5",
   "metadata": {},
   "outputs": [
    {
     "data": {
      "text/plain": [
       "28"
      ]
     },
     "execution_count": 41,
     "metadata": {},
     "output_type": "execute_result"
    }
   ],
   "source": [
    "i_index = bisect_left(list_index, 5461, key = lambda tup: tup[0]) + 1\n",
    "i_index"
   ]
  },
  {
   "cell_type": "code",
   "execution_count": 42,
   "id": "c8b2a68f-b92a-4bbd-9883-9cb0d5c13f93",
   "metadata": {},
   "outputs": [
    {
     "name": "stdout",
     "output_type": "stream",
     "text": [
      "in else\n"
     ]
    }
   ],
   "source": [
    "if i_index < len(list_index) and x < list_index[i_index][0]:\n",
    "    print('in if')\n",
    "#     i_index -= 2\n",
    "# Generate\n",
    "else:\n",
    "    print('in else')\n",
    "#     list_index = generate_index(x, list_index)\n",
    "#     i_index = len(list_index)-2\n",
    "\n"
   ]
  },
  {
   "cell_type": "code",
   "execution_count": 36,
   "id": "a0e9d396-2284-4b37-80a0-33f32fceed54",
   "metadata": {},
   "outputs": [
    {
     "data": {
      "text/plain": [
       "28"
      ]
     },
     "execution_count": 36,
     "metadata": {},
     "output_type": "execute_result"
    }
   ],
   "source": [
    "len(list_index)"
   ]
  },
  {
   "cell_type": "code",
   "execution_count": 62,
   "id": "160bad66-964e-46d6-84af-614b84ffe3d1",
   "metadata": {},
   "outputs": [
    {
     "data": {
      "text/plain": [
       "[(1, 2, 1, 1),\n",
       " (3, 5, 2, 2),\n",
       " (7, 11, 4, 4),\n",
       " (15, 21, 6, 6),\n",
       " (27, 37, 10, 10),\n",
       " (47, 60, 14, 13),\n",
       " (73, 91, 20, 18),\n",
       " (109, 131, 26, 22),\n",
       " (153, 183, 36, 30),\n",
       " (213, 249, 46, 36),\n",
       " (285, 330, 59, 45),\n",
       " (375, 427, 72, 52),\n",
       " (479, 543, 90, 64),\n",
       " (607, 679, 108, 72),\n",
       " (751, 835, 130, 84),\n",
       " (919, 1012, 152, 93),\n",
       " (1105, 1215, 182, 110),\n",
       " (1325, 1447, 212, 122),\n",
       " (1569, 1709, 248, 140),\n",
       " (1849, 2003, 284, 154),\n",
       " (2157, 2334, 329, 177),\n",
       " (2511, 2703, 374, 192),\n",
       " (2895, 3109, 426, 214),\n",
       " (3323, 3553, 478, 230),\n",
       " (3783, 4041, 542, 258),\n",
       " (4299, 4576, 606, 277),\n",
       " (4853, 5157, 678, 304),\n",
       " (5461, 5785, 750, 324)]"
      ]
     },
     "execution_count": 62,
     "metadata": {},
     "output_type": "execute_result"
    }
   ],
   "source": [
    "list_index"
   ]
  },
  {
   "cell_type": "code",
   "execution_count": null,
   "id": "038c3749-37c7-43eb-9e03-c4ef9589fee3",
   "metadata": {},
   "outputs": [],
   "source": []
  },
  {
   "cell_type": "code",
   "execution_count": 84,
   "id": "0c106c30-1d9d-4dbf-afa7-1c34dbf1b2f3",
   "metadata": {
    "tags": []
   },
   "outputs": [
    {
     "name": "stdout",
     "output_type": "stream",
     "text": [
      "list_index in globals\n",
      "in else\n",
      "i_index = 27\n",
      "value = 54\n",
      "x = 5498\n",
      "lower_bound = 5461\n",
      "decib_start = 798\n",
      "rem index = 37\n",
      "----------------------------------------\n",
      "cur_pv 1\n",
      "mod_val 8\n",
      "mod_rem 3\n",
      "quot_val 7\n",
      "i_start 1\n",
      "i_end 9\n",
      "list_counts [1, 9, 19, 25, 25, 24, 16, 6, 0]\n",
      "list_counts actual [9, 19, 25, 25, 24, 16, 6, 0]\n",
      "length of counts: 8\n",
      "cumsum = 28\n",
      "rem_val = 38\n",
      "new_digits = [8, 9, 3]\n",
      "-------------------\n",
      "index = 5489\n",
      "rem index = 9\n",
      "rem value = 38\n",
      "list_digits [8, 9, 3, 2, 0]\n",
      "decibinary = 2398\n",
      "----------------------------------------\n",
      "cur_pv 0\n",
      "mod_val 4\n",
      "mod_rem 1\n",
      "quot_val 10\n",
      "quot_val == 10\n",
      "i_start 0\n",
      "i_end 7\n",
      "list_counts [1, 3, 5, 5, 5, 4, 2]\n",
      "list_counts actual [1, 3, 5, 5, 5, 4, 2]\n",
      "length of counts: 7\n",
      "cumsum = 9\n",
      "rem_val = 14\n",
      "new_digits = [8, 3]\n",
      "-------------------\n",
      "index = 5498\n",
      "rem index = 0\n",
      "rem value = 14\n",
      "list_digits [8, 3, 6, 2, 0]\n",
      "decibinary = 2638\n",
      "CPU times: total: 0 ns\n",
      "Wall time: 4 ms\n"
     ]
    },
    {
     "data": {
      "text/plain": [
       "2638"
      ]
     },
     "execution_count": 84,
     "metadata": {},
     "output_type": "execute_result"
    }
   ],
   "source": [
    "%%time\n",
    "logger.setLevel(logging.INFO)\n",
    "# logger.setLevel(logging.DEBUG)\n",
    "decibinaryNumbers(5498)"
   ]
  },
  {
   "cell_type": "code",
   "execution_count": 18,
   "id": "8c8747a2-ce53-484c-9095-67e3028718c0",
   "metadata": {},
   "outputs": [
    {
     "data": {
      "text/plain": [
       "1"
      ]
     },
     "execution_count": 18,
     "metadata": {},
     "output_type": "execute_result"
    }
   ],
   "source": [
    "(26+8) % 8 // 2"
   ]
  },
  {
   "cell_type": "code",
   "execution_count": 10,
   "id": "046c6037-0c46-4e79-8fac-b994d1065628",
   "metadata": {},
   "outputs": [
    {
     "data": {
      "text/plain": [
       "2.0"
      ]
     },
     "execution_count": 10,
     "metadata": {},
     "output_type": "execute_result"
    }
   ],
   "source": [
    "math.log(25,5)"
   ]
  },
  {
   "cell_type": "code",
   "execution_count": null,
   "id": "114b4ac8-750b-436f-8880-35b2bb160d17",
   "metadata": {},
   "outputs": [],
   "source": []
  },
  {
   "cell_type": "code",
   "execution_count": 27,
   "id": "c33f3de4-fdeb-4cad-8576-a80a49dbe7dc",
   "metadata": {},
   "outputs": [
    {
     "data": {
      "text/plain": [
       "[52, 272, 516, 624, 625, 573, 353, 109, 1]"
      ]
     },
     "execution_count": 27,
     "metadata": {},
     "output_type": "execute_result"
    }
   ],
   "source": [
    "dict_counts"
   ]
  },
  {
   "cell_type": "markdown",
   "id": "7f439f4e-4a2e-41a6-848c-ea86038dc9c6",
   "metadata": {},
   "source": [
    "## Generate Start"
   ]
  },
  {
   "cell_type": "code",
   "execution_count": 10,
   "id": "bcbc2ff1-e840-4894-8d77-654c3823c94b",
   "metadata": {},
   "outputs": [],
   "source": [
    "def generate_start(value):\n",
    "    \n",
    "    if value < 10:\n",
    "        return [value]\n",
    "        \n",
    "    else:\n",
    "        \n",
    "        rem = value\n",
    "        mult = 1\n",
    "        \n",
    "        list_digit = []\n",
    "        \n",
    "        \n",
    "        logger.debug('in first while')\n",
    "        while rem >= mult:\n",
    "            logger.debug(f'rem = {rem}')\n",
    "            max_digit = min(8,rem // mult)\n",
    "            \n",
    "            list_digit.append(max_digit)\n",
    "            rem -= max_digit*mult\n",
    "            \n",
    "            mult *= 2\n",
    "            \n",
    "        #Distribute leftovers\n",
    "        logger.debug('in second while')\n",
    "        while rem > 0:\n",
    "            logger.debug(f'rem = {rem}')\n",
    "            \n",
    "            index = int(math.log(rem,2))\n",
    "            list_digit[index] += 1\n",
    "            rem -= 2**index\n",
    "        \n",
    "    return list_digit\n",
    "    #return int(''.join(map(str, reversed(list_digit))))\n",
    "            "
   ]
  },
  {
   "cell_type": "code",
   "execution_count": 83,
   "id": "057da406-76eb-4fd5-97b3-8469fd3dd5aa",
   "metadata": {},
   "outputs": [
    {
     "data": {
      "text/plain": [
       "[8, 1]"
      ]
     },
     "execution_count": 83,
     "metadata": {},
     "output_type": "execute_result"
    }
   ],
   "source": [
    "generate_start(10)"
   ]
  },
  {
   "cell_type": "code",
   "execution_count": null,
   "id": "4073dd21-c983-4508-b9a5-644db755469b",
   "metadata": {},
   "outputs": [],
   "source": [
    "math.log(3,2)"
   ]
  },
  {
   "cell_type": "code",
   "execution_count": null,
   "id": "c3b6892c-cb27-4717-abd2-63dea7625af8",
   "metadata": {},
   "outputs": [],
   "source": [
    "int(math.log(1,2))"
   ]
  },
  {
   "cell_type": "code",
   "execution_count": 14,
   "id": "30f0648d-f073-45e3-992d-d58165595c1f",
   "metadata": {
    "collapsed": true,
    "jupyter": {
     "outputs_hidden": true
    },
    "tags": []
   },
   "outputs": [
    {
     "name": "stdout",
     "output_type": "stream",
     "text": [
      "CPU times: total: 0 ns\n",
      "Wall time: 0 ns\n"
     ]
    },
    {
     "data": {
      "text/plain": [
       "[8,\n",
       " 8,\n",
       " 8,\n",
       " 9,\n",
       " 8,\n",
       " 8,\n",
       " 8,\n",
       " 8,\n",
       " 8,\n",
       " 8,\n",
       " 8,\n",
       " 8,\n",
       " 8,\n",
       " 8,\n",
       " 8,\n",
       " 9,\n",
       " 8,\n",
       " 9,\n",
       " 9,\n",
       " 8,\n",
       " 8,\n",
       " 8,\n",
       " 9,\n",
       " 9,\n",
       " 8,\n",
       " 8,\n",
       " 9,\n",
       " 8,\n",
       " 8,\n",
       " 9,\n",
       " 8,\n",
       " 9,\n",
       " 8,\n",
       " 9,\n",
       " 9,\n",
       " 9,\n",
       " 9,\n",
       " 9,\n",
       " 9,\n",
       " 8,\n",
       " 9,\n",
       " 8,\n",
       " 9,\n",
       " 9,\n",
       " 8,\n",
       " 8,\n",
       " 6]"
      ]
     },
     "execution_count": 14,
     "metadata": {},
     "output_type": "execute_result"
    }
   ],
   "source": [
    "%%time\n",
    "logger.setLevel(logging.INFO)\n",
    "list_digits = generate_start(1000000000000000)\n",
    "list_digits"
   ]
  },
  {
   "cell_type": "code",
   "execution_count": null,
   "id": "cd9e3a5e-15ad-44ca-b633-005dde2fe0a4",
   "metadata": {},
   "outputs": [],
   "source": []
  },
  {
   "cell_type": "code",
   "execution_count": 15,
   "id": "8382a4b7-95f8-43c4-b600-113b60ea5ec9",
   "metadata": {},
   "outputs": [
    {
     "name": "stdout",
     "output_type": "stream",
     "text": [
      "CPU times: total: 0 ns\n",
      "Wall time: 0 ns\n"
     ]
    }
   ],
   "source": [
    "%%time\n",
    "initial = int(\"\".join(map(str, reversed(list_digits))))"
   ]
  },
  {
   "cell_type": "code",
   "execution_count": 16,
   "id": "0b071f46-cc0e-4b38-9fec-c3fd0668dbfd",
   "metadata": {},
   "outputs": [
    {
     "data": {
      "text/plain": [
       "68899898999999898988988998889989888888888889888"
      ]
     },
     "execution_count": 16,
     "metadata": {},
     "output_type": "execute_result"
    }
   ],
   "source": [
    "initial"
   ]
  },
  {
   "cell_type": "code",
   "execution_count": 18,
   "id": "ea7c8e60-7622-49f0-89a9-9a33239cfcfc",
   "metadata": {},
   "outputs": [
    {
     "data": {
      "text/plain": [
       "295147905179352825856"
      ]
     },
     "execution_count": 18,
     "metadata": {},
     "output_type": "execute_result"
    }
   ],
   "source": [
    "2**68"
   ]
  },
  {
   "cell_type": "code",
   "execution_count": 17,
   "id": "c7359b22-2b4a-4ceb-a8b2-06f1325a1c06",
   "metadata": {},
   "outputs": [
    {
     "data": {
      "text/plain": [
       "67.0103413518749"
      ]
     },
     "execution_count": 17,
     "metadata": {},
     "output_type": "execute_result"
    }
   ],
   "source": [
    "math.log(initial, 5)"
   ]
  },
  {
   "cell_type": "code",
   "execution_count": 54,
   "id": "0a66013a-8720-43fa-ab4a-b6614c8cda3a",
   "metadata": {},
   "outputs": [],
   "source": [
    "dict_counts = generate_counts(5,None)"
   ]
  },
  {
   "cell_type": "code",
   "execution_count": 55,
   "id": "17db7d82-b951-4e14-9fda-1e2fd80f0c4b",
   "metadata": {},
   "outputs": [
    {
     "data": {
      "text/plain": [
       "{0: [[2, 4, 5, 5, 5, 3, 1, 0],\n",
       "  [6, 16, 24, 25, 25, 19, 9, 1],\n",
       "  [22, 71, 115, 125, 125, 103, 54, 10],\n",
       "  [93, 333, 561, 625, 625, 532, 292, 64],\n",
       "  [426, 1612, 2769, 3125, 3125, 2699, 1513, 356],\n",
       "  [2038, 7932, 13756, 15625, 15625, 13587, 7693, 1869]],\n",
       " 1: [[1, 3, 5, 5, 5, 4, 2],\n",
       "  [2, 11, 21, 25, 25, 23, 14, 4, 0],\n",
       "  [6, 46, 96, 124, 125, 119, 79, 29, 1],\n",
       "  [22, 208, 458, 615, 625, 603, 417, 167, 10],\n",
       "  [93, 987, 2237, 3061, 3125, 3032, 2138, 888, 64],\n",
       "  [426, 4807, 11057, 15269, 15625, 15199, 10818, 4568, 356]]}"
      ]
     },
     "execution_count": 55,
     "metadata": {},
     "output_type": "execute_result"
    }
   ],
   "source": [
    "dict_counts"
   ]
  },
  {
   "cell_type": "markdown",
   "id": "6d929799-380a-46fb-931f-bf237e03dc6b",
   "metadata": {
    "tags": []
   },
   "source": [
    "## Generate Counts"
   ]
  },
  {
   "cell_type": "code",
   "execution_count": 56,
   "id": "7e4d7740-b9d8-4e7e-a76f-81bade856764",
   "metadata": {},
   "outputs": [
    {
     "data": {
      "text/plain": [
       "{0: [[2, 4, 5, 5, 5, 3, 1, 0],\n",
       "  [6, 16, 24, 25, 25, 19, 9, 1],\n",
       "  [22, 71, 115, 125, 125, 103, 54, 10],\n",
       "  [93, 333, 561, 625, 625, 532, 292, 64],\n",
       "  [426, 1612, 2769, 3125, 3125, 2699, 1513, 356],\n",
       "  [2038, 7932, 13756, 15625, 15625, 13587, 7693, 1869]],\n",
       " 1: [[1, 3, 5, 5, 5, 4, 2],\n",
       "  [2, 11, 21, 25, 25, 23, 14, 4, 0],\n",
       "  [6, 46, 96, 124, 125, 119, 79, 29, 1],\n",
       "  [22, 208, 458, 615, 625, 603, 417, 167, 10],\n",
       "  [93, 987, 2237, 3061, 3125, 3032, 2138, 888, 64],\n",
       "  [426, 4807, 11057, 15269, 15625, 15199, 10818, 4568, 356]]}"
      ]
     },
     "execution_count": 56,
     "metadata": {},
     "output_type": "execute_result"
    }
   ],
   "source": [
    "dict_counts"
   ]
  },
  {
   "cell_type": "code",
   "execution_count": null,
   "id": "37edf353-78a9-4dbd-8e83-5921687359e7",
   "metadata": {},
   "outputs": [],
   "source": [
    "dict_counts[0][2]"
   ]
  },
  {
   "cell_type": "code",
   "execution_count": null,
   "id": "20985512-78ca-4edd-bc07-b05ad6ebc820",
   "metadata": {},
   "outputs": [],
   "source": [
    "sum(dict_counts[0][5])"
   ]
  },
  {
   "cell_type": "code",
   "execution_count": null,
   "id": "e9767b1c-cb2a-411d-9d24-11726c6771d9",
   "metadata": {},
   "outputs": [],
   "source": [
    "sum(dict_counts[1][5])"
   ]
  },
  {
   "cell_type": "code",
   "execution_count": null,
   "id": "65e2467f-31b9-4f17-ab65-186c4f443bab",
   "metadata": {},
   "outputs": [],
   "source": [
    "len(dict_counts[0])"
   ]
  },
  {
   "cell_type": "markdown",
   "id": "0e67ce37-741c-46b3-9e4d-053808dbe49f",
   "metadata": {},
   "source": [
    "### Old"
   ]
  },
  {
   "cell_type": "code",
   "execution_count": 9,
   "id": "60109122-2ecb-4684-aa9b-c35934e9f562",
   "metadata": {},
   "outputs": [],
   "source": [
    "def generate_counts(cur_pv, dict_counts):\n",
    "    \n",
    "    if dict_counts is None:\n",
    "        dict_counts = {0:[[2,4,5,5,5,3,1,0]], 1:[[1,3,5,5,5,4,2]]}\n",
    "    \n",
    "    i_start = len(dict_counts[0]) - 1\n",
    "    \n",
    "#     logger.debug(f'i_start = {i_start}')\n",
    "\n",
    "    for i in range(i_start, cur_pv):\n",
    "        \n",
    "        list_base = dict_counts[0][i]\n",
    "        sum_base = sum(list_base)\n",
    "        \n",
    "        #Generate Even\n",
    "        list_1 = []\n",
    "        list_2 = [sum_base]\n",
    "        for j in range(2, 9, 2):\n",
    "            sum_subset = sum(list_base[0:j])\n",
    "            list_1.append(sum_subset)\n",
    "            list_2.append(sum_base - sum_subset)\n",
    "            \n",
    "        #dict_counts[0][i+1] = list_1 + list_2\n",
    "        dict_counts[0].append(list_1 + list_2[:-1])\n",
    "        #Generate Odd\n",
    "#         list_1 = [list_base[0]]\n",
    "#         list_2 = [sum_base - list_base[0]]\n",
    "        list_1 = []\n",
    "        list_2 = [sum_base]\n",
    "        for j in range(1,8,2):\n",
    "            sum_pair = sum(list_base[0:j])\n",
    "            list_1.append(sum_pair)\n",
    "            list_2.append(sum_base - sum_pair)\n",
    "         \n",
    "\n",
    "        #dict_counts[1][i+1] = list_1 + list_2\n",
    "        dict_counts[1].append(list_1 + list_2)\n",
    "        \n",
    "    return dict_counts\n",
    "\n",
    "    \n",
    "        \n",
    "    "
   ]
  },
  {
   "cell_type": "markdown",
   "id": "28048be3-3f64-47eb-b635-89be54ca3f01",
   "metadata": {},
   "source": [
    "### New"
   ]
  },
  {
   "cell_type": "code",
   "execution_count": 11,
   "id": "d423eb4a-73a6-4ec0-a598-ebe8f086b926",
   "metadata": {},
   "outputs": [],
   "source": [
    "def get_count(pv, mod_rem, dict_counts):\n",
    "    \n",
    "    if dict_counts is None:\n",
    "        dict_counts = defaultdict(dict)\n",
    "        dict_counts[0] = {0:[2,4,5,5,5,3,1,0], 1:[1,3,5,5,5,4,2]}\n",
    "    \n",
    "\n",
    "    #Accumulate\n",
    "    if not (pv in dict_counts and mod_rem in dict_counts[pv]):\n",
    "        list_generate = []\n",
    "        \n",
    "        cur_pv = pv\n",
    "        cur_mod_rem = mod_rem\n",
    "        \n",
    "        while cur_mod_rem not in dict_counts[cur_pv]:\n",
    "            \n",
    "            list_generate.append((cur_pv, cur_mod_rem))\n",
    "            \n",
    "            if cur_mod_rem < 2**cur_pv:\n",
    "                cur_mode_rem = cur_mod_rem\n",
    "                \n",
    "            else:\n",
    "                cur_mod_rem -= 2**cur_pv\n",
    "            \n",
    "            cur_pv -= 1\n",
    "            \n",
    "    \n",
    "        logger.debug(list_generate)\n",
    "        \n",
    "        #Generate\n",
    "        for cur_pv, cur_mod_rem in reversed(list_generate):\n",
    "            \n",
    "            sum_base = 5**(cur_pv+1)\n",
    "            even_case = cur_mod_rem < 2**cur_pv\n",
    "            \n",
    "            #Generate Even\n",
    "            if even_case:\n",
    "                list_input = dict_counts[cur_pv-1][cur_mod_rem]\n",
    "                list_1 = []\n",
    "                list_2 = [sum_base]\n",
    "                for j in range(2, 9, 2):\n",
    "                    sum_subset = sum(list_input[0:j])\n",
    "                    list_1.append(sum_subset)\n",
    "                    list_2.append(sum_base - sum_subset)\n",
    "                    \n",
    "#                 list_final = list_1 + list_2[:-1]\n",
    "                list_final = list_1 + list_2\n",
    "        \n",
    "            #Generate Odd\n",
    "            else:\n",
    "                list_input = dict_counts[cur_pv-1][cur_mod_rem - 2**cur_pv]\n",
    "                list_1 = []\n",
    "                list_2 = [sum_base]\n",
    "                for j in range(1,8,2):\n",
    "                    sum_pair = sum(list_input[0:j])\n",
    "                    list_1.append(sum_pair)\n",
    "                    list_2.append(sum_base - sum_pair)\n",
    "                    \n",
    "                list_final = list_1 + list_2\n",
    "                    \n",
    "                    \n",
    "            dict_counts[cur_pv][cur_mod_rem] = list_final\n",
    "            \n",
    "             \n",
    "        \n",
    "    #Return final answer\n",
    "    return dict_counts, dict_counts[pv][mod_rem]\n",
    "    \n",
    "    "
   ]
  },
  {
   "cell_type": "code",
   "execution_count": 12,
   "id": "40a56de9-0e88-4911-8373-01f023276280",
   "metadata": {},
   "outputs": [
    {
     "name": "stdout",
     "output_type": "stream",
     "text": [
      "[(2, 2), (1, 2)]\n",
      "CPU times: total: 0 ns\n",
      "Wall time: 0 ns\n"
     ]
    }
   ],
   "source": [
    "%%time\n",
    "logger.setLevel(logging.DEBUG)\n",
    "dict_counts, list_counts = get_count(2,2,None)"
   ]
  },
  {
   "cell_type": "code",
   "execution_count": 13,
   "id": "2b56060e-ac85-4797-aba3-3748d8edd119",
   "metadata": {},
   "outputs": [
    {
     "data": {
      "text/plain": [
       "defaultdict(dict,\n",
       "            {0: {0: [2, 4, 5, 5, 5, 3, 1, 0], 1: [1, 3, 5, 5, 5, 4, 2]},\n",
       "             2: {2: [13, 59, 107, 125, 125, 112, 66, 18, 0]},\n",
       "             1: {2: [2, 11, 21, 25, 25, 23, 14, 4, 0]}})"
      ]
     },
     "execution_count": 13,
     "metadata": {},
     "output_type": "execute_result"
    }
   ],
   "source": [
    "dict_counts"
   ]
  },
  {
   "cell_type": "code",
   "execution_count": 14,
   "id": "97bbed5b-7d5c-4191-b969-eed710a12f22",
   "metadata": {},
   "outputs": [
    {
     "data": {
      "text/plain": [
       "defaultdict(dict,\n",
       "            {0: {0: [2, 4, 5, 5, 5, 3, 1, 0], 1: [1, 3, 5, 5, 5, 4, 2]},\n",
       "             2: {2: [13, 59, 107, 125, 125, 112, 66, 18, 0]},\n",
       "             1: {2: [2, 11, 21, 25, 25, 23, 14, 4, 0]}})"
      ]
     },
     "execution_count": 14,
     "metadata": {},
     "output_type": "execute_result"
    }
   ],
   "source": [
    "dict_counts"
   ]
  },
  {
   "cell_type": "code",
   "execution_count": 63,
   "id": "e92f1d5a-bb7c-4127-81b9-4afdbea65e4f",
   "metadata": {},
   "outputs": [
    {
     "ename": "KeyError",
     "evalue": "9",
     "output_type": "error",
     "traceback": [
      "\u001b[1;31m---------------------------------------------------------------------------\u001b[0m",
      "\u001b[1;31mKeyError\u001b[0m                                  Traceback (most recent call last)",
      "Cell \u001b[1;32mIn[63], line 1\u001b[0m\n\u001b[1;32m----> 1\u001b[0m \u001b[38;5;28msum\u001b[39m(\u001b[43mdict_counts\u001b[49m\u001b[43m[\u001b[49m\u001b[38;5;241;43m3\u001b[39;49m\u001b[43m]\u001b[49m\u001b[43m[\u001b[49m\u001b[38;5;241;43m9\u001b[39;49m\u001b[43m]\u001b[49m)\n",
      "\u001b[1;31mKeyError\u001b[0m: 9"
     ]
    }
   ],
   "source": [
    "sum(dict_counts[3][9])"
   ]
  },
  {
   "cell_type": "code",
   "execution_count": 61,
   "id": "d3b015bf-3815-46b9-bfe5-345f544e8adf",
   "metadata": {},
   "outputs": [
    {
     "data": {
      "text/plain": [
       "9"
      ]
     },
     "execution_count": 61,
     "metadata": {},
     "output_type": "execute_result"
    }
   ],
   "source": [
    "len(dict_counts[3][9])"
   ]
  },
  {
   "cell_type": "code",
   "execution_count": 75,
   "id": "b0b7c10c-e545-4abc-91ca-416ffe75b295",
   "metadata": {},
   "outputs": [
    {
     "data": {
      "text/plain": [
       "defaultdict(dict,\n",
       "            {0: {0: [2, 4, 5, 5, 5, 3, 1, 0], 1: [1, 3, 5, 5, 5, 4, 2]},\n",
       "             3: {4: [52, 272, 516, 624, 625, 573, 353, 109, 1]},\n",
       "             2: {4: [6, 46, 96, 124, 125, 119, 79, 29, 1]},\n",
       "             1: {0: [6, 16, 24, 25, 25, 19, 9, 1, 0]}})"
      ]
     },
     "execution_count": 75,
     "metadata": {},
     "output_type": "execute_result"
    }
   ],
   "source": [
    "dict_counts"
   ]
  },
  {
   "cell_type": "code",
   "execution_count": 50,
   "id": "53f62ed9-c7d1-4c9e-bacd-550c07ec138f",
   "metadata": {},
   "outputs": [
    {
     "data": {
      "text/plain": [
       "[2, 34, 184, 421, 625, 623, 591, 441, 204]"
      ]
     },
     "execution_count": 50,
     "metadata": {},
     "output_type": "execute_result"
    }
   ],
   "source": [
    "list_counts"
   ]
  },
  {
   "cell_type": "markdown",
   "id": "b4c6659f-bb77-4b10-9958-0524c0369852",
   "metadata": {},
   "source": [
    "## Generate Index"
   ]
  },
  {
   "cell_type": "code",
   "execution_count": 63,
   "id": "3dd93b83-7bcf-4758-9126-184dfdf7eaab",
   "metadata": {},
   "outputs": [],
   "source": [
    "def generate_index(x, list_index):\n",
    "\n",
    "    \n",
    "    #list_index: [even, odd, A, Count]\n",
    "    \n",
    "    \n",
    "    if list_index is None:\n",
    "        list_index= [(1,2,1, 1),\n",
    "                     (3,5,2, 2), \n",
    "                     (7,11,4, 4), \n",
    "                     (15,21,6, 6), \n",
    "                     (27,37,10, 10)]\n",
    "    \n",
    "    while x >= list_index[-1][0]:\n",
    "        \n",
    "#         print('-------------------')\n",
    "        \n",
    "        i = len(list_index)\n",
    "        \n",
    "        #Co(5) = A4 + B4 + A2 +B2 - C2 - A1\\\n",
    "        #Co(i) = A[i-1] + B[i-1] + A[i-3] + B[i-3] - A[i-4]\n",
    "        \n",
    "        \n",
    "        \n",
    "        B4 = list_index[(i)//2][3]\n",
    "        B2 = list_index[(i-2)//2][3]\n",
    "        \n",
    "        A = list_index[i-1][2] + B4\n",
    "        #next_count =  A + list_index[i-3][2] + B3 - list_index[i-4][2]\n",
    "#         next_count =  A + list_index[i-2][2] - list_index[i-5][2]\n",
    "        next_count =  A - list_index[i-5][2]\n",
    "    \n",
    "    \n",
    "        starting = list_index[-1][1] + list_index[-1][3]\n",
    "        \n",
    "        \n",
    "#         print(f'A = {A}')\n",
    "#         print(f'B4 = {B4}')\n",
    "#         print(f'B2 = {B2}')\n",
    "#         print(f'C = {list_index[i-5][2]}')\n",
    "    \n",
    "        list_index.append((starting, starting+next_count, A, next_count))\n",
    "        \n",
    "        \n",
    "        \n",
    "        \n",
    "    return list_index\n",
    "        \n",
    "        \n",
    "        \n",
    "    "
   ]
  },
  {
   "cell_type": "code",
   "execution_count": 21,
   "id": "bc10ba01-c799-4925-a13f-078a581c8a8e",
   "metadata": {},
   "outputs": [
    {
     "name": "stdout",
     "output_type": "stream",
     "text": [
      "CPU times: total: 0 ns\n",
      "Wall time: 0 ns\n"
     ]
    },
    {
     "data": {
      "text/plain": [
       "285116"
      ]
     },
     "execution_count": 21,
     "metadata": {},
     "output_type": "execute_result"
    }
   ],
   "source": [
    "%time\n",
    "logger.setLevel(logging.INFO)\n",
    "#list_index = generate_index(1000000000000000, None)\n",
    "list_index = generate_index(100000000000000000, None)\n",
    "len(list_index)"
   ]
  },
  {
   "cell_type": "code",
   "execution_count": 24,
   "id": "af55db50-c1bb-4165-ae01-0b10257d9329",
   "metadata": {},
   "outputs": [
    {
     "data": {
      "text/plain": [
       "570232"
      ]
     },
     "execution_count": 24,
     "metadata": {},
     "output_type": "execute_result"
    }
   ],
   "source": [
    "max_val = 2*285116\n",
    "max_val"
   ]
  },
  {
   "cell_type": "code",
   "execution_count": 25,
   "id": "31766424-338f-4248-89c3-3def06ec1f53",
   "metadata": {},
   "outputs": [
    {
     "data": {
      "text/plain": [
       "[8, 8, 8, 8, 8, 8, 8, 9, 9, 9, 8, 8, 9, 9, 8, 9]"
      ]
     },
     "execution_count": 25,
     "metadata": {},
     "output_type": "execute_result"
    }
   ],
   "source": [
    "list_digits = generate_start(max_val)\n",
    "list_digits"
   ]
  },
  {
   "cell_type": "code",
   "execution_count": 27,
   "id": "f10afee8-8f67-48fc-ac99-eb848e124b62",
   "metadata": {},
   "outputs": [
    {
     "name": "stdout",
     "output_type": "stream",
     "text": [
      "CPU times: total: 0 ns\n",
      "Wall time: 0 ns\n"
     ]
    },
    {
     "data": {
      "text/plain": [
       "9899889998888888"
      ]
     },
     "execution_count": 27,
     "metadata": {},
     "output_type": "execute_result"
    }
   ],
   "source": [
    "%%time\n",
    "initial = int(\"\".join(map(str, reversed(list_digits))))\n",
    "initial"
   ]
  },
  {
   "cell_type": "code",
   "execution_count": 30,
   "id": "fdf8975d-4fd8-460a-9b01-62a374e4326f",
   "metadata": {},
   "outputs": [
    {
     "data": {
      "text/plain": [
       "22.884573400574865"
      ]
     },
     "execution_count": 30,
     "metadata": {},
     "output_type": "execute_result"
    }
   ],
   "source": [
    "exp = math.log(initial, 5)\n",
    "exp"
   ]
  },
  {
   "cell_type": "code",
   "execution_count": 31,
   "id": "b01a5347-d9cb-4c07-9cfa-fb91cede8f7c",
   "metadata": {},
   "outputs": [
    {
     "data": {
      "text/plain": [
       "8388608"
      ]
     },
     "execution_count": 31,
     "metadata": {},
     "output_type": "execute_result"
    }
   ],
   "source": [
    "2**23"
   ]
  },
  {
   "cell_type": "code",
   "execution_count": null,
   "id": "6a5eb09b-f51c-415a-9ff8-9d4c77f71174",
   "metadata": {},
   "outputs": [],
   "source": []
  },
  {
   "cell_type": "code",
   "execution_count": 22,
   "id": "8007d464-1d76-49a9-94cd-82580a503d0a",
   "metadata": {},
   "outputs": [
    {
     "data": {
      "text/plain": [
       "(100000647733331451, 100001222377711080, 10000409561829668, 574644379629)"
      ]
     },
     "execution_count": 22,
     "metadata": {},
     "output_type": "execute_result"
    }
   ],
   "source": [
    "list_index[-1]"
   ]
  },
  {
   "cell_type": "code",
   "execution_count": 63,
   "id": "1b067430-8e43-47a9-9444-7014f5ae25ac",
   "metadata": {},
   "outputs": [
    {
     "name": "stdout",
     "output_type": "stream",
     "text": [
      "-------------------\n",
      "A = 14\n",
      "B4 = 4\n",
      "B2 = 2\n",
      "C = 1\n",
      "-------------------\n",
      "A = 20\n",
      "B4 = 6\n",
      "B2 = 4\n",
      "C = 2\n",
      "-------------------\n",
      "A = 26\n",
      "B4 = 6\n",
      "B2 = 4\n",
      "C = 4\n",
      "-------------------\n",
      "A = 36\n",
      "B4 = 10\n",
      "B2 = 6\n",
      "C = 6\n",
      "-------------------\n",
      "A = 46\n",
      "B4 = 10\n",
      "B2 = 6\n",
      "C = 10\n",
      "-------------------\n",
      "A = 59\n",
      "B4 = 13\n",
      "B2 = 10\n",
      "C = 14\n",
      "-------------------\n",
      "A = 72\n",
      "B4 = 13\n",
      "B2 = 10\n",
      "C = 20\n",
      "-------------------\n",
      "A = 90\n",
      "B4 = 18\n",
      "B2 = 13\n",
      "C = 26\n",
      "-------------------\n",
      "A = 108\n",
      "B4 = 18\n",
      "B2 = 13\n",
      "C = 36\n",
      "-------------------\n",
      "A = 130\n",
      "B4 = 22\n",
      "B2 = 18\n",
      "C = 46\n",
      "-------------------\n",
      "A = 152\n",
      "B4 = 22\n",
      "B2 = 18\n",
      "C = 59\n",
      "-------------------\n",
      "A = 182\n",
      "B4 = 30\n",
      "B2 = 22\n",
      "C = 72\n"
     ]
    }
   ],
   "source": [
    "list_index = generate_index(1000, None)"
   ]
  },
  {
   "cell_type": "code",
   "execution_count": 64,
   "id": "3f98dbb1-1b93-40da-aa9f-999f1e073844",
   "metadata": {},
   "outputs": [
    {
     "data": {
      "text/plain": [
       "[(1, 2, 1, 1),\n",
       " (3, 5, 2, 2),\n",
       " (7, 11, 4, 4),\n",
       " (15, 21, 6, 6),\n",
       " (27, 37, 10, 10),\n",
       " (47, 60, 14, 13),\n",
       " (73, 91, 20, 18),\n",
       " (109, 131, 26, 22),\n",
       " (153, 183, 36, 30),\n",
       " (213, 249, 46, 36),\n",
       " (285, 330, 59, 45),\n",
       " (375, 427, 72, 52),\n",
       " (479, 543, 90, 64),\n",
       " (607, 679, 108, 72),\n",
       " (751, 835, 130, 84),\n",
       " (919, 1012, 152, 93),\n",
       " (1105, 1215, 182, 110)]"
      ]
     },
     "execution_count": 64,
     "metadata": {},
     "output_type": "execute_result"
    }
   ],
   "source": [
    "list_index"
   ]
  },
  {
   "cell_type": "code",
   "execution_count": 14,
   "id": "414fb7c7-29bc-4967-a67c-f8a63b9d04e6",
   "metadata": {},
   "outputs": [
    {
     "data": {
      "text/plain": [
       "4"
      ]
     },
     "execution_count": 14,
     "metadata": {},
     "output_type": "execute_result"
    }
   ],
   "source": [
    "i=6\n",
    "(i)//2 + 1"
   ]
  },
  {
   "cell_type": "markdown",
   "id": "116505d4-e703-451b-b559-cab533c4c0a4",
   "metadata": {},
   "source": [
    "## Run"
   ]
  },
  {
   "cell_type": "code",
   "execution_count": null,
   "id": "d0827a7b-60ae-4239-8d1d-57f76d43c853",
   "metadata": {},
   "outputs": [],
   "source": [
    "if __name__ == '__main__':\n",
    "    fptr = open(os.environ['OUTPUT_PATH'], 'w')\n",
    "\n",
    "    q = int(input().strip())\n",
    "\n",
    "    for q_itr in range(q):\n",
    "        x = int(input().strip())\n",
    "\n",
    "        result = decibinaryNumbers(x)\n",
    "\n",
    "        fptr.write(str(result) + '\\n')\n",
    "\n",
    "    fptr.close()\n"
   ]
  },
  {
   "cell_type": "markdown",
   "id": "9881e67f-b12d-4329-8130-edbe7a34f3d8",
   "metadata": {
    "jp-MarkdownHeadingCollapsed": true,
    "tags": []
   },
   "source": [
    "# To Do:\n",
    "1. find starting count"
   ]
  }
 ],
 "metadata": {
  "kernelspec": {
   "display_name": "Python [conda env:hackerrank]",
   "language": "python",
   "name": "conda-env-hackerrank-py"
  },
  "language_info": {
   "codemirror_mode": {
    "name": "ipython",
    "version": 3
   },
   "file_extension": ".py",
   "mimetype": "text/x-python",
   "name": "python",
   "nbconvert_exporter": "python",
   "pygments_lexer": "ipython3",
   "version": "3.11.3"
  }
 },
 "nbformat": 4,
 "nbformat_minor": 5
}
