{
 "cells": [
  {
   "cell_type": "markdown",
   "id": "74fc1a1a-61c8-4d96-8a2e-73b8f9f36e24",
   "metadata": {},
   "source": [
    "# Main"
   ]
  },
  {
   "cell_type": "code",
   "execution_count": 49,
   "id": "572b65c1-8fa3-4c25-87e7-13e7f19a59c0",
   "metadata": {
    "tags": []
   },
   "outputs": [],
   "source": [
    "#!/bin/python3\n",
    "\n",
    "import math\n",
    "import os\n",
    "import random\n",
    "import re\n",
    "import sys\n",
    "\n",
    "# Complete the maxSubsetSum function below.\n",
    "\n",
    "\n",
    "\n"
   ]
  },
  {
   "cell_type": "markdown",
   "id": "80c1f4d6-326a-4330-96c2-07e94bba3758",
   "metadata": {},
   "source": [
    "## Initial Ver "
   ]
  },
  {
   "cell_type": "code",
   "execution_count": 137,
   "id": "f14bbd33-d1bc-4025-a10d-78ed50f5d12a",
   "metadata": {},
   "outputs": [],
   "source": [
    "def abbreviation_1(a, b):\n",
    "    # Write your code here\n",
    "    \n",
    "    global a_caps, b_ismatched, cur_b_i\n",
    "    \n",
    "    a_caps = [char for char in a if char.isupper()]    \n",
    "    \n",
    "    \n",
    "    b_ismatched = [False for char in b]\n",
    "    cur_b_i = 0\n",
    "    for a_char in a_caps:\n",
    "        \n",
    "#         print(a_char)\n",
    "#         print(cur_b_i)\n",
    "        \n",
    "#         if cur_b_i == len(b):\n",
    "#             return 'NO'\n",
    "        \n",
    "        #Find a_char in b_char\n",
    "        a_matched = False\n",
    "        for j, b_char in enumerate(b[cur_b_i:]):\n",
    "            if a_char == b_char:\n",
    "                a_matched=True\n",
    "                b_ismatched[cur_b_i+j] = True\n",
    "                break\n",
    "            else:\n",
    "                b_ismatched[cur_b_i+j] = False\n",
    "        \n",
    "        if not a_matched:\n",
    "            return 'NO'\n",
    "        \n",
    "        cur_b_i += j+1\n",
    "        \n",
    "        \n",
    "    #Unchecked case: cur_b_i Multiple matches\n",
    "    \n",
    "    cur_b_i = 0\n",
    "    for char_a in a:\n",
    "        \n",
    "        if b_ismatched[cur_b_i]:\n",
    "            if char_a.upper() != b[cur_b_i]:\n",
    "                continue\n",
    "            else:\n",
    "                cur_b_i+=1\n",
    "                \n",
    "        else:\n",
    "            \n",
    "            if char_a.upper() != b[cur_b_i]:\n",
    "                continue\n",
    "                \n",
    "            else:\n",
    "                cur_b_i += 1\n",
    "                \n",
    "                \n",
    "        if cur_b_i == len(b):\n",
    "            break\n",
    "                \n",
    "                \n",
    "    \n",
    "    if cur_b_i >= len(b):\n",
    "        result = 'YES'\n",
    "    else:\n",
    "        result = 'NO'\n",
    "        \n",
    "#     print(result)\n",
    "        \n",
    "    return result\n",
    "                \n",
    "                \n",
    "            \n"
   ]
  },
  {
   "cell_type": "markdown",
   "id": "2b036559-19a0-4b0b-89e3-c67aaaaebe0e",
   "metadata": {},
   "source": [
    "## Backtrack Ver"
   ]
  },
  {
   "cell_type": "code",
   "execution_count": 50,
   "id": "4f86904d-1730-4a0c-b792-5d361882d155",
   "metadata": {},
   "outputs": [],
   "source": [
    "from collections import defaultdict"
   ]
  },
  {
   "cell_type": "code",
   "execution_count": 52,
   "id": "6fe7365a-e4bf-432c-9bd7-251535a22486",
   "metadata": {},
   "outputs": [],
   "source": [
    "from bisect import bisect_right"
   ]
  },
  {
   "cell_type": "code",
   "execution_count": null,
   "id": "2587f157-24c0-4232-9393-08b7930f8c0c",
   "metadata": {},
   "outputs": [],
   "source": [
    "def abbreviation(a, b):\n",
    "    # Write your code here\n",
    "    \n",
    "    \n",
    "    #build dict_b\n",
    "    \n",
    "    a_caps = [(char, i) for i, char in enumerate(a) if char.isupper()]    \n",
    "    \n",
    "    \n",
    "    dict_b = defaultdict(list)\n",
    "    \n",
    "    \n",
    "    b_matched = []\n",
    "    \n",
    "    for i, char_b in enumerate(b):\n",
    "        dict_b[char_b].append(i)\n",
    "    \n",
    "    \n",
    "    for i, char_a in enumerate(a):\n",
    "        \n",
    "        dict_i = bisect_right(dict_b[char_a], i)\n",
    "        \n",
    "        #Does not handle > \n",
    "        #IF closest is less than i, get right\n",
    "        if dict_b[char_a][dict_i] < i:\n",
    "            b_i_match = dict_b[char_a][dict_i+1]\n",
    "            \n",
    "        #Closest is correct\n",
    "        else:\n",
    "            b_i_match = dict_b[char_a][dict_i]\n",
    "            \n",
    "    \n",
    "        if dict_i >= len(dict_b[char_a]):\n",
    "            \n",
    "            if dict_i-1 < 0:\n",
    "                return \"NO\"\n",
    "            else: #Backtrack\n",
    "                b_i_match = dict_b[char_a][dict_i-1]\n",
    "                \n",
    "                \n",
    "                #Backtrack A Capitals < i\n",
    "                \n",
    "                a_caps_end = bisect_left(i)\n",
    "                if a_caps[a_caps_end][1] > i:\n",
    "                    a_caps_end -= 1\n",
    "                    \n",
    "                cur_b_i = 0    \n",
    "                \n",
    "                for a_cap, a_cap_i in a_caps[:a_caps_end]:\n",
    "                    dict_b[a_cap]\n",
    "                    \n",
    "                    \n",
    "                    \n",
    "                    \n",
    "                    \n",
    "                \n",
    "                \n",
    "                \n",
    "                #Backtrack Remaining B less than b_i_match\n",
    "            \n",
    "       \n",
    "        \n",
    "        \n",
    "            \n",
    "        "
   ]
  },
  {
   "cell_type": "markdown",
   "id": "2c158b02-301e-476e-9863-91cb412b3768",
   "metadata": {},
   "source": [
    "## DP Ver"
   ]
  },
  {
   "cell_type": "code",
   "execution_count": 263,
   "id": "87f38905-3be9-4e29-8dde-e9a2299e8fe5",
   "metadata": {},
   "outputs": [],
   "source": [
    "def abbreviation(a, b):\n",
    "    # Write your code here\n",
    "    \n",
    "    to_print = False\n",
    "    \n",
    "    global list_bot, list_right, list_prev_bot, list_prev_right, a_caps\n",
    "    \n",
    "    a_caps = [char for char in a if char.isupper()]    \n",
    "\n",
    "    list_prev_right = {-1:(0,0)}\n",
    "    list_prev_bot = {-1:(0,0)}\n",
    "    \n",
    "    \n",
    "    b_ismatched = [False for char in b]\n",
    "    cur_b_i = 0\n",
    "    for a_char in a_caps:\n",
    "        a_matched = False\n",
    "        for j, b_char in enumerate(b[cur_b_i:]):\n",
    "            if a_char == b_char:\n",
    "                a_matched=True\n",
    "                b_ismatched[cur_b_i+j] = True\n",
    "                break\n",
    "            else:\n",
    "                b_ismatched[cur_b_i+j] = False\n",
    "        \n",
    "        if not a_matched:\n",
    "            return 'NO'\n",
    "        \n",
    "        cur_b_i += j+1\n",
    "    \n",
    "    \n",
    "    for i in range(len(a)):\n",
    "        \n",
    "        if to_print:\n",
    "            print(f'iteration [{i}]')\n",
    "        \n",
    "        list_right = {-1:(0,0)}\n",
    "        list_bot = {-1:(0,0)}\n",
    "         \n",
    "\n",
    "        left_max = min(len(a)-1, i)\n",
    "        right_max = min(len(b)-1, i)\n",
    "\n",
    "        if i < len(a):\n",
    "            a_char = a[i]\n",
    "            #fill right\n",
    "            for j in range(min(i,len(b))):\n",
    "#             for j in range(right_max):\n",
    "                    if a_char.upper() == b[j]:\n",
    "        \n",
    "                        to_add = (1,1) if a_char.isupper() else (0,1)\n",
    "                        tuple_sum = tuple(sum(x) for x in zip(list_prev_right[j-1],to_add))\n",
    "\n",
    "                        if a_char.isupper():\n",
    "                            list_right[j] = tuple_sum\n",
    "                        else:\n",
    "                            list_right[j] = max(tuple_sum,  list_right[j-1],  list_prev_right[j])\n",
    "\n",
    "                    else:\n",
    "                        list_right[j] = max(list_prev_right[j-1], list_prev_right[j], list_right[j-1])\n",
    "\n",
    "        if i < len(b):\n",
    "            b_char = b[i]\n",
    "            for j in range(min(i,len(a))):\n",
    "#             for j in range(left_max):       \n",
    "\n",
    "                    if b_char == a[j].upper():\n",
    "        \n",
    "                        to_add = (1,1) if a[j].isupper() else (0,1)\n",
    "                        tuple_sum = tuple(sum(x) for x in zip(list_prev_bot[j-1],to_add))\n",
    "\n",
    "                        if a[j].isupper():\n",
    "                            list_bot[j] = tuple_sum\n",
    "                            \n",
    "                        else:\n",
    "                            #list_bot[j] = list_prev_bot[j-1] + (0,1)\n",
    "                            list_bot[j] = max(tuple_sum,  list_bot[j-1],  list_prev_bot[j])\n",
    "\n",
    "                    else:\n",
    "                        list_bot[j] = max(list_prev_bot[j-1], list_prev_bot[j], list_bot[j-1])\n",
    "            \n",
    "        if to_print:\n",
    "            print(list_right)\n",
    "            print(list_bot)\n",
    "\n",
    "            print(f'R=[{right_max}] | B=[{left_max}]')\n",
    "\n",
    "    \n",
    "    \n",
    "    \n",
    "                \n",
    "        if right_max == left_max:\n",
    "#             print('in ==')\n",
    "            if a_char.upper() == b_char:\n",
    "                if a_char.isupper():\n",
    "                    #list_bot[i] = list_prev_bot[i-1] + (1,1)\n",
    "                    list_bot[i] = tuple(sum(x) for x in zip(list_prev_bot[i-1],(1,1)))\n",
    "                    list_right[i] = list_bot[i]\n",
    "                else:\n",
    "                    #list_bot[i] = list_prev_bot[i-1] + (0,1)\n",
    "                    list_bot[i] = tuple(sum(x) for x in zip(list_prev_bot[i-1],(0,1)))\n",
    "                    list_right[i] = list_bot[i]\n",
    "\n",
    "            else:\n",
    "                list_bot[i] = max(list_bot[i-1], list_prev_bot[i-1], list_right[i-1])\n",
    "                list_right[i] = list_bot[i]\n",
    "\n",
    "                \n",
    "        if to_print:\n",
    "            print('----')\n",
    "\n",
    "            print(list_right)\n",
    "            print(list_bot)\n",
    "\n",
    "            print('----------------------')\n",
    "                \n",
    "                \n",
    "        list_prev_right = list_right\n",
    "        list_prev_bot = list_bot\n",
    "\n",
    "        \n",
    "    \n",
    "    j_max = min(len(a),len(b)) - 1\n",
    "    \n",
    "    if len(a) > len(b):\n",
    "#         print(len(list_right))\n",
    "#         print(list_right[j_max])\n",
    "        if list_right[j_max][0] == len(a_caps) and list_right[j_max][1] == len(b):\n",
    "            ans = 'YES'\n",
    "        else:\n",
    "            ans = 'NO'\n",
    "\n",
    "    else:\n",
    "        \n",
    "#         print(list_bot[j_max])\n",
    "        \n",
    "        if list_bot[j_max][0] == len(a_caps) and list_bot[j_max][1] == len(b):\n",
    "            ans = 'YES'\n",
    "        else:\n",
    "            ans = 'NO'\n",
    "\n",
    "#     print(ans)\n",
    "        \n",
    "    return ans\n"
   ]
  },
  {
   "cell_type": "code",
   "execution_count": null,
   "id": "0b804c9b-2d26-4b01-aaef-fcd19dc86d6b",
   "metadata": {},
   "outputs": [],
   "source": [
    "            dict_right[i] = dict_prev_right[i-1] + 1\n",
    "            dict_bot[i] = dict_right[i]\n",
    "        else:\n",
    "            dict_right[i] = max(dict_right[i-1], dict_bot[i-1], dict_prev_right[i-1])\n",
    "            dict_bot[i] = dict_right[i]"
   ]
  },
  {
   "cell_type": "code",
   "execution_count": 1,
   "id": "83e9a66e-2212-40d1-a113-ea8224c21d6d",
   "metadata": {},
   "outputs": [
    {
     "data": {
      "text/plain": [
       "(4, 3)"
      ]
     },
     "execution_count": 1,
     "metadata": {},
     "output_type": "execute_result"
    }
   ],
   "source": [
    "max((4,3), (2,8))"
   ]
  },
  {
   "cell_type": "markdown",
   "id": "31f9ac78-ade0-45e0-bc55-7520a79ac677",
   "metadata": {},
   "source": [
    "## Run"
   ]
  },
  {
   "cell_type": "code",
   "execution_count": 40,
   "id": "bc1cf187-f665-4abb-b97b-53d65f185736",
   "metadata": {},
   "outputs": [
    {
     "data": {
      "text/plain": [
       "6"
      ]
     },
     "execution_count": 40,
     "metadata": {},
     "output_type": "execute_result"
    }
   ],
   "source": [
    "len(a)"
   ]
  },
  {
   "cell_type": "code",
   "execution_count": 264,
   "id": "fe78c2c9-e11c-4e05-b263-e0983eb5e915",
   "metadata": {},
   "outputs": [],
   "source": [
    "name_test = 'abd00.txt'\n",
    "\n",
    "f_input = open(f\"./in/{name_test}\", \"r\")\n",
    "\n",
    "if __name__ == '__main__':\n",
    "\n",
    "    q = int(f_input.readline().strip())\n",
    "\n",
    "    for q_itr in range(q):\n",
    "        a = f_input.readline()\n",
    "\n",
    "        b = f_input.readline()\n",
    "\n",
    "        result = abbreviation(a, b)\n",
    "\n"
   ]
  },
  {
   "cell_type": "code",
   "execution_count": 127,
   "id": "bf707999-c358-4ab8-91d9-1075e630701a",
   "metadata": {},
   "outputs": [
    {
     "data": {
      "text/plain": [
       "'JHMWY\\n'"
      ]
     },
     "execution_count": 127,
     "metadata": {},
     "output_type": "execute_result"
    }
   ],
   "source": [
    "a"
   ]
  },
  {
   "cell_type": "code",
   "execution_count": 128,
   "id": "b20146f8-c04d-4454-9706-700cb973bc53",
   "metadata": {},
   "outputs": [
    {
     "data": {
      "text/plain": [
       "'HUVPW'"
      ]
     },
     "execution_count": 128,
     "metadata": {},
     "output_type": "execute_result"
    }
   ],
   "source": [
    "b"
   ]
  },
  {
   "cell_type": "code",
   "execution_count": 42,
   "id": "02ffd4dc-8d1f-46fc-85ce-502b122cb6ed",
   "metadata": {},
   "outputs": [
    {
     "data": {
      "text/plain": [
       "(0, 1, 0, 1)"
      ]
     },
     "execution_count": 42,
     "metadata": {},
     "output_type": "execute_result"
    }
   ],
   "source": [
    "(0,1) + (0,1)"
   ]
  },
  {
   "cell_type": "code",
   "execution_count": null,
   "id": "c0e4cc90-9110-41e9-afa8-2f72158759fc",
   "metadata": {},
   "outputs": [],
   "source": []
  },
  {
   "cell_type": "code",
   "execution_count": 23,
   "id": "cb46279d-c6fa-4887-be8c-c3f9a5b66d6d",
   "metadata": {},
   "outputs": [
    {
     "data": {
      "text/plain": [
       "['B']"
      ]
     },
     "execution_count": 23,
     "metadata": {},
     "output_type": "execute_result"
    }
   ],
   "source": [
    "a_caps"
   ]
  },
  {
   "cell_type": "code",
   "execution_count": 24,
   "id": "838b05e5-8c41-424b-8a38-6d1d4e813f11",
   "metadata": {},
   "outputs": [
    {
     "data": {
      "text/plain": [
       "[False, True, False]"
      ]
     },
     "execution_count": 24,
     "metadata": {},
     "output_type": "execute_result"
    }
   ],
   "source": [
    "b_ismatched"
   ]
  },
  {
   "cell_type": "code",
   "execution_count": 25,
   "id": "19f78764-4101-4976-90a7-50d2c14f2c6f",
   "metadata": {},
   "outputs": [
    {
     "data": {
      "text/plain": [
       "2"
      ]
     },
     "execution_count": 25,
     "metadata": {},
     "output_type": "execute_result"
    }
   ],
   "source": [
    "cur_b_i"
   ]
  },
  {
   "cell_type": "markdown",
   "id": "b414ea14-cec6-49fd-b0c5-6f6c3e58df1c",
   "metadata": {},
   "source": [
    "# Manual Tests"
   ]
  },
  {
   "cell_type": "code",
   "execution_count": null,
   "id": "fa908c96-666b-45ab-aa02-c1d822d9d85d",
   "metadata": {},
   "outputs": [],
   "source": [
    "KXzQ\n",
    "K"
   ]
  },
  {
   "cell_type": "code",
   "execution_count": 245,
   "id": "2ed61c3f-b6b3-405d-b777-03e8d2ec7c8d",
   "metadata": {},
   "outputs": [],
   "source": [
    "a = 'abecABCdcd'\n",
    "b = 'ABCABC'"
   ]
  },
  {
   "cell_type": "code",
   "execution_count": 40,
   "id": "a8d2afbd-a256-4a2f-9ef7-6f2ffdea353e",
   "metadata": {},
   "outputs": [
    {
     "data": {
      "text/plain": [
       "3"
      ]
     },
     "execution_count": 40,
     "metadata": {},
     "output_type": "execute_result"
    }
   ],
   "source": [
    "cur_b_i"
   ]
  },
  {
   "cell_type": "markdown",
   "id": "e9cc1d0b-076b-486b-bc3b-6dc7d28b8b53",
   "metadata": {},
   "source": [
    "## Res"
   ]
  },
  {
   "cell_type": "code",
   "execution_count": 265,
   "id": "af55d160-dc85-4cf3-8b81-d2f1b1735efa",
   "metadata": {},
   "outputs": [
    {
     "data": {
      "text/plain": [
       "'YES'"
      ]
     },
     "execution_count": 265,
     "metadata": {},
     "output_type": "execute_result"
    }
   ],
   "source": [
    "abbreviation(a,b)"
   ]
  },
  {
   "cell_type": "code",
   "execution_count": 33,
   "id": "887af02f-0ac8-4952-b984-3daee740b3b2",
   "metadata": {},
   "outputs": [
    {
     "name": "stdout",
     "output_type": "stream",
     "text": [
      "iteration [0]\n",
      "{-1: (0, 0)}\n",
      "{-1: (0, 0), 0: (0, 0)}\n",
      "iteration [1]\n",
      "{-1: (0, 0), 0: (0, 0)}\n",
      "{-1: (0, 0), 0: (0, 0), 1: (0, 0, 0, 1)}\n",
      "iteration [2]\n",
      "{-1: (0, 0), 0: (0, 0), 1: (0, 0, 0, 1)}\n",
      "{-1: (0, 0), 0: (0, 0), 1: (0, 0, 0, 1), 2: (0, 0, 0, 1, 1, 1)}\n",
      "iteration [3]\n",
      "{-1: (0, 0), 0: (0, 0), 1: (0, 0, 0, 1), 2: (0, 0, 0, 1, 1, 1)}\n",
      "{-1: (0, 0), 0: (0, 0), 1: (0, 0, 0, 1), 2: (0, 0, 0, 1, 1, 1), 3: (0, 0, 0, 1, 1, 1, 0, 1)}\n",
      "iteration [4]\n",
      "{-1: (0, 0), 0: (0, 0), 1: (0, 0, 0, 1), 2: (0, 0, 0, 1, 1, 1), 3: (0, 0, 0, 1, 1, 1, 0, 1)}\n",
      "{-1: (0, 0), 0: (0, 0), 1: (0, 0, 0, 1), 2: (0, 0, 0, 1, 1, 1), 3: (0, 0, 0, 1, 1, 1, 0, 1), 4: (0, 0, 0, 1, 1, 1, 0, 1)}\n",
      "NO\n"
     ]
    },
    {
     "data": {
      "text/plain": [
       "'NO'"
      ]
     },
     "execution_count": 33,
     "metadata": {},
     "output_type": "execute_result"
    }
   ],
   "source": [
    "abbreviation('daBcd','ABCZZ')"
   ]
  },
  {
   "cell_type": "markdown",
   "id": "1eef4604-c008-44e6-9d79-b51aea9925ec",
   "metadata": {},
   "source": [
    "# Diff finder"
   ]
  },
  {
   "cell_type": "code",
   "execution_count": 142,
   "id": "6a59f30f-8566-479d-ad34-9c7756311b75",
   "metadata": {},
   "outputs": [],
   "source": [
    "import random, string"
   ]
  },
  {
   "cell_type": "code",
   "execution_count": 180,
   "id": "26a634c1-03f0-4aac-b688-d6f83d3a110d",
   "metadata": {},
   "outputs": [],
   "source": [
    "from bisect import insort_left"
   ]
  },
  {
   "cell_type": "code",
   "execution_count": 270,
   "id": "c2e1c4da-ff0d-4d98-88e2-4b8276ae9c6a",
   "metadata": {},
   "outputs": [
    {
     "data": {
      "text/plain": [
       "1"
      ]
     },
     "execution_count": 270,
     "metadata": {},
     "output_type": "execute_result"
    }
   ],
   "source": [
    "random.randint(1,1)"
   ]
  },
  {
   "cell_type": "code",
   "execution_count": 272,
   "id": "9a628bec-84aa-48e4-8262-244de2f8a94e",
   "metadata": {
    "tags": []
   },
   "outputs": [
    {
     "name": "stdout",
     "output_type": "stream",
     "text": [
      "0\n",
      "YES detected\n",
      "YES detected\n",
      "YES detected\n",
      "diff detected\n"
     ]
    }
   ],
   "source": [
    "\n",
    "for i in range(100):\n",
    "    \n",
    "    if i % 20 == 0:\n",
    "        print(i)\n",
    "    \n",
    "    rand_n_B = random.randint(1,20)\n",
    "\n",
    "    rand_B = ''.join(random.choices(string.ascii_uppercase , k=rand_n_B))\n",
    "    \n",
    "    rand_A = list(rand_B)\n",
    "    \n",
    "    #randomly convert \n",
    "    for j, char in enumerate(rand_A):\n",
    "        if bool(random.randint(0,1)):\n",
    "            rand_A[j] = char.lower()\n",
    "            \n",
    "            \n",
    "    #randomly insert lower\n",
    "    for j, char in enumerate(rand_A):\n",
    "        rand_insert = random.randint(1,3)\n",
    "        if not bool(random.randint(0,10)):\n",
    "            to_insert = random.choices(string.ascii_lowercase , k=rand_n_B)\n",
    "            rand_A = rand_A[0:j] + to_insert + rand_A[j:]\n",
    "            \n",
    "            \n",
    "    #randomly insert upper\n",
    "    if bool(random.randint(1,1)):\n",
    "        rand_insert_i = random.randint(0,len(rand_A))\n",
    "        rand_A.insert(rand_insert_i, random.choice(string.ascii_uppercase))\n",
    "\n",
    "#     print(any([char.isupper() for char in rand_A]))\n",
    "        \n",
    "    rand_A = ''.join(rand_A)\n",
    "    \n",
    "#     print(any([char.isupper() for char in rand_A]))\n",
    "        \n",
    "        \n",
    "\n",
    "    ans1 = abbreviation_1(rand_A,rand_B)\n",
    "    ans2 = abbreviation(rand_A,rand_B)\n",
    "    \n",
    "    if ans1 == 'YES' or ans2 =='YES':\n",
    "        print('YES detected')\n",
    "\n",
    "    if ans1 != ans2:\n",
    "        print('diff detected')\n",
    "        break\n"
   ]
  },
  {
   "cell_type": "code",
   "execution_count": 274,
   "id": "2e4f8459-db87-45bd-b0ef-6dfe527bfe71",
   "metadata": {},
   "outputs": [
    {
     "data": {
      "text/plain": [
       "'fWakajifjzsswgguxvibrxronokjnwqDFbrboRsr'"
      ]
     },
     "execution_count": 274,
     "metadata": {},
     "output_type": "execute_result"
    }
   ],
   "source": [
    "rand_A"
   ]
  },
  {
   "cell_type": "code",
   "execution_count": 275,
   "id": "c1ac5b94-b668-471a-a6bc-7707175c473c",
   "metadata": {},
   "outputs": [
    {
     "data": {
      "text/plain": [
       "'FWAKADFBRBOSR'"
      ]
     },
     "execution_count": 275,
     "metadata": {},
     "output_type": "execute_result"
    }
   ],
   "source": [
    "rand_B"
   ]
  },
  {
   "cell_type": "code",
   "execution_count": 279,
   "id": "ead08c55-261f-4f4b-9413-261d01b09d1e",
   "metadata": {},
   "outputs": [
    {
     "data": {
      "text/plain": [
       "['W', 'D', 'F', 'R']"
      ]
     },
     "execution_count": 279,
     "metadata": {},
     "output_type": "execute_result"
    }
   ],
   "source": [
    "a_caps"
   ]
  },
  {
   "cell_type": "markdown",
   "id": "d164c6e4-6dbf-4384-a79d-2c4d3cf753c9",
   "metadata": {},
   "source": [
    "## Save"
   ]
  },
  {
   "cell_type": "code",
   "execution_count": 276,
   "id": "980dccc5-bade-466e-81e0-0d15f418b4c6",
   "metadata": {},
   "outputs": [],
   "source": [
    "out = f'1\\n{rand_A}\\n{rand_B}'"
   ]
  },
  {
   "cell_type": "code",
   "execution_count": 277,
   "id": "8d916b36-ce36-47e3-9836-83940baf49af",
   "metadata": {},
   "outputs": [],
   "source": [
    "f = open(\"./in/abd02.txt\", \"w\")\n",
    "f.write(out)\n",
    "f.close()"
   ]
  },
  {
   "cell_type": "code",
   "execution_count": 211,
   "id": "423e8170-dfa1-46bb-97dc-eb6821fe9a7a",
   "metadata": {},
   "outputs": [],
   "source": [
    "list_bool_temp = [char.isupper() for char in temp_str]"
   ]
  },
  {
   "cell_type": "code",
   "execution_count": 212,
   "id": "e03a98ac-6607-4303-b863-52e13e3a1e61",
   "metadata": {},
   "outputs": [
    {
     "data": {
      "text/plain": [
       "False"
      ]
     },
     "execution_count": 212,
     "metadata": {},
     "output_type": "execute_result"
    }
   ],
   "source": [
    "any(list_bool_temp)"
   ]
  },
  {
   "cell_type": "code",
   "execution_count": 239,
   "id": "3c27aaf2-b7ba-41c1-a819-5706c16b4315",
   "metadata": {},
   "outputs": [
    {
     "data": {
      "text/plain": [
       "18"
      ]
     },
     "execution_count": 239,
     "metadata": {},
     "output_type": "execute_result"
    }
   ],
   "source": [
    "len(rand_B)"
   ]
  },
  {
   "cell_type": "code",
   "execution_count": 244,
   "id": "7964419b-3bae-400f-a698-902416bd2b4a",
   "metadata": {},
   "outputs": [
    {
     "data": {
      "text/plain": [
       "['M', 'K', 'S', 'S', 'I', 'W', 'R', 'A', 'A']"
      ]
     },
     "execution_count": 244,
     "metadata": {},
     "output_type": "execute_result"
    }
   ],
   "source": [
    "a_caps"
   ]
  },
  {
   "cell_type": "code",
   "execution_count": 243,
   "id": "44508bfd-e25a-454e-b1fb-be53e9252ca8",
   "metadata": {},
   "outputs": [
    {
     "data": {
      "text/plain": [
       "9"
      ]
     },
     "execution_count": 243,
     "metadata": {},
     "output_type": "execute_result"
    }
   ],
   "source": [
    "len(a_caps)"
   ]
  },
  {
   "cell_type": "code",
   "execution_count": 227,
   "id": "78f5f7f3-4b11-4704-ab45-303937887ad2",
   "metadata": {},
   "outputs": [
    {
     "data": {
      "text/plain": [
       "'MEKSNRVSIWDVREDADA'"
      ]
     },
     "execution_count": 227,
     "metadata": {},
     "output_type": "execute_result"
    }
   ],
   "source": [
    "rand_B"
   ]
  },
  {
   "cell_type": "code",
   "execution_count": 280,
   "id": "39e769b5-7d13-4aae-aeb7-1cfb317e7514",
   "metadata": {},
   "outputs": [
    {
     "data": {
      "text/plain": [
       "'YES'"
      ]
     },
     "execution_count": 280,
     "metadata": {},
     "output_type": "execute_result"
    }
   ],
   "source": [
    "abbreviation_1(rand_A,rand_B)\n"
   ]
  },
  {
   "cell_type": "code",
   "execution_count": 281,
   "id": "17573359-2e67-4588-997b-865df713ac9c",
   "metadata": {},
   "outputs": [
    {
     "data": {
      "text/plain": [
       "'NO'"
      ]
     },
     "execution_count": 281,
     "metadata": {},
     "output_type": "execute_result"
    }
   ],
   "source": [
    "abbreviation(rand_A,rand_B)"
   ]
  },
  {
   "cell_type": "code",
   "execution_count": 237,
   "id": "9836177e-cf06-4189-9499-714e64ebfafe",
   "metadata": {},
   "outputs": [
    {
     "data": {
      "text/plain": [
       "{-1: (0, 0)}"
      ]
     },
     "execution_count": 237,
     "metadata": {},
     "output_type": "execute_result"
    }
   ],
   "source": [
    "list_bot"
   ]
  },
  {
   "cell_type": "code",
   "execution_count": 238,
   "id": "1154f371-8366-47a1-b815-954053162e83",
   "metadata": {},
   "outputs": [
    {
     "data": {
      "text/plain": [
       "{-1: (0, 0),\n",
       " 0: (1, 1),\n",
       " 1: (1, 2),\n",
       " 2: (1, 3),\n",
       " 3: (2, 4),\n",
       " 4: (2, 5),\n",
       " 5: (3, 6),\n",
       " 6: (3, 7),\n",
       " 7: (3, 8),\n",
       " 8: (3, 9),\n",
       " 9: (5, 10),\n",
       " 10: (5, 11),\n",
       " 11: (5, 12),\n",
       " 12: (6, 13),\n",
       " 13: (6, 14),\n",
       " 14: (6, 15),\n",
       " 15: (7, 16),\n",
       " 16: (7, 17),\n",
       " 17: (8, 18)}"
      ]
     },
     "execution_count": 238,
     "metadata": {},
     "output_type": "execute_result"
    }
   ],
   "source": [
    "list_right"
   ]
  },
  {
   "cell_type": "code",
   "execution_count": 175,
   "id": "6cedb984-19ea-4601-b081-59e0c314ecf8",
   "metadata": {},
   "outputs": [],
   "source": [
    "str1 = 'dsada'"
   ]
  },
  {
   "cell_type": "code",
   "execution_count": 177,
   "id": "8ff7cef8-fe91-46a7-acf3-ad1962ab1917",
   "metadata": {},
   "outputs": [],
   "source": [
    "str2 = str1"
   ]
  },
  {
   "cell_type": "code",
   "execution_count": 179,
   "id": "e3d5eae2-cd66-44f0-9a0d-dd5ba40dd0de",
   "metadata": {},
   "outputs": [
    {
     "data": {
      "text/plain": [
       "['d', 's', 'a', 'd', 'a']"
      ]
     },
     "execution_count": 179,
     "metadata": {},
     "output_type": "execute_result"
    }
   ],
   "source": [
    "list(str1)"
   ]
  },
  {
   "cell_type": "code",
   "execution_count": 178,
   "id": "ac7f3238-1907-4a26-98cc-586e1e269a72",
   "metadata": {},
   "outputs": [
    {
     "ename": "TypeError",
     "evalue": "'str' object does not support item assignment",
     "output_type": "error",
     "traceback": [
      "\u001b[1;31m---------------------------------------------------------------------------\u001b[0m",
      "\u001b[1;31mTypeError\u001b[0m                                 Traceback (most recent call last)",
      "Cell \u001b[1;32mIn[178], line 1\u001b[0m\n\u001b[1;32m----> 1\u001b[0m \u001b[43mstr2\u001b[49m\u001b[43m[\u001b[49m\u001b[38;5;241;43m0\u001b[39;49m\u001b[43m]\u001b[49m \u001b[38;5;241m=\u001b[39m \u001b[38;5;241m1\u001b[39m\n",
      "\u001b[1;31mTypeError\u001b[0m: 'str' object does not support item assignment"
     ]
    }
   ],
   "source": [
    "str2[0] = 1"
   ]
  },
  {
   "cell_type": "code",
   "execution_count": null,
   "id": "60b205da-4b69-4054-a4dd-c7c368ae4554",
   "metadata": {},
   "outputs": [],
   "source": [
    "''.join(random.choices(string.ascii_letters, k=rand_n_A))"
   ]
  },
  {
   "cell_type": "code",
   "execution_count": 169,
   "id": "1c21c6dd-f962-4642-99a2-b97d4c1a2ca4",
   "metadata": {},
   "outputs": [
    {
     "data": {
      "text/plain": [
       "'NO'"
      ]
     },
     "execution_count": 169,
     "metadata": {},
     "output_type": "execute_result"
    }
   ],
   "source": [
    "ans2"
   ]
  },
  {
   "cell_type": "code",
   "execution_count": 149,
   "id": "24af864a-7729-40fa-8ed1-84ca86318905",
   "metadata": {},
   "outputs": [
    {
     "data": {
      "text/plain": [
       "'NO'"
      ]
     },
     "execution_count": 149,
     "metadata": {},
     "output_type": "execute_result"
    }
   ],
   "source": [
    "ans1"
   ]
  },
  {
   "cell_type": "code",
   "execution_count": 150,
   "id": "44d275c1-7f2c-4a04-bc3b-fd685e4dec50",
   "metadata": {},
   "outputs": [
    {
     "data": {
      "text/plain": [
       "'NO'"
      ]
     },
     "execution_count": 150,
     "metadata": {},
     "output_type": "execute_result"
    }
   ],
   "source": [
    "ans2"
   ]
  },
  {
   "cell_type": "code",
   "execution_count": 147,
   "id": "d1fc435d-af12-4e9c-834c-d703a53f84f4",
   "metadata": {},
   "outputs": [
    {
     "data": {
      "text/plain": [
       "'KWpELiBwSkfaBMuGvzPOSyFWIhEtYBmbAQShHjAeIpxyHFKOPxqALPEaWsShGXDgphovmpjsmobUfxvBUugLVlZfhSqwbzesaFyHIRNkmhDYXqDibuBXtcWNUTySHrBcSDxvIorfswODCqiJlWteFFKKtUtuFzajnRPCsdxtnYNPMnxIVFIfjFLjGAvNmcwgUUrZQenVWzcfCSFvEuSyKmSnppTeKILTjknARauDhnxnDJhKhuOoMZjcyCIhFePxkwxNLMAqWUUvQWWhsdcGbPbyPXKfeanxZpaeuGEmrmyaakYAlYPhraPMdYLYIAmeXbJJHNAwHXhmPjbRqtvLQkkHrRoBxKqnYIarHsfzbhUtSOWMKDckYrGllCZPWVKtIrcJWcJaOqhayZBNXHcgfXAUcLdtDDCCdisJWfetInNQrYVZyQAtujXuRKUDxERLEoYqNBIAFPKTZFtYjZFYAZxaZHmudQgjMhwpvYCxeUTvQCZQaAAmzqNxkkDwNbNrQtHNswQmbqFPrUvownlZWTaheNzYswfjFQqhjhZmyCnUbNXJXwmnrDfWWYbulNmyapOevkWPzWsplHjWKiHpTTkLaFNSbTwetgazUlfdtKMCxOAyeiwWnsqfZxNetdyZlLPiXavMyMiRZBkDauOUArhxqwHFqJeQduthQothfqdBuSHfUAeVdCFxTxZpcjyVxkaPKJrxmPrQDdrAURFmVkrenFcrCRWAhqQxOrFICGUXdzlfBBAFJJWiSoFqGTcwdHHYRjqbuEWaDRsDNshlYNiGZHdUswlmSDTgPxAGqcWXNZrCStQGkFMSSnXgxDoFLWcPsVdHMoiPWlYojfPRghSxsSKdRyCdvxgvWkNgckZpObjzjkbmUhVDAUugxFCyXmEJlZmYWALvZZKxwQeZ'"
      ]
     },
     "execution_count": 147,
     "metadata": {},
     "output_type": "execute_result"
    }
   ],
   "source": [
    "rand_A"
   ]
  },
  {
   "cell_type": "code",
   "execution_count": 148,
   "id": "1f537b37-0686-4c97-bc0b-37ea22c913f0",
   "metadata": {},
   "outputs": [
    {
     "data": {
      "text/plain": [
       "'XENJCLNZXSERWAFBGHABLHQNKONUUTWFPHKORAEYDPGVTVTVCZDWKAEMCEBBAWBFXWWBCHLQJQPVDPMMIGGPNFOAXTMGKSTQJZMXXIYBFOUVJPZJTADDLBHMLZRFXBKIUVSBIRUZTOZWRHCFQFKPMOLPYOSMZTQDCCYBSRZSBXYZVHLRQHQIMVCUKJVRHGYJJJACNCOSQQKXAIZCDOEUBAEMHUUXKIJETDCOZNJXFUHPXLMQXLHPGYPMYJXEAWPQQUTCQJWDGPQMUVNKARFUWMADNANAHQNOCCRBUOYYFOGSGPOQYPMRQMWGRHTYGVARTVDRXHLDFTOXESGUZLHKYOKCWNCBPOTYJAPZJPDEDIXYNTAFKPFWIWTOBBAEQYNCNVRNHFZKTHYSEXVXQTWBVJGRNHZWVHHTEDTIADJJTVTQUWZMEUFYCYBWEYIMKRCSPOOINYJBPGJUONQCNWWBJHWNVNDBDWXRWFOHITBRHLWRYRJAEDMQASDLFLRZLCPHMPZTQDBETSVOAIIPSYKKTGOFNGSHIRNMSGUWDUQGZTWBSGIDJIBSTBWPPOPZQULSNYLKHHDHIVYYTIGCUBSRUUVBJJMTMQNHBKAQGUWZGXQOBGJOYBACJGQZYQLWFSEDCNYCVKPHCPJPKXRYZKTJJMBXBCFZNVNFXCKDDSVEDXTBXHDYNWQJHKLCOEIOOFEHQEGVEAVLHLZSWVSZJATSXZPATXJMGGDTLNENWHGLRVIWQLBDBMPDNLYOLDLUDZNIHXELVLJAHDOCIFYJXXWBEVZKFLSBJTQNXMOUYXPVZYYHYVVLYNQLAJKQIWLLSMKKTZFHWCNDGAJKAUGMDDEWETZTFLQBWUSLUJUGDJOQQIFYVYBFKTGJURNEZOZWNXEQPTQGBVBOESVSRBHKHKEQOAZJHZJKTZBVULKAPKMHPTCTYMBEQUIGKEUNKDGYNXUAXYRAKTOWIKIHCYJEIQDSHFZVBPVF'"
      ]
     },
     "execution_count": 148,
     "metadata": {},
     "output_type": "execute_result"
    }
   ],
   "source": [
    "rand_B"
   ]
  },
  {
   "cell_type": "code",
   "execution_count": 144,
   "id": "4cd6c674-1138-4d5a-bec9-ff4fd4cb1e88",
   "metadata": {},
   "outputs": [
    {
     "data": {
      "text/plain": [
       "True"
      ]
     },
     "execution_count": 144,
     "metadata": {},
     "output_type": "execute_result"
    }
   ],
   "source": [
    "ans1 == ans2"
   ]
  },
  {
   "cell_type": "markdown",
   "id": "8e94f76d-e156-4120-a3a9-03f50ca67794",
   "metadata": {},
   "source": [
    "# Backup"
   ]
  },
  {
   "cell_type": "code",
   "execution_count": null,
   "id": "24f5ff49-dfba-4d18-90ee-41c48edb03f7",
   "metadata": {},
   "outputs": [],
   "source": [
    "# def abbreviation(a, b):\n",
    "#     # Write your code here\n",
    "    \n",
    "#     global list_bot, list_right, list_prev_bot, list_prev_right, a_caps\n",
    "    \n",
    "#     a_caps = [char for char in a if char.isupper()]    \n",
    "\n",
    "#     list_prev_right = {-1:(0,0)}\n",
    "#     list_prev_bot = {-1:(0,0)}\n",
    "    \n",
    "    \n",
    "#     b_ismatched = [False for char in b]\n",
    "#     cur_b_i = 0\n",
    "#     for a_char in a_caps:\n",
    "#         a_matched = False\n",
    "#         for j, b_char in enumerate(b[cur_b_i:]):\n",
    "#             if a_char == b_char:\n",
    "#                 a_matched=True\n",
    "#                 b_ismatched[cur_b_i+j] = True\n",
    "#                 break\n",
    "#             else:\n",
    "#                 b_ismatched[cur_b_i+j] = False\n",
    "        \n",
    "#         if not a_matched:\n",
    "#             return 'NO'\n",
    "        \n",
    "#         cur_b_i += j+1\n",
    "    \n",
    "    \n",
    "#     for i in range(len(a)):\n",
    "        \n",
    "#         print(f'iteration [{i}]')\n",
    "        \n",
    "#         list_right = {-1:(0,0)}\n",
    "#         list_bot = {-1:(0,0)}\n",
    "         \n",
    "\n",
    "                 \n",
    "#         right_max = min(len(a)-1, i)\n",
    "#         left_max = min(len(b)-1, i)\n",
    "        \n",
    "#         left_max = min(len(a)-1, i)\n",
    "#         right_max = min(len(b)-1, i)\n",
    "\n",
    "\n",
    "        \n",
    "#         if i < len(a):\n",
    "#             a_char = a[i]\n",
    "#             #fill right\n",
    "#             for j in range(min(i,len(b))):\n",
    "# #             for j in range(right_max):\n",
    "#                     if a_char.upper() == b[j]:\n",
    "        \n",
    "#                         to_add = (1,1) if a_char.isupper() else (0,0)\n",
    "#                         tuple_sum = tuple(sum(x) for x in zip(list_prev_right[j-1],to_add))\n",
    "\n",
    "#                         if a_char.isupper():\n",
    "#                             #list_right[j] = list_prev_right[j-1] + (1,1)\n",
    "#                             list_right[j] = tuple(sum(x) for x in zip(list_prev_right[j-1],(1,1)))\n",
    "#                         else:\n",
    "#                             #list_right[j] = list_prev_right[j-1] + (0,1)\n",
    "#                             list_right[j] = tuple(sum(x) for x in zip(list_prev_right[j-1],(0,1)))\n",
    "\n",
    "#                     else:\n",
    "#                         list_right[j] = max(list_prev_right[j-1], list_prev_right[j], list_right[j-1])\n",
    "\n",
    "#         if i < len(b):\n",
    "#             b_char = b[i]\n",
    "#             for j in range(min(i,len(a))):\n",
    "# #             for j in range(left_max):       \n",
    "\n",
    "#                     if b_char == a[j].upper():\n",
    "\n",
    "#                         if a[j].isupper():\n",
    "#                             #list_bot[j] = list_prev_bot[j-1] + (1,1)\n",
    "#                             list_bot[j] = tuple(sum(x) for x in zip(list_prev_bot[j-1],(1,1)))\n",
    "                            \n",
    "#                         else:\n",
    "#                             #list_bot[j] = list_prev_bot[j-1] + (0,1)\n",
    "#                             list_bot[j] = tuple(sum(x) for x in zip(list_prev_bot[j-1],(0,1)))\n",
    "\n",
    "#                     else:\n",
    "#                         list_bot[j] = max(list_prev_bot[j-1], list_prev_bot[j], list_bot[j-1])\n",
    "                \n",
    "#         print(list_right)\n",
    "#         print(list_bot)\n",
    "        \n",
    "#         print(f'R=[{right_max}] | B=[{left_max}]')\n",
    "        \n",
    "    \n",
    "    \n",
    "    \n",
    "                \n",
    "#         if right_max == left_max:\n",
    "# #             print('in ==')\n",
    "#             if a_char.upper() == b_char:\n",
    "#                 if a_char.isupper():\n",
    "#                     #list_bot[i] = list_prev_bot[i-1] + (1,1)\n",
    "#                     list_bot[i] = tuple(sum(x) for x in zip(list_prev_bot[i-1],(1,1)))\n",
    "#                     list_right[i] = list_bot[i]\n",
    "#                 else:\n",
    "#                     #list_bot[i] = list_prev_bot[i-1] + (0,1)\n",
    "#                     list_bot[i] = tuple(sum(x) for x in zip(list_prev_bot[i-1],(0,1)))\n",
    "#                     list_right[i] = list_bot[i]\n",
    "\n",
    "#             else:\n",
    "#                 list_bot[i] = max(list_bot[i-1], list_prev_bot[i-1], list_right[i-1])\n",
    "#                 list_right[i] = list_bot[i]\n",
    "\n",
    "                \n",
    "#         print('----')\n",
    "                        \n",
    "#         print(list_right)\n",
    "#         print(list_bot)\n",
    "           \n",
    "#         print('----------------------')\n",
    "                \n",
    "                \n",
    "#         list_prev_right = list_right\n",
    "#         list_prev_bot = list_bot\n",
    "\n",
    "        \n",
    "    \n",
    "#     j_max = min(len(a),len(b)) - 1\n",
    "    \n",
    "#     if len(a) > len(b):\n",
    "# #         print(len(list_right))\n",
    "# #         print(list_right[j_max])\n",
    "#         if list_right[j_max][0] == len(a_caps) and list_right[j_max][1] == len(b):\n",
    "#             ans = 'YES'\n",
    "#         else:\n",
    "#             ans = 'NO'\n",
    "\n",
    "#     else:\n",
    "        \n",
    "# #         print(list_bot[j_max])\n",
    "        \n",
    "#         if list_bot[j_max][0] == len(a_caps) and list_bot[j_max][1] == len(b):\n",
    "#             ans = 'YES'\n",
    "#         else:\n",
    "#             ans = 'NO'\n",
    "\n",
    "# #     print(ans)\n",
    "        \n",
    "#     return ans\n",
    "            \n",
    "# #Unhandled case lenA != lenB\n",
    "        "
   ]
  }
 ],
 "metadata": {
  "kernelspec": {
   "display_name": "Python [conda env:hackerrank]",
   "language": "python",
   "name": "conda-env-hackerrank-py"
  },
  "language_info": {
   "codemirror_mode": {
    "name": "ipython",
    "version": 3
   },
   "file_extension": ".py",
   "mimetype": "text/x-python",
   "name": "python",
   "nbconvert_exporter": "python",
   "pygments_lexer": "ipython3",
   "version": "3.11.3"
  }
 },
 "nbformat": 4,
 "nbformat_minor": 5
}
