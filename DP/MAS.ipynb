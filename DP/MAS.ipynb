{
 "cells": [
  {
   "cell_type": "code",
   "execution_count": null,
   "id": "b7e6443a-2219-437f-9c84-07046470c02c",
   "metadata": {},
   "outputs": [],
   "source": [
    "#!/bin/python3\n",
    "\n",
    "import math\n",
    "import os\n",
    "import random\n",
    "import re\n",
    "import sys\n",
    "\n",
    "# Complete the maxSubsetSum function below.\n",
    "\n",
    "\n",
    "\n"
   ]
  },
  {
   "cell_type": "code",
   "execution_count": 1,
   "id": "9e066c92-8261-4998-8274-9e6111f71b31",
   "metadata": {},
   "outputs": [],
   "source": [
    "def maxSubsetSum(arr):\n",
    "    \n",
    "    \n",
    "    arr = [max(0, num) for num in arr]\n",
    "    \n",
    "    list_max = [0, 0]\n",
    "    \n",
    "    for i, num in enumerate(arr):\n",
    "        \n",
    "        max_with = list_max[i] + num\n",
    "        max_without = list_max[i+1]\n",
    "        \n",
    "        max_new = max(max_with, max_without)\n",
    "        list_max.append(max_new)\n",
    "        \n",
    "    return list_max[-1]\n",
    "            \n",
    "    "
   ]
  },
  {
   "cell_type": "code",
   "execution_count": null,
   "id": "aded02e6-97a4-4301-95d5-f724f7d35b36",
   "metadata": {},
   "outputs": [],
   "source": [
    "name_test = 'slow04.txt'\n",
    "\n",
    "f_input = open(f\"./in/{name_test}\", \"r\")\n",
    "\n",
    "if __name__ == '__main__':\n",
    "    fptr = open(os.environ['OUTPUT_PATH'], 'w')\n",
    "\n",
    "    n = int(f_input.readline())\n",
    "\n",
    "    arr = list(map(int, f_input.readline().rstrip().split()))\n",
    "\n",
    "    res = maxSubsetSum(arr)\n",
    "\n",
    "    fptr.write(str(res) + '\\n')\n",
    "\n",
    "    fptr.close()"
   ]
  }
 ],
 "metadata": {
  "kernelspec": {
   "display_name": "Python [conda env:hackerrank]",
   "language": "python",
   "name": "conda-env-hackerrank-py"
  },
  "language_info": {
   "codemirror_mode": {
    "name": "ipython",
    "version": 3
   },
   "file_extension": ".py",
   "mimetype": "text/x-python",
   "name": "python",
   "nbconvert_exporter": "python",
   "pygments_lexer": "ipython3",
   "version": "3.11.3"
  }
 },
 "nbformat": 4,
 "nbformat_minor": 5
}
