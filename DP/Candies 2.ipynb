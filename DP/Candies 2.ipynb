{
 "cells": [
  {
   "cell_type": "markdown",
   "id": "4192762e-999a-43d6-b20f-4e2c87014da3",
   "metadata": {},
   "source": [
    "# Main"
   ]
  },
  {
   "cell_type": "code",
   "execution_count": 2,
   "id": "64fb5de8-d1c0-49a7-a22c-99bc8f32bbd8",
   "metadata": {},
   "outputs": [],
   "source": [
    "#!/bin/python3\n",
    "\n",
    "import math\n",
    "import os\n",
    "import random\n",
    "import re\n",
    "import sys\n",
    "\n",
    "\n"
   ]
  },
  {
   "cell_type": "markdown",
   "id": "ff4df250-9bba-4c0b-9107-22f5845ba484",
   "metadata": {},
   "source": [
    "## Func"
   ]
  },
  {
   "cell_type": "code",
   "execution_count": 140,
   "id": "00f510fc-e5f3-43b7-b76f-bf5cdd64d82e",
   "metadata": {},
   "outputs": [],
   "source": [
    "def candies(n, arr):\n",
    "    \n",
    "    \n",
    "    \n",
    "    global list_c, list_acc, new_arr\n",
    "    \n",
    "    list_acc = []\n",
    "    list_c = []\n",
    "\n",
    "    new_arr = arr.copy()\n",
    "    \n",
    "    print(new_arr)\n",
    "    \n",
    "    new_arr.append(float('inf'))\n",
    "    \n",
    "    prev_num = 0\n",
    "    prev_acc = 0\n",
    "    prev_c = 0\n",
    "    cur_c = 0\n",
    "    \n",
    "    for i, num in enumerate(new_arr):\n",
    "        \n",
    "        \n",
    "#         print(f'iteration {i}')\n",
    "#         print(f'num {num}')\n",
    "        \n",
    "        if num > prev_num:\n",
    "            \n",
    "#             print('Bigger number')\n",
    "            \n",
    "            if list_acc:\n",
    "            \n",
    "                #Iterate in reverse\n",
    "                \n",
    "                list_c_sub = []\n",
    "                \n",
    "                #prev_acc = 0\n",
    "                \n",
    "                #prev_acc_initial = prev_acc_c\n",
    "                \n",
    "                cur_c = 0\n",
    "                \n",
    "                prev_acc = 0\n",
    "                \n",
    "                \n",
    "#                 if i==13:\n",
    "#                     print(f'list_acc = {list_acc}')\n",
    "                \n",
    "                for num_acc in list_acc[::-1]:\n",
    "                    \n",
    "                    if num_acc > prev_acc:\n",
    "                        cur_c += 1\n",
    "                        \n",
    "#                         if i==13:\n",
    "#                             print(f'case greater: [{num_acc}] and [{prev_acc}]')\n",
    "#                             print(f'cur_c = {cur_c}')\n",
    "                        \n",
    "                        \n",
    "                    elif num_acc == prev_acc:\n",
    "                        cur_c = 1\n",
    "                        \n",
    "#                         if i==13:\n",
    "#                             print(f'case equal: [{num_acc}] and [{prev_acc}]')\n",
    "                        \n",
    "                        \n",
    "                    list_c_sub.append(cur_c)\n",
    "                    prev_acc = num_acc\n",
    "                    \n",
    "\n",
    "#                 print(f'prev_c = [{prev_c}]')\n",
    "                    \n",
    "#                 print(list_c_sub[::-1])\n",
    "\n",
    "#                 print(f'max of [{prev_c + 1}] and [{list_c_sub[-1]}]')\n",
    "\n",
    "                list_c_sub[-1] = max(prev_c + 1, list_c_sub[-1])\n",
    "                    \n",
    "                    \n",
    "#                 print(list_c_sub[::-1])\n",
    "            \n",
    "                list_c.extend(list_c_sub[::-1])\n",
    "                \n",
    "                prev_c = list_c[-1]\n",
    "               \n",
    "\n",
    "            list_acc = [num]\n",
    "            \n",
    "#             cur_c = list_acc[0] # not needed?\n",
    "        else:\n",
    "#             print('Small Number')\n",
    "            \n",
    "            \n",
    "#             if num == prev_num:\n",
    "#             cur_c = prev_c-1\n",
    "                \n",
    "            list_acc.append(num)\n",
    "            \n",
    "#         print(list_acc)\n",
    "#         print('-------------------')\n",
    "        prev_num = num\n",
    "#         prev_c = cur_c\n",
    "        \n",
    "#         print(list_c)\n",
    "#         print('-------------------')\n",
    "                      \n",
    "                      \n",
    "                      \n",
    "        \n",
    "    total = sum(list_c[:])\n",
    "#     print(new_arr[:-1])\n",
    "#     print(list_c[:])\n",
    "    print(list_c)\n",
    "    print(total)\n",
    "    return total\n",
    "        \n",
    "        \n",
    "        \n",
    "        "
   ]
  },
  {
   "cell_type": "markdown",
   "id": "8faec92e-fe13-4d37-b6b7-b29701745722",
   "metadata": {},
   "source": [
    "## Run"
   ]
  },
  {
   "cell_type": "code",
   "execution_count": 146,
   "id": "e23d73e7-7338-4b97-9226-2ae3c82652c8",
   "metadata": {},
   "outputs": [
    {
     "name": "stdout",
     "output_type": "stream",
     "text": [
      "[2, 4, 3, 5, 2, 6, 4, 5]\n",
      "[1, 2, 1, 2, 1, 2, 1, 2]\n",
      "12\n"
     ]
    }
   ],
   "source": [
    "name_test = 'ca02.txt'\n",
    "\n",
    "f_input = open(f\"./in/{name_test}\", \"r\")\n",
    "\n",
    "if __name__ == '__main__':\n",
    "    n = int(f_input.readline().strip())\n",
    "\n",
    "    arr = []\n",
    "\n",
    "    for _ in range(n):\n",
    "        arr_item = int(f_input.readline().strip())\n",
    "        arr.append(arr_item)\n",
    "\n",
    "    result = candies(n, arr)\n"
   ]
  },
  {
   "cell_type": "code",
   "execution_count": 32,
   "id": "da85b30c-2cfe-4824-af7a-4ee6c88c4a83",
   "metadata": {},
   "outputs": [
    {
     "name": "stdout",
     "output_type": "stream",
     "text": [
      "[1, 2, 2]\n",
      "[1]\n",
      "[1, 1]\n",
      "[1, 1, 1]\n",
      "3\n"
     ]
    },
    {
     "data": {
      "text/plain": [
       "3"
      ]
     },
     "execution_count": 32,
     "metadata": {},
     "output_type": "execute_result"
    }
   ],
   "source": [
    "candies(n, arr)"
   ]
  },
  {
   "cell_type": "markdown",
   "id": "61311132-645d-452f-8a41-da6b31c99601",
   "metadata": {},
   "source": [
    "# Manual Tests"
   ]
  },
  {
   "cell_type": "code",
   "execution_count": 9,
   "id": "2f09b74a-bdfe-4f8d-bebb-e41ca87e8613",
   "metadata": {},
   "outputs": [],
   "source": [
    "import random"
   ]
  },
  {
   "cell_type": "code",
   "execution_count": 36,
   "id": "d14a6007-9a97-43da-8366-b6a94bd0a7c2",
   "metadata": {},
   "outputs": [],
   "source": [
    "rand_list = [random.randint(1,100) for i in range(50)]"
   ]
  },
  {
   "cell_type": "code",
   "execution_count": 127,
   "id": "f803b867-7ec3-47ff-9f1a-a1f3a313dfe3",
   "metadata": {},
   "outputs": [],
   "source": [
    "substr = \"\\n\".join([str(num) for num in rand_list])\n",
    "out = f'{len(rand_list)}\\n{substr}'"
   ]
  },
  {
   "cell_type": "code",
   "execution_count": 128,
   "id": "771ac58b-417e-4c89-b8b3-23ae50a92b3f",
   "metadata": {},
   "outputs": [],
   "source": [
    "f = open(\"./in/cae01.txt\", \"w\")\n",
    "f.write(out)\n",
    "f.close()"
   ]
  },
  {
   "cell_type": "code",
   "execution_count": 122,
   "id": "ccad7111-ef3b-4c38-8793-2f91714c4421",
   "metadata": {},
   "outputs": [
    {
     "data": {
      "text/plain": [
       "50"
      ]
     },
     "execution_count": 122,
     "metadata": {},
     "output_type": "execute_result"
    }
   ],
   "source": [
    "len(rand_list)"
   ]
  },
  {
   "cell_type": "code",
   "execution_count": 67,
   "id": "b76dfe81-ba52-4e68-a8e0-370b2bf99b33",
   "metadata": {},
   "outputs": [],
   "source": [
    "rand_list = rand_list[0:50]"
   ]
  },
  {
   "cell_type": "markdown",
   "id": "07e42c1c-00d9-43a7-94c8-673069765228",
   "metadata": {},
   "source": [
    "## Test"
   ]
  },
  {
   "cell_type": "code",
   "execution_count": 206,
   "id": "6d6e6bce-e91a-4d2a-af4b-518315f90320",
   "metadata": {},
   "outputs": [
    {
     "name": "stdout",
     "output_type": "stream",
     "text": [
      "offset 0\n",
      "[1]\n",
      "[1]\n",
      "16\n",
      "offset 0\n",
      "[2, 1]\n",
      "[2, 1]\n",
      "91\n",
      "in special condition\n",
      "i 3\n",
      "2 -> 2\n",
      "offset 1\n",
      "[2, 1, 0]\n",
      "[3, 2, 1]\n",
      "71\n",
      "in special condition\n",
      "i 6\n",
      "3 -> 2\n",
      "offset -1\n",
      "[2]\n",
      "[1]\n",
      "65\n",
      "in special condition\n",
      "i 7\n",
      "1 -> 2\n",
      "offset 0\n",
      "[3, 2, 1]\n",
      "[3, 2, 1]\n",
      "90\n",
      "in special condition\n",
      "i 10\n",
      "3 -> 3\n",
      "[16, 91, 29, 71, 44, 29, 65, 90, 85, 53]\n",
      "[1, 2, 1, 3, 2, 1, 2, 3, 2, 1]\n",
      "18\n"
     ]
    },
    {
     "data": {
      "text/plain": [
       "18"
      ]
     },
     "execution_count": 206,
     "metadata": {},
     "output_type": "execute_result"
    }
   ],
   "source": [
    "candies(len(rand_list[40:]), rand_list[40:])"
   ]
  },
  {
   "cell_type": "markdown",
   "id": "ce1ca3cd-8f8c-4d06-bfe5-06c2d8fd6681",
   "metadata": {},
   "source": [
    "## Repeats"
   ]
  },
  {
   "cell_type": "code",
   "execution_count": 411,
   "id": "5a70ad7d-9239-45d9-8e2c-7cf7890bdb54",
   "metadata": {},
   "outputs": [],
   "source": [
    "list_case1 = [5,5,5,5,5,5,5,5,5,5]"
   ]
  },
  {
   "cell_type": "code",
   "execution_count": 412,
   "id": "81dc89c5-28cf-4039-92b7-64bf3dabe34b",
   "metadata": {},
   "outputs": [
    {
     "name": "stdout",
     "output_type": "stream",
     "text": [
      "[1, 1, 1, 1, 1, 1, 1, 1, 1, 1]\n",
      "[1, 1, 1, 1, 1, 1, 1, 1, 1, 1]\n",
      "10\n"
     ]
    },
    {
     "data": {
      "text/plain": [
       "10"
      ]
     },
     "execution_count": 412,
     "metadata": {},
     "output_type": "execute_result"
    }
   ],
   "source": [
    "candies(len(list_case1), list_case1)"
   ]
  },
  {
   "cell_type": "code",
   "execution_count": 299,
   "id": "56c7125e-5a68-4ff3-a53d-d996865d943c",
   "metadata": {},
   "outputs": [
    {
     "data": {
      "text/plain": [
       "[10, 9, 8, 7, 6, 5, 4, 3, 2, 1]"
      ]
     },
     "execution_count": 299,
     "metadata": {},
     "output_type": "execute_result"
    }
   ],
   "source": [
    "list_c"
   ]
  },
  {
   "cell_type": "markdown",
   "id": "2ed51633-f271-4a55-a15b-1ef36f0169e7",
   "metadata": {},
   "source": [
    "## Repeats Var"
   ]
  },
  {
   "cell_type": "code",
   "execution_count": 137,
   "id": "8f086fba-bedf-4058-9aaa-22aa9a376af0",
   "metadata": {},
   "outputs": [],
   "source": [
    "# list_case1 = [1,2,3,4, 5,5,5,5,5,5, 4, 6, 7, 8]\n",
    "# Ans should be [1, 2, 3, 4, 5, 1, 1, 1, 1, 2, 1, 2, 3, 4]\n",
    "\n",
    "list_case1 = [1,2,3,4, 9, 8, 7, 6,5,5,5, 5, 4,3, 2, 1, 5]\n",
    "\n",
    "\n",
    "# list_case1 = [1,2,3,4, 5,5,5,5,5,5, 6, 7, 8]\n",
    "\n",
    "# list_case1 = [1,2,3,4, 5,5,5,5,5,5, 6, 7, 8]\n",
    "# \n",
    "# list_case1 = [4,5,4,4,3]\n",
    "\n",
    "\n",
    "# list_case1 = [1,2,3,4, 9, 8, 7, 6,5,4, 4, 4, 4]\n"
   ]
  },
  {
   "cell_type": "code",
   "execution_count": 101,
   "id": "fd7b8aee-0907-4b38-b77e-8af3373ea7bd",
   "metadata": {},
   "outputs": [
    {
     "data": {
      "text/plain": [
       "[1, 2, 3, 4, 9, 8, 7, 6, 5, 4, 4, 4, 4]"
      ]
     },
     "execution_count": 101,
     "metadata": {},
     "output_type": "execute_result"
    }
   ],
   "source": [
    "list_case1"
   ]
  },
  {
   "cell_type": "code",
   "execution_count": 138,
   "id": "cb1036e1-a572-414b-bc89-d623a2a5bf64",
   "metadata": {},
   "outputs": [
    {
     "name": "stdout",
     "output_type": "stream",
     "text": [
      "[1, 2, 3, 4, 9, 8, 7, 6, 5, 5, 5, 5, 4, 3, 2, 1, 5]\n",
      "iteration 0\n",
      "iteration 1\n",
      "iteration 2\n",
      "iteration 3\n",
      "iteration 4\n",
      "iteration 5\n",
      "iteration 6\n",
      "iteration 7\n",
      "iteration 8\n",
      "iteration 9\n",
      "iteration 10\n",
      "iteration 11\n",
      "iteration 12\n",
      "iteration 13\n",
      "iteration 14\n",
      "iteration 15\n",
      "iteration 16\n",
      "iteration 17\n",
      "[1, 2, 3, 4, 5, 4, 3, 2, 1, 1, 1, 5, 4, 3, 2, 1, 2]\n",
      "44\n"
     ]
    },
    {
     "data": {
      "text/plain": [
       "44"
      ]
     },
     "execution_count": 138,
     "metadata": {},
     "output_type": "execute_result"
    }
   ],
   "source": [
    "candies(len(list_case1), list_case1)"
   ]
  },
  {
   "cell_type": "code",
   "execution_count": 406,
   "id": "44add83f-ccf0-4e42-bd65-24bed6cec639",
   "metadata": {
    "tags": []
   },
   "outputs": [
    {
     "data": {
      "text/plain": [
       "[1, 2, 3, 4, 9, 8, 7, 6, 1, 1, 1, 1, 4, 3, 2, 1, 2]"
      ]
     },
     "execution_count": 406,
     "metadata": {},
     "output_type": "execute_result"
    }
   ],
   "source": [
    "list_c"
   ]
  },
  {
   "cell_type": "markdown",
   "id": "65a3fd73-5882-42ad-8c85-314924b782b7",
   "metadata": {},
   "source": [
    "# Auto Tests"
   ]
  },
  {
   "cell_type": "markdown",
   "id": "416585e6-b2b8-4812-8b2a-e2cbde31a3ae",
   "metadata": {},
   "source": [
    "## Checker"
   ]
  },
  {
   "cell_type": "code",
   "execution_count": 440,
   "id": "428a7217-63dc-4e63-af55-3dca13a99d31",
   "metadata": {},
   "outputs": [],
   "source": [
    "def check(arr_num, arr_c, total):\n",
    "    \n",
    "    is_true = True\n",
    "    \n",
    "    #Check adjacent relationships\n",
    "    for i in range(len(arr_c)-1):\n",
    "        \n",
    "        if (arr_num[i+1] > arr_num[i] and arr_c[i+1] > arr_c[i]) or (arr_num[i+1] < arr_num[i] and arr_c[i+1] < arr_c[i]) or (arr_num[i+1] == arr_num[i] and arr_c[i+1] <= arr_c[i]):\n",
    "            pass\n",
    "#             print('true')\n",
    "            \n",
    "        else:\n",
    "            print('False')\n",
    "            print(f'adjacent error at iteration [{i}]')\n",
    "            is_true = False\n",
    "            break\n",
    "            \n",
    "    #Check min - should be 1\n",
    "    \n",
    "    min_c = min(arr_c)\n",
    "    \n",
    "    if min_c != 1:\n",
    "        is_true = False\n",
    "        print(f'min error at iteration [{i}]')\n",
    "        \n",
    "            \n",
    "    \n",
    "            \n",
    "    return is_true\n",
    "        "
   ]
  },
  {
   "cell_type": "code",
   "execution_count": 213,
   "id": "5ca40794-d420-44a6-a733-4965c1033dd9",
   "metadata": {},
   "outputs": [
    {
     "name": "stdout",
     "output_type": "stream",
     "text": [
      "108\n"
     ]
    },
    {
     "data": {
      "text/plain": [
       "108"
      ]
     },
     "execution_count": 213,
     "metadata": {},
     "output_type": "execute_result"
    }
   ],
   "source": [
    "candies(n,arr)"
   ]
  },
  {
   "cell_type": "code",
   "execution_count": 215,
   "id": "f6bb31de-88aa-40e1-95c2-8e37ea5bbc15",
   "metadata": {
    "collapsed": true,
    "jupyter": {
     "outputs_hidden": true
    },
    "tags": []
   },
   "outputs": [
    {
     "data": {
      "text/plain": [
       "[1,\n",
       " 2,\n",
       " 1,\n",
       " 2,\n",
       " 3,\n",
       " 1,\n",
       " 2,\n",
       " 3,\n",
       " 4,\n",
       " 3,\n",
       " 2,\n",
       " 1,\n",
       " 2,\n",
       " 3,\n",
       " 1,\n",
       " 2,\n",
       " 1,\n",
       " 2,\n",
       " 3,\n",
       " 1,\n",
       " 2,\n",
       " 3,\n",
       " 4,\n",
       " 1,\n",
       " 2,\n",
       " 1,\n",
       " 2,\n",
       " 1,\n",
       " 2,\n",
       " 1,\n",
       " 2,\n",
       " 3,\n",
       " 4,\n",
       " 5,\n",
       " 2,\n",
       " 1,\n",
       " 2,\n",
       " 3,\n",
       " 4,\n",
       " 5,\n",
       " 1,\n",
       " 2,\n",
       " 1,\n",
       " 3,\n",
       " 2,\n",
       " 1,\n",
       " 2,\n",
       " 3,\n",
       " 2,\n",
       " 1]"
      ]
     },
     "execution_count": 215,
     "metadata": {},
     "output_type": "execute_result"
    }
   ],
   "source": [
    "list_c"
   ]
  },
  {
   "cell_type": "code",
   "execution_count": 255,
   "id": "501bf24d-4d4e-48b0-b5f5-58888c41e9fb",
   "metadata": {},
   "outputs": [
    {
     "name": "stdout",
     "output_type": "stream",
     "text": [
      "False\n",
      "error at iteration [5]\n"
     ]
    },
    {
     "data": {
      "text/plain": [
       "False"
      ]
     },
     "execution_count": 255,
     "metadata": {},
     "output_type": "execute_result"
    }
   ],
   "source": [
    "check(arr,list_c, 108)"
   ]
  },
  {
   "cell_type": "markdown",
   "id": "5a69905d-d19d-4548-9233-ae2c5b7b01ec",
   "metadata": {},
   "source": [
    "## False Finder"
   ]
  },
  {
   "cell_type": "code",
   "execution_count": 433,
   "id": "e54c138a-fbac-40ce-a875-94f8f0a6def1",
   "metadata": {},
   "outputs": [],
   "source": [
    "class Suppress:\n",
    "    def __init__(self, *, suppress_stdout=True, suppress_stderr=False):\n",
    "        self.suppress_stdout = suppress_stdout\n",
    "        self.suppress_stderr = suppress_stderr\n",
    "        self.original_stdout = None\n",
    "        self.original_stderr = None\n",
    "\n",
    "    def __enter__(self):\n",
    "        import sys, os\n",
    "        devnull = open(os.devnull, \"w\")\n",
    "\n",
    "        # Suppress streams\n",
    "        if self.suppress_stdout:\n",
    "            self.original_stdout = sys.stdout\n",
    "            sys.stdout = devnull\n",
    "\n",
    "        if self.suppress_stderr:\n",
    "            self.original_stderr = sys.stderr\n",
    "            sys.stderr = devnull\n",
    "\n",
    "    def __exit__(self, *args, **kwargs):\n",
    "        import sys\n",
    "        # Restore streams\n",
    "        if self.suppress_stdout:\n",
    "            sys.stdout = self.original_stdout\n",
    "\n",
    "        if self.suppress_stderr:\n",
    "            sys.stderr = self.original_stderr"
   ]
  },
  {
   "cell_type": "code",
   "execution_count": null,
   "id": "ced7a278-05fb-43f6-9099-099df428f527",
   "metadata": {},
   "outputs": [],
   "source": []
  },
  {
   "cell_type": "code",
   "execution_count": 442,
   "id": "36476262-e927-4d34-844b-56f3c2e51e51",
   "metadata": {},
   "outputs": [
    {
     "name": "stdout",
     "output_type": "stream",
     "text": [
      "False\n",
      "adjacent error at iteration [68]\n",
      "Error case at i = [11]\n",
      "CPU times: total: 15.6 ms\n",
      "Wall time: 13 ms\n"
     ]
    }
   ],
   "source": [
    "%%time\n",
    "for i in range(50):\n",
    "\n",
    "    rand_list = [random.randint(1,1000) for _ in range(100)]\n",
    "    \n",
    "    with Suppress():\n",
    "        ans = candies(len(rand_list), rand_list)\n",
    "    \n",
    "    is_true = check(rand_list, list_c, ans)\n",
    "    \n",
    "    if not is_true:\n",
    "        print(f'Error case at i = [{i}]')\n",
    "        break\n",
    "              \n",
    "\n"
   ]
  },
  {
   "cell_type": "code",
   "execution_count": 446,
   "id": "2a70f703-6a82-4370-a21f-885569d30aa9",
   "metadata": {},
   "outputs": [],
   "source": [
    "substr = \"\\n\".join([str(num) for num in rand_list])\n",
    "out = f'{len(rand_list)}\\n{substr}'"
   ]
  },
  {
   "cell_type": "code",
   "execution_count": 447,
   "id": "3948ec2f-5393-4dc4-b0c5-055b1b963a17",
   "metadata": {},
   "outputs": [],
   "source": [
    "# f = open(\"./in/cae02.txt\", \"w\")\n",
    "# f.write(out)\n",
    "# f.close()"
   ]
  },
  {
   "cell_type": "code",
   "execution_count": 443,
   "id": "43b2f484-8b62-4cd0-9e1a-b14c02188320",
   "metadata": {},
   "outputs": [
    {
     "name": "stdout",
     "output_type": "stream",
     "text": [
      "[2, 1]\n",
      "[2, 1]\n",
      "[2, 1]\n",
      "[2, 1]\n",
      "[2, 1]\n",
      "[2, 1]\n",
      "[1]\n",
      "[1]\n",
      "[2, 1]\n",
      "[2, 1]\n",
      "[2, 1]\n",
      "[2, 1]\n",
      "[2, 1]\n",
      "[2, 1]\n",
      "[2, 1]\n",
      "[2, 1]\n",
      "[3, 2, 1]\n",
      "[3, 2, 1]\n",
      "[2, 1]\n",
      "[2, 1]\n",
      "[2, 1]\n",
      "[2, 1]\n",
      "[1]\n",
      "[1]\n",
      "[3, 2, 1]\n",
      "[3, 2, 1]\n",
      "[1]\n",
      "[1]\n",
      "[1]\n",
      "[1]\n",
      "[3, 2, 1]\n",
      "[3, 2, 1]\n",
      "[1]\n",
      "[1]\n",
      "[1]\n",
      "[1]\n",
      "[2, 1]\n",
      "[2, 1]\n",
      "[1]\n",
      "[1]\n",
      "[3, 2, 1]\n",
      "[3, 2, 1]\n",
      "[1]\n",
      "[1]\n",
      "[1]\n",
      "[1]\n",
      "[2, 1]\n",
      "[2, 1]\n",
      "[2, 1]\n",
      "[2, 1]\n",
      "[3, 2, 1]\n",
      "[3, 2, 1]\n",
      "[1]\n",
      "[1]\n",
      "[3, 2, 1]\n",
      "[3, 2, 1]\n",
      "[1]\n",
      "[1]\n",
      "[1]\n",
      "[1]\n",
      "[1]\n",
      "[1]\n",
      "[2, 1]\n",
      "[2, 1]\n",
      "[3, 2, 1]\n",
      "[3, 2, 1]\n",
      "[1]\n",
      "[1]\n",
      "[2, 1]\n",
      "[2, 1]\n",
      "[1]\n",
      "[1]\n",
      "[3, 2, 1]\n",
      "[3, 2, 1]\n",
      "[3, 2, 2, 1]\n",
      "[3, 1, 2, 1]\n",
      "[2, 1]\n",
      "[2, 1]\n",
      "[1]\n",
      "[1]\n",
      "[1]\n",
      "[1]\n",
      "[3, 2, 1]\n",
      "[3, 2, 1]\n",
      "[2, 1]\n",
      "[2, 1]\n",
      "[2, 1]\n",
      "[2, 1]\n",
      "[3, 2, 1]\n",
      "[3, 2, 1]\n",
      "[1]\n",
      "[1]\n",
      "[3, 2, 1]\n",
      "[3, 2, 1]\n",
      "[2, 1]\n",
      "[2, 1]\n",
      "[1]\n",
      "[1]\n",
      "[1]\n",
      "[1]\n",
      "[3, 2, 1]\n",
      "[3, 2, 1]\n",
      "[1]\n",
      "[1]\n",
      "[1]\n",
      "[1]\n",
      "[1]\n",
      "[1]\n",
      "[1]\n",
      "[1]\n",
      "[2, 1, 2, 1, 2, 1, 2, 3, 1, 2, 1, 2, 1, 2, 1, 3, 2, 1, 2, 1, 2, 1, 2, 3, 2, 1, 2, 3, 4, 2, 1, 2, 3, 4, 1, 2, 3, 2, 1, 2, 3, 4, 1, 2, 1, 3, 2, 1, 2, 3, 2, 1, 2, 3, 4, 5, 1, 3, 2, 1, 2, 3, 1, 2, 3, 2, 1, 3, 1, 2, 1, 2, 1, 2, 3, 4, 2, 1, 2, 1, 2, 1, 3, 2, 1, 2, 3, 2, 1, 2, 1, 2, 3, 4, 2, 1, 2, 3, 4, 5]\n",
      "207\n"
     ]
    }
   ],
   "source": [
    "ans = candies(len(rand_list), rand_list)"
   ]
  },
  {
   "cell_type": "markdown",
   "id": "d6e2839c-3642-4864-9249-51b986a40261",
   "metadata": {},
   "source": [
    "### Inspect"
   ]
  },
  {
   "cell_type": "code",
   "execution_count": 444,
   "id": "672301ef-03f1-4ed0-94fd-2534a435a289",
   "metadata": {},
   "outputs": [
    {
     "data": {
      "text/plain": [
       "[2, 1, 3, 1, 2, 1, 2, 1, 2, 3]"
      ]
     },
     "execution_count": 444,
     "metadata": {},
     "output_type": "execute_result"
    }
   ],
   "source": [
    "list_c[65:75]"
   ]
  },
  {
   "cell_type": "code",
   "execution_count": 445,
   "id": "d5aa39c3-f4bf-482a-af4f-80ee28856c03",
   "metadata": {},
   "outputs": [
    {
     "data": {
      "text/plain": [
       "[723, 471, 805, 732, 732, 468, 694, 73, 210, 731]"
      ]
     },
     "execution_count": 445,
     "metadata": {},
     "output_type": "execute_result"
    }
   ],
   "source": [
    "rand_list[65:75]"
   ]
  },
  {
   "cell_type": "code",
   "execution_count": 436,
   "id": "a61b34f0-29b6-4baa-904b-1af7ca3d9ad6",
   "metadata": {
    "collapsed": true,
    "jupyter": {
     "outputs_hidden": true
    },
    "tags": []
   },
   "outputs": [
    {
     "data": {
      "text/plain": [
       "[531,\n",
       " 448,\n",
       " 952,\n",
       " 902,\n",
       " 239,\n",
       " 601,\n",
       " 20,\n",
       " 966,\n",
       " 527,\n",
       " 400,\n",
       " 279,\n",
       " 931,\n",
       " 623,\n",
       " 378,\n",
       " 677,\n",
       " 399,\n",
       " 979,\n",
       " 637,\n",
       " 144,\n",
       " 378,\n",
       " 498,\n",
       " 29,\n",
       " 70,\n",
       " 824,\n",
       " 735,\n",
       " 227,\n",
       " 178,\n",
       " 126,\n",
       " 90,\n",
       " 83,\n",
       " 83,\n",
       " 419,\n",
       " 674,\n",
       " 384,\n",
       " 387,\n",
       " 595,\n",
       " 721,\n",
       " 311,\n",
       " 38,\n",
       " 879,\n",
       " 592,\n",
       " 540,\n",
       " 534,\n",
       " 358,\n",
       " 309,\n",
       " 254,\n",
       " 42,\n",
       " 291,\n",
       " 878,\n",
       " 811,\n",
       " 753,\n",
       " 971,\n",
       " 993,\n",
       " 6,\n",
       " 976,\n",
       " 986,\n",
       " 63,\n",
       " 469,\n",
       " 169,\n",
       " 931,\n",
       " 388,\n",
       " 422,\n",
       " 559,\n",
       " 546,\n",
       " 466,\n",
       " 947,\n",
       " 954,\n",
       " 521,\n",
       " 706,\n",
       " 256,\n",
       " 61,\n",
       " 632,\n",
       " 666,\n",
       " 374,\n",
       " 625,\n",
       " 827,\n",
       " 186,\n",
       " 690,\n",
       " 849,\n",
       " 990,\n",
       " 761,\n",
       " 637,\n",
       " 945,\n",
       " 325,\n",
       " 20,\n",
       " 953,\n",
       " 484,\n",
       " 442,\n",
       " 95,\n",
       " 530,\n",
       " 876,\n",
       " 295,\n",
       " 747,\n",
       " 511,\n",
       " 363,\n",
       " 997,\n",
       " 187,\n",
       " 332,\n",
       " 662,\n",
       " 65]"
      ]
     },
     "execution_count": 436,
     "metadata": {},
     "output_type": "execute_result"
    }
   ],
   "source": [
    "rand_list"
   ]
  }
 ],
 "metadata": {
  "kernelspec": {
   "display_name": "Python [conda env:hackerrank]",
   "language": "python",
   "name": "conda-env-hackerrank-py"
  },
  "language_info": {
   "codemirror_mode": {
    "name": "ipython",
    "version": 3
   },
   "file_extension": ".py",
   "mimetype": "text/x-python",
   "name": "python",
   "nbconvert_exporter": "python",
   "pygments_lexer": "ipython3",
   "version": "3.11.3"
  }
 },
 "nbformat": 4,
 "nbformat_minor": 5
}
