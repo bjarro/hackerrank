{
 "cells": [
  {
   "cell_type": "markdown",
   "id": "776c518d-c3cd-4b79-97f2-b99b04ccaa7c",
   "metadata": {},
   "source": [
    "# "
   ]
  },
  {
   "cell_type": "code",
   "execution_count": 2,
   "id": "d7e5cc4a-4dcf-4556-82d1-6c3853a35453",
   "metadata": {},
   "outputs": [],
   "source": [
    "#!/bin/python3\n",
    "\n",
    "import math\n",
    "import os\n",
    "import random\n",
    "import re\n",
    "import sys\n",
    "\n",
    "\n",
    "name_test = 'temp'\n",
    "os.environ['OUTPUT_PATH'] = f\"./out/{name_test}.txt\"\n"
   ]
  },
  {
   "cell_type": "code",
   "execution_count": 3,
   "id": "2b237ca0-9b37-47aa-bd41-23cae078c3df",
   "metadata": {},
   "outputs": [],
   "source": [
    "from itertools import combinations\n",
    "from math import comb"
   ]
  },
  {
   "cell_type": "code",
   "execution_count": 24,
   "id": "be490d7b-2d29-49a8-81fb-8fc89b4d16b3",
   "metadata": {},
   "outputs": [],
   "source": [
    "#\n",
    "# Complete the 'sherlockAndAnagrams' function below.\n",
    "#\n",
    "# The function is expected to return an INTEGER.\n",
    "# The function accepts STRING s as parameter.\n",
    "#\n",
    "\n",
    "def sherlockAndAnagrams(s):\n",
    "    list_initial = combinations(s, 2)\n",
    "    list_initial = [pair for pair in list_initial if pair[0] == pair[1]]\n",
    "    \n",
    "    k = len(list_initial)\n",
    "    n = len(s)\n",
    "    \n",
    "    print(list_initial)\n",
    "    print(f'n = [{n}] | k = [{k}]')\n",
    "    \n",
    "    formula = 2**(n-k-1)*(2**k-1)-k\n",
    "    \n",
    "#     n_powerset = 2**(len(s)-2) - 1\n",
    "#     total = len(list_initial) * n_powerset\n",
    "    \n",
    "\n",
    "    \n",
    "    return formula\n",
    "\n",
    "\n",
    "\n",
    "\n",
    "    \n",
    "    # Write your code here"
   ]
  },
  {
   "cell_type": "code",
   "execution_count": 23,
   "id": "4c2c1700-47d4-43a8-8970-a69d01621303",
   "metadata": {},
   "outputs": [
    {
     "name": "stdout",
     "output_type": "stream",
     "text": [
      "6\n"
     ]
    }
   ],
   "source": [
    "n_pairs = 2\n",
    "n = 4\n",
    "\n",
    "print((2**(n_pairs+1))*(2**(n-3)-1) - n_pairs)"
   ]
  },
  {
   "cell_type": "code",
   "execution_count": 25,
   "id": "553bc935-ca8b-4c85-98b2-354037ff17d6",
   "metadata": {},
   "outputs": [
    {
     "name": "stdout",
     "output_type": "stream",
     "text": [
      "[('a', 'a'), ('b', 'b')]\n",
      "n = [4] | k = [2]\n",
      "Answer = 4\n",
      "[]\n",
      "n = [4] | k = [0]\n",
      "Answer = 0\n"
     ]
    },
    {
     "data": {
      "text/plain": [
       "0"
      ]
     },
     "execution_count": 25,
     "metadata": {},
     "output_type": "execute_result"
    }
   ],
   "source": [
    "name_test = 'input00.txt'\n",
    "\n",
    "f_input = open(f\"./in/{name_test}\", \"r\")\n",
    "\n",
    "if __name__ == '__main__':\n",
    "#     fptr = open(os.environ['OUTPUT_PATH'], 'w')\n",
    "    \n",
    "    q = int(f_input.readline().strip())\n",
    "\n",
    "    for q_itr in range(q):\n",
    "        s = f_input.readline().strip('\\n')\n",
    "\n",
    "        result = sherlockAndAnagrams(s)\n",
    "        \n",
    "        print(f'Answer = {result}')\n",
    "\n",
    "#         fptr.write(str(result) + '\\n')\n",
    "\n",
    "#     fptr.close()\n",
    "    \n",
    "result"
   ]
  }
 ],
 "metadata": {
  "kernelspec": {
   "display_name": "Python [conda env:hackerrank]",
   "language": "python",
   "name": "conda-env-hackerrank-py"
  },
  "language_info": {
   "codemirror_mode": {
    "name": "ipython",
    "version": 3
   },
   "file_extension": ".py",
   "mimetype": "text/x-python",
   "name": "python",
   "nbconvert_exporter": "python",
   "pygments_lexer": "ipython3",
   "version": "3.11.3"
  }
 },
 "nbformat": 4,
 "nbformat_minor": 5
}
