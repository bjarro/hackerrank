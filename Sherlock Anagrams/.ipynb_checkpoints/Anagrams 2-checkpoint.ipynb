{
 "cells": [
  {
   "cell_type": "markdown",
   "id": "776c518d-c3cd-4b79-97f2-b99b04ccaa7c",
   "metadata": {},
   "source": [
    "# "
   ]
  },
  {
   "cell_type": "code",
   "execution_count": 2,
   "id": "d7e5cc4a-4dcf-4556-82d1-6c3853a35453",
   "metadata": {},
   "outputs": [],
   "source": [
    "#!/bin/python3\n",
    "\n",
    "import math\n",
    "import os\n",
    "import random\n",
    "import re\n",
    "import sys\n",
    "\n",
    "\n",
    "name_test = 'temp'\n",
    "os.environ['OUTPUT_PATH'] = f\"./out/{name_test}.txt\"\n"
   ]
  },
  {
   "cell_type": "code",
   "execution_count": 3,
   "id": "2b237ca0-9b37-47aa-bd41-23cae078c3df",
   "metadata": {},
   "outputs": [],
   "source": [
    "from itertools import combinations\n",
    "from math import comb\n",
    "from collections import defaultdict"
   ]
  },
  {
   "cell_type": "code",
   "execution_count": 37,
   "id": "be490d7b-2d29-49a8-81fb-8fc89b4d16b3",
   "metadata": {},
   "outputs": [],
   "source": [
    "def sherlockAndAnagrams(s):\n",
    "    \n",
    "    total = 0\n",
    "    \n",
    "    list_dict = []\n",
    "    dict_1 = defaultdict(set)\n",
    "    \n",
    "    list_dict.append(dict_1)\n",
    "\n",
    "    for i, char in enumerate(s):\n",
    "        dict_1[char].add(i)\n",
    "            \n",
    "    dict_1 = {k:v for k,v in dict_1.items() if len(v) >= 1}\n",
    "    \n",
    "    i_d = 0\n",
    "\n",
    "#     print(dict_1)\n",
    "#     print(list_dict[i_d])\n",
    "    \n",
    "    while len(list_dict[i_d]) > 0:\n",
    "        print(f'--------- In substring length = {i_d+1}')\n",
    "        print(list_dict[i_d])\n",
    "        \n",
    "        print(f'Length of cur_dict i=[{i_d}] | [{len(list_dict[i_d])}] ')\n",
    "        cur_dict = list_dict[i_d]\n",
    "        \n",
    "        next_dict = defaultdict(set)\n",
    "        i_d += 1\n",
    "        \n",
    "        for k,v in cur_dict.items():\n",
    "            \n",
    "            for i in v:\n",
    "                if i-1 >= 0:\n",
    "#                     print(s[i-1:i+i_d])\n",
    "                    next_dict[\"\".join(sorted(s[i-1:i+i_d]))].add(i-1)\n",
    "                    \n",
    "                if i_d + i < len(s):\n",
    "#                     print(s[i:i+i_d+1])\n",
    "                    next_dict[\"\".join(sorted(s[i:i+i_d+1]))].add(i)\n",
    "                    \n",
    "        next_dict = {k:v for k,v in next_dict.items() if len(v) >= 2}\n",
    "        \n",
    "        if next_dict:\n",
    "            list_dict.append(next_dict)\n",
    "\n",
    "        else:\n",
    "#             print(next_dict)\n",
    "            break\n",
    "\n",
    "    dict_all = defaultdict(set)\n",
    "    dict_all.update({key:val for d in list_dict for key,val in d.items()})\n",
    "    \n",
    "    print('------ Initial dict_all ------')  \n",
    "    print(dict_all)\n",
    "    \n",
    "    for k in list(dict_all):\n",
    "        v_pairs = combinations(dict_all[k], 2)\n",
    "        for pair in v_pairs:\n",
    "            \n",
    "            pair = sorted(pair)\n",
    "            \n",
    "            len_k = len(k)\n",
    "            \n",
    "            dict_all[\"\".join(sorted(s[pair[0]:pair[1]]))].add(pair[0])\n",
    "            dict_all[\"\".join(sorted(s[pair[0]+len_k:pair[1]+len_k]))].add(pair[0]+len_k)\n",
    "            \n",
    "            if '' == s[pair[0]:pair[1]]:\n",
    "                print(f'i = [{pair[0]}] | j = [{pair[1]}]')\n",
    "            if '' == s[pair[0]+len_k:pair[1]+len_k]:\n",
    "                print(f'i+k = [{pair[0]+len_k}] | j+k = [{pair[1]+len_k}]')\n",
    "            \n",
    "    print('------ Updated dict_all ------')        \n",
    "    print(dict_all)\n",
    "   \n",
    "    for set_s in dict_all.values():\n",
    "        total += comb(len(set_s), 2)\n",
    "    \n",
    "    print(f'Answer = [{total}]')\n",
    "    return total"
   ]
  },
  {
   "cell_type": "code",
   "execution_count": 29,
   "id": "d0b28aa5-8299-43e8-bfb7-040fa3dc3448",
   "metadata": {},
   "outputs": [
    {
     "data": {
      "text/plain": [
       "3"
      ]
     },
     "execution_count": 29,
     "metadata": {},
     "output_type": "execute_result"
    }
   ],
   "source": [
    "comb(3,2)"
   ]
  },
  {
   "cell_type": "code",
   "execution_count": 38,
   "id": "a52c6781-45ae-4f69-8545-5ddf3b432e5b",
   "metadata": {},
   "outputs": [
    {
     "name": "stdout",
     "output_type": "stream",
     "text": [
      "--------- In substring length = 1\n",
      "defaultdict(<class 'set'>, {'5': {0, 7}, '4': {8, 1}, 'a': {2, 6}, '1': {3}, '2': {4}, '3': {5}})\n",
      "Length of cur_dict i=[0] | [6] \n",
      "--------- In substring length = 2\n",
      "{'45': {0, 7}}\n",
      "Length of cur_dict i=[1] | [1] \n",
      "--------- In substring length = 3\n",
      "{'45a': {0, 6}}\n",
      "Length of cur_dict i=[2] | [1] \n",
      "------ Initial dict_all ------\n",
      "defaultdict(<class 'set'>, {'5': {0, 7}, '4': {8, 1}, 'a': {2, 6}, '1': {3}, '2': {4}, '3': {5}, '45': {0, 7}, '45a': {0, 6}})\n",
      "------ Updated dict_all ------\n",
      "defaultdict(<class 'set'>, {'5': {0, 7}, '4': {8, 1}, 'a': {2, 6}, '1': {3}, '2': {4}, '3': {5}, '45': {0, 7}, '45a': {0, 6}, '12345aa': {0, 1, 2}, '123a': {2, 3}, '12345a': {0, 3}})\n",
      "Answer = [10]\n"
     ]
    },
    {
     "data": {
      "text/plain": [
       "10"
      ]
     },
     "execution_count": 38,
     "metadata": {},
     "output_type": "execute_result"
    }
   ],
   "source": [
    "sherlockAndAnagrams('54a123a54')"
   ]
  },
  {
   "cell_type": "code",
   "execution_count": 67,
   "id": "15f21f3d-2bf8-4d4b-9a9a-5e0b81be3880",
   "metadata": {},
   "outputs": [
    {
     "name": "stdout",
     "output_type": "stream",
     "text": [
      "0 a\n",
      "1 b\n",
      "2 c\n",
      "3 d\n"
     ]
    }
   ],
   "source": [
    "for i,v in enumerate(s):\n",
    "    print(i,v)"
   ]
  },
  {
   "cell_type": "code",
   "execution_count": 36,
   "id": "d0e47111-879e-4ab6-a6c8-e4565948ce67",
   "metadata": {
    "collapsed": true,
    "jupyter": {
     "outputs_hidden": true
    },
    "tags": []
   },
   "outputs": [
    {
     "data": {
      "text/plain": [
       "{'a': set(),\n",
       " 'b': set(),\n",
       " 'c': set(),\n",
       " 'd': set(),\n",
       " 'e': set(),\n",
       " 'f': set(),\n",
       " 'g': set(),\n",
       " 'h': set(),\n",
       " 'i': set(),\n",
       " 'j': set(),\n",
       " 'k': {0, 1, 2, 3},\n",
       " 'l': set(),\n",
       " 'm': set(),\n",
       " 'n': set(),\n",
       " 'o': set(),\n",
       " 'p': set(),\n",
       " 'q': set(),\n",
       " 'r': set(),\n",
       " 's': set(),\n",
       " 't': set(),\n",
       " 'u': set(),\n",
       " 'v': set(),\n",
       " 'w': set(),\n",
       " 'x': set(),\n",
       " 'y': set(),\n",
       " 'z': set(),\n",
       " 'kk': {0, 1, 2},\n",
       " 'kkk': {0, 1}}"
      ]
     },
     "execution_count": 36,
     "metadata": {},
     "output_type": "execute_result"
    }
   ],
   "source": [
    "dict_all"
   ]
  },
  {
   "cell_type": "code",
   "execution_count": 24,
   "id": "553bc935-ca8b-4c85-98b2-354037ff17d6",
   "metadata": {
    "tags": []
   },
   "outputs": [
    {
     "name": "stdout",
     "output_type": "stream",
     "text": [
      "--------- In substring length = 1\n",
      "defaultdict(<class 'set'>, {'c': {0, 2}, 'd': {1, 3}})\n",
      "Length of cur_dict i=[0] | [2] \n",
      "--------- In substring length = 2\n",
      "{'cd': {0, 1, 2}}\n",
      "Length of cur_dict i=[1] | [1] \n",
      "------ Updated dict_all ------\n",
      "defaultdict(<class 'set'>, {'c': {0, 2}, 'd': {1, 3}, 'cd': {0, 1, 2}})\n",
      "Answer = [5]\n"
     ]
    }
   ],
   "source": [
    "name_test = 'input06.txt'\n",
    "\n",
    "f_input = open(f\"./in/{name_test}\", \"r\")\n",
    "\n",
    "if __name__ == '__main__':\n",
    "#     fptr = open(os.environ['OUTPUT_PATH'], 'w')\n",
    "    \n",
    "    q = int(f_input.readline().strip())\n",
    "\n",
    "    for q_itr in range(q):\n",
    "        s = f_input.readline().strip('\\n')\n",
    "\n",
    "        result = sherlockAndAnagrams(s)\n",
    "        \n",
    "#         fptr.write(str(result) + '\\n')\n",
    "\n",
    "#     fptr.close()"
   ]
  },
  {
   "cell_type": "code",
   "execution_count": 62,
   "id": "6a0c0407-86c5-4e86-8a6c-558a2cea9750",
   "metadata": {},
   "outputs": [
    {
     "data": {
      "text/plain": [
       "{'a': {0},\n",
       " 'b': {1},\n",
       " 'c': {2},\n",
       " 'd': {3},\n",
       " 'e': set(),\n",
       " 'f': set(),\n",
       " 'g': set(),\n",
       " 'h': set(),\n",
       " 'i': set(),\n",
       " 'j': set(),\n",
       " 'k': set(),\n",
       " 'l': set(),\n",
       " 'm': set(),\n",
       " 'n': set(),\n",
       " 'o': set(),\n",
       " 'p': set(),\n",
       " 'q': set(),\n",
       " 'r': set(),\n",
       " 's': set(),\n",
       " 't': set(),\n",
       " 'u': set(),\n",
       " 'v': set(),\n",
       " 'w': set(),\n",
       " 'x': set(),\n",
       " 'y': set(),\n",
       " 'z': set()}"
      ]
     },
     "execution_count": 62,
     "metadata": {},
     "output_type": "execute_result"
    }
   ],
   "source": [
    "list_dict[0]"
   ]
  },
  {
   "cell_type": "code",
   "execution_count": 20,
   "id": "8144f930-f38e-424a-8a1e-513247e6d2b9",
   "metadata": {},
   "outputs": [
    {
     "data": {
      "text/plain": [
       "'aabb'"
      ]
     },
     "execution_count": 20,
     "metadata": {},
     "output_type": "execute_result"
    }
   ],
   "source": [
    "\"\".join(sorted(s[0:6]))"
   ]
  },
  {
   "cell_type": "code",
   "execution_count": 43,
   "id": "61b46f04-6b1c-43a4-b3b6-071c047cbb6c",
   "metadata": {},
   "outputs": [
    {
     "data": {
      "text/plain": [
       "[{'a': {0},\n",
       "  'b': {1},\n",
       "  'c': {2},\n",
       "  'd': {3},\n",
       "  'e': set(),\n",
       "  'f': set(),\n",
       "  'g': set(),\n",
       "  'h': set(),\n",
       "  'i': set(),\n",
       "  'j': set(),\n",
       "  'k': set(),\n",
       "  'l': set(),\n",
       "  'm': set(),\n",
       "  'n': set(),\n",
       "  'o': set(),\n",
       "  'p': set(),\n",
       "  'q': set(),\n",
       "  'r': set(),\n",
       "  's': set(),\n",
       "  't': set(),\n",
       "  'u': set(),\n",
       "  'v': set(),\n",
       "  'w': set(),\n",
       "  'x': set(),\n",
       "  'y': set(),\n",
       "  'z': set()}]"
      ]
     },
     "execution_count": 43,
     "metadata": {},
     "output_type": "execute_result"
    }
   ],
   "source": [
    "list_dict"
   ]
  }
 ],
 "metadata": {
  "kernelspec": {
   "display_name": "Python [conda env:hackerrank]",
   "language": "python",
   "name": "conda-env-hackerrank-py"
  },
  "language_info": {
   "codemirror_mode": {
    "name": "ipython",
    "version": 3
   },
   "file_extension": ".py",
   "mimetype": "text/x-python",
   "name": "python",
   "nbconvert_exporter": "python",
   "pygments_lexer": "ipython3",
   "version": "3.11.3"
  }
 },
 "nbformat": 4,
 "nbformat_minor": 5
}
