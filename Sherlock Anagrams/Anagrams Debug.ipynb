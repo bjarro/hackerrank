{
 "cells": [
  {
   "cell_type": "markdown",
   "id": "776c518d-c3cd-4b79-97f2-b99b04ccaa7c",
   "metadata": {},
   "source": [
    "# "
   ]
  },
  {
   "cell_type": "code",
   "execution_count": 1,
   "id": "d7e5cc4a-4dcf-4556-82d1-6c3853a35453",
   "metadata": {},
   "outputs": [],
   "source": [
    "#!/bin/python3\n",
    "\n",
    "import math\n",
    "import os\n",
    "import random\n",
    "import re\n",
    "import sys\n",
    "\n",
    "\n",
    "name_test = 'temp'\n",
    "os.environ['OUTPUT_PATH'] = f\"./out/{name_test}.txt\"\n"
   ]
  },
  {
   "cell_type": "code",
   "execution_count": 26,
   "id": "2b237ca0-9b37-47aa-bd41-23cae078c3df",
   "metadata": {},
   "outputs": [],
   "source": [
    "from itertools import combinations\n",
    "from math import comb\n",
    "from collections import defaultdict\n",
    "from copy import deepcopy\n",
    "from itertools import product"
   ]
  },
  {
   "cell_type": "markdown",
   "id": "9114d170-3098-4473-beb2-7a0295c0b677",
   "metadata": {},
   "source": [
    "## BF Method"
   ]
  },
  {
   "cell_type": "code",
   "execution_count": 3,
   "id": "be490d7b-2d29-49a8-81fb-8fc89b4d16b3",
   "metadata": {},
   "outputs": [],
   "source": [
    "def sherlockAndAnagrams_1(s):\n",
    "    \n",
    "    total = 0\n",
    "    \n",
    "    list_pairs = defaultdict(set)\n",
    "    \n",
    "    for n in range(1, len(s)):\n",
    "        \n",
    "        gen_subs = zip(*(s[i:] for i in range(n)))\n",
    "        \n",
    "        gen_subs =  [(i, sub) for i, sub in enumerate(gen_subs)]\n",
    "        \n",
    "        pairs = combinations(gen_subs,2)\n",
    "        \n",
    "        for tup_pair in pairs:\n",
    "            i_0, pair_0 = tup_pair[0]\n",
    "            i_1, pair_1 = tup_pair[1]\n",
    "            \n",
    "            if sorted(pair_0) == sorted(pair_1):\n",
    "                list_pairs[\"\".join(sorted(pair_0))].update([i_0, i_1])\n",
    "                total += 1\n",
    "        \n",
    "    print(f'Answer = [{total}]')\n",
    "    return total, list_pairs"
   ]
  },
  {
   "cell_type": "code",
   "execution_count": 4,
   "id": "a52c6781-45ae-4f69-8545-5ddf3b432e5b",
   "metadata": {},
   "outputs": [
    {
     "name": "stdout",
     "output_type": "stream",
     "text": [
      "Answer = [1464]\n"
     ]
    },
    {
     "data": {
      "text/plain": [
       "1464"
      ]
     },
     "execution_count": 4,
     "metadata": {},
     "output_type": "execute_result"
    }
   ],
   "source": [
    "total_1, dict_res_1 = sherlockAndAnagrams_1('dbcfibibcheigfccacfegicigcefieeeeegcghggdheichgafhdigffgifidfbeaccadabecbdcgieaffbigffcecahafcafhcdg')\n",
    "total_1"
   ]
  },
  {
   "cell_type": "markdown",
   "id": "9629a37c-eaaf-4416-994d-6ded9f042ff3",
   "metadata": {},
   "source": [
    "## Substructe method"
   ]
  },
  {
   "cell_type": "code",
   "execution_count": 38,
   "id": "10b85a2e-f83c-41bc-9ff3-53f7625f5ed2",
   "metadata": {},
   "outputs": [],
   "source": [
    "def sherlockAndAnagrams_2(s):\n",
    "    global list_dict\n",
    "    global dict_all\n",
    "    global list_dict_possible\n",
    "    \n",
    "    total = 0\n",
    "    \n",
    "    list_dict = []\n",
    "    dict_1 = defaultdict(set)\n",
    "    \n",
    "    list_dict.append(dict_1)\n",
    "\n",
    "    for i, char in enumerate(s):\n",
    "        dict_1[char].add(i)\n",
    "            \n",
    "    dict_1 = {k:v for k,v in dict_1.items() if len(v) >= 2}\n",
    "    \n",
    "    i_d = 0\n",
    "\n",
    "#     print(dict_1)\n",
    "#     print(list_dict[i_d])\n",
    "    \n",
    "    while len(list_dict[i_d]) > 0:\n",
    "#         print(f'--------- In substring length = {i_d+1}')\n",
    "#         print(list_dict[i_d])\n",
    "        \n",
    "#         print(f'Length of cur_dict i=[{i_d}] | [{len(list_dict[i_d])}] ')\n",
    "        cur_dict = list_dict[i_d]\n",
    "        \n",
    "        next_dict = defaultdict(set)\n",
    "        i_d += 1\n",
    "        \n",
    "        for k,v in cur_dict.items():\n",
    "            \n",
    "            for i in v:\n",
    "                if i-1 >= 0:\n",
    "                    next_dict[\"\".join(sorted(s[i-1:i+i_d]))].add(i-1)\n",
    "                    \n",
    "                if i_d + i < len(s):\n",
    "                    next_dict[\"\".join(sorted(s[i:i+i_d+1]))].add(i)\n",
    "                    \n",
    "        next_dict = {k:v for k,v in next_dict.items() if len(v) >= 2}\n",
    "        \n",
    "        if next_dict:\n",
    "            list_dict.append(next_dict)\n",
    "\n",
    "        else:\n",
    "#             print(next_dict)\n",
    "            break\n",
    "\n",
    "    \n",
    "#     print('------ Initial dict_all ------')  \n",
    "#     print(dict_all)\n",
    "    \n",
    "    \n",
    "# ------------------ Part 3\n",
    "\n",
    "\n",
    "    list_dict_possible = deepcopy(list_dict)\n",
    "    \n",
    "    all_i = set.union(*dict_1.values())\n",
    "    \n",
    "    for i in range(1,len(s)):\n",
    "        \n",
    "        next_dict_possible = defaultdict(set)\n",
    "        \n",
    "        if len(list_dict_possible) > i:\n",
    "            next_dict_possible.update(list_dict_possible[i])\n",
    "            \n",
    "        else:\n",
    "            pass\n",
    "#             print(f'No previous dict for i = [{i}] | cur_len = [{len(list_dict_possible)}]')\n",
    "        \n",
    "        cur_dict = list_dict_possible[i-1]\n",
    "        if not cur_dict:\n",
    "            break\n",
    "        \n",
    "        \n",
    "        list_v = set.union(*cur_dict.values())\n",
    "        \n",
    "        pairs = combinations(list_v, 2)\n",
    "        \n",
    "        if i == 1:\n",
    "            pairs = [(l,r) for l, r in pairs if s[l] == s[r]]\n",
    "\n",
    "        for pair in pairs:\n",
    "\n",
    "            pair = sorted(pair)\n",
    "            len_k = i\n",
    "\n",
    "            possible_pairs = get_adjacent(pair[0],pair[1],len_k,all_i)\n",
    "\n",
    "            cur_str_l = \"\".join(sorted(s[pair[0]:pair[0]+len_k]))\n",
    "            cur_str_r = \"\".join(sorted(s[pair[1]:pair[1]+len_k]))                 \n",
    "\n",
    "\n",
    "            for pos_pair in possible_pairs:\n",
    "                l_pos, r_pos = pos_pair\n",
    "                l_sub = \"\".join(sorted(s[l_pos:l_pos+len_k+1]))\n",
    "                r_sub = \"\".join(sorted(s[r_pos:r_pos+len_k+1]))\n",
    "\n",
    "                next_dict_possible[l_sub].add(l_pos)\n",
    "                next_dict_possible[r_sub].add(r_pos)\n",
    "      \n",
    "             \n",
    "        next_dict = {k:v for k,v in next_dict_possible.items() if len(v) >= 2}\n",
    "        \n",
    "        if len(list_dict) > i:\n",
    "            list_dict_possible[i].update(next_dict_possible)\n",
    "            list_dict[i] = next_dict\n",
    "            \n",
    "        \n",
    "        else:\n",
    "            \n",
    "            list_dict_possible.append(next_dict_possible)\n",
    "            list_dict.append(next_dict)\n",
    "            \n",
    "    \n",
    "    # Check for equality -> Insert to dict_all\n",
    "    \n",
    "    dict_all = defaultdict(set)\n",
    "    dict_all.update({key:val for d in list_dict for key,val in d.items()})\n",
    "    \n",
    "        \n",
    "    for k in list(dict_all):\n",
    "        v_pairs = combinations(dict_all[k], 2)\n",
    "        for pair in v_pairs:\n",
    "            \n",
    "            pair = sorted(pair)\n",
    "            \n",
    "            len_k = len(k)\n",
    "            \n",
    "            dict_all[\"\".join(sorted(s[pair[0]:pair[1]]))].add(pair[0])\n",
    "            dict_all[\"\".join(sorted(s[pair[0]+len_k:pair[1]+len_k]))].add(pair[0]+len_k)\n",
    "   \n",
    "    for set_s in dict_all.values():\n",
    "        total += comb(len(set_s), 2)\n",
    "    \n",
    "    print(f'Answer = [{total}]')\n",
    "    \n",
    "    return total, dict_all"
   ]
  },
  {
   "cell_type": "code",
   "execution_count": 39,
   "id": "777613df-2834-4f8a-91d2-75ee2c85d72c",
   "metadata": {},
   "outputs": [],
   "source": [
    "def get_adjacent(i, j, len_k, all_i):\n",
    "    \n",
    "#     is_adj_left = i-1 in all_i or i+k in all_i\n",
    "#     is_adj_right = j-1 in all_i or j+k in all_i\n",
    "\n",
    "    l_pair = []\n",
    "    r_pair = []\n",
    "    \n",
    "    if i-1 in all_i:\n",
    "        l_pair.append(i-1)\n",
    "    if i+len_k in all_i:\n",
    "          l_pair.append(i)\n",
    "#         l_pair.append(i+len_k)\n",
    "    \n",
    "    if j-1 in all_i:\n",
    "        r_pair.append(j-1)\n",
    "        \n",
    "    if j+len_k in all_i:\n",
    "        r_pair.append(j)\n",
    "#         r_pair.append(j+len_k)\n",
    "    \n",
    "    \n",
    "    return product(l_pair, r_pair)\n",
    "    "
   ]
  },
  {
   "cell_type": "markdown",
   "id": "47e2fa38-69ea-48e1-a501-e0ee58fdd4ca",
   "metadata": {},
   "source": [
    "## Run"
   ]
  },
  {
   "cell_type": "code",
   "execution_count": 44,
   "id": "c7d04084-fbc2-4fb0-abac-977ec795b5d4",
   "metadata": {},
   "outputs": [],
   "source": [
    "input_str = 'dbcfibibcheigfccacfegicigcefieeeeegcghggdheichgafhdigffgifidfbeaccadabecbdcgieaffbigffcecahafcafhcdg'\n",
    "# input_str = 'xabcd1234cadby'"
   ]
  },
  {
   "cell_type": "code",
   "execution_count": 46,
   "id": "9e6c1a28-6738-4cbf-97be-6db50a7b7e29",
   "metadata": {
    "tags": []
   },
   "outputs": [
    {
     "name": "stdout",
     "output_type": "stream",
     "text": [
      "Answer = [1464]\n",
      "CPU times: total: 4.16 s\n",
      "Wall time: 4.16 s\n"
     ]
    },
    {
     "data": {
      "text/plain": [
       "1464"
      ]
     },
     "execution_count": 46,
     "metadata": {},
     "output_type": "execute_result"
    }
   ],
   "source": [
    "%%time\n",
    "total_2, dict_res_2 = sherlockAndAnagrams_2(input_str)\n",
    "total_2"
   ]
  },
  {
   "cell_type": "code",
   "execution_count": 45,
   "id": "5fd25b4b-6e7e-4c65-83a3-7db6526e741a",
   "metadata": {},
   "outputs": [
    {
     "name": "stdout",
     "output_type": "stream",
     "text": [
      "Answer = [1464]\n",
      "CPU times: total: 562 ms\n",
      "Wall time: 573 ms\n"
     ]
    },
    {
     "data": {
      "text/plain": [
       "1464"
      ]
     },
     "execution_count": 45,
     "metadata": {},
     "output_type": "execute_result"
    }
   ],
   "source": [
    "%%time\n",
    "total_1, dict_res_1 = sherlockAndAnagrams_1(input_str)\n",
    "total_1"
   ]
  },
  {
   "cell_type": "code",
   "execution_count": 38,
   "id": "398191aa-8482-47eb-ba59-c348ebfeddf5",
   "metadata": {},
   "outputs": [
    {
     "data": {
      "text/plain": [
       "set()"
      ]
     },
     "execution_count": 38,
     "metadata": {},
     "output_type": "execute_result"
    }
   ],
   "source": [
    "dict_res_2.keys() - dict_res_1.keys()"
   ]
  },
  {
   "cell_type": "code",
   "execution_count": 9,
   "id": "1669e59d-adc9-432c-a21a-ac89d38b182a",
   "metadata": {},
   "outputs": [],
   "source": [
    "keys_not_1 = dict_res_2.keys() - dict_res_1.keys()\n",
    "keys_not_2 = dict_res_1.keys() - dict_res_2.keys()\n",
    "keys_not_both = dict_res_1.keys() ^ dict_res_2.keys()"
   ]
  },
  {
   "cell_type": "code",
   "execution_count": 10,
   "id": "730194d5-b61b-490a-bc9e-8372c81cf830",
   "metadata": {
    "tags": []
   },
   "outputs": [
    {
     "data": {
      "text/plain": [
       "{'1234abcd', 'abcd'}"
      ]
     },
     "execution_count": 10,
     "metadata": {},
     "output_type": "execute_result"
    }
   ],
   "source": [
    "keys_not_2"
   ]
  },
  {
   "cell_type": "code",
   "execution_count": 53,
   "id": "2bc2dc62-ab16-4019-a325-f38709b13194",
   "metadata": {},
   "outputs": [
    {
     "data": {
      "text/plain": [
       "5"
      ]
     },
     "execution_count": 53,
     "metadata": {},
     "output_type": "execute_result"
    }
   ],
   "source": [
    "len_temp_str = len('ceghi')\n",
    "len_temp_str"
   ]
  },
  {
   "cell_type": "code",
   "execution_count": 44,
   "id": "b7c92957-d4d7-4ddc-a50a-1ab7533ad413",
   "metadata": {},
   "outputs": [
    {
     "data": {
      "text/plain": [
       "{8, 42}"
      ]
     },
     "execution_count": 44,
     "metadata": {},
     "output_type": "execute_result"
    }
   ],
   "source": [
    "dict_res_1['ceghi']"
   ]
  },
  {
   "cell_type": "code",
   "execution_count": 54,
   "id": "2abb26b8-8a2d-4d69-8d0d-0389d8b33481",
   "metadata": {},
   "outputs": [
    {
     "data": {
      "text/plain": [
       "''"
      ]
     },
     "execution_count": 54,
     "metadata": {},
     "output_type": "execute_result"
    }
   ],
   "source": [
    "temp_str_1"
   ]
  },
  {
   "cell_type": "code",
   "execution_count": 56,
   "id": "ad0977ad-d438-4748-8f79-066dc814b065",
   "metadata": {},
   "outputs": [
    {
     "data": {
      "text/plain": [
       "'dbcfibibcheigfccacfegicigcefieeeeegcghggdheichgafhdigffgifidfbeaccadabecbdcgieaffbigffcecahafcafhcdg'"
      ]
     },
     "execution_count": 56,
     "metadata": {},
     "output_type": "execute_result"
    }
   ],
   "source": [
    "input_str"
   ]
  },
  {
   "cell_type": "code",
   "execution_count": 57,
   "id": "57b74da1-29b0-4291-b435-8e96e0eacef3",
   "metadata": {},
   "outputs": [],
   "source": [
    "temp_str_1 = input_str[8:8+len_temp_str]\n",
    "temp_str_2 = input_str[42:42+len_temp_str]"
   ]
  },
  {
   "cell_type": "code",
   "execution_count": 58,
   "id": "dd124b67-90ef-4e0f-adbd-bc1a00c168b7",
   "metadata": {},
   "outputs": [
    {
     "data": {
      "text/plain": [
       "'cheig'"
      ]
     },
     "execution_count": 58,
     "metadata": {},
     "output_type": "execute_result"
    }
   ],
   "source": [
    "temp_str_1"
   ]
  },
  {
   "cell_type": "code",
   "execution_count": 59,
   "id": "7aaa3ae5-3ad7-401f-94f4-84d6de4f1d51",
   "metadata": {},
   "outputs": [
    {
     "data": {
      "text/plain": [
       "'eichg'"
      ]
     },
     "execution_count": 59,
     "metadata": {},
     "output_type": "execute_result"
    }
   ],
   "source": [
    "temp_str_2"
   ]
  },
  {
   "cell_type": "code",
   "execution_count": 15,
   "id": "553bc935-ca8b-4c85-98b2-354037ff17d6",
   "metadata": {
    "tags": []
   },
   "outputs": [
    {
     "name": "stdout",
     "output_type": "stream",
     "text": [
      "Answer = [3]\n",
      "Answer = [10]\n"
     ]
    }
   ],
   "source": [
    "name_test = 'input01.txt'\n",
    "\n",
    "f_input = open(f\"./in/{name_test}\", \"r\")\n",
    "\n",
    "if __name__ == '__main__':\n",
    "#     fptr = open(os.environ['OUTPUT_PATH'], 'w')\n",
    "    \n",
    "    q = int(f_input.readline().strip())\n",
    "\n",
    "    for q_itr in range(q):\n",
    "        s = f_input.readline().strip('\\n')\n",
    "\n",
    "        result = sherlockAndAnagrams_1(s)\n",
    "        \n",
    "#         fptr.write(str(result) + '\\n')\n",
    "\n",
    "#     fptr.close()"
   ]
  }
 ],
 "metadata": {
  "kernelspec": {
   "display_name": "Python [conda env:hackerrank]",
   "language": "python",
   "name": "conda-env-hackerrank-py"
  },
  "language_info": {
   "codemirror_mode": {
    "name": "ipython",
    "version": 3
   },
   "file_extension": ".py",
   "mimetype": "text/x-python",
   "name": "python",
   "nbconvert_exporter": "python",
   "pygments_lexer": "ipython3",
   "version": "3.11.3"
  }
 },
 "nbformat": 4,
 "nbformat_minor": 5
}
