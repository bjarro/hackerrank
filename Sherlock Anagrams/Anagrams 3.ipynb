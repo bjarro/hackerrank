{
 "cells": [
  {
   "cell_type": "markdown",
   "id": "776c518d-c3cd-4b79-97f2-b99b04ccaa7c",
   "metadata": {},
   "source": [
    "# "
   ]
  },
  {
   "cell_type": "code",
   "execution_count": 13,
   "id": "d7e5cc4a-4dcf-4556-82d1-6c3853a35453",
   "metadata": {},
   "outputs": [],
   "source": [
    "#!/bin/python3\n",
    "\n",
    "import math\n",
    "import os\n",
    "import random\n",
    "import re\n",
    "import sys\n",
    "\n",
    "\n",
    "name_test = 'temp'\n",
    "os.environ['OUTPUT_PATH'] = f\"./out/{name_test}.txt\"\n"
   ]
  },
  {
   "cell_type": "code",
   "execution_count": 14,
   "id": "2b237ca0-9b37-47aa-bd41-23cae078c3df",
   "metadata": {},
   "outputs": [],
   "source": [
    "from itertools import combinations\n",
    "from math import comb\n",
    "from collections import defaultdict"
   ]
  },
  {
   "cell_type": "code",
   "execution_count": 15,
   "id": "a4fa6f8c-3472-44e9-b220-e41196eb609f",
   "metadata": {},
   "outputs": [],
   "source": [
    "from copy import deepcopy"
   ]
  },
  {
   "cell_type": "code",
   "execution_count": 16,
   "id": "6bfe3164-240f-4e8c-ade0-7874d8d85749",
   "metadata": {},
   "outputs": [
    {
     "data": {
      "text/plain": [
       "'sa'"
      ]
     },
     "execution_count": 16,
     "metadata": {},
     "output_type": "execute_result"
    }
   ],
   "source": [
    "temp_str = 'dsadas'\n",
    "temp_str[1:3]"
   ]
  },
  {
   "cell_type": "code",
   "execution_count": 184,
   "id": "be490d7b-2d29-49a8-81fb-8fc89b4d16b3",
   "metadata": {},
   "outputs": [],
   "source": [
    "def sherlockAndAnagrams(s):\n",
    "    global list_dict\n",
    "    global dict_all\n",
    "    global list_dict_possible\n",
    "    \n",
    "    total = 0\n",
    "    \n",
    "    list_dict = []\n",
    "    dict_1 = defaultdict(set)\n",
    "    \n",
    "    list_dict.append(dict_1)\n",
    "\n",
    "    for i, char in enumerate(s):\n",
    "        dict_1[char].add(i)\n",
    "            \n",
    "    dict_1 = {k:v for k,v in dict_1.items() if len(v) >= 2}\n",
    "    \n",
    "    i_d = 0\n",
    "\n",
    "#     print(dict_1)\n",
    "#     print(list_dict[i_d])\n",
    "    \n",
    "    while len(list_dict[i_d]) > 0:\n",
    "#         print(f'--------- In substring length = {i_d+1}')\n",
    "#         print(list_dict[i_d])\n",
    "        \n",
    "#         print(f'Length of cur_dict i=[{i_d}] | [{len(list_dict[i_d])}] ')\n",
    "        cur_dict = list_dict[i_d]\n",
    "        \n",
    "        next_dict = defaultdict(set)\n",
    "        i_d += 1\n",
    "        \n",
    "        for k,v in cur_dict.items():\n",
    "            \n",
    "            for i in v:\n",
    "                if i-1 >= 0:\n",
    "                    next_dict[\"\".join(sorted(s[i-1:i+i_d]))].add(i-1)\n",
    "                    \n",
    "                if i_d + i < len(s):\n",
    "                    next_dict[\"\".join(sorted(s[i:i+i_d+1]))].add(i)\n",
    "                    \n",
    "        next_dict = {k:v for k,v in next_dict.items() if len(v) >= 2}\n",
    "        \n",
    "        if next_dict:\n",
    "            list_dict.append(next_dict)\n",
    "\n",
    "        else:\n",
    "#             print(next_dict)\n",
    "            break\n",
    "\n",
    "    \n",
    "#     print('------ Initial dict_all ------')  \n",
    "#     print(dict_all)\n",
    "    \n",
    "    \n",
    "# ------------------ Part 3\n",
    "\n",
    "\n",
    "    list_dict_possible = deepcopy(list_dict)\n",
    "    \n",
    "    all_i = set.union(*dict_1.values())\n",
    "    \n",
    "    for i in range(1,len(s)):\n",
    "        \n",
    "        next_dict_possible = defaultdict(set)\n",
    "        \n",
    "        if len(list_dict_possible) > i:\n",
    "            next_dict_possible.update(list_dict_possible[i])\n",
    "            \n",
    "        else:\n",
    "            print(f'No previous dict for i = [{i}] | cur_len = [{len(list_dict_possible)}]')\n",
    "        \n",
    "        cur_dict = list_dict_possible[i-1]\n",
    "        if not cur_dict:\n",
    "            break\n",
    "        \n",
    "        print('Before Inner Loop')\n",
    "        \n",
    "        print(' --- next_dict_possible ---')\n",
    "        print(next_dict_possible)\n",
    "        print(' --- cur_dict ---')\n",
    "        print(cur_dict)\n",
    "        \n",
    "        \n",
    "        #for k, v in cur_dict.items():\n",
    "        \n",
    "        list_v = set.union(*cur_dict.values())\n",
    "        \n",
    "        pairs = combinations(list_v, 2)\n",
    "        \n",
    "        if i == 1:\n",
    "            pairs = [(l,r) for l, r in pairs if s[l] == s[r]]\n",
    "\n",
    "        for pair in pairs:\n",
    "\n",
    "            pair = sorted(pair)\n",
    "            len_k = i\n",
    "\n",
    "            possible_pairs = get_adjacent(pair[0],pair[1],len_k,all_i)\n",
    "\n",
    "            cur_str_l = \"\".join(sorted(s[pair[0]:pair[0]+len_k]))\n",
    "            cur_str_r = \"\".join(sorted(s[pair[1]:pair[1]+len_k]))                 \n",
    "\n",
    "            print(f'Possible pairs for [{cur_str_l}] [{cur_str_r}]')\n",
    "\n",
    "            for pos_pair in possible_pairs:\n",
    "                l_pos, r_pos = pos_pair\n",
    "                l_sub = \"\".join(sorted(s[l_pos:l_pos+len_k+1]))\n",
    "                r_sub = \"\".join(sorted(s[r_pos:r_pos+len_k+1]))\n",
    "\n",
    "                next_dict_possible[l_sub].add(l_pos)\n",
    "                next_dict_possible[r_sub].add(r_pos)\n",
    "\n",
    "                print(f'Pair: [{l_sub}] [{r_sub}] ->  [{l_pos}] [{r_pos}] ')\n",
    "                    \n",
    "                \n",
    "             \n",
    "        next_dict = {k:v for k,v in next_dict_possible.items() if len(v) >= 2}\n",
    "        \n",
    "        if len(list_dict) > i:\n",
    "            list_dict_possible[i].update(next_dict_possible)\n",
    "            list_dict[i] = next_dict\n",
    "            \n",
    "            print(f'-------------- In len(list_dict) > {i} ---------------- ')\n",
    "        \n",
    "        else:\n",
    "            print(f'-------------- In len(list_dict) <= {i} ---------------- ')\n",
    "            \n",
    "            list_dict_possible.append(next_dict_possible)\n",
    "            list_dict.append(next_dict)\n",
    "            \n",
    "        print('After Inner Loop')\n",
    "        print(next_dict_possible)\n",
    "    \n",
    "    \n",
    "    # Check for equality -> Insert to dict_all\n",
    "    \n",
    "    dict_all = defaultdict(set)\n",
    "    dict_all.update({key:val for d in list_dict for key,val in d.items()})\n",
    "    \n",
    "        \n",
    "    for k in list(dict_all):\n",
    "        v_pairs = combinations(dict_all[k], 2)\n",
    "        for pair in v_pairs:\n",
    "            \n",
    "            pair = sorted(pair)\n",
    "            \n",
    "            len_k = len(k)\n",
    "            \n",
    "            dict_all[\"\".join(sorted(s[pair[0]:pair[1]]))].add(pair[0])\n",
    "            dict_all[\"\".join(sorted(s[pair[0]+len_k:pair[1]+len_k]))].add(pair[0]+len_k)\n",
    "   \n",
    "    for set_s in dict_all.values():\n",
    "        total += comb(len(set_s), 2)\n",
    "    \n",
    "    print(f'Answer = [{total}]')\n",
    "    \n",
    "    return total"
   ]
  },
  {
   "cell_type": "code",
   "execution_count": 144,
   "id": "20b30e32-b94f-4726-bf02-6da4cb86ebba",
   "metadata": {},
   "outputs": [],
   "source": [
    "def get_adjacent(i, j, len_k, all_i):\n",
    "    \n",
    "#     is_adj_left = i-1 in all_i or i+k in all_i\n",
    "#     is_adj_right = j-1 in all_i or j+k in all_i\n",
    "\n",
    "    l_pair = []\n",
    "    r_pair = []\n",
    "    \n",
    "    if i-1 in all_i:\n",
    "        l_pair.append(i-1)\n",
    "    if i+len_k in all_i:\n",
    "          l_pair.append(i)\n",
    "#         l_pair.append(i+len_k)\n",
    "    \n",
    "    if j-1 in all_i:\n",
    "        r_pair.append(j-1)\n",
    "        \n",
    "    if j+len_k in all_i:\n",
    "        r_pair.append(j)\n",
    "#         r_pair.append(j+len_k)\n",
    "    \n",
    "    \n",
    "    return product(l_pair, r_pair)\n",
    "    "
   ]
  },
  {
   "cell_type": "code",
   "execution_count": 83,
   "id": "65dfd734-ae07-4427-9d6d-29cd64f4db6e",
   "metadata": {},
   "outputs": [],
   "source": [
    "#old_list_dict = list_dict"
   ]
  },
  {
   "cell_type": "code",
   "execution_count": 75,
   "id": "b28e78f7-fa87-4b03-bca0-22979be85a5a",
   "metadata": {},
   "outputs": [
    {
     "data": {
      "text/plain": [
       "100"
      ]
     },
     "execution_count": 75,
     "metadata": {},
     "output_type": "execute_result"
    }
   ],
   "source": [
    "len(new_list_dict)"
   ]
  },
  {
   "cell_type": "code",
   "execution_count": 79,
   "id": "6f75941b-7125-485b-b9cd-833e2c9b496c",
   "metadata": {
    "collapsed": true,
    "jupyter": {
     "outputs_hidden": true
    },
    "tags": []
   },
   "outputs": [
    {
     "data": {
      "text/plain": [
       "defaultdict(set,\n",
       "            {'d': {0, 40, 50, 59, 67, 73, 98},\n",
       "             'b': {1, 5, 7, 61, 69, 72, 81},\n",
       "             'c': {2,\n",
       "              8,\n",
       "              14,\n",
       "              15,\n",
       "              17,\n",
       "              22,\n",
       "              25,\n",
       "              35,\n",
       "              44,\n",
       "              64,\n",
       "              65,\n",
       "              71,\n",
       "              74,\n",
       "              86,\n",
       "              88,\n",
       "              93,\n",
       "              97},\n",
       "             'f': {3, 13, 18, 27, 48, 53, 54, 57, 60, 79, 80, 84, 85, 92, 95},\n",
       "             'i': {4, 6, 11, 21, 23, 28, 43, 51, 56, 58, 76, 82},\n",
       "             'h': {9, 37, 41, 45, 49, 90, 96},\n",
       "             'e': {10, 19, 26, 29, 30, 31, 32, 33, 42, 62, 70, 77, 87},\n",
       "             'g': {12, 20, 24, 34, 36, 38, 39, 46, 52, 55, 75, 83, 99},\n",
       "             'a': {16, 47, 63, 66, 68, 78, 89, 91, 94}})"
      ]
     },
     "execution_count": 79,
     "metadata": {},
     "output_type": "execute_result"
    }
   ],
   "source": [
    "new_list_dict[0]"
   ]
  },
  {
   "cell_type": "code",
   "execution_count": 118,
   "id": "fee720e3-b51f-49bf-a236-916dbfef6c33",
   "metadata": {
    "collapsed": true,
    "jupyter": {
     "outputs_hidden": true
    },
    "tags": []
   },
   "outputs": [
    {
     "data": {
      "text/plain": [
       "{'abe': {61, 68},\n",
       " 'bce': {69, 70},\n",
       " 'cdg': {73, 97},\n",
       " 'bcd': {71, 72},\n",
       " 'egi': {19, 75},\n",
       " 'cgi': {20, 22, 23, 74},\n",
       " 'cef': {17, 25},\n",
       " 'efi': {26, 27},\n",
       " 'acc': {14, 15, 63, 64},\n",
       " 'acf': {16, 91, 92, 93},\n",
       " 'ceg': {24, 33},\n",
       " 'eee': {29, 30},\n",
       " 'afh': {90, 94},\n",
       " 'bd': {0, 72},\n",
       " 'bi': {4, 5, 6, 81},\n",
       " 'eh': {9, 41},\n",
       " 'fi': {3, 27, 56, 57},\n",
       " 'ce': {25, 70, 86, 87},\n",
       " 'cd': {73, 97},\n",
       " 'gi': {11, 20, 23, 51, 55, 75, 82},\n",
       " 'cf': {2, 13, 17, 85, 92},\n",
       " 'cc': {14, 64},\n",
       " 'ff': {53, 79, 84},\n",
       " 'fg': {12, 52, 54, 83},\n",
       " 'ad': {66, 67},\n",
       " 'ac': {15, 16, 63, 65, 88, 93},\n",
       " 'ef': {18, 26},\n",
       " 'ah': {89, 90},\n",
       " 'fh': {48, 95},\n",
       " 'ae': {62, 77},\n",
       " 'bf': {60, 80},\n",
       " 'bc': {1, 7, 71},\n",
       " 'ch': {8, 44, 96},\n",
       " 'ee': {29, 30, 31, 32},\n",
       " 'cg': {24, 34, 35, 74},\n",
       " 'ci': {21, 22, 43},\n",
       " 'af': {47, 78, 91, 94},\n",
       " 'be': {61, 69},\n",
       " 'dh': {40, 49},\n",
       " 'di': {50, 58},\n",
       " 'g': {12, 20, 24, 34, 36, 38, 39, 46, 52, 55, 75, 83, 99},\n",
       " 'ei': {10, 28, 42, 76},\n",
       " 'eg': {19, 33},\n",
       " 'gh': {36, 37, 45},\n",
       " 'dg': {39, 98},\n",
       " 'e': {10, 19, 26, 29, 30, 31, 32, 33, 42, 62, 70, 77, 87},\n",
       " 'b': {1, 5, 7, 61, 69, 72, 81},\n",
       " 'c': {2, 8, 14, 15, 17, 22, 25, 35, 44, 64, 65, 71, 74, 86, 88, 93, 97},\n",
       " 'h': {9, 37, 41, 45, 49, 90, 96},\n",
       " 'i': {4, 6, 11, 21, 23, 28, 43, 51, 56, 58, 76, 82},\n",
       " 'a': {16, 47, 63, 66, 68, 78, 89, 91, 94},\n",
       " 'f': {3, 13, 18, 27, 48, 53, 54, 57, 60, 79, 80, 84, 85, 92, 95},\n",
       " 'd': {0, 40, 50, 59, 67, 73, 98},\n",
       " 'dfi': {57, 58},\n",
       " 'ffg': {52, 53},\n",
       " 'fgi': {51, 54, 55}}"
      ]
     },
     "execution_count": 118,
     "metadata": {},
     "output_type": "execute_result"
    }
   ],
   "source": [
    "new_list_dict[14]"
   ]
  },
  {
   "cell_type": "code",
   "execution_count": null,
   "id": "836258de-47a0-41df-8fbd-02b1c4807a51",
   "metadata": {},
   "outputs": [],
   "source": [
    "dict_a"
   ]
  },
  {
   "cell_type": "code",
   "execution_count": 94,
   "id": "fda04676-2f4b-4702-bb44-2e7c65860333",
   "metadata": {
    "tags": []
   },
   "outputs": [
    {
     "data": {
      "text/plain": [
       "{'acccefgi': {10, 14, 15}, 'ccefggii': {17, 18, 20}}"
      ]
     },
     "execution_count": 94,
     "metadata": {},
     "output_type": "execute_result"
    }
   ],
   "source": [
    "old_list_dict[7]"
   ]
  },
  {
   "cell_type": "code",
   "execution_count": 104,
   "id": "db5dd241-f301-4438-bb80-990964bd5e55",
   "metadata": {},
   "outputs": [
    {
     "data": {
      "text/plain": [
       "set()"
      ]
     },
     "execution_count": 104,
     "metadata": {},
     "output_type": "execute_result"
    }
   ],
   "source": [
    "dict_all['ceghi']"
   ]
  },
  {
   "cell_type": "code",
   "execution_count": 116,
   "id": "1035225a-5b93-4150-b3f2-b08ddfc82bf1",
   "metadata": {},
   "outputs": [
    {
     "data": {
      "text/plain": [
       "{24, 33}"
      ]
     },
     "execution_count": 116,
     "metadata": {},
     "output_type": "execute_result"
    }
   ],
   "source": [
    "new_dict_all['ceg']"
   ]
  },
  {
   "cell_type": "code",
   "execution_count": 114,
   "id": "8d0930e0-4215-4caa-ba87-336113afa97d",
   "metadata": {},
   "outputs": [
    {
     "data": {
      "text/plain": [
       "{24, 33}"
      ]
     },
     "execution_count": 114,
     "metadata": {},
     "output_type": "execute_result"
    }
   ],
   "source": [
    "old_dict_all['ceg']"
   ]
  },
  {
   "cell_type": "code",
   "execution_count": 108,
   "id": "a0f32d5a-a413-4e64-88b3-ec2a2a663451",
   "metadata": {},
   "outputs": [],
   "source": [
    "dict_possible_all = defaultdict(set)\n",
    "dict_possible_all.update({key:val for d in list_dict_possible for key,val in d.items()})"
   ]
  },
  {
   "cell_type": "code",
   "execution_count": 115,
   "id": "10cf5c58-c333-4b10-b0ab-ddcdafa1afe2",
   "metadata": {},
   "outputs": [
    {
     "data": {
      "text/plain": [
       "{24, 33}"
      ]
     },
     "execution_count": 115,
     "metadata": {},
     "output_type": "execute_result"
    }
   ],
   "source": [
    "dict_possible_all['ceg']"
   ]
  },
  {
   "cell_type": "markdown",
   "id": "73ccb698-286e-4744-999d-8c3877f4131f",
   "metadata": {},
   "source": [
    "### Run"
   ]
  },
  {
   "cell_type": "code",
   "execution_count": 175,
   "id": "177aa8f2-363c-4732-8b0f-4cd5920d8810",
   "metadata": {},
   "outputs": [],
   "source": [
    "input_str = 'xabcd1234cadby'\n",
    "# input_str = 'dbcfibibcheigfccacfegicigcefieeeeegcghggdheichgafhdigffgifidfbeaccadabecbdcgieaffbigffcecahafcafhcdg'"
   ]
  },
  {
   "cell_type": "code",
   "execution_count": 186,
   "id": "dd938112-936d-46d3-a360-f74940dbac26",
   "metadata": {},
   "outputs": [
    {
     "name": "stdout",
     "output_type": "stream",
     "text": [
      "No previous dict for i = [1] | cur_len = [1]\n",
      "Before Inner Loop\n",
      " --- next_dict_possible ---\n",
      "defaultdict(<class 'set'>, {})\n",
      " --- cur_dict ---\n",
      "defaultdict(<class 'set'>, {'x': {0}, 'a': {1, 10}, 'b': {2, 12}, 'c': {9, 3}, 'd': {11, 4}, '1': {5}, '2': {6}, '3': {7}, '4': {8}, 'y': {13}})\n",
      "Possible pairs for [a] [a]\n",
      "Pair: [ab] [ac] ->  [1] [9] \n",
      "Pair: [ab] [ad] ->  [1] [10] \n",
      "Possible pairs for [b] [b]\n",
      "Pair: [ab] [bd] ->  [1] [11] \n",
      "Pair: [bc] [bd] ->  [2] [11] \n",
      "Possible pairs for [c] [c]\n",
      "Pair: [bc] [ac] ->  [2] [9] \n",
      "Pair: [cd] [ac] ->  [3] [9] \n",
      "Possible pairs for [d] [d]\n",
      "Pair: [cd] [ad] ->  [3] [10] \n",
      "Pair: [cd] [bd] ->  [3] [11] \n",
      "-------------- In len(list_dict) <= 1 ---------------- \n",
      "After Inner Loop\n",
      "defaultdict(<class 'set'>, {'ab': {1}, 'ac': {9}, 'ad': {10}, 'bd': {11}, 'bc': {2}, 'cd': {3}})\n",
      "No previous dict for i = [2] | cur_len = [2]\n",
      "Before Inner Loop\n",
      " --- next_dict_possible ---\n",
      "defaultdict(<class 'set'>, {})\n",
      " --- cur_dict ---\n",
      "defaultdict(<class 'set'>, {'ab': {1}, 'ac': {9}, 'ad': {10}, 'bd': {11}, 'bc': {2}, 'cd': {3}})\n",
      "Possible pairs for [ab] [bc]\n",
      "Pair: [abc] [abc] ->  [1] [1] \n",
      "Pair: [abc] [bcd] ->  [1] [2] \n",
      "Possible pairs for [ab] [cd]\n",
      "Pair: [abc] [bcd] ->  [1] [2] \n",
      "Possible pairs for [ab] [ac]\n",
      "Pair: [abc] [acd] ->  [1] [9] \n",
      "Possible pairs for [ab] [ad]\n",
      "Pair: [abc] [acd] ->  [1] [9] \n",
      "Pair: [abc] [abd] ->  [1] [10] \n",
      "Possible pairs for [ab] [bd]\n",
      "Pair: [abc] [abd] ->  [1] [10] \n",
      "Possible pairs for [bc] [cd]\n",
      "Pair: [abc] [bcd] ->  [1] [2] \n",
      "Pair: [bcd] [bcd] ->  [2] [2] \n",
      "Possible pairs for [bc] [ac]\n",
      "Pair: [abc] [acd] ->  [1] [9] \n",
      "Pair: [bcd] [acd] ->  [2] [9] \n",
      "Possible pairs for [bc] [ad]\n",
      "Pair: [abc] [acd] ->  [1] [9] \n",
      "Pair: [abc] [abd] ->  [1] [10] \n",
      "Pair: [bcd] [acd] ->  [2] [9] \n",
      "Pair: [bcd] [abd] ->  [2] [10] \n",
      "Possible pairs for [bc] [bd]\n",
      "Pair: [abc] [abd] ->  [1] [10] \n",
      "Pair: [bcd] [abd] ->  [2] [10] \n",
      "Possible pairs for [cd] [ac]\n",
      "Pair: [bcd] [acd] ->  [2] [9] \n",
      "Possible pairs for [cd] [ad]\n",
      "Pair: [bcd] [acd] ->  [2] [9] \n",
      "Pair: [bcd] [abd] ->  [2] [10] \n",
      "Possible pairs for [cd] [bd]\n",
      "Pair: [bcd] [abd] ->  [2] [10] \n",
      "Possible pairs for [ac] [ad]\n",
      "Pair: [acd] [acd] ->  [9] [9] \n",
      "Pair: [acd] [abd] ->  [9] [10] \n",
      "Possible pairs for [ac] [bd]\n",
      "Pair: [acd] [abd] ->  [9] [10] \n",
      "Possible pairs for [ad] [bd]\n",
      "Pair: [acd] [abd] ->  [9] [10] \n",
      "Pair: [abd] [abd] ->  [10] [10] \n",
      "-------------- In len(list_dict) <= 2 ---------------- \n",
      "After Inner Loop\n",
      "defaultdict(<class 'set'>, {'abc': {1}, 'bcd': {2}, 'acd': {9}, 'abd': {10}})\n",
      "No previous dict for i = [3] | cur_len = [3]\n",
      "Before Inner Loop\n",
      " --- next_dict_possible ---\n",
      "defaultdict(<class 'set'>, {})\n",
      " --- cur_dict ---\n",
      "defaultdict(<class 'set'>, {'abc': {1}, 'bcd': {2}, 'acd': {9}, 'abd': {10}})\n",
      "Possible pairs for [abc] [bcd]\n",
      "Pair: [abcd] [abcd] ->  [1] [1] \n",
      "Possible pairs for [abc] [abd]\n",
      "Pair: [abcd] [abcd] ->  [1] [9] \n",
      "Possible pairs for [abc] [acd]\n",
      "Pair: [abcd] [abcd] ->  [1] [9] \n",
      "Possible pairs for [bcd] [abd]\n",
      "Pair: [abcd] [abcd] ->  [1] [9] \n",
      "Possible pairs for [bcd] [acd]\n",
      "Pair: [abcd] [abcd] ->  [1] [9] \n",
      "Possible pairs for [acd] [abd]\n",
      "Pair: [abcd] [abcd] ->  [9] [9] \n",
      "-------------- In len(list_dict) <= 3 ---------------- \n",
      "After Inner Loop\n",
      "defaultdict(<class 'set'>, {'abcd': {1, 9}})\n",
      "No previous dict for i = [4] | cur_len = [4]\n",
      "Before Inner Loop\n",
      " --- next_dict_possible ---\n",
      "defaultdict(<class 'set'>, {})\n",
      " --- cur_dict ---\n",
      "defaultdict(<class 'set'>, {'abcd': {1, 9}})\n",
      "Possible pairs for [abcd] [abcd]\n",
      "-------------- In len(list_dict) <= 4 ---------------- \n",
      "After Inner Loop\n",
      "defaultdict(<class 'set'>, {})\n",
      "No previous dict for i = [5] | cur_len = [5]\n",
      "Answer = [10]\n",
      "CPU times: total: 0 ns\n",
      "Wall time: 2 ms\n"
     ]
    },
    {
     "data": {
      "text/plain": [
       "10"
      ]
     },
     "execution_count": 186,
     "metadata": {},
     "output_type": "execute_result"
    }
   ],
   "source": [
    "sherlockAndAnagrams(input_str)"
   ]
  },
  {
   "cell_type": "markdown",
   "id": "dc1805ea-6792-4f79-abce-7bddf8d16913",
   "metadata": {},
   "source": [
    "### Finish"
   ]
  },
  {
   "cell_type": "code",
   "execution_count": 124,
   "id": "93f9d185-aaee-4725-8b03-a18fc61bbc11",
   "metadata": {},
   "outputs": [
    {
     "data": {
      "text/plain": [
       "defaultdict(set,\n",
       "            {'x': {0},\n",
       "             'a': {1, 10},\n",
       "             'b': {2, 12},\n",
       "             'c': {3, 9},\n",
       "             'd': {4, 11},\n",
       "             '1': {5},\n",
       "             '2': {6},\n",
       "             '3': {7},\n",
       "             '4': {8},\n",
       "             'y': {13},\n",
       "             '1234abccd': {1, 2},\n",
       "             '1234abccdd': {2, 3},\n",
       "             '1234cd': {3, 4},\n",
       "             '1234acd': {4, 5}})"
      ]
     },
     "execution_count": 124,
     "metadata": {},
     "output_type": "execute_result"
    }
   ],
   "source": [
    "dict_all"
   ]
  },
  {
   "cell_type": "code",
   "execution_count": 29,
   "id": "d0b28aa5-8299-43e8-bfb7-040fa3dc3448",
   "metadata": {},
   "outputs": [
    {
     "data": {
      "text/plain": [
       "3"
      ]
     },
     "execution_count": 29,
     "metadata": {},
     "output_type": "execute_result"
    }
   ],
   "source": [
    "comb(3,2)"
   ]
  },
  {
   "cell_type": "code",
   "execution_count": 38,
   "id": "a52c6781-45ae-4f69-8545-5ddf3b432e5b",
   "metadata": {},
   "outputs": [
    {
     "name": "stdout",
     "output_type": "stream",
     "text": [
      "--------- In substring length = 1\n",
      "defaultdict(<class 'set'>, {'5': {0, 7}, '4': {8, 1}, 'a': {2, 6}, '1': {3}, '2': {4}, '3': {5}})\n",
      "Length of cur_dict i=[0] | [6] \n",
      "--------- In substring length = 2\n",
      "{'45': {0, 7}}\n",
      "Length of cur_dict i=[1] | [1] \n",
      "--------- In substring length = 3\n",
      "{'45a': {0, 6}}\n",
      "Length of cur_dict i=[2] | [1] \n",
      "------ Initial dict_all ------\n",
      "defaultdict(<class 'set'>, {'5': {0, 7}, '4': {8, 1}, 'a': {2, 6}, '1': {3}, '2': {4}, '3': {5}, '45': {0, 7}, '45a': {0, 6}})\n",
      "------ Updated dict_all ------\n",
      "defaultdict(<class 'set'>, {'5': {0, 7}, '4': {8, 1}, 'a': {2, 6}, '1': {3}, '2': {4}, '3': {5}, '45': {0, 7}, '45a': {0, 6}, '12345aa': {0, 1, 2}, '123a': {2, 3}, '12345a': {0, 3}})\n",
      "Answer = [10]\n"
     ]
    },
    {
     "data": {
      "text/plain": [
       "10"
      ]
     },
     "execution_count": 38,
     "metadata": {},
     "output_type": "execute_result"
    }
   ],
   "source": [
    "sherlockAndAnagrams('54a123a54')"
   ]
  },
  {
   "cell_type": "code",
   "execution_count": 67,
   "id": "15f21f3d-2bf8-4d4b-9a9a-5e0b81be3880",
   "metadata": {},
   "outputs": [
    {
     "name": "stdout",
     "output_type": "stream",
     "text": [
      "0 a\n",
      "1 b\n",
      "2 c\n",
      "3 d\n"
     ]
    }
   ],
   "source": [
    "for i,v in enumerate(s):\n",
    "    print(i,v)"
   ]
  },
  {
   "cell_type": "code",
   "execution_count": 36,
   "id": "d0e47111-879e-4ab6-a6c8-e4565948ce67",
   "metadata": {
    "collapsed": true,
    "jupyter": {
     "outputs_hidden": true
    },
    "tags": []
   },
   "outputs": [
    {
     "data": {
      "text/plain": [
       "{'a': set(),\n",
       " 'b': set(),\n",
       " 'c': set(),\n",
       " 'd': set(),\n",
       " 'e': set(),\n",
       " 'f': set(),\n",
       " 'g': set(),\n",
       " 'h': set(),\n",
       " 'i': set(),\n",
       " 'j': set(),\n",
       " 'k': {0, 1, 2, 3},\n",
       " 'l': set(),\n",
       " 'm': set(),\n",
       " 'n': set(),\n",
       " 'o': set(),\n",
       " 'p': set(),\n",
       " 'q': set(),\n",
       " 'r': set(),\n",
       " 's': set(),\n",
       " 't': set(),\n",
       " 'u': set(),\n",
       " 'v': set(),\n",
       " 'w': set(),\n",
       " 'x': set(),\n",
       " 'y': set(),\n",
       " 'z': set(),\n",
       " 'kk': {0, 1, 2},\n",
       " 'kkk': {0, 1}}"
      ]
     },
     "execution_count": 36,
     "metadata": {},
     "output_type": "execute_result"
    }
   ],
   "source": [
    "dict_all"
   ]
  },
  {
   "cell_type": "code",
   "execution_count": 41,
   "id": "553bc935-ca8b-4c85-98b2-354037ff17d6",
   "metadata": {
    "tags": []
   },
   "outputs": [
    {
     "name": "stdout",
     "output_type": "stream",
     "text": [
      "--------- In substring length = 1\n",
      "defaultdict(<class 'set'>, {'a': {0, 3}, 'b': {1, 2}})\n",
      "Length of cur_dict i=[0] | [2] \n",
      "--------- In substring length = 2\n",
      "{'ab': {0, 2}}\n",
      "Length of cur_dict i=[1] | [1] \n",
      "--------- In substring length = 3\n",
      "{'abb': {0, 1}}\n",
      "Length of cur_dict i=[2] | [1] \n",
      "------ Initial dict_all ------\n",
      "defaultdict(<class 'set'>, {'a': {0, 3}, 'b': {1, 2}, 'ab': {0, 2}, 'abb': {0, 1}})\n",
      "------ Updated dict_all ------\n",
      "defaultdict(<class 'set'>, {'a': {0, 3}, 'b': {1, 2}, 'ab': {0, 2}, 'abb': {0, 1}})\n",
      "Answer = [4]\n",
      "--------- In substring length = 1\n",
      "defaultdict(<class 'set'>, {'a': {0}, 'b': {1}, 'c': {2}, 'd': {3}})\n",
      "Length of cur_dict i=[0] | [4] \n",
      "------ Initial dict_all ------\n",
      "defaultdict(<class 'set'>, {'a': {0}, 'b': {1}, 'c': {2}, 'd': {3}})\n",
      "------ Updated dict_all ------\n",
      "defaultdict(<class 'set'>, {'a': {0}, 'b': {1}, 'c': {2}, 'd': {3}})\n",
      "Answer = [0]\n"
     ]
    }
   ],
   "source": [
    "name_test = 'input00.txt'\n",
    "\n",
    "f_input = open(f\"./in/{name_test}\", \"r\")\n",
    "\n",
    "if __name__ == '__main__':\n",
    "#     fptr = open(os.environ['OUTPUT_PATH'], 'w')\n",
    "    \n",
    "    q = int(f_input.readline().strip())\n",
    "\n",
    "    for q_itr in range(q):\n",
    "        s = f_input.readline().strip('\\n')\n",
    "\n",
    "        result = sherlockAndAnagrams(s)\n",
    "        \n",
    "#         fptr.write(str(result) + '\\n')\n",
    "\n",
    "#     fptr.close()"
   ]
  },
  {
   "cell_type": "code",
   "execution_count": 62,
   "id": "6a0c0407-86c5-4e86-8a6c-558a2cea9750",
   "metadata": {},
   "outputs": [
    {
     "data": {
      "text/plain": [
       "{'a': {0},\n",
       " 'b': {1},\n",
       " 'c': {2},\n",
       " 'd': {3},\n",
       " 'e': set(),\n",
       " 'f': set(),\n",
       " 'g': set(),\n",
       " 'h': set(),\n",
       " 'i': set(),\n",
       " 'j': set(),\n",
       " 'k': set(),\n",
       " 'l': set(),\n",
       " 'm': set(),\n",
       " 'n': set(),\n",
       " 'o': set(),\n",
       " 'p': set(),\n",
       " 'q': set(),\n",
       " 'r': set(),\n",
       " 's': set(),\n",
       " 't': set(),\n",
       " 'u': set(),\n",
       " 'v': set(),\n",
       " 'w': set(),\n",
       " 'x': set(),\n",
       " 'y': set(),\n",
       " 'z': set()}"
      ]
     },
     "execution_count": 62,
     "metadata": {},
     "output_type": "execute_result"
    }
   ],
   "source": [
    "list_dict[0]"
   ]
  },
  {
   "cell_type": "code",
   "execution_count": 20,
   "id": "8144f930-f38e-424a-8a1e-513247e6d2b9",
   "metadata": {},
   "outputs": [
    {
     "data": {
      "text/plain": [
       "'aabb'"
      ]
     },
     "execution_count": 20,
     "metadata": {},
     "output_type": "execute_result"
    }
   ],
   "source": [
    "\"\".join(sorted(s[0:6]))"
   ]
  },
  {
   "cell_type": "code",
   "execution_count": 43,
   "id": "61b46f04-6b1c-43a4-b3b6-071c047cbb6c",
   "metadata": {},
   "outputs": [
    {
     "data": {
      "text/plain": [
       "[{'a': {0},\n",
       "  'b': {1},\n",
       "  'c': {2},\n",
       "  'd': {3},\n",
       "  'e': set(),\n",
       "  'f': set(),\n",
       "  'g': set(),\n",
       "  'h': set(),\n",
       "  'i': set(),\n",
       "  'j': set(),\n",
       "  'k': set(),\n",
       "  'l': set(),\n",
       "  'm': set(),\n",
       "  'n': set(),\n",
       "  'o': set(),\n",
       "  'p': set(),\n",
       "  'q': set(),\n",
       "  'r': set(),\n",
       "  's': set(),\n",
       "  't': set(),\n",
       "  'u': set(),\n",
       "  'v': set(),\n",
       "  'w': set(),\n",
       "  'x': set(),\n",
       "  'y': set(),\n",
       "  'z': set()}]"
      ]
     },
     "execution_count": 43,
     "metadata": {},
     "output_type": "execute_result"
    }
   ],
   "source": [
    "list_dict"
   ]
  },
  {
   "cell_type": "markdown",
   "id": "0306d2dc-2fce-45c1-9143-9fc797ad2575",
   "metadata": {},
   "source": [
    "# Old"
   ]
  },
  {
   "cell_type": "code",
   "execution_count": 125,
   "id": "982dde58-0c8f-4851-a6a3-f7c8ad636e94",
   "metadata": {},
   "outputs": [],
   "source": [
    "def sherlockAndAnagrams_old(s):\n",
    "    global list_dict\n",
    "    global dict_all\n",
    "    global list_dict_possible\n",
    "    \n",
    "    total = 0\n",
    "    \n",
    "    list_dict = []\n",
    "    dict_1 = defaultdict(set)\n",
    "    \n",
    "    list_dict.append(dict_1)\n",
    "\n",
    "    for i, char in enumerate(s):\n",
    "        dict_1[char].add(i)\n",
    "            \n",
    "    dict_1 = {k:v for k,v in dict_1.items() if len(v) >= 1}\n",
    "    \n",
    "    i_d = 0\n",
    "\n",
    "#     print(dict_1)\n",
    "#     print(list_dict[i_d])\n",
    "    \n",
    "    while len(list_dict[i_d]) > 0:\n",
    "#         print(f'--------- In substring length = {i_d+1}')\n",
    "#         print(list_dict[i_d])\n",
    "        \n",
    "#         print(f'Length of cur_dict i=[{i_d}] | [{len(list_dict[i_d])}] ')\n",
    "        cur_dict = list_dict[i_d]\n",
    "        \n",
    "        next_dict = defaultdict(set)\n",
    "        i_d += 1\n",
    "        \n",
    "        for k,v in cur_dict.items():\n",
    "            \n",
    "            for i in v:\n",
    "                if i-1 >= 0:\n",
    "                    next_dict[\"\".join(sorted(s[i-1:i+i_d]))].add(i-1)\n",
    "                    \n",
    "                if i_d + i < len(s):\n",
    "                    next_dict[\"\".join(sorted(s[i:i+i_d+1]))].add(i)\n",
    "                    \n",
    "        next_dict = {k:v for k,v in next_dict.items() if len(v) >= 2}\n",
    "        \n",
    "        if next_dict:\n",
    "            list_dict.append(next_dict)\n",
    "\n",
    "        else:\n",
    "#             print(next_dict)\n",
    "            break\n",
    "\n",
    "    \n",
    "#     print('------ Initial dict_all ------')  \n",
    "#     print(dict_all)\n",
    "    \n",
    "    \n",
    "    dict_all = defaultdict(set)\n",
    "    dict_all.update({key:val for d in list_dict for key,val in d.items()})\n",
    "    \n",
    "        \n",
    "    for k in list(dict_all):\n",
    "        v_pairs = combinations(dict_all[k], 2)\n",
    "        for pair in v_pairs:\n",
    "            \n",
    "            pair = sorted(pair)\n",
    "            \n",
    "            len_k = len(k)\n",
    "            \n",
    "            dict_all[\"\".join(sorted(s[pair[0]:pair[1]]))].add(pair[0])\n",
    "            dict_all[\"\".join(sorted(s[pair[0]+len_k:pair[1]+len_k]))].add(pair[0]+len_k)\n",
    "   \n",
    "    for set_s in dict_all.values():\n",
    "        total += comb(len(set_s), 2)\n",
    "    \n",
    "    print(f'Answer = [{total}]')\n",
    "    \n",
    "    return total"
   ]
  },
  {
   "cell_type": "markdown",
   "id": "2d15b9aa-fa94-4039-96e7-fb94188602b2",
   "metadata": {},
   "source": [
    "# Backup"
   ]
  },
  {
   "cell_type": "code",
   "execution_count": 158,
   "id": "42fd2585-94d2-4243-a38f-25cffcf6937f",
   "metadata": {},
   "outputs": [],
   "source": [
    "def sherlockAndAnagrams(s):\n",
    "    global list_dict\n",
    "    global dict_all\n",
    "    global list_dict_possible\n",
    "    \n",
    "    total = 0\n",
    "    \n",
    "    list_dict = []\n",
    "    dict_1 = defaultdict(set)\n",
    "    \n",
    "    list_dict.append(dict_1)\n",
    "\n",
    "    for i, char in enumerate(s):\n",
    "        dict_1[char].add(i)\n",
    "            \n",
    "    dict_1 = {k:v for k,v in dict_1.items() if len(v) >= 1}\n",
    "    \n",
    "    i_d = 0\n",
    "\n",
    "#     print(dict_1)\n",
    "#     print(list_dict[i_d])\n",
    "    \n",
    "    while len(list_dict[i_d]) > 0:\n",
    "#         print(f'--------- In substring length = {i_d+1}')\n",
    "#         print(list_dict[i_d])\n",
    "        \n",
    "#         print(f'Length of cur_dict i=[{i_d}] | [{len(list_dict[i_d])}] ')\n",
    "        cur_dict = list_dict[i_d]\n",
    "        \n",
    "        next_dict = defaultdict(set)\n",
    "        i_d += 1\n",
    "        \n",
    "        for k,v in cur_dict.items():\n",
    "            \n",
    "            for i in v:\n",
    "                if i-1 >= 0:\n",
    "                    next_dict[\"\".join(sorted(s[i-1:i+i_d]))].add(i-1)\n",
    "                    \n",
    "                if i_d + i < len(s):\n",
    "                    next_dict[\"\".join(sorted(s[i:i+i_d+1]))].add(i)\n",
    "                    \n",
    "        next_dict = {k:v for k,v in next_dict.items() if len(v) >= 2}\n",
    "        \n",
    "        if next_dict:\n",
    "            list_dict.append(next_dict)\n",
    "\n",
    "        else:\n",
    "#             print(next_dict)\n",
    "            break\n",
    "\n",
    "    \n",
    "#     print('------ Initial dict_all ------')  \n",
    "#     print(dict_all)\n",
    "    \n",
    "    \n",
    "# ------------------ Part 3\n",
    "\n",
    "\n",
    "    list_dict_possible = deepcopy(list_dict)\n",
    "    \n",
    "    all_i = set.union(*dict_1.values())\n",
    "    \n",
    "    for i in range(1,len(s)):\n",
    "        \n",
    "        next_dict_possible = defaultdict(set)\n",
    "        \n",
    "        if len(list_dict_possible) > i:\n",
    "            next_dict_possible.update(list_dict_possible[i])\n",
    "            \n",
    "        else:\n",
    "            print(f'No previous dict for i = [{i}] | cur_len = [{len(list_dict_possible)}]')\n",
    "        \n",
    "        cur_dict = list_dict_possible[i-1]\n",
    "        \n",
    "        print('Before Inner Loop')\n",
    "        \n",
    "        print(' --- next_dict_possible ---')\n",
    "        print(next_dict_possible)\n",
    "        print(' --- cur_dict ---')\n",
    "        print(cur_dict)\n",
    "        \n",
    "        \n",
    "        for k, v in cur_dict.items():\n",
    "            pairs = combinations(v, 2)\n",
    "            \n",
    "            for pair in pairs:\n",
    "                \n",
    "                pair = sorted(pair)\n",
    "                len_k = len(k)\n",
    "                \n",
    "                possible_pairs = get_adjacent(pair[0],pair[1],len_k,all_i)\n",
    "                \n",
    "                \n",
    "                cur_str_l = \"\".join(sorted(s[pair[0]:pair[0]+len_k]))\n",
    "                cur_str_r = \"\".join(sorted(s[pair[1]:pair[1]+len_k]))                 \n",
    "                        \n",
    "                print(f'Possible pairs for [{cur_str_l}] [{cur_str_r}]')\n",
    "                \n",
    "                for pos_pair in possible_pairs:\n",
    "                    l_pos, r_pos = pos_pair\n",
    "                    l_sub = \"\".join(sorted(s[l_pos:l_pos+len_k+1]))\n",
    "                    r_sub = \"\".join(sorted(s[r_pos:r_pos+len_k+1]))\n",
    "                                    \n",
    "                    next_dict_possible[l_sub].add(l_pos)\n",
    "                    next_dict_possible[r_sub].add(r_pos)\n",
    "                      \n",
    "                    print(f'Pair: [{l_sub}] [{r_sub}] ->  [{l_pos}] [{r_pos}] ')\n",
    "                    \n",
    "                \n",
    "             \n",
    "        next_dict = {k:v for k,v in next_dict_possible.items() if len(v) >= 2}\n",
    "        \n",
    "        if len(list_dict) > i:\n",
    "            list_dict_possible[i].update(next_dict_possible)\n",
    "            list_dict[i] = next_dict\n",
    "            \n",
    "            print(f'-------------- In len(list_dict) > {i} ---------------- ')\n",
    "        \n",
    "        else:\n",
    "            print(f'-------------- In len(list_dict) <= {i} ---------------- ')\n",
    "            \n",
    "            list_dict_possible.append(next_dict_possible)\n",
    "            list_dict.append(next_dict)\n",
    "            \n",
    "        print('After Inner Loop')\n",
    "        print(next_dict_possible)\n",
    "    \n",
    "    \n",
    "    # Check for equality -> Insert to dict_all\n",
    "    \n",
    "    dict_all = defaultdict(set)\n",
    "    dict_all.update({key:val for d in list_dict for key,val in d.items()})\n",
    "    \n",
    "        \n",
    "    for k in list(dict_all):\n",
    "        v_pairs = combinations(dict_all[k], 2)\n",
    "        for pair in v_pairs:\n",
    "            \n",
    "            pair = sorted(pair)\n",
    "            \n",
    "            len_k = len(k)\n",
    "            \n",
    "            dict_all[\"\".join(sorted(s[pair[0]:pair[1]]))].add(pair[0])\n",
    "            dict_all[\"\".join(sorted(s[pair[0]+len_k:pair[1]+len_k]))].add(pair[0]+len_k)\n",
    "   \n",
    "    for set_s in dict_all.values():\n",
    "        total += comb(len(set_s), 2)\n",
    "    \n",
    "    print(f'Answer = [{total}]')\n",
    "    \n",
    "    return total"
   ]
  }
 ],
 "metadata": {
  "kernelspec": {
   "display_name": "Python [conda env:hackerrank]",
   "language": "python",
   "name": "conda-env-hackerrank-py"
  },
  "language_info": {
   "codemirror_mode": {
    "name": "ipython",
    "version": 3
   },
   "file_extension": ".py",
   "mimetype": "text/x-python",
   "name": "python",
   "nbconvert_exporter": "python",
   "pygments_lexer": "ipython3",
   "version": "3.11.3"
  }
 },
 "nbformat": 4,
 "nbformat_minor": 5
}
