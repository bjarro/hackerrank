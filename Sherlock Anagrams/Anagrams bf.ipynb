{
 "cells": [
  {
   "cell_type": "markdown",
   "id": "776c518d-c3cd-4b79-97f2-b99b04ccaa7c",
   "metadata": {},
   "source": [
    "# "
   ]
  },
  {
   "cell_type": "code",
   "execution_count": 2,
   "id": "d7e5cc4a-4dcf-4556-82d1-6c3853a35453",
   "metadata": {},
   "outputs": [],
   "source": [
    "#!/bin/python3\n",
    "\n",
    "import math\n",
    "import os\n",
    "import random\n",
    "import re\n",
    "import sys\n",
    "\n",
    "\n",
    "name_test = 'temp'\n",
    "os.environ['OUTPUT_PATH'] = f\"./out/{name_test}.txt\"\n"
   ]
  },
  {
   "cell_type": "code",
   "execution_count": 1,
   "id": "2b237ca0-9b37-47aa-bd41-23cae078c3df",
   "metadata": {},
   "outputs": [],
   "source": [
    "from itertools import combinations\n",
    "from math import comb\n",
    "from collections import defaultdict"
   ]
  },
  {
   "cell_type": "code",
   "execution_count": 3,
   "id": "58925310-748b-4706-9856-44358994a5ed",
   "metadata": {},
   "outputs": [
    {
     "data": {
      "text/plain": [
       "[('a', 'a'), ('a', 'b'), ('a', 'b'), ('a', 'b'), ('a', 'b'), ('b', 'b')]"
      ]
     },
     "execution_count": 3,
     "metadata": {},
     "output_type": "execute_result"
    }
   ],
   "source": [
    "list(combinations('aabb',2))"
   ]
  },
  {
   "cell_type": "code",
   "execution_count": 7,
   "id": "a39ecff2-bd32-4a26-b0fa-354806b8e161",
   "metadata": {
    "tags": []
   },
   "outputs": [
    {
     "data": {
      "text/plain": [
       "[('T', 'h', 'e'),\n",
       " ('h', 'e', ' '),\n",
       " ('e', ' ', 'q'),\n",
       " (' ', 'q', 'u'),\n",
       " ('q', 'u', 'i'),\n",
       " ('u', 'i', 'c'),\n",
       " ('i', 'c', 'k'),\n",
       " ('c', 'k', ' '),\n",
       " ('k', ' ', 'b'),\n",
       " (' ', 'b', 'r'),\n",
       " ('b', 'r', 'o'),\n",
       " ('r', 'o', 'w'),\n",
       " ('o', 'w', 'n'),\n",
       " ('w', 'n', ' '),\n",
       " ('n', ' ', 'f'),\n",
       " (' ', 'f', 'o'),\n",
       " ('f', 'o', 'x'),\n",
       " ('o', 'x', ' '),\n",
       " ('x', ' ', 'j'),\n",
       " (' ', 'j', 'u'),\n",
       " ('j', 'u', 'm'),\n",
       " ('u', 'm', 'p'),\n",
       " ('m', 'p', 's'),\n",
       " ('p', 's', ' '),\n",
       " ('s', ' ', 'o'),\n",
       " (' ', 'o', 'v'),\n",
       " ('o', 'v', 'e'),\n",
       " ('v', 'e', 'r'),\n",
       " ('e', 'r', ' '),\n",
       " ('r', ' ', 't'),\n",
       " (' ', 't', 'h'),\n",
       " ('t', 'h', 'e'),\n",
       " ('h', 'e', ' '),\n",
       " ('e', ' ', 'l'),\n",
       " (' ', 'l', 'a'),\n",
       " ('l', 'a', 'z'),\n",
       " ('a', 'z', 'y'),\n",
       " ('z', 'y', ' '),\n",
       " ('y', ' ', 'd'),\n",
       " (' ', 'd', 'o'),\n",
       " ('d', 'o', 'g'),\n",
       " ('o', 'g', '.')]"
      ]
     },
     "execution_count": 7,
     "metadata": {},
     "output_type": "execute_result"
    }
   ],
   "source": [
    "n = 3\n",
    "s = \"The quick brown fox jumps over the lazy dog.\"\n",
    "list(zip(*(s[i:] for i in range(n))))"
   ]
  },
  {
   "cell_type": "code",
   "execution_count": 14,
   "id": "be490d7b-2d29-49a8-81fb-8fc89b4d16b3",
   "metadata": {},
   "outputs": [],
   "source": [
    "def sherlockAndAnagrams(s):\n",
    "    \n",
    "    total = 0\n",
    "    for n in range(1, len(s)):\n",
    "        \n",
    "        gen_subs = zip(*(s[i:] for i in range(n)))\n",
    "        \n",
    "        pairs = combinations(gen_subs,2)\n",
    "        \n",
    "        for pair in pairs:\n",
    "            if sorted(pair[0]) == sorted(pair[1]):\n",
    "                total += 1\n",
    "        \n",
    "    print(f'Answer = [{total}]')\n",
    "    return total"
   ]
  },
  {
   "cell_type": "code",
   "execution_count": null,
   "id": "ec161f01-3359-4c97-a2f8-942ee03ad263",
   "metadata": {},
   "outputs": [],
   "source": []
  },
  {
   "cell_type": "code",
   "execution_count": 20,
   "id": "a52c6781-45ae-4f69-8545-5ddf3b432e5b",
   "metadata": {},
   "outputs": [
    {
     "name": "stdout",
     "output_type": "stream",
     "text": [
      "Answer = [1464]\n"
     ]
    },
    {
     "data": {
      "text/plain": [
       "1464"
      ]
     },
     "execution_count": 20,
     "metadata": {},
     "output_type": "execute_result"
    }
   ],
   "source": [
    "sherlockAndAnagrams('dbcfibibcheigfccacfegicigcefieeeeegcghggdheichgafhdigffgifidfbeaccadabecbdcgieaffbigffcecahafcafhcdg')"
   ]
  },
  {
   "cell_type": "code",
   "execution_count": null,
   "id": "9e6c1a28-6738-4cbf-97be-6db50a7b7e29",
   "metadata": {},
   "outputs": [],
   "source": [
    "sherlockAndAnagrams('dbcfibibcheigfccacfegicigcefieeeeegcghggdheichgafhdigffgifidfbeaccadabecbdcgieaffbigffcecahafcafhcdg')"
   ]
  },
  {
   "cell_type": "code",
   "execution_count": 18,
   "id": "553bc935-ca8b-4c85-98b2-354037ff17d6",
   "metadata": {
    "tags": []
   },
   "outputs": [
    {
     "name": "stdout",
     "output_type": "stream",
     "text": [
      "Answer = [5]\n"
     ]
    }
   ],
   "source": [
    "name_test = 'input06.txt'\n",
    "\n",
    "f_input = open(f\"./in/{name_test}\", \"r\")\n",
    "\n",
    "if __name__ == '__main__':\n",
    "#     fptr = open(os.environ['OUTPUT_PATH'], 'w')\n",
    "    \n",
    "    q = int(f_input.readline().strip())\n",
    "\n",
    "    for q_itr in range(q):\n",
    "        s = f_input.readline().strip('\\n')\n",
    "\n",
    "        result = sherlockAndAnagrams(s)\n",
    "        \n",
    "#         fptr.write(str(result) + '\\n')\n",
    "\n",
    "#     fptr.close()"
   ]
  }
 ],
 "metadata": {
  "kernelspec": {
   "display_name": "Python [conda env:hackerrank]",
   "language": "python",
   "name": "conda-env-hackerrank-py"
  },
  "language_info": {
   "codemirror_mode": {
    "name": "ipython",
    "version": 3
   },
   "file_extension": ".py",
   "mimetype": "text/x-python",
   "name": "python",
   "nbconvert_exporter": "python",
   "pygments_lexer": "ipython3",
   "version": "3.11.3"
  }
 },
 "nbformat": 4,
 "nbformat_minor": 5
}
