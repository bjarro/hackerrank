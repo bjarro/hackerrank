{
 "cells": [
  {
   "cell_type": "markdown",
   "id": "6345ce34-d23b-44a2-878e-28f954729b01",
   "metadata": {},
   "source": [
    "# "
   ]
  },
  {
   "cell_type": "code",
   "execution_count": 1,
   "id": "c0827a23-89e1-4d42-80a3-15d6e405e2d3",
   "metadata": {},
   "outputs": [],
   "source": [
    "#!/bin/python3\n",
    "\n",
    "import math\n",
    "import os\n",
    "import random\n",
    "import re\n",
    "import sys\n",
    "\n",
    "\n",
    "name_test = 'temp'\n",
    "os.environ['OUTPUT_PATH'] = f\"./out/{name_test}.txt\"\n"
   ]
  },
  {
   "cell_type": "markdown",
   "id": "bc42a72f-12c4-41c4-8ec6-53226073794d",
   "metadata": {
    "tags": []
   },
   "source": [
    "## To Do:\n",
    "1. Search for interval tree implementation in Python (Done)\n",
    "2. Build Interval Tree (Insert all queries)\n",
    "3. For all query, get intersections and then add -> (update/compare max)"
   ]
  },
  {
   "cell_type": "markdown",
   "id": "2e4cac56-3655-4f51-a69c-5c08ce165f4d",
   "metadata": {},
   "source": [
    "## If still slow:\n",
    "- Research about encodings/representations\n",
    "- Check answers"
   ]
  },
  {
   "cell_type": "code",
   "execution_count": 2,
   "id": "e9057bf2-e69f-4ce1-a8c6-fb282d3d02d2",
   "metadata": {},
   "outputs": [],
   "source": [
    "from bisect import insort_right"
   ]
  },
  {
   "cell_type": "code",
   "execution_count": 91,
   "id": "0ee86942-98e3-4fe6-9853-66dd459a24d4",
   "metadata": {},
   "outputs": [],
   "source": [
    "#!/bin/python3\n",
    "\n",
    "\n",
    "def arrayManipulation(n, queries):\n",
    "\n",
    "    list_num = [0 for _ in range(n+1)]\n",
    "    for a,b,k in queries:\n",
    "        list_num[a:b+1] = [num + k for num in list_num[a:b+1]]\n",
    "    return max(list_num)\n",
    "    \n",
    "    # Write your code here\n",
    "\n",
    "\n"
   ]
  },
  {
   "cell_type": "code",
   "execution_count": 3,
   "id": "13894ca4-5fce-4e97-9732-51f7bfef095a",
   "metadata": {},
   "outputs": [],
   "source": [
    "from functools import partial"
   ]
  },
  {
   "cell_type": "markdown",
   "id": "3a04e3b0-3afa-4d6d-87a6-f94ee715f01c",
   "metadata": {},
   "source": [
    "## Tree"
   ]
  },
  {
   "cell_type": "code",
   "execution_count": 8,
   "id": "41bac9c7-7827-4b45-a9c6-7045219244a2",
   "metadata": {},
   "outputs": [],
   "source": [
    "class Interval:\n",
    "    def __init__(self, low, high, value):\n",
    "        self.low = low\n",
    "        self.high = high\n",
    "        self.value = value\n",
    " \n",
    "    def __str__(self):\n",
    "        return \"[\" + str(self.low) + \",\" + str(self.high) + \"]\"\n",
    " \n",
    " \n",
    "class Node:\n",
    "    def __init__(self, range, max):\n",
    "        self.range = range\n",
    "        self.max = max\n",
    "        self.left = None\n",
    "        self.right = None\n",
    " \n",
    "    def __str__(self):\n",
    "        return \"[\" + str(self.range.low) + \", \" + str(self.range.high) + \"] \" + \"max = \" + str(self.max) + \"\\n\"\n",
    " \n",
    " \n",
    "def insert(root, x):\n",
    "    if root == None:\n",
    "        return Node(x, x.high)\n",
    " \n",
    "    if x.low < root.range.low:\n",
    "        root.left = insert(root.left, x)\n",
    "    else:\n",
    "        root.right = insert(root.right, x)\n",
    " \n",
    "    if root.max < x.high:\n",
    "        root.max = x.high\n",
    " \n",
    "    return root\n",
    " \n",
    "def inOrder(root):\n",
    "    if root == None:\n",
    "        return\n",
    " \n",
    "    inOrder(root.left)\n",
    "    print(root, end=\"\")\n",
    "    inOrder(root.right)\n",
    " \n",
    " \n",
    "def isOverlapping(root, x):\n",
    "    if root == None:\n",
    "        # return a dummy interval range\n",
    "        return Interval(-1, -1)\n",
    " \n",
    "    # if x overlaps with root's interval\n",
    "    if (x.low > root.range.low and x.low < root.range.high or (x.high > root.range.low and x.high < root.range.high)):\n",
    "        return root.range\n",
    " \n",
    "    elif (root.left != None and root.left.max > x.low):\n",
    "        # the overlapping node may be present in left child\n",
    "        return isOverlapping(root.left, x)\n",
    " \n",
    "    else:\n",
    "        return isOverlapping(root.right, x)\n",
    "    "
   ]
  },
  {
   "cell_type": "code",
   "execution_count": null,
   "id": "694f3069-1036-4772-9eb8-93c1916384f4",
   "metadata": {},
   "outputs": [],
   "source": []
  },
  {
   "cell_type": "markdown",
   "id": "90b29b4e-f54b-4735-9c85-fa50ee1a2b1c",
   "metadata": {
    "tags": []
   },
   "source": [
    "## Exp"
   ]
  },
  {
   "cell_type": "raw",
   "id": "52ecf8d5-3a8b-48d0-a648-ea5cea4bef45",
   "metadata": {},
   "source": [
    "(n.left, x, min(best_so_far, n.key), compare)"
   ]
  },
  {
   "cell_type": "code",
   "execution_count": 6,
   "id": "8e700810-7df5-40c8-906b-c46a8c68fd8a",
   "metadata": {},
   "outputs": [
    {
     "data": {
      "text/plain": [
       "False"
      ]
     },
     "execution_count": 6,
     "metadata": {},
     "output_type": "execute_result"
    }
   ],
   "source": [
    "tup_1 = (1,4,1)\n",
    "tup_2 = (1,4,1)\n",
    "\n",
    "compare_tup(tup_1, tup_2)"
   ]
  },
  {
   "cell_type": "code",
   "execution_count": 37,
   "id": "1a403271-6319-4d50-a280-213920d59c0f",
   "metadata": {},
   "outputs": [
    {
     "data": {
      "text/plain": [
       "(1, 5, 2)"
      ]
     },
     "execution_count": 37,
     "metadata": {},
     "output_type": "execute_result"
    }
   ],
   "source": [
    "min([(2,2,3),(1,5,2)])"
   ]
  },
  {
   "cell_type": "code",
   "execution_count": 2,
   "id": "3e01e706-cbc1-4d47-aa5c-7ae20f225380",
   "metadata": {},
   "outputs": [
    {
     "name": "stdout",
     "output_type": "stream",
     "text": [
      "Inorder traversal of constructed Interval Tree is\n",
      "[5, 20] max = 20\n",
      "[10, 30] max = 30\n",
      "[12, 15] max = 15\n",
      "[15, 20] max = 40\n",
      "[17, 19] max = 40\n",
      "[30, 40] max = 40\n",
      "\n",
      "Searching for interval [6,7]\n",
      "Overlaps with  [5,20]\n"
     ]
    }
   ],
   "source": [
    "root = None\n",
    "root = insert(None, Interval(15, 20))\n",
    "root = insert(root, Interval(10, 30))\n",
    "root = insert(root, Interval(17, 19))\n",
    "root = insert(root, Interval(5, 20))\n",
    "root = insert(root, Interval(12, 15))\n",
    "root = insert(root, Interval(30, 40))\n",
    "\n",
    "print(\"Inorder traversal of constructed Interval Tree is\")\n",
    "inOrder(root)\n",
    "print()\n",
    "i = Interval(6, 7)\n",
    "print(\"Searching for interval\", i)\n",
    "print(\"Overlaps with \", isOverlapping(root, i))"
   ]
  },
  {
   "cell_type": "code",
   "execution_count": 23,
   "id": "31af856b-5d5c-4da4-9a73-f387c00bd021",
   "metadata": {},
   "outputs": [],
   "source": [
    "root = removeRange(root, 3,8)"
   ]
  },
  {
   "cell_type": "code",
   "execution_count": 24,
   "id": "c2543a00-e46c-4080-85d5-3096616252ec",
   "metadata": {},
   "outputs": [
    {
     "name": "stdout",
     "output_type": "stream",
     "text": [
      "1-> 10-> 14-> "
     ]
    }
   ],
   "source": [
    "inorder(root)"
   ]
  },
  {
   "cell_type": "code",
   "execution_count": 59,
   "id": "b7062376-b60d-48ff-877a-cced91dc9d9d",
   "metadata": {},
   "outputs": [
    {
     "data": {
      "text/plain": [
       "6"
      ]
     },
     "execution_count": 59,
     "metadata": {},
     "output_type": "execute_result"
    }
   ],
   "source": [
    "inOrderSuccessor(root.left.right.left).key"
   ]
  },
  {
   "cell_type": "code",
   "execution_count": 26,
   "id": "efb942e7-b325-47f0-b367-8d8dd0ab7b5e",
   "metadata": {
    "tags": []
   },
   "outputs": [
    {
     "data": {
      "text/plain": [
       "6"
      ]
     },
     "execution_count": 26,
     "metadata": {},
     "output_type": "execute_result"
    }
   ],
   "source": [
    "search_next(root, 5, float('inf'))"
   ]
  },
  {
   "cell_type": "code",
   "execution_count": 54,
   "id": "093c8617-95dd-49d3-97a6-d178d287f09f",
   "metadata": {},
   "outputs": [
    {
     "data": {
      "text/plain": [
       "8"
      ]
     },
     "execution_count": 54,
     "metadata": {},
     "output_type": "execute_result"
    }
   ],
   "source": [
    "nextNode(root, 4).key"
   ]
  },
  {
   "cell_type": "code",
   "execution_count": 58,
   "id": "7f49a125-730c-426e-9cd6-fe528dc8cb94",
   "metadata": {},
   "outputs": [
    {
     "data": {
      "text/plain": [
       "4"
      ]
     },
     "execution_count": 58,
     "metadata": {},
     "output_type": "execute_result"
    }
   ],
   "source": [
    "root.left.right.left.key"
   ]
  },
  {
   "cell_type": "code",
   "execution_count": 11,
   "id": "28b649cd-d389-4e4a-8dff-ce793d2e8fee",
   "metadata": {},
   "outputs": [
    {
     "data": {
      "text/plain": [
       "4"
      ]
     },
     "execution_count": 11,
     "metadata": {},
     "output_type": "execute_result"
    }
   ],
   "source": [
    "search(root, 5).key"
   ]
  },
  {
   "cell_type": "code",
   "execution_count": 73,
   "id": "61374a4d-10a3-4960-9362-4a45f1f95bca",
   "metadata": {},
   "outputs": [
    {
     "data": {
      "text/plain": [
       "<__main__.Node at 0x1a221347750>"
      ]
     },
     "execution_count": 73,
     "metadata": {},
     "output_type": "execute_result"
    }
   ],
   "source": [
    "root.left.parent"
   ]
  },
  {
   "cell_type": "code",
   "execution_count": 74,
   "id": "f2580cfc-a12a-43a9-b27e-da5f107d5df8",
   "metadata": {},
   "outputs": [
    {
     "data": {
      "text/plain": [
       "<__main__.Node at 0x1a2214daa90>"
      ]
     },
     "execution_count": 74,
     "metadata": {},
     "output_type": "execute_result"
    }
   ],
   "source": [
    "inOrderSuccessor(root.right)"
   ]
  },
  {
   "cell_type": "code",
   "execution_count": 79,
   "id": "a8901b2c-f3c4-44ef-8ca4-eae061b9bc81",
   "metadata": {},
   "outputs": [
    {
     "data": {
      "text/plain": [
       "6"
      ]
     },
     "execution_count": 79,
     "metadata": {},
     "output_type": "execute_result"
    }
   ],
   "source": [
    "node_7.parent.key"
   ]
  },
  {
   "cell_type": "code",
   "execution_count": null,
   "id": "40bc8523-c693-4400-80b5-df88aa6b0cee",
   "metadata": {},
   "outputs": [],
   "source": [
    "node_7 = insert(root, 7)"
   ]
  },
  {
   "cell_type": "markdown",
   "id": "c85c5b4e-0cdc-4f2d-94bc-034269dc217c",
   "metadata": {
    "tags": []
   },
   "source": [
    "## Code"
   ]
  },
  {
   "cell_type": "code",
   "execution_count": 9,
   "id": "6b5e421f-ec4d-4e90-8a07-19a40d1b5d3e",
   "metadata": {},
   "outputs": [],
   "source": [
    "def arrayManipulation(n, queries):\n",
    "    \n",
    "    tree = None\n",
    "    \n",
    "    for query in queries:\n",
    "        tree = insert(tree, Interval(*query))\n",
    "        \n",
    "    for query in queries:\n",
    "        \n",
    "        \n",
    "\n",
    "\n"
   ]
  },
  {
   "cell_type": "code",
   "execution_count": null,
   "id": "10e09182-a9ad-4e58-97a5-db1d60dc6e76",
   "metadata": {},
   "outputs": [],
   "source": []
  },
  {
   "cell_type": "code",
   "execution_count": null,
   "id": "68d41e57-395e-493a-a2ef-83a844168f43",
   "metadata": {},
   "outputs": [],
   "source": [
    "#!/bin/python3\n",
    "\n",
    "\n",
    "def arrayManipulation(n, queries):\n",
    "\n",
    "    list_num = [0 for _ in range(n+1)]\n",
    "    for a,b,k in queries:\n",
    "        list_num[a:b+1] = [num + k for num in list_num[a:b+1]]\n",
    "    return max(list_num)\n",
    "    \n",
    "    # Write your code here\n",
    "\n",
    "\n"
   ]
  },
  {
   "cell_type": "code",
   "execution_count": 10,
   "id": "4c2ded21-9986-4023-9990-dc54051276d2",
   "metadata": {},
   "outputs": [],
   "source": [
    "#Debug\n",
    "\n",
    "def arrayManipulation(n, queries):\n",
    "    \n",
    "    print(len(queries))\n",
    "    list_num = [0 for _ in range(n+1)]\n",
    "    \n",
    "    #queries = sorted(queries, key=lambda x: (x[0], x[1]))\n",
    "    \n",
    "    for a,b,k in queries[0:100]:\n",
    "        list_num[a:b+1] = [num + k for num in list_num[a:b+1]]\n",
    "    return max(list_num)\n",
    "    \n",
    "    return 0"
   ]
  },
  {
   "cell_type": "markdown",
   "id": "da6d60ad-4218-4b67-a302-9cdcbea554c8",
   "metadata": {},
   "source": [
    "## Run"
   ]
  },
  {
   "cell_type": "code",
   "execution_count": 5,
   "id": "dbd784c8-8273-4183-8aec-1ddd65a9c76a",
   "metadata": {},
   "outputs": [
    {
     "ename": "TypeError",
     "evalue": "insert() takes 2 positional arguments but 4 were given",
     "output_type": "error",
     "traceback": [
      "\u001b[1;31m---------------------------------------------------------------------------\u001b[0m",
      "\u001b[1;31mTypeError\u001b[0m                                 Traceback (most recent call last)",
      "File \u001b[1;32m<timed exec>:20\u001b[0m\n",
      "Cell \u001b[1;32mIn[6], line 6\u001b[0m, in \u001b[0;36marrayManipulation\u001b[1;34m(n, queries)\u001b[0m\n\u001b[0;32m      3\u001b[0m tree \u001b[38;5;241m=\u001b[39m \u001b[38;5;28;01mNone\u001b[39;00m\n\u001b[0;32m      5\u001b[0m \u001b[38;5;28;01mfor\u001b[39;00m query \u001b[38;5;129;01min\u001b[39;00m queries:\n\u001b[1;32m----> 6\u001b[0m     \u001b[43minsert\u001b[49m\u001b[43m(\u001b[49m\u001b[43mtree\u001b[49m\u001b[43m,\u001b[49m\u001b[43m \u001b[49m\u001b[38;5;241;43m*\u001b[39;49m\u001b[43mquery\u001b[49m\u001b[43m)\u001b[49m\n",
      "\u001b[1;31mTypeError\u001b[0m: insert() takes 2 positional arguments but 4 were given"
     ]
    }
   ],
   "source": [
    "%%time\n",
    "name_test = 'input09.txt'\n",
    "\n",
    "f_input = open(f\"./in/{name_test}\", \"r\")\n",
    "\n",
    "\n",
    "if __name__ == '__main__':\n",
    "#     fptr = open(os.environ['OUTPUT_PATH'], 'w')\n",
    "\n",
    "    first_multiple_input = f_input.readline().rstrip().split()\n",
    "\n",
    "    n = int(first_multiple_input[0])\n",
    "\n",
    "    m = int(first_multiple_input[1])\n",
    "\n",
    "    queries = []\n",
    "\n",
    "    for _ in range(m):\n",
    "        queries.append(list(map(int, f_input.readline().rstrip().split())))\n",
    "\n",
    "    result = arrayManipulation(n, queries)\n",
    "\n",
    "#     fptr.write(str(result) + '\\n')\n",
    "\n",
    "#     fptr.close()"
   ]
  },
  {
   "cell_type": "markdown",
   "id": "30d76668-fe89-4115-976b-6e804a59a0d3",
   "metadata": {
    "tags": []
   },
   "source": [
    "## Test time/space complexity"
   ]
  },
  {
   "cell_type": "code",
   "execution_count": 1,
   "id": "87f7953c-3b5c-4ecb-ad9e-2b4f7d16dcf9",
   "metadata": {},
   "outputs": [],
   "source": [
    "import sys"
   ]
  },
  {
   "cell_type": "code",
   "execution_count": 2,
   "id": "1e1d5a70-4a3d-4b58-aed2-1dee75eaafac",
   "metadata": {},
   "outputs": [
    {
     "data": {
      "text/plain": [
       "9223372036854775807"
      ]
     },
     "execution_count": 2,
     "metadata": {},
     "output_type": "execute_result"
    }
   ],
   "source": [
    "sys.maxsize"
   ]
  },
  {
   "cell_type": "code",
   "execution_count": 3,
   "id": "16896353-d76a-4f27-b9d2-ed72f77d3943",
   "metadata": {},
   "outputs": [
    {
     "data": {
      "text/plain": [
       "1000000000"
      ]
     },
     "execution_count": 3,
     "metadata": {},
     "output_type": "execute_result"
    }
   ],
   "source": [
    "10**9"
   ]
  },
  {
   "cell_type": "code",
   "execution_count": 4,
   "id": "d0d1ffa3-b2e9-48c6-b34f-1782e098b9cc",
   "metadata": {},
   "outputs": [],
   "source": [
    "import random"
   ]
  },
  {
   "cell_type": "code",
   "execution_count": 29,
   "id": "aba1ef82-b1fe-4539-85dd-fdce088fe5d0",
   "metadata": {},
   "outputs": [],
   "source": [
    "import math\n",
    "import random\n",
    "def arrayManipulation(n, queries):\n",
    "    \n",
    "    global list_limit\n",
    "    \n",
    "    n_limit = 100000\n",
    "    k_limit = 10**9\n",
    "    \n",
    "    #list_limit = [[random.randint(0, k_limit) for _ in range(n_limit)] for  _ in range(int(math.log2(n_limit)))]\n",
    "    \n",
    "    list_limit = [[random.randint(0, k_limit) for _ in range(n_limit)] for  _ in range(n_limit)]\n",
    "    \n",
    "    print('test finished')\n",
    "\n",
    "    list_num = [0 for _ in range(n+1)]\n",
    "    for a,b,k in queries:\n",
    "        list_num[a:b+1] = [num + k for num in list_num[a:b+1]]\n",
    "    return max(list_num)"
   ]
  },
  {
   "cell_type": "code",
   "execution_count": null,
   "id": "ae5fb408-eb84-4095-aae4-e385b075f5d8",
   "metadata": {},
   "outputs": [],
   "source": [
    "%%time\n",
    "\n",
    "arrayManipulation(0, [])\n"
   ]
  },
  {
   "cell_type": "code",
   "execution_count": 28,
   "id": "70225475-f593-400a-abe1-8dd5711ace26",
   "metadata": {},
   "outputs": [
    {
     "data": {
      "text/plain": [
       "100000"
      ]
     },
     "execution_count": 28,
     "metadata": {},
     "output_type": "execute_result"
    }
   ],
   "source": [
    "len(list_limit[0])"
   ]
  },
  {
   "cell_type": "markdown",
   "id": "69f4fb14-6113-4960-8865-8a272ed80118",
   "metadata": {
    "jp-MarkdownHeadingCollapsed": true,
    "tags": []
   },
   "source": [
    "# Results"
   ]
  },
  {
   "cell_type": "code",
   "execution_count": null,
   "id": "12db3fdc-bf6d-4ed4-9fab-5efd3ab7f2ab",
   "metadata": {},
   "outputs": [],
   "source": [
    "# naive (0-100) -> 40.6s"
   ]
  },
  {
   "cell_type": "markdown",
   "id": "92daf411-6612-457a-a459-cc330443ee69",
   "metadata": {
    "tags": []
   },
   "source": [
    "# Backup"
   ]
  },
  {
   "cell_type": "code",
   "execution_count": null,
   "id": "fd58d200-c2a7-4a87-95e5-922352c5cd2f",
   "metadata": {},
   "outputs": [],
   "source": [
    "def deleteNode(root, key, compare = lambda x,y: x<y):\n",
    "\n",
    "    # Return if the tree is empty\n",
    "    if root is None:\n",
    "        return root\n",
    "\n",
    "    # Find the node to be deleted\n",
    "    if key < root.key:\n",
    "        root.left = deleteNode(root.left, key)\n",
    "    elif(key > root.key):\n",
    "        root.right = deleteNode(root.right, key)\n",
    "    else:\n",
    "        # If the node is with only one child or no child\n",
    "        if root.left is None:\n",
    "            temp = root.right\n",
    "            root = None\n",
    "            return temp\n",
    "\n",
    "        elif root.right is None:\n",
    "            temp = root.left\n",
    "            root = None\n",
    "            return temp\n",
    "\n",
    "        # If the node has two children,\n",
    "        # place the inorder successor in position of the node to be deleted\n",
    "        temp = minValueNode(root.right)\n",
    "\n",
    "        root.key = temp.key\n",
    "\n",
    "        # Delete the inorder successor\n",
    "        root.right = deleteNode(root.right, temp.key)\n",
    "\n",
    "    return root"
   ]
  },
  {
   "cell_type": "code",
   "execution_count": null,
   "id": "28eee37a-c6f8-407d-8448-10826fad0cc3",
   "metadata": {},
   "outputs": [],
   "source": [
    "# #!/bin/python3\n",
    "\n",
    "# def arrayManipulation(n, queries):\n",
    "    \n",
    "#     list_num = []\n",
    "    \n",
    "#     bst = None\n",
    "    \n",
    "#     print(queries)\n",
    "    \n",
    "#     prev_query = (0,0,0)\n",
    "    \n",
    "#     for tup in queries:\n",
    "#         a,b,k = tup\n",
    "#         tup = (a,b,k)\n",
    "        \n",
    "#         list_cur = []\n",
    "        \n",
    "                \n",
    "#         print()\n",
    "#         inorder(bst)\n",
    "#         print()\n",
    "        \n",
    "#         #list_cur.append((a,b,k))\n",
    "        \n",
    "#         cur_node = Node(tup)\n",
    "#         bst = insert_tup(bst, tup, node_insert=cur_node)\n",
    "        \n",
    "#         #Preprocessing\n",
    "#         # Find start node (prev_node)\n",
    "         \n",
    "#         ### Cropping and reinserting of previous tuples  \n",
    "#         # Do we have to crop and reinsert?\n",
    "#         # Can we just remove those before the range of reinsert\n",
    "        \n",
    "#         if  a > prev_query[0]:\n",
    "#             # if true, preprocess BST, remove elements with \n",
    "            \n",
    "#             i_l, i_r, m = prev_query\n",
    "\n",
    "#             print(f'')\n",
    "            \n",
    "#             bsf = Node((float('inf'),float('inf'),float('inf')))\n",
    "#             start_node = search_next(bst, (i_l,a,0),bsf, compare=compare_tup)\n",
    "            \n",
    "#             ## Get starting node (i_l = a, i_r == a)\n",
    "#             # starting = i_l == a, i_r >= a\n",
    "#             # i_l == a implies i_r >= a?\n",
    "            \n",
    "#             while compare_tup(start_node.key, tup):\n",
    "#                 #for all tuple from i_l = a with i_r >= a (implied) up to i_l = i_l(k) (exclusive)\n",
    "#                 # set i_l == a\n",
    "#                 # add to list of to insert\n",
    "                \n",
    "#                 cropped = \n",
    "                \n",
    "\n",
    "#                 next_start_node = inOrderSuccessor(start_node)\n",
    "\n",
    "#                 if next_start_node.key[0] == tup[0]:\n",
    "#                     break\n",
    "\n",
    "#                 start_node = next_start_node\n",
    "\n",
    "\n",
    "#             next_crop_node = inOrderSuccessor(start_node)\n",
    "#             last_node = next_crop_node\n",
    "#             list_cropped = []\n",
    "\n",
    "#             while next_crop_node and next_crop_node.key[0] == a:\n",
    "\n",
    "\n",
    "# #                     temp =  next_crop_node\n",
    "\n",
    "#                 temp_l, temp_r, temp_m = next_crop_node\n",
    "#                 cropped = (i_l, temp_r, temp_m)\n",
    "# #                     deleteNode(bst, temp.key)\n",
    "\n",
    "#                 list_cropped.append(cropped)\n",
    "\n",
    "#                 last_node = next_crop_node\n",
    "#                 next_crop_node = inOrderSuccessor(next_crop_node)\n",
    "\n",
    "\n",
    "#             #delete range\n",
    "#             #can manually set (i_l, i_l, 0) as low\n",
    "#             bst = removeRange(bst, start_node.key, last_node.key, compare_tup)\n",
    "\n",
    "#             #insert all from list\n",
    "#             for cropped in list_cropped:\n",
    "#                 bst = insert_tup(bst, cropped)\n",
    "        \n",
    "#         # ----- Edit\n",
    "#         # Find start node:\n",
    "#         ## i_l < a, i_r > a\n",
    "        \n",
    "#         #starting next_node should be lowest overlap of cur_node\n",
    "#         #search for (a,a,x)\n",
    "        \n",
    "#         bsf = Node((float('inf'),float('inf'),float('inf')))\n",
    "#         next_node = search_next(bst, (a,a,k),bsf, compare=compare_tup)\n",
    "\n",
    "        \n",
    "#         if next_node:\n",
    "#             print(f'{cur_node.key} vs {next_node.key}')\n",
    "#         else:\n",
    "#             print(f'{cur_node.key} vs None')\n",
    "        \n",
    "#        #cur_node < next_node | next_node < cur_node -> next_node >= cur_node \n",
    "#         while next_node and not compare_tup(cur_node.key,next_node.key):\n",
    "#             print(next_node.key)\n",
    "            \n",
    "#             #Guaranteed ralationships with next successor:\n",
    "#               # - i_l > a -> i_r > a\n",
    "#               # if i_l == a  -> i_r > b\n",
    "            \n",
    "#             i_l, i_r, m = next_node\n",
    "            \n",
    "\n",
    "                  \n",
    "                \n",
    "#             new_i_r = min(b, i_r)\n",
    "#             new_m = m + k\n",
    "            \n",
    "#             list_cur.append((i_l,new_i_r,new_m))\n",
    "            \n",
    "#             for tup in list_cur:\n",
    "#                 bst = insert_tup(bst, tup)\n",
    "                \n",
    "#             cur_node = next_node\n",
    "#             next_node = inOrderSuccessor(next_node)\n",
    "\n",
    "#             #insort_right(list_num, tup, key=lambda x: x[0])\n",
    "#         #list_num.extend(list_cur)\n",
    "            \n",
    "    \n",
    "#     print(\"Inorder traversal: \", end=' ')\n",
    "#     inorder(bst)\n",
    "    \n",
    "    \n",
    "    \n",
    "                \n",
    "#     tup_max = max(list_num, key= lambda x: x[2])\n",
    "        \n",
    "#     print(tup_max)\n",
    "        \n",
    "#     return tup_max[2]\n",
    "    \n",
    "#     # Write your code here\n",
    "\n",
    "\n"
   ]
  },
  {
   "cell_type": "code",
   "execution_count": null,
   "id": "f00c5d71-b442-448b-acfa-c7229a790077",
   "metadata": {},
   "outputs": [],
   "source": [
    "# #!/bin/python3\n",
    "\n",
    "# def arrayManipulation(n, queries):\n",
    "    \n",
    "#     list_num = []\n",
    "    \n",
    "#     bst = None\n",
    "    \n",
    "# #     print(queries)\n",
    "\n",
    "#     highest = 0\n",
    "    \n",
    "#     prev_query = (0,0,0)\n",
    "    \n",
    "#     for tup in queries:\n",
    "#         a,b,k = tup\n",
    "#         tup = (a,b,k) #Convert list to tuple\n",
    "        \n",
    "#         list_cur = []\n",
    "        \n",
    "                \n",
    "# #         print()\n",
    "# #         inorder(bst)\n",
    "# #         print()\n",
    "        \n",
    "#         #list_cur.append((a,b,k))\n",
    "        \n",
    "#         #cur_node = Node(tup)\n",
    "#         list_cur.append(tup)\n",
    "        \n",
    "#         #bst = insert_tup(bst, tup, node_insert=cur_node)\n",
    "        \n",
    "#         #Preprocessing\n",
    "#         # Find start node (prev_node)\n",
    "         \n",
    "#         ### Cropping and reinserting of previous tuples  \n",
    "#         # Do we have to crop and reinsert?\n",
    "#         # Can we just remove those before the range of reinsert\n",
    "        \n",
    "#         prev_l = prev_query[0]\n",
    "#         if  a > prev_l:\n",
    "#             # if true, preprocess BST, remove elements with \n",
    "            \n",
    "#             bsf = Node((float('inf'),float('inf'),float('inf')))\n",
    "#             next_crop_node = search_next(bst, (prev_l,a,0),bsf, compare=compare_tup)\n",
    "            \n",
    "#             ## Get starting node (i_l = a, i_r == a)\n",
    "#             # starting = i_l == a, i_r >= a\n",
    "#             # i_l == a implies i_r >= a?\n",
    "            \n",
    "#             list_cropped = []\n",
    "#             last_crop_node =  next_crop_node\n",
    "            \n",
    "#             while next_crop_node and compare_tup(next_crop_node.key, tup):\n",
    "#                 #for all tuple from i_l = a with i_r >= a (implied) up to i_l = i_l(k) (exclusive)\n",
    "#                 # set i_l == a\n",
    "#                 # add to list of to insert\n",
    "                \n",
    "#                 i_l, i_r, m = next_crop_node.key\n",
    "                \n",
    "#                 cropped = (a, i_r, m)\n",
    "#                 list_cropped.append(cropped)\n",
    "                \n",
    "#                 last_crop_node = next_crop_node\n",
    "#                 next_crop_node = inOrderSuccessor(next_crop_node)\n",
    "\n",
    "#             #delete range\n",
    "#             #can manually set (i_l, i_l, 0) as low\n",
    "            \n",
    "#             if last_crop_node:\n",
    "#                 bst = removeRange(bst, (prev_l,prev_l,0), last_crop_node.key, compare_tup)\n",
    "\n",
    "#             #insert all from list\n",
    "#             for cropped in list_cropped:\n",
    "#                 bst = insert_tup(bst, cropped)\n",
    "        \n",
    "#         # ----- Edit\n",
    "#         # Find start node:\n",
    "#         ## i_l < a, i_r > a\n",
    "        \n",
    "#         #starting next_node should be lowest overlap of cur_node\n",
    "#         #search for (a,a,x)\n",
    "        \n",
    "#         bsf = Node((float('inf'),float('inf'),float('inf')))\n",
    "#         next_node = search_next(bst, (a,a,k),bsf, compare=compare_tup)\n",
    "\n",
    "# #         if next_node:\n",
    "# #             print(f'{tup} vs {next_node.key}')\n",
    "# #         else:\n",
    "# #             print(f'{tup} vs None')\n",
    "        \n",
    "        \n",
    "        \n",
    "        \n",
    "#         #cur_node < next_node | next_node < cur_node -> next_node >= cur_node \n",
    "#         # Its possible that b > i_r, don't use compare_tup\n",
    "#         # Its guaranteed to overlap until i_l > b\n",
    "#         #while next_node and not compare_tup(next_node.key,tup):\n",
    "#         while next_node and next_node.key[0] <= b:\n",
    "            \n",
    "# #             print(f'In loop: cur_query = [{tup}] | next_node = [{next_node.key}]')\n",
    "# #             print()\n",
    "            \n",
    "#             #Guaranteed ralationships with next successor:\n",
    "#               # - i_l > a -> i_r > a\n",
    "#               # if i_l == a  -> i_r > b\n",
    "            \n",
    "#             i_l, i_r, m = next_node.key\n",
    "            \n",
    "#             new_i_r = min(b, i_r)\n",
    "#             new_m = m + k\n",
    "            \n",
    "#             highest = max(highest, new_m)\n",
    "            \n",
    "#             list_cur.append((i_l,new_i_r,new_m))\n",
    "            \n",
    "#             #cur_node = next_node\n",
    "#             next_node = inOrderSuccessor(next_node)\n",
    "            \n",
    "#         for node in list_cur:\n",
    "#             bst = insert_tup(bst, node)\n",
    "        \n",
    "#         prev_query = tup\n",
    "    \n",
    "# #     print(\"Inorder traversal: \", end=' ')\n",
    "# #     inorder(bst)\n",
    "# #     print()\n",
    "                \n",
    "#     print(f'highest = [{highest}]')\n",
    "#     return highest\n",
    "    \n",
    "#     # Write your code here\n",
    "\n",
    "\n"
   ]
  }
 ],
 "metadata": {
  "kernelspec": {
   "display_name": "Python [conda env:hackerrank]",
   "language": "python",
   "name": "conda-env-hackerrank-py"
  },
  "language_info": {
   "codemirror_mode": {
    "name": "ipython",
    "version": 3
   },
   "file_extension": ".py",
   "mimetype": "text/x-python",
   "name": "python",
   "nbconvert_exporter": "python",
   "pygments_lexer": "ipython3",
   "version": "3.11.3"
  }
 },
 "nbformat": 4,
 "nbformat_minor": 5
}
