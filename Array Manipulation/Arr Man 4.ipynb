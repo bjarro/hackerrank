{
 "cells": [
  {
   "cell_type": "markdown",
   "id": "6345ce34-d23b-44a2-878e-28f954729b01",
   "metadata": {},
   "source": [
    "# "
   ]
  },
  {
   "cell_type": "code",
   "execution_count": 1,
   "id": "c0827a23-89e1-4d42-80a3-15d6e405e2d3",
   "metadata": {},
   "outputs": [],
   "source": [
    "#!/bin/python3\n",
    "\n",
    "import math\n",
    "import os\n",
    "import random\n",
    "import re\n",
    "import sys\n",
    "\n",
    "\n",
    "name_test = 'temp'\n",
    "os.environ['OUTPUT_PATH'] = f\"./out/{name_test}.txt\"\n"
   ]
  },
  {
   "cell_type": "markdown",
   "id": "c85c5b4e-0cdc-4f2d-94bc-034269dc217c",
   "metadata": {
    "tags": []
   },
   "source": [
    "## Code"
   ]
  },
  {
   "cell_type": "code",
   "execution_count": null,
   "id": "950a54f0-96a5-4544-9411-e91c1bc4e2bd",
   "metadata": {},
   "outputs": [],
   "source": [
    "        if query[0] > cur_overlaps[0][0]:\n",
    "#             lowest = heapq.heapreplace(cur_overlaps, ())\n",
    "#             cur_max -= lowest[2]\n",
    "#             #subtract\n",
    "            \n",
    "#         else:\n",
    "#             heapq.heappush(cur_overlaps, query)"
   ]
  },
  {
   "cell_type": "code",
   "execution_count": 1,
   "id": "d1bc19e3-4bae-439e-a37b-b46c23a07469",
   "metadata": {},
   "outputs": [],
   "source": [
    "import heapq"
   ]
  },
  {
   "cell_type": "code",
   "execution_count": 45,
   "id": "234aef93-519d-4519-92ef-dbc39954f84b",
   "metadata": {},
   "outputs": [],
   "source": [
    "list_one = [(0,0,0)]"
   ]
  },
  {
   "cell_type": "code",
   "execution_count": 47,
   "id": "e424fc14-779a-4d02-95fd-4b3ee5871bbe",
   "metadata": {},
   "outputs": [],
   "source": [
    "for e in list_one[1:]:\n",
    "    print('a')"
   ]
  },
  {
   "cell_type": "code",
   "execution_count": 46,
   "id": "b613e051-b7f6-42c1-92fd-2f9542687535",
   "metadata": {},
   "outputs": [
    {
     "data": {
      "text/plain": [
       "[(0, 0, 0)]"
      ]
     },
     "execution_count": 46,
     "metadata": {},
     "output_type": "execute_result"
    }
   ],
   "source": [
    "sorted(list_one, key= lambda x: x[0])"
   ]
  },
  {
   "cell_type": "code",
   "execution_count": 52,
   "id": "6b5e421f-ec4d-4e90-8a07-19a40d1b5d3e",
   "metadata": {},
   "outputs": [],
   "source": [
    "import heapq\n",
    "\n",
    "def arrayManipulation(n, queries):\n",
    "    queries = sorted(queries, key= lambda x: x[0])   # nlogn\n",
    "    \n",
    "    if queries: \n",
    "        query_start = queries[0]\n",
    "    else:\n",
    "        return 0\n",
    "    \n",
    "    cur_overlaps = [(query_start[1], query_start[0], query_start[2])]\n",
    "    cur_max = query_start[2]\n",
    "\n",
    "    cum_max = query_start[2]\n",
    "    \n",
    "    for query in queries[1:]: #nlogn\n",
    "#         print(f'cur_query = [{query}]')\n",
    "        \n",
    "        #if cur_left is greater than right of smallest\n",
    "        while cur_overlaps and query[0] > cur_overlaps[0][0]:\n",
    "            \n",
    "#             print(f'popping no longer overlapping: [{cur_overlaps[0]}]') \n",
    "            \n",
    "            to_remove = heapq.heappop(cur_overlaps)\n",
    "            \n",
    "#             print(f'subtracting to cur_max [{to_remove[2]}]')\n",
    "            cur_max -= to_remove[2]\n",
    "            \n",
    "        heapq.heappush(cur_overlaps, (query[1], query[0], query[2]))\n",
    "        cur_max += query[2]\n",
    "        \n",
    "        if cur_max > cum_max:\n",
    "            cum_max = cur_max\n",
    "            \n",
    "    print(cum_max)\n",
    "            \n",
    "    return cum_max\n",
    "        \n",
    "\n",
    "        \n",
    "\n",
    "\n"
   ]
  },
  {
   "cell_type": "code",
   "execution_count": null,
   "id": "10e09182-a9ad-4e58-97a5-db1d60dc6e76",
   "metadata": {},
   "outputs": [],
   "source": []
  },
  {
   "cell_type": "code",
   "execution_count": 24,
   "id": "68d41e57-395e-493a-a2ef-83a844168f43",
   "metadata": {},
   "outputs": [],
   "source": [
    "#!/bin/python3\n",
    "\n",
    "\n",
    "def arrayManipulation(n, queries):\n",
    "\n",
    "    list_num = [0 for _ in range(n+1)]\n",
    "    for a,b,k in queries:\n",
    "        list_num[a:b+1] = [num + k for num in list_num[a:b+1]]\n",
    "        \n",
    "    print(max(list_num))\n",
    "    return max(list_num)\n",
    "    \n",
    "    # Write your code here\n",
    "\n",
    "\n"
   ]
  },
  {
   "cell_type": "code",
   "execution_count": 51,
   "id": "d6f77358-111a-4c8d-8734-27ba06334a7d",
   "metadata": {},
   "outputs": [
    {
     "data": {
      "text/plain": [
       "0"
      ]
     },
     "execution_count": 51,
     "metadata": {},
     "output_type": "execute_result"
    }
   ],
   "source": [
    "arrayManipulation(0,[])"
   ]
  },
  {
   "cell_type": "markdown",
   "id": "da6d60ad-4218-4b67-a302-9cdcbea554c8",
   "metadata": {
    "tags": []
   },
   "source": [
    "## Run"
   ]
  },
  {
   "cell_type": "code",
   "execution_count": 50,
   "id": "dbd784c8-8273-4183-8aec-1ddd65a9c76a",
   "metadata": {
    "tags": []
   },
   "outputs": [
    {
     "name": "stdout",
     "output_type": "stream",
     "text": [
      "2501448788\n",
      "CPU times: total: 516 ms\n",
      "Wall time: 514 ms\n"
     ]
    }
   ],
   "source": [
    "%%time\n",
    "name_test = 'input09.txt'\n",
    "\n",
    "f_input = open(f\"./in/{name_test}\", \"r\")\n",
    "\n",
    "\n",
    "if __name__ == '__main__':\n",
    "#     fptr = open(os.environ['OUTPUT_PATH'], 'w')\n",
    "\n",
    "    first_multiple_input = f_input.readline().rstrip().split()\n",
    "\n",
    "    n = int(first_multiple_input[0])\n",
    "\n",
    "    m = int(first_multiple_input[1])\n",
    "\n",
    "    queries = []\n",
    "\n",
    "    for _ in range(m):\n",
    "        queries.append(list(map(int, f_input.readline().rstrip().split())))\n",
    "\n",
    "    result = arrayManipulation(n, queries)\n",
    "\n",
    "#     fptr.write(str(result) + '\\n')\n",
    "\n",
    "#     fptr.close()"
   ]
  },
  {
   "cell_type": "markdown",
   "id": "30d76668-fe89-4115-976b-6e804a59a0d3",
   "metadata": {
    "tags": []
   },
   "source": [
    "## Test time/space complexity"
   ]
  },
  {
   "cell_type": "code",
   "execution_count": 1,
   "id": "87f7953c-3b5c-4ecb-ad9e-2b4f7d16dcf9",
   "metadata": {},
   "outputs": [],
   "source": [
    "import sys"
   ]
  },
  {
   "cell_type": "code",
   "execution_count": 2,
   "id": "1e1d5a70-4a3d-4b58-aed2-1dee75eaafac",
   "metadata": {},
   "outputs": [
    {
     "data": {
      "text/plain": [
       "9223372036854775807"
      ]
     },
     "execution_count": 2,
     "metadata": {},
     "output_type": "execute_result"
    }
   ],
   "source": [
    "sys.maxsize"
   ]
  },
  {
   "cell_type": "code",
   "execution_count": 3,
   "id": "16896353-d76a-4f27-b9d2-ed72f77d3943",
   "metadata": {},
   "outputs": [
    {
     "data": {
      "text/plain": [
       "1000000000"
      ]
     },
     "execution_count": 3,
     "metadata": {},
     "output_type": "execute_result"
    }
   ],
   "source": [
    "10**9"
   ]
  },
  {
   "cell_type": "code",
   "execution_count": 4,
   "id": "d0d1ffa3-b2e9-48c6-b34f-1782e098b9cc",
   "metadata": {},
   "outputs": [],
   "source": [
    "import random"
   ]
  },
  {
   "cell_type": "code",
   "execution_count": 29,
   "id": "aba1ef82-b1fe-4539-85dd-fdce088fe5d0",
   "metadata": {},
   "outputs": [],
   "source": [
    "import math\n",
    "import random\n",
    "def arrayManipulation(n, queries):\n",
    "    \n",
    "    global list_limit\n",
    "    \n",
    "    n_limit = 100000\n",
    "    k_limit = 10**9\n",
    "    \n",
    "    #list_limit = [[random.randint(0, k_limit) for _ in range(n_limit)] for  _ in range(int(math.log2(n_limit)))]\n",
    "    \n",
    "    list_limit = [[random.randint(0, k_limit) for _ in range(n_limit)] for  _ in range(n_limit)]\n",
    "    \n",
    "    print('test finished')\n",
    "\n",
    "    list_num = [0 for _ in range(n+1)]\n",
    "    for a,b,k in queries:\n",
    "        list_num[a:b+1] = [num + k for num in list_num[a:b+1]]\n",
    "    return max(list_num)"
   ]
  },
  {
   "cell_type": "code",
   "execution_count": null,
   "id": "ae5fb408-eb84-4095-aae4-e385b075f5d8",
   "metadata": {},
   "outputs": [],
   "source": [
    "%%time\n",
    "\n",
    "arrayManipulation(0, [])\n"
   ]
  },
  {
   "cell_type": "code",
   "execution_count": 28,
   "id": "70225475-f593-400a-abe1-8dd5711ace26",
   "metadata": {},
   "outputs": [
    {
     "data": {
      "text/plain": [
       "100000"
      ]
     },
     "execution_count": 28,
     "metadata": {},
     "output_type": "execute_result"
    }
   ],
   "source": [
    "len(list_limit[0])"
   ]
  },
  {
   "cell_type": "markdown",
   "id": "69f4fb14-6113-4960-8865-8a272ed80118",
   "metadata": {
    "jp-MarkdownHeadingCollapsed": true,
    "tags": []
   },
   "source": [
    "# Results"
   ]
  },
  {
   "cell_type": "code",
   "execution_count": null,
   "id": "12db3fdc-bf6d-4ed4-9fab-5efd3ab7f2ab",
   "metadata": {},
   "outputs": [],
   "source": [
    "# naive (0-100) -> 40.6s"
   ]
  },
  {
   "cell_type": "markdown",
   "id": "92daf411-6612-457a-a459-cc330443ee69",
   "metadata": {
    "tags": []
   },
   "source": [
    "# Backup"
   ]
  },
  {
   "cell_type": "code",
   "execution_count": null,
   "id": "fd58d200-c2a7-4a87-95e5-922352c5cd2f",
   "metadata": {},
   "outputs": [],
   "source": [
    "def deleteNode(root, key, compare = lambda x,y: x<y):\n",
    "\n",
    "    # Return if the tree is empty\n",
    "    if root is None:\n",
    "        return root\n",
    "\n",
    "    # Find the node to be deleted\n",
    "    if key < root.key:\n",
    "        root.left = deleteNode(root.left, key)\n",
    "    elif(key > root.key):\n",
    "        root.right = deleteNode(root.right, key)\n",
    "    else:\n",
    "        # If the node is with only one child or no child\n",
    "        if root.left is None:\n",
    "            temp = root.right\n",
    "            root = None\n",
    "            return temp\n",
    "\n",
    "        elif root.right is None:\n",
    "            temp = root.left\n",
    "            root = None\n",
    "            return temp\n",
    "\n",
    "        # If the node has two children,\n",
    "        # place the inorder successor in position of the node to be deleted\n",
    "        temp = minValueNode(root.right)\n",
    "\n",
    "        root.key = temp.key\n",
    "\n",
    "        # Delete the inorder successor\n",
    "        root.right = deleteNode(root.right, temp.key)\n",
    "\n",
    "    return root"
   ]
  },
  {
   "cell_type": "code",
   "execution_count": null,
   "id": "28eee37a-c6f8-407d-8448-10826fad0cc3",
   "metadata": {},
   "outputs": [],
   "source": [
    "# #!/bin/python3\n",
    "\n",
    "# def arrayManipulation(n, queries):\n",
    "    \n",
    "#     list_num = []\n",
    "    \n",
    "#     bst = None\n",
    "    \n",
    "#     print(queries)\n",
    "    \n",
    "#     prev_query = (0,0,0)\n",
    "    \n",
    "#     for tup in queries:\n",
    "#         a,b,k = tup\n",
    "#         tup = (a,b,k)\n",
    "        \n",
    "#         list_cur = []\n",
    "        \n",
    "                \n",
    "#         print()\n",
    "#         inorder(bst)\n",
    "#         print()\n",
    "        \n",
    "#         #list_cur.append((a,b,k))\n",
    "        \n",
    "#         cur_node = Node(tup)\n",
    "#         bst = insert_tup(bst, tup, node_insert=cur_node)\n",
    "        \n",
    "#         #Preprocessing\n",
    "#         # Find start node (prev_node)\n",
    "         \n",
    "#         ### Cropping and reinserting of previous tuples  \n",
    "#         # Do we have to crop and reinsert?\n",
    "#         # Can we just remove those before the range of reinsert\n",
    "        \n",
    "#         if  a > prev_query[0]:\n",
    "#             # if true, preprocess BST, remove elements with \n",
    "            \n",
    "#             i_l, i_r, m = prev_query\n",
    "\n",
    "#             print(f'')\n",
    "            \n",
    "#             bsf = Node((float('inf'),float('inf'),float('inf')))\n",
    "#             start_node = search_next(bst, (i_l,a,0),bsf, compare=compare_tup)\n",
    "            \n",
    "#             ## Get starting node (i_l = a, i_r == a)\n",
    "#             # starting = i_l == a, i_r >= a\n",
    "#             # i_l == a implies i_r >= a?\n",
    "            \n",
    "#             while compare_tup(start_node.key, tup):\n",
    "#                 #for all tuple from i_l = a with i_r >= a (implied) up to i_l = i_l(k) (exclusive)\n",
    "#                 # set i_l == a\n",
    "#                 # add to list of to insert\n",
    "                \n",
    "#                 cropped = \n",
    "                \n",
    "\n",
    "#                 next_start_node = inOrderSuccessor(start_node)\n",
    "\n",
    "#                 if next_start_node.key[0] == tup[0]:\n",
    "#                     break\n",
    "\n",
    "#                 start_node = next_start_node\n",
    "\n",
    "\n",
    "#             next_crop_node = inOrderSuccessor(start_node)\n",
    "#             last_node = next_crop_node\n",
    "#             list_cropped = []\n",
    "\n",
    "#             while next_crop_node and next_crop_node.key[0] == a:\n",
    "\n",
    "\n",
    "# #                     temp =  next_crop_node\n",
    "\n",
    "#                 temp_l, temp_r, temp_m = next_crop_node\n",
    "#                 cropped = (i_l, temp_r, temp_m)\n",
    "# #                     deleteNode(bst, temp.key)\n",
    "\n",
    "#                 list_cropped.append(cropped)\n",
    "\n",
    "#                 last_node = next_crop_node\n",
    "#                 next_crop_node = inOrderSuccessor(next_crop_node)\n",
    "\n",
    "\n",
    "#             #delete range\n",
    "#             #can manually set (i_l, i_l, 0) as low\n",
    "#             bst = removeRange(bst, start_node.key, last_node.key, compare_tup)\n",
    "\n",
    "#             #insert all from list\n",
    "#             for cropped in list_cropped:\n",
    "#                 bst = insert_tup(bst, cropped)\n",
    "        \n",
    "#         # ----- Edit\n",
    "#         # Find start node:\n",
    "#         ## i_l < a, i_r > a\n",
    "        \n",
    "#         #starting next_node should be lowest overlap of cur_node\n",
    "#         #search for (a,a,x)\n",
    "        \n",
    "#         bsf = Node((float('inf'),float('inf'),float('inf')))\n",
    "#         next_node = search_next(bst, (a,a,k),bsf, compare=compare_tup)\n",
    "\n",
    "        \n",
    "#         if next_node:\n",
    "#             print(f'{cur_node.key} vs {next_node.key}')\n",
    "#         else:\n",
    "#             print(f'{cur_node.key} vs None')\n",
    "        \n",
    "#        #cur_node < next_node | next_node < cur_node -> next_node >= cur_node \n",
    "#         while next_node and not compare_tup(cur_node.key,next_node.key):\n",
    "#             print(next_node.key)\n",
    "            \n",
    "#             #Guaranteed ralationships with next successor:\n",
    "#               # - i_l > a -> i_r > a\n",
    "#               # if i_l == a  -> i_r > b\n",
    "            \n",
    "#             i_l, i_r, m = next_node\n",
    "            \n",
    "\n",
    "                  \n",
    "                \n",
    "#             new_i_r = min(b, i_r)\n",
    "#             new_m = m + k\n",
    "            \n",
    "#             list_cur.append((i_l,new_i_r,new_m))\n",
    "            \n",
    "#             for tup in list_cur:\n",
    "#                 bst = insert_tup(bst, tup)\n",
    "                \n",
    "#             cur_node = next_node\n",
    "#             next_node = inOrderSuccessor(next_node)\n",
    "\n",
    "#             #insort_right(list_num, tup, key=lambda x: x[0])\n",
    "#         #list_num.extend(list_cur)\n",
    "            \n",
    "    \n",
    "#     print(\"Inorder traversal: \", end=' ')\n",
    "#     inorder(bst)\n",
    "    \n",
    "    \n",
    "    \n",
    "                \n",
    "#     tup_max = max(list_num, key= lambda x: x[2])\n",
    "        \n",
    "#     print(tup_max)\n",
    "        \n",
    "#     return tup_max[2]\n",
    "    \n",
    "#     # Write your code here\n",
    "\n",
    "\n"
   ]
  },
  {
   "cell_type": "code",
   "execution_count": null,
   "id": "f00c5d71-b442-448b-acfa-c7229a790077",
   "metadata": {},
   "outputs": [],
   "source": [
    "# #!/bin/python3\n",
    "\n",
    "# def arrayManipulation(n, queries):\n",
    "    \n",
    "#     list_num = []\n",
    "    \n",
    "#     bst = None\n",
    "    \n",
    "# #     print(queries)\n",
    "\n",
    "#     highest = 0\n",
    "    \n",
    "#     prev_query = (0,0,0)\n",
    "    \n",
    "#     for tup in queries:\n",
    "#         a,b,k = tup\n",
    "#         tup = (a,b,k) #Convert list to tuple\n",
    "        \n",
    "#         list_cur = []\n",
    "        \n",
    "                \n",
    "# #         print()\n",
    "# #         inorder(bst)\n",
    "# #         print()\n",
    "        \n",
    "#         #list_cur.append((a,b,k))\n",
    "        \n",
    "#         #cur_node = Node(tup)\n",
    "#         list_cur.append(tup)\n",
    "        \n",
    "#         #bst = insert_tup(bst, tup, node_insert=cur_node)\n",
    "        \n",
    "#         #Preprocessing\n",
    "#         # Find start node (prev_node)\n",
    "         \n",
    "#         ### Cropping and reinserting of previous tuples  \n",
    "#         # Do we have to crop and reinsert?\n",
    "#         # Can we just remove those before the range of reinsert\n",
    "        \n",
    "#         prev_l = prev_query[0]\n",
    "#         if  a > prev_l:\n",
    "#             # if true, preprocess BST, remove elements with \n",
    "            \n",
    "#             bsf = Node((float('inf'),float('inf'),float('inf')))\n",
    "#             next_crop_node = search_next(bst, (prev_l,a,0),bsf, compare=compare_tup)\n",
    "            \n",
    "#             ## Get starting node (i_l = a, i_r == a)\n",
    "#             # starting = i_l == a, i_r >= a\n",
    "#             # i_l == a implies i_r >= a?\n",
    "            \n",
    "#             list_cropped = []\n",
    "#             last_crop_node =  next_crop_node\n",
    "            \n",
    "#             while next_crop_node and compare_tup(next_crop_node.key, tup):\n",
    "#                 #for all tuple from i_l = a with i_r >= a (implied) up to i_l = i_l(k) (exclusive)\n",
    "#                 # set i_l == a\n",
    "#                 # add to list of to insert\n",
    "                \n",
    "#                 i_l, i_r, m = next_crop_node.key\n",
    "                \n",
    "#                 cropped = (a, i_r, m)\n",
    "#                 list_cropped.append(cropped)\n",
    "                \n",
    "#                 last_crop_node = next_crop_node\n",
    "#                 next_crop_node = inOrderSuccessor(next_crop_node)\n",
    "\n",
    "#             #delete range\n",
    "#             #can manually set (i_l, i_l, 0) as low\n",
    "            \n",
    "#             if last_crop_node:\n",
    "#                 bst = removeRange(bst, (prev_l,prev_l,0), last_crop_node.key, compare_tup)\n",
    "\n",
    "#             #insert all from list\n",
    "#             for cropped in list_cropped:\n",
    "#                 bst = insert_tup(bst, cropped)\n",
    "        \n",
    "#         # ----- Edit\n",
    "#         # Find start node:\n",
    "#         ## i_l < a, i_r > a\n",
    "        \n",
    "#         #starting next_node should be lowest overlap of cur_node\n",
    "#         #search for (a,a,x)\n",
    "        \n",
    "#         bsf = Node((float('inf'),float('inf'),float('inf')))\n",
    "#         next_node = search_next(bst, (a,a,k),bsf, compare=compare_tup)\n",
    "\n",
    "# #         if next_node:\n",
    "# #             print(f'{tup} vs {next_node.key}')\n",
    "# #         else:\n",
    "# #             print(f'{tup} vs None')\n",
    "        \n",
    "        \n",
    "        \n",
    "        \n",
    "#         #cur_node < next_node | next_node < cur_node -> next_node >= cur_node \n",
    "#         # Its possible that b > i_r, don't use compare_tup\n",
    "#         # Its guaranteed to overlap until i_l > b\n",
    "#         #while next_node and not compare_tup(next_node.key,tup):\n",
    "#         while next_node and next_node.key[0] <= b:\n",
    "            \n",
    "# #             print(f'In loop: cur_query = [{tup}] | next_node = [{next_node.key}]')\n",
    "# #             print()\n",
    "            \n",
    "#             #Guaranteed ralationships with next successor:\n",
    "#               # - i_l > a -> i_r > a\n",
    "#               # if i_l == a  -> i_r > b\n",
    "            \n",
    "#             i_l, i_r, m = next_node.key\n",
    "            \n",
    "#             new_i_r = min(b, i_r)\n",
    "#             new_m = m + k\n",
    "            \n",
    "#             highest = max(highest, new_m)\n",
    "            \n",
    "#             list_cur.append((i_l,new_i_r,new_m))\n",
    "            \n",
    "#             #cur_node = next_node\n",
    "#             next_node = inOrderSuccessor(next_node)\n",
    "            \n",
    "#         for node in list_cur:\n",
    "#             bst = insert_tup(bst, node)\n",
    "        \n",
    "#         prev_query = tup\n",
    "    \n",
    "# #     print(\"Inorder traversal: \", end=' ')\n",
    "# #     inorder(bst)\n",
    "# #     print()\n",
    "                \n",
    "#     print(f'highest = [{highest}]')\n",
    "#     return highest\n",
    "    \n",
    "#     # Write your code here\n",
    "\n",
    "\n"
   ]
  }
 ],
 "metadata": {
  "kernelspec": {
   "display_name": "Python [conda env:hackerrank]",
   "language": "python",
   "name": "conda-env-hackerrank-py"
  },
  "language_info": {
   "codemirror_mode": {
    "name": "ipython",
    "version": 3
   },
   "file_extension": ".py",
   "mimetype": "text/x-python",
   "name": "python",
   "nbconvert_exporter": "python",
   "pygments_lexer": "ipython3",
   "version": "3.11.3"
  }
 },
 "nbformat": 4,
 "nbformat_minor": 5
}
