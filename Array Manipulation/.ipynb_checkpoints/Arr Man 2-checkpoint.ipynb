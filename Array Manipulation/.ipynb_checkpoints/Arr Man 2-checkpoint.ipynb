{
 "cells": [
  {
   "cell_type": "markdown",
   "id": "6345ce34-d23b-44a2-878e-28f954729b01",
   "metadata": {},
   "source": [
    "# "
   ]
  },
  {
   "cell_type": "code",
   "execution_count": 4,
   "id": "c0827a23-89e1-4d42-80a3-15d6e405e2d3",
   "metadata": {},
   "outputs": [],
   "source": [
    "#!/bin/python3\n",
    "\n",
    "import math\n",
    "import os\n",
    "import random\n",
    "import re\n",
    "import sys\n",
    "\n",
    "\n",
    "name_test = 'temp'\n",
    "os.environ['OUTPUT_PATH'] = f\"./out/{name_test}.txt\"\n"
   ]
  },
  {
   "cell_type": "code",
   "execution_count": 5,
   "id": "e9057bf2-e69f-4ce1-a8c6-fb282d3d02d2",
   "metadata": {},
   "outputs": [],
   "source": [
    "from bisect import insort_right"
   ]
  },
  {
   "cell_type": "code",
   "execution_count": 6,
   "id": "0ee86942-98e3-4fe6-9853-66dd459a24d4",
   "metadata": {},
   "outputs": [],
   "source": [
    "#!/bin/python3\n",
    "\n",
    "\n",
    "def arrayManipulation(n, queries):\n",
    "\n",
    "    \n",
    "    list_num = [0 for _ in range(n+1)]\n",
    "    for a,b,k in queries:\n",
    "        list_num[a:b+1] = [num + k for num in list_num[a:b+1]]\n",
    "    return max(list_num)\n",
    "    \n",
    "    # Write your code here\n",
    "\n",
    "\n"
   ]
  },
  {
   "cell_type": "code",
   "execution_count": 7,
   "id": "13894ca4-5fce-4e97-9732-51f7bfef095a",
   "metadata": {},
   "outputs": [],
   "source": [
    "from functools import partial"
   ]
  },
  {
   "cell_type": "code",
   "execution_count": 8,
   "id": "41bac9c7-7827-4b45-a9c6-7045219244a2",
   "metadata": {},
   "outputs": [],
   "source": [
    "# Binary Search Tree operations in Python\n",
    "\n",
    "# Create a node\n",
    "class Node:\n",
    "    def __init__(self, key):\n",
    "        self.key = key\n",
    "        self.left = None\n",
    "        self.right = None\n",
    "        self.parent = None\n",
    "\n",
    "\n",
    "# Inorder traversal\n",
    "def inorder(root):\n",
    "    if root is not None:\n",
    "        # Traverse left\n",
    "        inorder(root.left)\n",
    "        \n",
    "        # Traverse root\n",
    "        print(str(root.key) + \"->\", end=' ')\n",
    "\n",
    "        # Traverse right\n",
    "        inorder(root.right)\n",
    "        \n",
    "def compare_tup(x,y):\n",
    "    \n",
    "    if x[0] != y[0]:\n",
    "        return x[0] < y[0]\n",
    "    else:\n",
    "        return x[1] < y[1]\n",
    "    \n",
    "\n",
    "# Insert a node\n",
    "def insert(node, key, compare = lambda x,y: x<y, node_insert = None):\n",
    "\n",
    "    # Return a new node if the tree is empty\n",
    "    if node is None:\n",
    "        if node_insert is None:\n",
    "            return Node(key)\n",
    "        else:\n",
    "            return node_insert\n",
    "\n",
    "    # Traverse to the right place and insert the node\n",
    "    if compare(key,node.key):\n",
    "        temp = insert(node.left, key, compare, node_insert)\n",
    "        node.left = temp\n",
    "        temp.parent = node\n",
    "    else:\n",
    "        temp = insert(node.right, key, compare, node_insert)\n",
    "        node.right = temp\n",
    "        temp.parent = node\n",
    "\n",
    "    return node\n",
    "\n",
    "insert_tup = partial(insert, compare=compare_tup)\n",
    "\n",
    "\n",
    "def deleteNode(root, key):\n",
    "\n",
    "    # Return if the tree is empty\n",
    "    if root is None:\n",
    "        return root\n",
    "\n",
    "    # Find the node to be deleted\n",
    "    if key < root.key:\n",
    "        root.left = deleteNode(root.left, key)\n",
    "    elif(key > root.key):\n",
    "        root.right = deleteNode(root.right, key)\n",
    "    else:\n",
    "        # If the node is with only one child or no child\n",
    "        if root.left is None:\n",
    "            temp = root.right\n",
    "            root = None\n",
    "            return temp\n",
    "\n",
    "        elif root.right is None:\n",
    "            temp = root.left\n",
    "            root = None\n",
    "            return temp\n",
    "\n",
    "        # If the node has two children,\n",
    "        # place the inorder successor in position of the node to be deleted\n",
    "        temp = minValueNode(root.right)\n",
    "\n",
    "        root.key = temp.key\n",
    "\n",
    "        # Delete the inorder successor\n",
    "        root.right = deleteNode(root.right, temp.key)\n",
    "\n",
    "    return root\n",
    "\n",
    "\n",
    "def removeRange(node, low, high, compare = lambda x,y: x<y):\n",
    "     \n",
    "    # Base case\n",
    "    if (node == None):\n",
    "        return None\n",
    " \n",
    "    # First fix the left and right subtrees of node\n",
    "    node.left = removeRange(node.left, low, high)\n",
    "    node.right = removeRange(node.right, low, high)\n",
    " \n",
    "    # Now fix the node. If given node\n",
    "    # is in Range then delete it\n",
    "    \n",
    "    # low <= node <= high\n",
    "    \n",
    "    # compare(node, low) -> node < low\n",
    "    # not compare(node, low) -> node >= low\n",
    "    # compare(high, node) -> high < node\n",
    "    # not compare(high, node) -> high >= node\n",
    "    \n",
    "    \n",
    "    if (not compare(node.key, low)) and (not compare(high, node.key)):\n",
    "        return deleteNode(node, node.key)\n",
    " \n",
    "    # Root is out of range\n",
    "    return node\n",
    "\n",
    "\n",
    "def search(root, key, compare = lambda x,y: x<y):\n",
    " \n",
    "    # Base Cases: root is null or key is present at root\n",
    "    if root is None or root.key == key:\n",
    "        return root\n",
    " \n",
    "    # Key is greater than root's key\n",
    "    if compare(root.key, key):\n",
    "        if root.right:\n",
    "            return search(root.right, key)\n",
    "        else:\n",
    "            return root\n",
    " \n",
    "    else:\n",
    "    # Key is smaller than root's key\n",
    "        if root.left:\n",
    "            return search(root.left, key)\n",
    "        else:\n",
    "            return root\n",
    "\n",
    "\n",
    "# # Insert a node\n",
    "# def insert(node, key):\n",
    "\n",
    "#     # Return a new node if the tree is empty\n",
    "#     if node is None:\n",
    "#         return Node(key)\n",
    "\n",
    "#     # Traverse to the right place and insert the node\n",
    "#     if key < node.key:\n",
    "#         node.left = insert(node.left, key)\n",
    "#     else:\n",
    "#         node.right = insert(node.right, key)\n",
    "\n",
    "#     return node\n",
    "\n",
    "\n",
    "def minValueNode(node):\n",
    "    current = node\n",
    "\n",
    "    # Find the leftmost leaf\n",
    "    while(current.left is not None):\n",
    "        current = current.left\n",
    "\n",
    "    return current\n",
    "\n",
    "def inOrderSuccessor(n):\n",
    "     \n",
    "    # Step 1 of the above algorithm\n",
    "    if n.right is not None:\n",
    "        return minValueNode(n.right)\n",
    " \n",
    "    # Step 2 of the above algorithm\n",
    "    p = n.parent\n",
    "    while( p is not None):\n",
    "        if n != p.right :\n",
    "            break\n",
    "        n = p\n",
    "        p = p.parent\n",
    "    return p\n",
    "\n",
    "\n",
    "def nextNode(root, key, compare = lambda x,y: x<y):\n",
    " \n",
    "    # If leaf node reached and is smaller than N\n",
    "    #if root.left is None and root.right is None and root.data < N:\n",
    "    if root.left is None and root.right is None and compare(root.key, key):\n",
    "        return None\n",
    " \n",
    "    # If node's value is greater than N and left value\n",
    "    # is NULL or smaller then return the node value\n",
    "    #if root.data >= N and root.left is None or root.data >= N and root.left.data < N:\n",
    "    if ((not compare(root.key, key)) and root.left is None) or ((not compare(root.key, key)) and (compare(root.left.key, key))):\n",
    "        return root\n",
    " \n",
    "    # if node value is smaller than N search in the\n",
    "    # right subtree\n",
    "    #if root.data <= N:\n",
    "    if not compare(key,root.key):\n",
    "        return nextNode(root.right, key, compare)\n",
    "    # if node value is greater than N search in the\n",
    "    # left subtree\n",
    "    else:\n",
    "        return nextNode(root.left, key, compare)\n",
    "    \n",
    "    \n",
    "#Search next\n",
    "# What if next does not exist? (Best so far (k) would have infinity)\n",
    "# def search_next(n, x, best_so_far, compare=lambda x,y: x<y):\n",
    "#     if n is None:\n",
    "#         return best_so_far\n",
    "#     if n.key == x:\n",
    "#         return x\n",
    "#     if compare(n.key, x):\n",
    "#         return search_next(n.right, x, best_so_far, compare)\n",
    "#     else:\n",
    "#         print(f'bsf - [{best_so_far}] | n.key - [{n.key}]')\n",
    "#         return search_next(n.left, x, min([best_so_far, n.key]), compare)\n",
    "    \n",
    "    \n",
    "    \n",
    "def search_next(n, x, best_so_far, compare=lambda x,y: x<y):\n",
    "    if n is None:\n",
    "        if best_so_far.key[0] == float('inf'):\n",
    "            return None\n",
    "        else:\n",
    "            return best_so_far\n",
    "    if n.key == x:\n",
    "        return n\n",
    "    if compare(n.key, x):\n",
    "        return search_next(n.right, x, best_so_far, compare)\n",
    "    else:\n",
    "        #print(f'bsf - [{best_so_far.key}] | n.key - [{n.key}]')\n",
    "        return search_next(n.left, x, min([best_so_far, n], key=lambda x: x.key), compare)"
   ]
  },
  {
   "cell_type": "raw",
   "id": "52ecf8d5-3a8b-48d0-a648-ea5cea4bef45",
   "metadata": {},
   "source": [
    "(n.left, x, min(best_so_far, n.key), compare)"
   ]
  },
  {
   "cell_type": "code",
   "execution_count": 6,
   "id": "8e700810-7df5-40c8-906b-c46a8c68fd8a",
   "metadata": {},
   "outputs": [
    {
     "data": {
      "text/plain": [
       "False"
      ]
     },
     "execution_count": 6,
     "metadata": {},
     "output_type": "execute_result"
    }
   ],
   "source": [
    "tup_1 = (1,4,1)\n",
    "tup_2 = (1,4,1)\n",
    "\n",
    "compare_tup(tup_1, tup_2)"
   ]
  },
  {
   "cell_type": "code",
   "execution_count": 37,
   "id": "1a403271-6319-4d50-a280-213920d59c0f",
   "metadata": {},
   "outputs": [
    {
     "data": {
      "text/plain": [
       "(1, 5, 2)"
      ]
     },
     "execution_count": 37,
     "metadata": {},
     "output_type": "execute_result"
    }
   ],
   "source": [
    "min([(2,2,3),(1,5,2)])"
   ]
  },
  {
   "cell_type": "code",
   "execution_count": 24,
   "id": "3e01e706-cbc1-4d47-aa5c-7ae20f225380",
   "metadata": {},
   "outputs": [
    {
     "name": "stdout",
     "output_type": "stream",
     "text": [
      "Inorder traversal:  1-> 3-> 4-> 6-> 7-> 8-> 10-> 14-> "
     ]
    }
   ],
   "source": [
    "root = None\n",
    "root = insert(root, 8)\n",
    "root = insert(root, 3)\n",
    "root = insert(root, 1)\n",
    "root = insert(root, 6)\n",
    "node_7 = Node(7)\n",
    "root = insert(root, 7, node_insert=node_7)\n",
    "#node_7 = insert(root, 7)\n",
    "#root = insert(root, 7)\n",
    "root = insert(root, 10)\n",
    "root = insert(root, 14)\n",
    "root = insert(root, 4)\n",
    "\n",
    "print(\"Inorder traversal: \", end=' ')\n",
    "inorder(root)"
   ]
  },
  {
   "cell_type": "code",
   "execution_count": 59,
   "id": "b7062376-b60d-48ff-877a-cced91dc9d9d",
   "metadata": {},
   "outputs": [
    {
     "data": {
      "text/plain": [
       "6"
      ]
     },
     "execution_count": 59,
     "metadata": {},
     "output_type": "execute_result"
    }
   ],
   "source": [
    "inOrderSuccessor(root.left.right.left).key"
   ]
  },
  {
   "cell_type": "code",
   "execution_count": 26,
   "id": "efb942e7-b325-47f0-b367-8d8dd0ab7b5e",
   "metadata": {
    "tags": []
   },
   "outputs": [
    {
     "data": {
      "text/plain": [
       "6"
      ]
     },
     "execution_count": 26,
     "metadata": {},
     "output_type": "execute_result"
    }
   ],
   "source": [
    "search_next(root, 5, float('inf'))"
   ]
  },
  {
   "cell_type": "code",
   "execution_count": 54,
   "id": "093c8617-95dd-49d3-97a6-d178d287f09f",
   "metadata": {},
   "outputs": [
    {
     "data": {
      "text/plain": [
       "8"
      ]
     },
     "execution_count": 54,
     "metadata": {},
     "output_type": "execute_result"
    }
   ],
   "source": [
    "nextNode(root, 4).key"
   ]
  },
  {
   "cell_type": "code",
   "execution_count": 58,
   "id": "7f49a125-730c-426e-9cd6-fe528dc8cb94",
   "metadata": {},
   "outputs": [
    {
     "data": {
      "text/plain": [
       "4"
      ]
     },
     "execution_count": 58,
     "metadata": {},
     "output_type": "execute_result"
    }
   ],
   "source": [
    "root.left.right.left.key"
   ]
  },
  {
   "cell_type": "code",
   "execution_count": 11,
   "id": "28b649cd-d389-4e4a-8dff-ce793d2e8fee",
   "metadata": {},
   "outputs": [
    {
     "data": {
      "text/plain": [
       "4"
      ]
     },
     "execution_count": 11,
     "metadata": {},
     "output_type": "execute_result"
    }
   ],
   "source": [
    "search(root, 5).key"
   ]
  },
  {
   "cell_type": "code",
   "execution_count": 73,
   "id": "61374a4d-10a3-4960-9362-4a45f1f95bca",
   "metadata": {},
   "outputs": [
    {
     "data": {
      "text/plain": [
       "<__main__.Node at 0x1a221347750>"
      ]
     },
     "execution_count": 73,
     "metadata": {},
     "output_type": "execute_result"
    }
   ],
   "source": [
    "root.left.parent"
   ]
  },
  {
   "cell_type": "code",
   "execution_count": 74,
   "id": "f2580cfc-a12a-43a9-b27e-da5f107d5df8",
   "metadata": {},
   "outputs": [
    {
     "data": {
      "text/plain": [
       "<__main__.Node at 0x1a2214daa90>"
      ]
     },
     "execution_count": 74,
     "metadata": {},
     "output_type": "execute_result"
    }
   ],
   "source": [
    "inOrderSuccessor(root.right)"
   ]
  },
  {
   "cell_type": "code",
   "execution_count": 79,
   "id": "a8901b2c-f3c4-44ef-8ca4-eae061b9bc81",
   "metadata": {},
   "outputs": [
    {
     "data": {
      "text/plain": [
       "6"
      ]
     },
     "execution_count": 79,
     "metadata": {},
     "output_type": "execute_result"
    }
   ],
   "source": [
    "node_7.parent.key"
   ]
  },
  {
   "cell_type": "code",
   "execution_count": null,
   "id": "40bc8523-c693-4400-80b5-df88aa6b0cee",
   "metadata": {},
   "outputs": [],
   "source": [
    "node_7 = insert(root, 7)"
   ]
  },
  {
   "cell_type": "code",
   "execution_count": 30,
   "id": "6b5e421f-ec4d-4e90-8a07-19a40d1b5d3e",
   "metadata": {},
   "outputs": [],
   "source": [
    "#!/bin/python3\n",
    "\n",
    "def arrayManipulation(n, queries):\n",
    "    \n",
    "    list_num = []\n",
    "    \n",
    "    bst = None\n",
    "    \n",
    "    print(queries)\n",
    "    \n",
    "    prev_query = (0,0,0)\n",
    "    \n",
    "    for tup in queries:\n",
    "        a,b,k = tup\n",
    "        tup = (a,b,k) #Convert list to tuple\n",
    "        \n",
    "        list_cur = []\n",
    "        \n",
    "                \n",
    "        print()\n",
    "        inorder(bst)\n",
    "        print()\n",
    "        \n",
    "        #list_cur.append((a,b,k))\n",
    "        \n",
    "        #cur_node = Node(tup)\n",
    "        list_cur.append(tup)\n",
    "        \n",
    "        #bst = insert_tup(bst, tup, node_insert=cur_node)\n",
    "        \n",
    "        #Preprocessing\n",
    "        # Find start node (prev_node)\n",
    "         \n",
    "        ### Cropping and reinserting of previous tuples  \n",
    "        # Do we have to crop and reinsert?\n",
    "        # Can we just remove those before the range of reinsert\n",
    "        \n",
    "        prev_l = prev_query[0]\n",
    "        if  a > prev_l:\n",
    "            # if true, preprocess BST, remove elements with \n",
    "\n",
    "            print(f'')\n",
    "            \n",
    "            bsf = Node((float('inf'),float('inf'),float('inf')))\n",
    "            next_crop_node = search_next(bst, (prev_l,a,0),bsf, compare=compare_tup)\n",
    "            \n",
    "            ## Get starting node (i_l = a, i_r == a)\n",
    "            # starting = i_l == a, i_r >= a\n",
    "            # i_l == a implies i_r >= a?\n",
    "            \n",
    "            list_cropped = []\n",
    "            last_crop_node =  next_crop_node\n",
    "            \n",
    "            while next_crop_node and compare_tup(next_crop_node.key, tup):\n",
    "                #for all tuple from i_l = a with i_r >= a (implied) up to i_l = i_l(k) (exclusive)\n",
    "                # set i_l == a\n",
    "                # add to list of to insert\n",
    "                \n",
    "                i_l, i_r, m = next_crop_node.key\n",
    "                \n",
    "                cropped = (a, i_r, m)\n",
    "                list_cropped.append(cropped)\n",
    "                \n",
    "                last_crop_node = next_crop_node.key\n",
    "                next_crop_node = inOrderSuccessor(next_crop_node)\n",
    "\n",
    "            #delete range\n",
    "            #can manually set (i_l, i_l, 0) as low\n",
    "            \n",
    "            if next_crop_node:\n",
    "                bst = removeRange(bst, (prev_l,prev_l,0), last_crop_node.key, compare_tup)\n",
    "\n",
    "            #insert all from list\n",
    "            for cropped in list_cropped:\n",
    "                bst = insert_tup(bst, cropped)\n",
    "        \n",
    "        # ----- Edit\n",
    "        # Find start node:\n",
    "        ## i_l < a, i_r > a\n",
    "        \n",
    "        #starting next_node should be lowest overlap of cur_node\n",
    "        #search for (a,a,x)\n",
    "        \n",
    "        bsf = Node((float('inf'),float('inf'),float('inf')))\n",
    "        next_node = search_next(bst, (a,a,k),bsf, compare=compare_tup)\n",
    "\n",
    "        if next_node:\n",
    "            print(f'{tup} vs {next_node.key}')\n",
    "        else:\n",
    "            print(f'{tup} vs None')\n",
    "        \n",
    "        \n",
    "       #cur_node < next_node | next_node < cur_node -> next_node >= cur_node \n",
    "        while next_node and not compare_tup(next_node.key,tup):\n",
    "#             print(f'cur_node = [{}] | 'next_node.key)\n",
    "#             print()\n",
    "            \n",
    "            #Guaranteed ralationships with next successor:\n",
    "              # - i_l > a -> i_r > a\n",
    "              # if i_l == a  -> i_r > b\n",
    "            \n",
    "            i_l, i_r, m = next_node.key\n",
    "            \n",
    "            new_i_r = min(b, i_r)\n",
    "            new_m = m + k\n",
    "            \n",
    "            list_cur.append((i_l,new_i_r,new_m))\n",
    "            \n",
    "            #cur_node = next_node\n",
    "            next_node = inOrderSuccessor(next_node)\n",
    "            \n",
    "        for node in list_cur:\n",
    "            bst = insert_tup(bst, node)\n",
    "        \n",
    "        prev_query = tup\n",
    "    \n",
    "    print(\"Inorder traversal: \", end=' ')\n",
    "    inorder(bst)\n",
    "                \n",
    "    tup_max = max(list_num, key= lambda x: x[2])\n",
    "        \n",
    "    print(tup_max)\n",
    "        \n",
    "    return tup_max[2]\n",
    "    \n",
    "    # Write your code here\n",
    "\n",
    "\n"
   ]
  },
  {
   "cell_type": "code",
   "execution_count": 29,
   "id": "dbd784c8-8273-4183-8aec-1ddd65a9c76a",
   "metadata": {},
   "outputs": [
    {
     "name": "stdout",
     "output_type": "stream",
     "text": [
      "[[1, 2, 100], [2, 5, 100], [3, 4, 100]]\n",
      "\n",
      "\n",
      "\n",
      "(1, 2, 100) vs None\n",
      "\n",
      "<__main__.Node object at 0x000001A3CE1CB110>-> \n",
      "\n"
     ]
    },
    {
     "ename": "TypeError",
     "evalue": "'Node' object is not subscriptable",
     "output_type": "error",
     "traceback": [
      "\u001b[1;31m---------------------------------------------------------------------------\u001b[0m",
      "\u001b[1;31mTypeError\u001b[0m                                 Traceback (most recent call last)",
      "Cell \u001b[1;32mIn[29], line 20\u001b[0m\n\u001b[0;32m     17\u001b[0m     \u001b[38;5;28;01mfor\u001b[39;00m _ \u001b[38;5;129;01min\u001b[39;00m \u001b[38;5;28mrange\u001b[39m(m):\n\u001b[0;32m     18\u001b[0m         queries\u001b[38;5;241m.\u001b[39mappend(\u001b[38;5;28mlist\u001b[39m(\u001b[38;5;28mmap\u001b[39m(\u001b[38;5;28mint\u001b[39m, f_input\u001b[38;5;241m.\u001b[39mreadline()\u001b[38;5;241m.\u001b[39mrstrip()\u001b[38;5;241m.\u001b[39msplit())))\n\u001b[1;32m---> 20\u001b[0m     result \u001b[38;5;241m=\u001b[39m \u001b[43marrayManipulation\u001b[49m\u001b[43m(\u001b[49m\u001b[43mn\u001b[49m\u001b[43m,\u001b[49m\u001b[43m \u001b[49m\u001b[43mqueries\u001b[49m\u001b[43m)\u001b[49m\n\u001b[0;32m     22\u001b[0m \u001b[38;5;66;03m#     fptr.write(str(result) + '\\n')\u001b[39;00m\n\u001b[0;32m     23\u001b[0m \n\u001b[0;32m     24\u001b[0m \u001b[38;5;66;03m#     fptr.close()\u001b[39;00m\n",
      "Cell \u001b[1;32mIn[28], line 45\u001b[0m, in \u001b[0;36marrayManipulation\u001b[1;34m(n, queries)\u001b[0m\n\u001b[0;32m     42\u001b[0m \u001b[38;5;28mprint\u001b[39m(\u001b[38;5;124mf\u001b[39m\u001b[38;5;124m'\u001b[39m\u001b[38;5;124m'\u001b[39m)\n\u001b[0;32m     44\u001b[0m bsf \u001b[38;5;241m=\u001b[39m Node((\u001b[38;5;28mfloat\u001b[39m(\u001b[38;5;124m'\u001b[39m\u001b[38;5;124minf\u001b[39m\u001b[38;5;124m'\u001b[39m),\u001b[38;5;28mfloat\u001b[39m(\u001b[38;5;124m'\u001b[39m\u001b[38;5;124minf\u001b[39m\u001b[38;5;124m'\u001b[39m),\u001b[38;5;28mfloat\u001b[39m(\u001b[38;5;124m'\u001b[39m\u001b[38;5;124minf\u001b[39m\u001b[38;5;124m'\u001b[39m)))\n\u001b[1;32m---> 45\u001b[0m next_crop_node \u001b[38;5;241m=\u001b[39m \u001b[43msearch_next\u001b[49m\u001b[43m(\u001b[49m\u001b[43mbst\u001b[49m\u001b[43m,\u001b[49m\u001b[43m \u001b[49m\u001b[43m(\u001b[49m\u001b[43mprev_l\u001b[49m\u001b[43m,\u001b[49m\u001b[43ma\u001b[49m\u001b[43m,\u001b[49m\u001b[38;5;241;43m0\u001b[39;49m\u001b[43m)\u001b[49m\u001b[43m,\u001b[49m\u001b[43mbsf\u001b[49m\u001b[43m,\u001b[49m\u001b[43m \u001b[49m\u001b[43mcompare\u001b[49m\u001b[38;5;241;43m=\u001b[39;49m\u001b[43mcompare_tup\u001b[49m\u001b[43m)\u001b[49m\n\u001b[0;32m     47\u001b[0m \u001b[38;5;66;03m## Get starting node (i_l = a, i_r == a)\u001b[39;00m\n\u001b[0;32m     48\u001b[0m \u001b[38;5;66;03m# starting = i_l == a, i_r >= a\u001b[39;00m\n\u001b[0;32m     49\u001b[0m \u001b[38;5;66;03m# i_l == a implies i_r >= a?\u001b[39;00m\n\u001b[0;32m     51\u001b[0m list_cropped \u001b[38;5;241m=\u001b[39m []\n",
      "Cell \u001b[1;32mIn[8], line 229\u001b[0m, in \u001b[0;36msearch_next\u001b[1;34m(n, x, best_so_far, compare)\u001b[0m\n\u001b[0;32m    227\u001b[0m \u001b[38;5;28;01mif\u001b[39;00m n\u001b[38;5;241m.\u001b[39mkey \u001b[38;5;241m==\u001b[39m x:\n\u001b[0;32m    228\u001b[0m     \u001b[38;5;28;01mreturn\u001b[39;00m n\n\u001b[1;32m--> 229\u001b[0m \u001b[38;5;28;01mif\u001b[39;00m \u001b[43mcompare\u001b[49m\u001b[43m(\u001b[49m\u001b[43mn\u001b[49m\u001b[38;5;241;43m.\u001b[39;49m\u001b[43mkey\u001b[49m\u001b[43m,\u001b[49m\u001b[43m \u001b[49m\u001b[43mx\u001b[49m\u001b[43m)\u001b[49m:\n\u001b[0;32m    230\u001b[0m     \u001b[38;5;28;01mreturn\u001b[39;00m search_next(n\u001b[38;5;241m.\u001b[39mright, x, best_so_far, compare)\n\u001b[0;32m    231\u001b[0m \u001b[38;5;28;01melse\u001b[39;00m:\n\u001b[0;32m    232\u001b[0m     \u001b[38;5;66;03m#print(f'bsf - [{best_so_far.key}] | n.key - [{n.key}]')\u001b[39;00m\n",
      "Cell \u001b[1;32mIn[8], line 26\u001b[0m, in \u001b[0;36mcompare_tup\u001b[1;34m(x, y)\u001b[0m\n\u001b[0;32m     24\u001b[0m \u001b[38;5;28;01mdef\u001b[39;00m \u001b[38;5;21mcompare_tup\u001b[39m(x,y):\n\u001b[1;32m---> 26\u001b[0m     \u001b[38;5;28;01mif\u001b[39;00m \u001b[43mx\u001b[49m\u001b[43m[\u001b[49m\u001b[38;5;241;43m0\u001b[39;49m\u001b[43m]\u001b[49m \u001b[38;5;241m!=\u001b[39m y[\u001b[38;5;241m0\u001b[39m]:\n\u001b[0;32m     27\u001b[0m         \u001b[38;5;28;01mreturn\u001b[39;00m x[\u001b[38;5;241m0\u001b[39m] \u001b[38;5;241m<\u001b[39m y[\u001b[38;5;241m0\u001b[39m]\n\u001b[0;32m     28\u001b[0m     \u001b[38;5;28;01melse\u001b[39;00m:\n",
      "\u001b[1;31mTypeError\u001b[0m: 'Node' object is not subscriptable"
     ]
    }
   ],
   "source": [
    "name_test = 'input00.txt'\n",
    "\n",
    "f_input = open(f\"./in/{name_test}\", \"r\")\n",
    "\n",
    "\n",
    "if __name__ == '__main__':\n",
    "#     fptr = open(os.environ['OUTPUT_PATH'], 'w')\n",
    "\n",
    "    first_multiple_input = f_input.readline().rstrip().split()\n",
    "\n",
    "    n = int(first_multiple_input[0])\n",
    "\n",
    "    m = int(first_multiple_input[1])\n",
    "\n",
    "    queries = []\n",
    "\n",
    "    for _ in range(m):\n",
    "        queries.append(list(map(int, f_input.readline().rstrip().split())))\n",
    "\n",
    "    result = arrayManipulation(n, queries)\n",
    "\n",
    "#     fptr.write(str(result) + '\\n')\n",
    "\n",
    "#     fptr.close()"
   ]
  },
  {
   "cell_type": "markdown",
   "id": "92daf411-6612-457a-a459-cc330443ee69",
   "metadata": {},
   "source": [
    "# Backup"
   ]
  },
  {
   "cell_type": "code",
   "execution_count": null,
   "id": "28eee37a-c6f8-407d-8448-10826fad0cc3",
   "metadata": {},
   "outputs": [],
   "source": [
    "# #!/bin/python3\n",
    "\n",
    "# def arrayManipulation(n, queries):\n",
    "    \n",
    "#     list_num = []\n",
    "    \n",
    "#     bst = None\n",
    "    \n",
    "#     print(queries)\n",
    "    \n",
    "#     prev_query = (0,0,0)\n",
    "    \n",
    "#     for tup in queries:\n",
    "#         a,b,k = tup\n",
    "#         tup = (a,b,k)\n",
    "        \n",
    "#         list_cur = []\n",
    "        \n",
    "                \n",
    "#         print()\n",
    "#         inorder(bst)\n",
    "#         print()\n",
    "        \n",
    "#         #list_cur.append((a,b,k))\n",
    "        \n",
    "#         cur_node = Node(tup)\n",
    "#         bst = insert_tup(bst, tup, node_insert=cur_node)\n",
    "        \n",
    "#         #Preprocessing\n",
    "#         # Find start node (prev_node)\n",
    "         \n",
    "#         ### Cropping and reinserting of previous tuples  \n",
    "#         # Do we have to crop and reinsert?\n",
    "#         # Can we just remove those before the range of reinsert\n",
    "        \n",
    "#         if  a > prev_query[0]:\n",
    "#             # if true, preprocess BST, remove elements with \n",
    "            \n",
    "#             i_l, i_r, m = prev_query\n",
    "\n",
    "#             print(f'')\n",
    "            \n",
    "#             bsf = Node((float('inf'),float('inf'),float('inf')))\n",
    "#             start_node = search_next(bst, (i_l,a,0),bsf, compare=compare_tup)\n",
    "            \n",
    "#             ## Get starting node (i_l = a, i_r == a)\n",
    "#             # starting = i_l == a, i_r >= a\n",
    "#             # i_l == a implies i_r >= a?\n",
    "            \n",
    "#             while compare_tup(start_node.key, tup):\n",
    "#                 #for all tuple from i_l = a with i_r >= a (implied) up to i_l = i_l(k) (exclusive)\n",
    "#                 # set i_l == a\n",
    "#                 # add to list of to insert\n",
    "                \n",
    "#                 cropped = \n",
    "                \n",
    "\n",
    "#                 next_start_node = inOrderSuccessor(start_node)\n",
    "\n",
    "#                 if next_start_node.key[0] == tup[0]:\n",
    "#                     break\n",
    "\n",
    "#                 start_node = next_start_node\n",
    "\n",
    "\n",
    "#             next_crop_node = inOrderSuccessor(start_node)\n",
    "#             last_node = next_crop_node\n",
    "#             list_cropped = []\n",
    "\n",
    "#             while next_crop_node and next_crop_node.key[0] == a:\n",
    "\n",
    "\n",
    "# #                     temp =  next_crop_node\n",
    "\n",
    "#                 temp_l, temp_r, temp_m = next_crop_node\n",
    "#                 cropped = (i_l, temp_r, temp_m)\n",
    "# #                     deleteNode(bst, temp.key)\n",
    "\n",
    "#                 list_cropped.append(cropped)\n",
    "\n",
    "#                 last_node = next_crop_node\n",
    "#                 next_crop_node = inOrderSuccessor(next_crop_node)\n",
    "\n",
    "\n",
    "#             #delete range\n",
    "#             #can manually set (i_l, i_l, 0) as low\n",
    "#             bst = removeRange(bst, start_node.key, last_node.key, compare_tup)\n",
    "\n",
    "#             #insert all from list\n",
    "#             for cropped in list_cropped:\n",
    "#                 bst = insert_tup(bst, cropped)\n",
    "        \n",
    "#         # ----- Edit\n",
    "#         # Find start node:\n",
    "#         ## i_l < a, i_r > a\n",
    "        \n",
    "#         #starting next_node should be lowest overlap of cur_node\n",
    "#         #search for (a,a,x)\n",
    "        \n",
    "#         bsf = Node((float('inf'),float('inf'),float('inf')))\n",
    "#         next_node = search_next(bst, (a,a,k),bsf, compare=compare_tup)\n",
    "\n",
    "        \n",
    "#         if next_node:\n",
    "#             print(f'{cur_node.key} vs {next_node.key}')\n",
    "#         else:\n",
    "#             print(f'{cur_node.key} vs None')\n",
    "        \n",
    "#        #cur_node < next_node | next_node < cur_node -> next_node >= cur_node \n",
    "#         while next_node and not compare_tup(cur_node.key,next_node.key):\n",
    "#             print(next_node.key)\n",
    "            \n",
    "#             #Guaranteed ralationships with next successor:\n",
    "#               # - i_l > a -> i_r > a\n",
    "#               # if i_l == a  -> i_r > b\n",
    "            \n",
    "#             i_l, i_r, m = next_node\n",
    "            \n",
    "\n",
    "                  \n",
    "                \n",
    "#             new_i_r = min(b, i_r)\n",
    "#             new_m = m + k\n",
    "            \n",
    "#             list_cur.append((i_l,new_i_r,new_m))\n",
    "            \n",
    "#             for tup in list_cur:\n",
    "#                 bst = insert_tup(bst, tup)\n",
    "                \n",
    "#             cur_node = next_node\n",
    "#             next_node = inOrderSuccessor(next_node)\n",
    "\n",
    "#             #insort_right(list_num, tup, key=lambda x: x[0])\n",
    "#         #list_num.extend(list_cur)\n",
    "            \n",
    "    \n",
    "#     print(\"Inorder traversal: \", end=' ')\n",
    "#     inorder(bst)\n",
    "    \n",
    "    \n",
    "    \n",
    "                \n",
    "#     tup_max = max(list_num, key= lambda x: x[2])\n",
    "        \n",
    "#     print(tup_max)\n",
    "        \n",
    "#     return tup_max[2]\n",
    "    \n",
    "#     # Write your code here\n",
    "\n",
    "\n"
   ]
  }
 ],
 "metadata": {
  "kernelspec": {
   "display_name": "Python [conda env:hackerrank]",
   "language": "python",
   "name": "conda-env-hackerrank-py"
  },
  "language_info": {
   "codemirror_mode": {
    "name": "ipython",
    "version": 3
   },
   "file_extension": ".py",
   "mimetype": "text/x-python",
   "name": "python",
   "nbconvert_exporter": "python",
   "pygments_lexer": "ipython3",
   "version": "3.11.3"
  }
 },
 "nbformat": 4,
 "nbformat_minor": 5
}
