{
 "cells": [
  {
   "cell_type": "code",
   "execution_count": 1,
   "id": "735066f5-3cc4-45e5-a4cb-1d18a693f2af",
   "metadata": {},
   "outputs": [],
   "source": [
    "#!/bin/python3\n",
    "\n",
    "import math\n",
    "import os\n",
    "import random\n",
    "import re\n",
    "import sys\n",
    "\n",
    "#\n",
    "# Complete the 'minimumPasses' function below.\n",
    "#\n",
    "# The function is expected to return a LONG_INTEGER.\n",
    "# The function accepts following parameters:\n",
    "#  1. LONG_INTEGER m\n",
    "#  2. LONG_INTEGER w\n",
    "#  3. LONG_INTEGER p\n",
    "#  4. LONG_INTEGER n\n",
    "#\n",
    "\n",
    "\n"
   ]
  },
  {
   "cell_type": "code",
   "execution_count": 2,
   "id": "a2ca3ee6-5697-46d5-b9a5-4d85f6df1cea",
   "metadata": {},
   "outputs": [],
   "source": [
    "from math import ceil"
   ]
  },
  {
   "cell_type": "markdown",
   "id": "c4ccca8c-70cd-4185-a871-0cee7bc176a7",
   "metadata": {},
   "source": [
    "## Func"
   ]
  },
  {
   "cell_type": "code",
   "execution_count": 66,
   "id": "7d886b94-28d9-4cfe-bd36-dbf188127adf",
   "metadata": {},
   "outputs": [],
   "source": [
    "\n",
    "def minimumPasses(m, w, p, n):\n",
    "    \n",
    "    cur_candies = 0\n",
    "    \n",
    "    global list_vals, min_pass, list_min_states, p_global, n_global\n",
    "    \n",
    "\n",
    "    \n",
    "    p_global = p\n",
    "    n_global = n\n",
    "    \n",
    "    list_vals = []\n",
    "    \n",
    "    cur_candies = cur_candies + m*w\n",
    "    if cur_candies >= n:\n",
    "        print(1)\n",
    "        return 1\n",
    "    \n",
    "     \n",
    "    list_min_states = [] #(m,w,candies, cur_pass) | min_pass might be projected from cur_pass\n",
    "    \n",
    "    \n",
    "    min_pass = float('inf')\n",
    "    cur_pass = 1\n",
    "    \n",
    "    while cur_candies < n:\n",
    "#         print('--------------')\n",
    "#         print(f'cur_pass {cur_pass}')\n",
    "#         print(f'cur_candies {cur_candies}')\n",
    "        \n",
    "#         print(m)\n",
    "#         print(w)\n",
    "#         print(m*w)\n",
    "#         print(n - cur_candies)\n",
    "        \n",
    "        proj = ceil((n-cur_candies) / (m*w))\n",
    "        proj_pass = cur_pass + proj\n",
    "        \n",
    "        if proj_pass < min_pass:\n",
    "            min_pass = proj_pass\n",
    "            list_min_states = []\n",
    "        \n",
    "        #min_pass = min(min_pass, proj_pass)\n",
    "        \n",
    "        list_vals.append((m,w,cur_candies,cur_pass, proj_pass))\n",
    "        \n",
    "        if proj_pass == min_pass:\n",
    "            list_min_states.append((m,w,cur_candies,cur_pass))\n",
    "        \n",
    "#         print(f'min_pass {min_pass}')\n",
    "        \n",
    "        \n",
    "        total_can_buy = cur_candies // p\n",
    "        can_buy = total_can_buy\n",
    "        \n",
    "#         fast forward to can buy\n",
    "        if can_buy == 0:\n",
    "#             print('in can_buy == 0')\n",
    "#             print(m)\n",
    "#             print(w)\n",
    "#             print(m*w)\n",
    "#             print(p - cur_candies)\n",
    "            adv_pass = ceil((p - cur_candies) / (m*w))\n",
    "            cur_pass += adv_pass\n",
    "        \n",
    "            cur_candies += (m*w)*adv_pass\n",
    "            total_can_buy = 1\n",
    "            can_buy = 1\n",
    "\n",
    "             \n",
    "        if m < w:\n",
    "#             print(can_buy)   \n",
    "            diff = w-m\n",
    "            to_buy = min(can_buy, diff)\n",
    "\n",
    "            m += to_buy\n",
    "            can_buy -= to_buy\n",
    "\n",
    "        elif w < m:\n",
    "#             print('+++++++')   \n",
    "#             print(can_buy)  \n",
    "            diff = m-w\n",
    "            to_buy = min(can_buy, diff)\n",
    "\n",
    "            w += to_buy\n",
    "            can_buy -= to_buy\n",
    "            \n",
    "            \n",
    "#         print('======')   \n",
    "#         print(m)\n",
    "#         print(w)\n",
    "            \n",
    "        half = can_buy//2\n",
    "\n",
    "        m += can_buy - half\n",
    "        w += half\n",
    "        \n",
    "#         print(m)\n",
    "#         print(w)\n",
    "\n",
    "        cur_candies -= total_can_buy*p\n",
    "\n",
    "        cur_candies += m*w\n",
    "        cur_pass +=1\n",
    "        \n",
    "        \n",
    "    if cur_pass < min_pass:\n",
    "        min_pass = cur_pass\n",
    "        list_min_states = [(m,w,cur_candies,cur_pass)]\n",
    "        \n",
    "\n",
    "       \n",
    "\n",
    "    # Fine search \n",
    "    \n",
    "    #while \n",
    "\n",
    "    #print(min_pass)\n",
    "        \n",
    "    return min_pass\n",
    "        \n",
    "        \n",
    "        \n",
    "        "
   ]
  },
  {
   "cell_type": "markdown",
   "id": "99a48ea7-be71-455d-91aa-24b398f3217d",
   "metadata": {},
   "source": [
    "## Run"
   ]
  },
  {
   "cell_type": "code",
   "execution_count": 560,
   "id": "065fe2b0-8f1b-4431-ab1e-000ab0022747",
   "metadata": {},
   "outputs": [
    {
     "name": "stdout",
     "output_type": "stream",
     "text": [
      "CPU times: total: 15.6 ms\n",
      "Wall time: 1 ms\n"
     ]
    }
   ],
   "source": [
    "%%time\n",
    "name_test = 'input01.txt'\n",
    "\n",
    "f_input = open(f\"./in/{name_test}\", \"r\")\n",
    "\n",
    "if __name__ == '__main__':\n",
    "\n",
    "    first_multiple_input = f_input.readline().rstrip().split()\n",
    "\n",
    "    m = int(first_multiple_input[0])\n",
    "\n",
    "    w = int(first_multiple_input[1])\n",
    "\n",
    "    p = int(first_multiple_input[2])\n",
    "\n",
    "    n = int(first_multiple_input[3])\n",
    "\n",
    "    result = minimumPasses(m, w, p, n)\n",
    "\n"
   ]
  },
  {
   "cell_type": "markdown",
   "id": "2b7cfc9c-1c13-40ba-84f5-2ef6e4c1f688",
   "metadata": {},
   "source": [
    "## Experiment"
   ]
  },
  {
   "cell_type": "code",
   "execution_count": null,
   "id": "81f59c1b-5fbb-442a-9cff-b69ec83b81a8",
   "metadata": {},
   "outputs": [],
   "source": [
    "m = 7\n",
    "w = 6\n",
    "cur_candies = 54\n",
    "cur_pass = 16"
   ]
  },
  {
   "cell_type": "code",
   "execution_count": 546,
   "id": "886e3afd-810f-4b5c-940b-2d86f6db6f29",
   "metadata": {},
   "outputs": [
    {
     "data": {
      "text/plain": [
       "[(1, 1, 1, 1, 45),\n",
       " (2, 1, 2, 7, 29),\n",
       " (2, 2, 4, 10, 21),\n",
       " (3, 2, 8, 12, 19),\n",
       " (3, 3, 11, 13, 17),\n",
       " (4, 3, 17, 14, 17),\n",
       " (5, 4, 25, 15, 16),\n",
       " (7, 6, 43, 16, 17)]"
      ]
     },
     "execution_count": 546,
     "metadata": {},
     "output_type": "execute_result"
    }
   ],
   "source": [
    "list_vals"
   ]
  },
  {
   "cell_type": "code",
   "execution_count": 524,
   "id": "3ee22aaf-7810-4da5-8525-a15ef9e7f24f",
   "metadata": {},
   "outputs": [],
   "source": [
    "cur_min_state = list_vals[-3][:-1]"
   ]
  },
  {
   "cell_type": "code",
   "execution_count": 582,
   "id": "f98eb7f7-7494-4300-834d-4c9bebb87208",
   "metadata": {},
   "outputs": [
    {
     "data": {
      "text/plain": [
       "[(1, 1, 1, 1, 45),\n",
       " (2, 1, 2, 7, 29),\n",
       " (2, 2, 4, 10, 21),\n",
       " (3, 2, 8, 12, 19),\n",
       " (3, 3, 11, 13, 17),\n",
       " (4, 3, 17, 14, 17),\n",
       " (5, 4, 25, 15, 16),\n",
       " (7, 6, 43, 16, 17)]"
      ]
     },
     "execution_count": 582,
     "metadata": {},
     "output_type": "execute_result"
    }
   ],
   "source": [
    "list_vals"
   ]
  },
  {
   "cell_type": "code",
   "execution_count": 55,
   "id": "eb54d1b7-4fe3-41ca-b11a-5cd9de458c93",
   "metadata": {},
   "outputs": [
    {
     "data": {
      "text/plain": [
       "[(36, 35, 1296, 21), (48, 48, 2350, 22)]"
      ]
     },
     "execution_count": 55,
     "metadata": {},
     "output_type": "execute_result"
    }
   ],
   "source": [
    "list_min_states"
   ]
  },
  {
   "cell_type": "code",
   "execution_count": 58,
   "id": "5f001930-b701-4a49-afe7-21bb39c7a79a",
   "metadata": {},
   "outputs": [
    {
     "data": {
      "text/plain": [
       "[(5, 5, 25, 1, 194),\n",
       " (6, 5, 30, 3, 163),\n",
       " (6, 6, 46, 5, 138),\n",
       " (7, 6, 74, 7, 121),\n",
       " (7, 7, 73, 8, 106),\n",
       " (8, 7, 79, 9, 94),\n",
       " (8, 8, 93, 10, 85),\n",
       " (9, 8, 115, 11, 77),\n",
       " (10, 9, 105, 12, 65),\n",
       " (11, 10, 115, 13, 56),\n",
       " (12, 11, 147, 14, 50),\n",
       " (13, 12, 203, 15, 45),\n",
       " (15, 14, 213, 16, 38),\n",
       " (17, 16, 285, 17, 34),\n",
       " (19, 19, 396, 18, 31),\n",
       " (23, 22, 552, 19, 28),\n",
       " (28, 28, 786, 20, 26),\n",
       " (36, 35, 1296, 21, 24),\n",
       " (48, 48, 2350, 22, 24)]"
      ]
     },
     "execution_count": 58,
     "metadata": {},
     "output_type": "execute_result"
    }
   ],
   "source": [
    "list_vals"
   ]
  },
  {
   "cell_type": "code",
   "execution_count": 69,
   "id": "fdd6d00e-756f-4691-bf1f-2dc9b98fe760",
   "metadata": {},
   "outputs": [
    {
     "data": {
      "text/plain": [
       "23"
      ]
     },
     "execution_count": 69,
     "metadata": {},
     "output_type": "execute_result"
    }
   ],
   "source": [
    "#minimumPasses(5, 5, 50, 31000)\n",
    "# minimumPasses(5, 5, 50, 1615)\n",
    "#minimumPasses(5, 5, 50, 2566)\n",
    "#minimumPasses(5, 5, 50, 15073)\n",
    "minimumPasses(5, 5, 50, 4830) # ((48, 48, 2350, 22, 47), 22.944835680751172)\n"
   ]
  },
  {
   "cell_type": "code",
   "execution_count": 67,
   "id": "f0c670ac-a555-43a9-89f0-2ad9ab6190e5",
   "metadata": {},
   "outputs": [
    {
     "ename": "ValueError",
     "evalue": "too many values to unpack (expected 4)",
     "output_type": "error",
     "traceback": [
      "\u001b[1;31m---------------------------------------------------------------------------\u001b[0m",
      "\u001b[1;31mValueError\u001b[0m                                Traceback (most recent call last)",
      "Cell \u001b[1;32mIn[67], line 2\u001b[0m\n\u001b[0;32m      1\u001b[0m cur_min_state \u001b[38;5;241m=\u001b[39m list_min_states[\u001b[38;5;241m0\u001b[39m]\n\u001b[1;32m----> 2\u001b[0m m, w, cur_candies, cur_pass \u001b[38;5;241m=\u001b[39m cur_min_state\n\u001b[0;32m      4\u001b[0m \u001b[38;5;28mprint\u001b[39m(\u001b[38;5;124mf\u001b[39m\u001b[38;5;124m'\u001b[39m\u001b[38;5;124mcan_buy = \u001b[39m\u001b[38;5;132;01m{\u001b[39;00mcur_candies\u001b[38;5;250m \u001b[39m\u001b[38;5;241m/\u001b[39m\u001b[38;5;250m \u001b[39mp_global\u001b[38;5;132;01m}\u001b[39;00m\u001b[38;5;124m'\u001b[39m)\n\u001b[0;32m      6\u001b[0m will_buy \u001b[38;5;241m=\u001b[39m \u001b[38;5;241m47\u001b[39m\n",
      "\u001b[1;31mValueError\u001b[0m: too many values to unpack (expected 4)"
     ]
    }
   ],
   "source": [
    "cur_min_state = list_min_states[0]\n",
    "m, w, cur_candies, cur_pass = cur_min_state\n",
    "\n",
    "print(f'can_buy = {cur_candies / p_global}')\n",
    "\n",
    "will_buy = 47\n",
    "\n",
    "cur_candies -= will_buy*p_global\n",
    "\n",
    "if m < w:\n",
    "    diff = w-m\n",
    "    to_buy = min(will_buy, diff)\n",
    "\n",
    "    m += to_buy\n",
    "    will_buy -= to_buy\n",
    "\n",
    "elif w < m:\n",
    "    diff = m-w\n",
    "    to_buy = min(will_buy, diff)\n",
    "\n",
    "    w += to_buy\n",
    "    will_buy -= to_buy\n",
    "\n",
    "half = will_buy//2\n",
    "\n",
    "m += will_buy - half\n",
    "w += half\n",
    "\n",
    "\n",
    "proj = (n_global-cur_candies) / (m*w)\n",
    "proj_pass = cur_pass + proj\n",
    "proj_pass"
   ]
  },
  {
   "cell_type": "code",
   "execution_count": 48,
   "id": "c1b90aca-7310-4086-9bf8-4b4fd7a23ec5",
   "metadata": {},
   "outputs": [
    {
     "name": "stdout",
     "output_type": "stream",
     "text": [
      "found new_min_state\n",
      "(48, 48, 2350, 22, 0)\n",
      "22.279947916666668\n"
     ]
    },
    {
     "data": {
      "text/plain": [
       "(48, 48, 2350, 22, 0)"
      ]
     },
     "execution_count": 48,
     "metadata": {},
     "output_type": "execute_result"
    }
   ],
   "source": [
    "min_search(list_min_states[2], p_global, n_global)"
   ]
  },
  {
   "cell_type": "code",
   "execution_count": 581,
   "id": "38cbde07-2d46-4dff-ac45-78c3840d35cb",
   "metadata": {},
   "outputs": [
    {
     "data": {
      "text/plain": [
       "13"
      ]
     },
     "execution_count": 581,
     "metadata": {},
     "output_type": "execute_result"
    }
   ],
   "source": [
    "cur_candies"
   ]
  },
  {
   "cell_type": "markdown",
   "id": "8b7c0227-2bd3-4135-b0e3-254533f997c0",
   "metadata": {},
   "source": [
    "### Loop test"
   ]
  },
  {
   "cell_type": "code",
   "execution_count": 70,
   "id": "53ba562f-d380-4657-920c-1ecffb8a300a",
   "metadata": {},
   "outputs": [],
   "source": [
    "cur_min_state = list_min_states[0]\n",
    "m, w, cur_candies, cur_pass = cur_min_state\n",
    "\n",
    "can_buy = cur_candies / p_global\n",
    "list_proj_pass = []\n",
    "\n",
    "for i in range(int(can_buy)+1):\n",
    "    m, w, cur_candies, cur_pass = cur_min_state\n",
    "\n",
    "    will_buy = i\n",
    "#     print(will_buy)\n",
    "\n",
    "    cur_candies -= will_buy*p_global\n",
    "\n",
    "    if m < w:\n",
    "        diff = w-m\n",
    "        to_buy = min(will_buy, diff)\n",
    "\n",
    "        m += to_buy\n",
    "        will_buy -= to_buy\n",
    "\n",
    "    elif w < m:\n",
    "        diff = m-w\n",
    "        to_buy = min(will_buy, diff)\n",
    "\n",
    "        w += to_buy\n",
    "        will_buy -= to_buy\n",
    "\n",
    "    half = will_buy//2\n",
    "\n",
    "    m += will_buy - half\n",
    "    w += half\n",
    "\n",
    "\n",
    "    proj = (n_global-cur_candies) / (m*w)\n",
    "    proj_pass = cur_pass + proj\n",
    "    list_proj_pass.append(proj_pass)\n",
    "    "
   ]
  },
  {
   "cell_type": "code",
   "execution_count": 71,
   "id": "f8ef6daa-fe4b-476f-b8f0-076f3dc2c2e3",
   "metadata": {
    "collapsed": true,
    "jupyter": {
     "outputs_hidden": true
    },
    "tags": []
   },
   "outputs": [
    {
     "data": {
      "text/plain": [
       "[22.944835680751172,\n",
       " 22.955246913580247,\n",
       " 22.96537290715373,\n",
       " 22.97522987427285,\n",
       " 22.984820436875232,\n",
       " 22.99415631848064,\n",
       " 23.003243243243244,\n",
       " 23.01208888888889,\n",
       " 23.020701754385964,\n",
       " 23.02908587257618,\n",
       " 23.037252221462747,\n",
       " 23.045201551695058,\n",
       " 23.052947052947054,\n",
       " 23.060486522024984,\n",
       " 23.06783511846803,\n",
       " 23.07498798269508,\n",
       " 23.081962025316457,\n",
       " 23.08875,\n",
       " 23.09537037037037,\n",
       " 23.101813747904284,\n",
       " 23.10809996988859,\n",
       " 23.114217727543128,\n",
       " 23.120188069350572,\n",
       " 23.125997967774712,\n",
       " 23.131669535283994,\n",
       " 23.13718820861678,\n",
       " 23.142577030812326,\n",
       " 23.14782006920415,\n",
       " 23.152941176470588,\n",
       " 23.157923201730664,\n",
       " 23.162790697674417,\n",
       " 23.167525432685956,\n",
       " 23.172152560083596,\n",
       " 23.176652892561982,\n",
       " 23.18105209397344,\n",
       " 23.185330135083955,\n",
       " 23.189513108614232,\n",
       " 23.19358024691358,\n",
       " 23.197557997557997,\n",
       " 23.201424948677698,\n",
       " 23.205207835642618,\n",
       " 23.208884688090738,\n",
       " 23.2124824684432,\n",
       " 23.21597872586426,\n",
       " 23.21940059482956,\n",
       " 23.222725215029424,\n",
       " 23.225979843225083,\n",
       " 23.229141274238227,\n",
       " 23.232236842105262,\n",
       " 23.235243055555557,\n",
       " 23.23818728522337,\n",
       " 23.241045807205868,\n",
       " 23.24384599200505,\n",
       " 23.24656393169513,\n",
       " 23.249226963512676,\n",
       " 23.251811039689827,\n",
       " 23.254343434343433,\n",
       " 23.2568,\n",
       " 23.25920792079208,\n",
       " 23.261542985981766,\n",
       " 23.2638322655795,\n",
       " 23.266051518646673,\n",
       " 23.268227679421283,\n",
       " 23.27033650673956,\n",
       " 23.272404779686333,\n",
       " 23.274408284023668,\n",
       " 23.276373626373626,\n",
       " 23.278276643990928,\n",
       " 23.280143755615455,\n",
       " 23.28195087219651,\n",
       " 23.28372421089755,\n",
       " 23.285439776399684,\n",
       " 23.2871235721703,\n",
       " 23.28875171467764,\n",
       " 23.290349983010532,\n",
       " 23.29189462166484,\n",
       " 23.293411175979983,\n",
       " 23.29487603305785,\n",
       " 23.296314496314498,\n",
       " 23.297703108513918,\n",
       " 23.299066924066924,\n",
       " 23.300382653061224,\n",
       " 23.301675094816687,\n",
       " 23.302921137128983,\n",
       " 23.304145319049837,\n",
       " 23.305324715297015,\n",
       " 23.30648360030511,\n",
       " 23.307599243856334,\n",
       " 23.308695652173913,\n",
       " 23.30975029726516,\n",
       " 23.31078691423519,\n",
       " 23.311783183578054,\n",
       " 23.312762566999854,\n",
       " 23.31370295891985,\n",
       " 23.31462754593363,\n",
       " 23.315514441070547,\n",
       " 23.31638655462185,\n",
       " 23.317222222222224,\n",
       " 23.318044077134985,\n",
       " 23.318830680964414,\n",
       " 23.3196043896491,\n",
       " 23.32034399355012,\n",
       " 23.32107157137145]"
      ]
     },
     "execution_count": 71,
     "metadata": {},
     "output_type": "execute_result"
    }
   ],
   "source": [
    "list_proj_pass"
   ]
  },
  {
   "cell_type": "code",
   "execution_count": 119,
   "id": "67f587aa-07a3-4c22-a539-084ff4421e9e",
   "metadata": {},
   "outputs": [
    {
     "data": {
      "text/plain": [
       "[(1, 1, 1, 1, 45),\n",
       " (2, 1, 2, 7, 29),\n",
       " (2, 2, 4, 10, 21),\n",
       " (3, 2, 8, 12, 19),\n",
       " (3, 3, 11, 13, 17),\n",
       " (4, 3, 17, 14, 17),\n",
       " (5, 4, 25, 15, 16),\n",
       " (7, 6, 43, 16, 17)]"
      ]
     },
     "execution_count": 119,
     "metadata": {},
     "output_type": "execute_result"
    }
   ],
   "source": [
    "list_vals"
   ]
  },
  {
   "cell_type": "code",
   "execution_count": 115,
   "id": "129613db-0c8d-4507-a0a4-11ec51e1e638",
   "metadata": {},
   "outputs": [
    {
     "data": {
      "text/plain": [
       "45"
      ]
     },
     "execution_count": 115,
     "metadata": {},
     "output_type": "execute_result"
    }
   ],
   "source": [
    "n"
   ]
  },
  {
   "cell_type": "markdown",
   "id": "15ac1689-c434-4ed4-89e0-16e3aa7e0109",
   "metadata": {
    "tags": []
   },
   "source": [
    "### Eval"
   ]
  },
  {
   "cell_type": "code",
   "execution_count": 31,
   "id": "7be6e76f-7cd2-4ef2-8296-8b4234b1401c",
   "metadata": {},
   "outputs": [],
   "source": [
    "def eval_state(m,w,cur_candies,cur_pass, will_buy, p, n,):\n",
    "\n",
    "    cur_candies -= will_buy*p\n",
    "\n",
    "    if m < w:\n",
    "        diff = w-m\n",
    "        to_buy = min(will_buy, diff)\n",
    "\n",
    "        m += to_buy\n",
    "        will_buy -= to_buy\n",
    "\n",
    "    elif w < m:\n",
    "        diff = m-w\n",
    "        to_buy = min(will_buy, diff)\n",
    "\n",
    "        w += to_buy\n",
    "        will_buy -= to_buy\n",
    "\n",
    "    half = will_buy//2\n",
    "\n",
    "    m += will_buy - half\n",
    "    w += half\n",
    "\n",
    "    proj = (n -cur_candies) / (m*w)\n",
    "    proj_pass = cur_pass + proj\n",
    "    proj_pass\n",
    "    \n",
    "    return proj_pass"
   ]
  },
  {
   "cell_type": "markdown",
   "id": "9cefd5da-f0a7-4040-a733-4ed3b68470c0",
   "metadata": {
    "tags": []
   },
   "source": [
    "### Fine Search"
   ]
  },
  {
   "cell_type": "code",
   "execution_count": 75,
   "id": "4bda98bc-3129-445f-a6c6-85dc46a14b2c",
   "metadata": {
    "tags": []
   },
   "outputs": [],
   "source": [
    "def min_search(min_state, p, n):\n",
    "    \n",
    "    \n",
    "    can_buy = min_state[2] // p\n",
    "    \n",
    "    left_buy = 0\n",
    "    right_buy = can_buy\n",
    "    \n",
    "    left_state = (*min_state,left_buy)\n",
    "    right_state = (*min_state,right_buy)\n",
    "#     mid_state = (*min_state,mid_buy)\n",
    "    \n",
    "    proj_left = eval_state(*left_state, p, n)\n",
    "    proj_right = eval_state(*right_state, p, n)\n",
    "    \n",
    "    if proj_left < proj_right:\n",
    "        new_min_state = left_state\n",
    "    else:\n",
    "        new_min_state = right_state\n",
    "    \n",
    "    #Infinite loop?\n",
    "    loop_count = 0\n",
    "    while True:\n",
    "\n",
    "        mid_buy =  (left_state[4] + right_state[4]) // 2\n",
    "#         print(mid_buy)\n",
    "\n",
    "        proj_mid = eval_state(*min_state,mid_buy, p, n)\n",
    "\n",
    "        if proj_left < proj_mid:\n",
    "            right_state  = (*min_state, mid_buy-1)\n",
    "            proj_right =  eval_state(*right_state, p, n)\n",
    "\n",
    "        elif proj_right < proj_mid:\n",
    "            left_state  = (*min_state, mid_buy+1)\n",
    "            proj_left = eval_state(*left_state, p, n)\n",
    "\n",
    "        else:\n",
    "            new_min_state = (*min_state, mid_buy)\n",
    "#             print('found new_min_state')\n",
    "            break\n",
    "            \n",
    "        loop_count +=1\n",
    "        if loop_count >= 100:\n",
    "            print('fine_search loop count exceeded')\n",
    "            break\n",
    "    \n",
    "#     print(new_min_state)\n",
    "#     print(eval_state(*new_min_state, p, n))\n",
    "    return (new_min_state, proj_mid)\n",
    "    \n",
    "    \n",
    "        \n",
    "    \n",
    "    #eval midpoint\n",
    "\n",
    "\n",
    "    #"
   ]
  },
  {
   "cell_type": "code",
   "execution_count": 39,
   "id": "9b0731fa-e1a8-4550-b8eb-f5197d8ea386",
   "metadata": {},
   "outputs": [
    {
     "name": "stdout",
     "output_type": "stream",
     "text": [
      "51\n",
      "77\n",
      "90\n",
      "96\n",
      "99\n",
      "101\n",
      "102\n",
      "found new_min_state\n",
      "(72, 71, 5112, 23, 102)\n",
      "24.003665200586433\n"
     ]
    },
    {
     "data": {
      "text/plain": [
       "(72, 71, 5112, 23, 102)"
      ]
     },
     "execution_count": 39,
     "metadata": {},
     "output_type": "execute_result"
    }
   ],
   "source": [
    "min_search(list_min_states[0], p_global, n_global)"
   ]
  },
  {
   "cell_type": "markdown",
   "id": "330a5558-a823-4258-95ad-91cdcfdea2eb",
   "metadata": {},
   "source": [
    "## Input Tests"
   ]
  },
  {
   "cell_type": "code",
   "execution_count": 345,
   "id": "9531be57-80ce-4f3d-b26b-0860995fcbc8",
   "metadata": {},
   "outputs": [
    {
     "data": {
      "text/plain": [
       "23"
      ]
     },
     "execution_count": 345,
     "metadata": {},
     "output_type": "execute_result"
    }
   ],
   "source": [
    "minimumPasses(5, 5, 50, 2566)"
   ]
  },
  {
   "cell_type": "code",
   "execution_count": 240,
   "id": "0727aa62-8544-45a9-aedd-786d6f696a91",
   "metadata": {},
   "outputs": [
    {
     "data": {
      "text/plain": [
       "22"
      ]
     },
     "execution_count": 240,
     "metadata": {},
     "output_type": "execute_result"
    }
   ],
   "source": [
    "min_pass"
   ]
  },
  {
   "cell_type": "code",
   "execution_count": 237,
   "id": "43e212d7-9fe1-453c-8d6e-31f7bb63c654",
   "metadata": {},
   "outputs": [
    {
     "data": {
      "text/plain": [
       "[(23, 22, 552, 19), (28, 28, 786, 20), (36, 35, 1296, 21)]"
      ]
     },
     "execution_count": 237,
     "metadata": {},
     "output_type": "execute_result"
    }
   ],
   "source": [
    "\n",
    "list_min_states"
   ]
  },
  {
   "cell_type": "code",
   "execution_count": 513,
   "id": "0598384a-7fda-4f23-b670-1ba66848aa91",
   "metadata": {
    "tags": []
   },
   "outputs": [
    {
     "data": {
      "text/plain": [
       "[(5, 5, 25, 1, 603),\n",
       " (6, 5, 30, 3, 505),\n",
       " (6, 6, 46, 5, 423),\n",
       " (7, 6, 74, 7, 365),\n",
       " (7, 7, 73, 8, 315),\n",
       " (8, 7, 79, 9, 277),\n",
       " (8, 8, 93, 10, 245),\n",
       " (9, 8, 115, 11, 219),\n",
       " (10, 9, 105, 12, 179),\n",
       " (11, 10, 115, 13, 149),\n",
       " (12, 11, 147, 14, 128),\n",
       " (13, 12, 203, 15, 111),\n",
       " (15, 14, 213, 16, 87),\n",
       " (17, 16, 285, 17, 72),\n",
       " (19, 19, 396, 18, 59),\n",
       " (23, 22, 552, 19, 48),\n",
       " (28, 28, 786, 20, 39),\n",
       " (36, 35, 1296, 21, 32),\n",
       " (48, 48, 2350, 22, 28),\n",
       " (72, 71, 5112, 23, 25),\n",
       " (123, 122, 15018, 24, 25)]"
      ]
     },
     "execution_count": 513,
     "metadata": {},
     "output_type": "execute_result"
    }
   ],
   "source": [
    "list_vals"
   ]
  },
  {
   "cell_type": "markdown",
   "id": "4f2d47fb-974a-450b-92c3-64d22bd85508",
   "metadata": {
    "tags": []
   },
   "source": [
    "# Input Generator"
   ]
  },
  {
   "cell_type": "code",
   "execution_count": null,
   "id": "0fc45b6d-524b-460d-b04a-10a8e3ead8d6",
   "metadata": {},
   "outputs": [],
   "source": [
    "print(random.randint(0,5000))"
   ]
  },
  {
   "cell_type": "code",
   "execution_count": 266,
   "id": "9388ee87-1a6b-44a0-8689-e1b55d828e31",
   "metadata": {},
   "outputs": [],
   "source": [
    "from math import floor"
   ]
  },
  {
   "cell_type": "code",
   "execution_count": 493,
   "id": "c92ca86f-8ea0-4397-bf48-c60033b8ec1b",
   "metadata": {},
   "outputs": [
    {
     "name": "stdout",
     "output_type": "stream",
     "text": [
      "185\n",
      "5 5 50 15073\n"
     ]
    }
   ],
   "source": [
    "list_random = random.sample(range(1000, 1000000), 10000)\n",
    "\n",
    "\n",
    "for last_r_i, rand_num in enumerate(list_random):\n",
    "    min_pass = minimumPasses(5, 5, 50, rand_num)\n",
    "    \n",
    "    if len(list_min_states) < 2:\n",
    "        continue\n",
    "        \n",
    "    case_found = False\n",
    "        \n",
    "    for cur_min_state in list_min_states:\n",
    "        m, w, cur_candies, cur_pass = cur_min_state\n",
    "        \n",
    "        proj = (n_global-cur_candies) / (m*w)\n",
    "        proj_pass = cur_pass + proj\n",
    "        proj_pass\n",
    "        \n",
    "        dec = proj - floor(proj)\n",
    "        \n",
    "        if  dec < 0.05 and dec > 0:\n",
    "            case_found = True\n",
    "            break\n",
    "    \n",
    "    if case_found:\n",
    "        break\n",
    "    \n",
    "print(last_r_i)\n",
    "print(5, 5, 50, rand_num)"
   ]
  },
  {
   "cell_type": "markdown",
   "id": "c60ff3e4-37ce-4bc4-9845-1e0b01b60d52",
   "metadata": {},
   "source": [
    "## With search"
   ]
  },
  {
   "cell_type": "code",
   "execution_count": 112,
   "id": "78acabd7-573b-4ba3-bd9d-f2e2ac681aea",
   "metadata": {},
   "outputs": [
    {
     "name": "stdout",
     "output_type": "stream",
     "text": [
      "9999\n",
      "99 12 9716 220426\n"
     ]
    }
   ],
   "source": [
    "list_random_n = random.sample(range(1, 1000001), 10000)\n",
    "list_random_p = random.sample(range(1, 10001), 10000)\n",
    "# list_random_m = random.sample(range(0, 100), 10000)\n",
    "# list_random_w = random.sample(range(0, 100), 10000)\n",
    "list_random_m = [random.randint(1,100) for _ in range(10000)]\n",
    "list_random_w = [random.randint(1,100) for _ in range(10000)]\n",
    "    \n",
    "    \n",
    "for last_r_i, _ in enumerate(list_random):\n",
    "    min_pass = minimumPasses(list_random_m[i], list_random_w[i], list_random_p[i], list_random_n[i])\n",
    "    \n",
    "    if len(list_min_states) < 2:\n",
    "        continue\n",
    "        \n",
    "    case_found = False\n",
    "        \n",
    "    for cur_min_state in list_min_states:\n",
    "        new_min_state = min_search(cur_min_state, p_global, n_global)\n",
    "        \n",
    "        if ceil(new_min_state[-1]) < min_pass:\n",
    "            print('case found')\n",
    "            print(f'min_pass = {min_pass}')\n",
    "            print(f'new min_pass = {ceil(new_min_state[-1])}')\n",
    "            print(new_min_state)\n",
    "            case_found = True\n",
    "        \n",
    "    if case_found:\n",
    "        break\n",
    "    \n",
    "print(last_r_i)\n",
    "print(list_random_m[i], list_random_w[i],  list_random_p[i], list_random_n[i])"
   ]
  }
 ],
 "metadata": {
  "kernelspec": {
   "display_name": "Python [conda env:hackerrank]",
   "language": "python",
   "name": "conda-env-hackerrank-py"
  },
  "language_info": {
   "codemirror_mode": {
    "name": "ipython",
    "version": 3
   },
   "file_extension": ".py",
   "mimetype": "text/x-python",
   "name": "python",
   "nbconvert_exporter": "python",
   "pygments_lexer": "ipython3",
   "version": "3.11.3"
  }
 },
 "nbformat": 4,
 "nbformat_minor": 5
}
