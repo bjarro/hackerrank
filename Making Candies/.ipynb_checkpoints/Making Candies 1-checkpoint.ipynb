{
 "cells": [
  {
   "cell_type": "code",
   "execution_count": 1,
   "id": "735066f5-3cc4-45e5-a4cb-1d18a693f2af",
   "metadata": {},
   "outputs": [],
   "source": [
    "#!/bin/python3\n",
    "\n",
    "import math\n",
    "import os\n",
    "import random\n",
    "import re\n",
    "import sys\n",
    "\n",
    "#\n",
    "# Complete the 'minimumPasses' function below.\n",
    "#\n",
    "# The function is expected to return a LONG_INTEGER.\n",
    "# The function accepts following parameters:\n",
    "#  1. LONG_INTEGER m\n",
    "#  2. LONG_INTEGER w\n",
    "#  3. LONG_INTEGER p\n",
    "#  4. LONG_INTEGER n\n",
    "#\n",
    "\n",
    "\n"
   ]
  },
  {
   "cell_type": "code",
   "execution_count": 2,
   "id": "a2ca3ee6-5697-46d5-b9a5-4d85f6df1cea",
   "metadata": {},
   "outputs": [],
   "source": [
    "from math import ceil"
   ]
  },
  {
   "cell_type": "markdown",
   "id": "c4ccca8c-70cd-4185-a871-0cee7bc176a7",
   "metadata": {},
   "source": [
    "## Func"
   ]
  },
  {
   "cell_type": "code",
   "execution_count": 3,
   "id": "7d886b94-28d9-4cfe-bd36-dbf188127adf",
   "metadata": {},
   "outputs": [],
   "source": [
    "\n",
    "def minimumPasses(m, w, p, n):\n",
    "    \n",
    "    cur_candies = 0\n",
    "    \n",
    "    global list_vals, min_pass, list_min_states, p_global, n_global\n",
    "    \n",
    "\n",
    "    \n",
    "    p_global = p\n",
    "    n_global = n\n",
    "    \n",
    "    list_vals = []\n",
    "    \n",
    "    cur_candies = cur_candies + m*w\n",
    "    if cur_candies >= n:\n",
    "        print(1)\n",
    "        return 1\n",
    "    \n",
    "     \n",
    "    list_min_states = [] #(m,w,candies, cur_pass) | min_pass might be projected from cur_pass\n",
    "    \n",
    "    \n",
    "    min_pass = float('inf')\n",
    "    cur_pass = 1\n",
    "    \n",
    "    while cur_candies < n:\n",
    "#         print('--------------')\n",
    "#         print(f'cur_pass {cur_pass}')\n",
    "#         print(f'cur_candies {cur_candies}')\n",
    "        \n",
    "#         print(m)\n",
    "#         print(w)\n",
    "#         print(m*w)\n",
    "#         print(n - cur_candies)\n",
    "        \n",
    "        proj = ceil((n-cur_candies) / (m*w))\n",
    "        proj_pass = cur_pass + proj\n",
    "        \n",
    "        if proj_pass < min_pass:\n",
    "            min_pass = proj_pass\n",
    "            list_min_states = []\n",
    "        \n",
    "        #min_pass = min(min_pass, proj_pass)\n",
    "        \n",
    "        list_vals.append((m,w,cur_candies,cur_pass, proj_pass))\n",
    "        \n",
    "        if proj_pass == min_pass:\n",
    "            list_min_states.append((m,w,cur_candies,cur_pass))\n",
    "        \n",
    "#         print(f'min_pass {min_pass}')\n",
    "        \n",
    "        \n",
    "        total_can_buy = cur_candies // p\n",
    "        can_buy = total_can_buy\n",
    "        \n",
    "#         fast forward to can buy\n",
    "        if can_buy == 0:\n",
    "#             print('in can_buy == 0')\n",
    "#             print(m)\n",
    "#             print(w)\n",
    "#             print(m*w)\n",
    "#             print(p - cur_candies)\n",
    "            adv_pass = ceil((p - cur_candies) / (m*w))\n",
    "            cur_pass += adv_pass\n",
    "        \n",
    "            cur_candies += (m*w)*adv_pass\n",
    "            total_can_buy = 1\n",
    "            can_buy = 1\n",
    "\n",
    "             \n",
    "        if m < w:\n",
    "#             print(can_buy)   \n",
    "            diff = w-m\n",
    "            to_buy = min(can_buy, diff)\n",
    "\n",
    "            m += to_buy\n",
    "            can_buy -= to_buy\n",
    "\n",
    "        elif w < m:\n",
    "#             print('+++++++')   \n",
    "#             print(can_buy)  \n",
    "            diff = m-w\n",
    "            to_buy = min(can_buy, diff)\n",
    "\n",
    "            w += to_buy\n",
    "            can_buy -= to_buy\n",
    "            \n",
    "            \n",
    "#         print('======')   \n",
    "#         print(m)\n",
    "#         print(w)\n",
    "            \n",
    "        half = can_buy//2\n",
    "\n",
    "        m += can_buy - half\n",
    "        w += half\n",
    "        \n",
    "#         print(m)\n",
    "#         print(w)\n",
    "\n",
    "        cur_candies -= total_can_buy*p\n",
    "\n",
    "        cur_candies += m*w\n",
    "        cur_pass +=1\n",
    "\n",
    "       \n",
    "\n",
    "    # Fine search \n",
    "    \n",
    "    #while \n",
    "\n",
    "    #print(min_pass)\n",
    "        \n",
    "    return min_pass\n",
    "        \n",
    "        \n",
    "        \n",
    "        "
   ]
  },
  {
   "cell_type": "markdown",
   "id": "99a48ea7-be71-455d-91aa-24b398f3217d",
   "metadata": {},
   "source": [
    "## Run"
   ]
  },
  {
   "cell_type": "code",
   "execution_count": 560,
   "id": "065fe2b0-8f1b-4431-ab1e-000ab0022747",
   "metadata": {},
   "outputs": [
    {
     "name": "stdout",
     "output_type": "stream",
     "text": [
      "CPU times: total: 15.6 ms\n",
      "Wall time: 1 ms\n"
     ]
    }
   ],
   "source": [
    "%%time\n",
    "name_test = 'input01.txt'\n",
    "\n",
    "f_input = open(f\"./in/{name_test}\", \"r\")\n",
    "\n",
    "if __name__ == '__main__':\n",
    "\n",
    "    first_multiple_input = f_input.readline().rstrip().split()\n",
    "\n",
    "    m = int(first_multiple_input[0])\n",
    "\n",
    "    w = int(first_multiple_input[1])\n",
    "\n",
    "    p = int(first_multiple_input[2])\n",
    "\n",
    "    n = int(first_multiple_input[3])\n",
    "\n",
    "    result = minimumPasses(m, w, p, n)\n",
    "\n"
   ]
  },
  {
   "cell_type": "markdown",
   "id": "2b7cfc9c-1c13-40ba-84f5-2ef6e4c1f688",
   "metadata": {},
   "source": [
    "## Experiment"
   ]
  },
  {
   "cell_type": "code",
   "execution_count": null,
   "id": "81f59c1b-5fbb-442a-9cff-b69ec83b81a8",
   "metadata": {},
   "outputs": [],
   "source": [
    "m = 7\n",
    "w = 6\n",
    "cur_candies = 54\n",
    "cur_pass = 16"
   ]
  },
  {
   "cell_type": "code",
   "execution_count": 546,
   "id": "886e3afd-810f-4b5c-940b-2d86f6db6f29",
   "metadata": {},
   "outputs": [
    {
     "data": {
      "text/plain": [
       "[(1, 1, 1, 1, 45),\n",
       " (2, 1, 2, 7, 29),\n",
       " (2, 2, 4, 10, 21),\n",
       " (3, 2, 8, 12, 19),\n",
       " (3, 3, 11, 13, 17),\n",
       " (4, 3, 17, 14, 17),\n",
       " (5, 4, 25, 15, 16),\n",
       " (7, 6, 43, 16, 17)]"
      ]
     },
     "execution_count": 546,
     "metadata": {},
     "output_type": "execute_result"
    }
   ],
   "source": [
    "list_vals"
   ]
  },
  {
   "cell_type": "code",
   "execution_count": 524,
   "id": "3ee22aaf-7810-4da5-8525-a15ef9e7f24f",
   "metadata": {},
   "outputs": [],
   "source": [
    "cur_min_state = list_vals[-3][:-1]"
   ]
  },
  {
   "cell_type": "code",
   "execution_count": 582,
   "id": "f98eb7f7-7494-4300-834d-4c9bebb87208",
   "metadata": {},
   "outputs": [
    {
     "data": {
      "text/plain": [
       "[(1, 1, 1, 1, 45),\n",
       " (2, 1, 2, 7, 29),\n",
       " (2, 2, 4, 10, 21),\n",
       " (3, 2, 8, 12, 19),\n",
       " (3, 3, 11, 13, 17),\n",
       " (4, 3, 17, 14, 17),\n",
       " (5, 4, 25, 15, 16),\n",
       " (7, 6, 43, 16, 17)]"
      ]
     },
     "execution_count": 582,
     "metadata": {},
     "output_type": "execute_result"
    }
   ],
   "source": [
    "list_vals"
   ]
  },
  {
   "cell_type": "code",
   "execution_count": 596,
   "id": "eb54d1b7-4fe3-41ca-b11a-5cd9de458c93",
   "metadata": {},
   "outputs": [
    {
     "data": {
      "text/plain": [
       "[(5, 4, 25, 15)]"
      ]
     },
     "execution_count": 596,
     "metadata": {},
     "output_type": "execute_result"
    }
   ],
   "source": [
    "list_min_states"
   ]
  },
  {
   "cell_type": "code",
   "execution_count": 600,
   "id": "fdd6d00e-756f-4691-bf1f-2dc9b98fe760",
   "metadata": {},
   "outputs": [
    {
     "data": {
      "text/plain": [
       "25"
      ]
     },
     "execution_count": 600,
     "metadata": {},
     "output_type": "execute_result"
    }
   ],
   "source": [
    "#minimumPasses(5, 5, 50, 31000)\n",
    "# minimumPasses(5, 5, 50, 1615)\n",
    "#minimumPasses(5, 5, 50, 2566)\n",
    "minimumPasses(5, 5, 50, 15073)"
   ]
  },
  {
   "cell_type": "code",
   "execution_count": 601,
   "id": "f0c670ac-a555-43a9-89f0-2ad9ab6190e5",
   "metadata": {},
   "outputs": [
    {
     "name": "stdout",
     "output_type": "stream",
     "text": [
      "can_buy = 102.24\n"
     ]
    },
    {
     "data": {
      "text/plain": [
       "24.914193302891935"
      ]
     },
     "execution_count": 601,
     "metadata": {},
     "output_type": "execute_result"
    }
   ],
   "source": [
    "cur_min_state = list_min_states[0]\n",
    "m, w, cur_candies, cur_pass = cur_min_state\n",
    "\n",
    "print(f'can_buy = {cur_candies / p_global}')\n",
    "\n",
    "will_buy = 2\n",
    "\n",
    "cur_candies -= will_buy*p_global\n",
    "\n",
    "if m < w:\n",
    "    diff = w-m\n",
    "    to_buy = min(will_buy, diff)\n",
    "\n",
    "    m += to_buy\n",
    "    will_buy -= to_buy\n",
    "\n",
    "elif w < m:\n",
    "    diff = m-w\n",
    "    to_buy = min(will_buy, diff)\n",
    "\n",
    "    w += to_buy\n",
    "    will_buy -= to_buy\n",
    "\n",
    "half = will_buy//2\n",
    "\n",
    "m += will_buy - half\n",
    "w += half\n",
    "\n",
    "\n",
    "proj = (n_global-cur_candies) / (m*w)\n",
    "proj_pass = cur_pass + proj\n",
    "proj_pass"
   ]
  },
  {
   "cell_type": "code",
   "execution_count": 581,
   "id": "38cbde07-2d46-4dff-ac45-78c3840d35cb",
   "metadata": {},
   "outputs": [
    {
     "data": {
      "text/plain": [
       "13"
      ]
     },
     "execution_count": 581,
     "metadata": {},
     "output_type": "execute_result"
    }
   ],
   "source": [
    "cur_candies"
   ]
  },
  {
   "cell_type": "markdown",
   "id": "8b7c0227-2bd3-4135-b0e3-254533f997c0",
   "metadata": {},
   "source": [
    "### Loop test"
   ]
  },
  {
   "cell_type": "code",
   "execution_count": 604,
   "id": "53ba562f-d380-4657-920c-1ecffb8a300a",
   "metadata": {},
   "outputs": [],
   "source": [
    "cur_min_state = list_min_states[0]\n",
    "m, w, cur_candies, cur_pass = cur_min_state\n",
    "\n",
    "can_buy = cur_candies / p_global\n",
    "list_proj_pass = []\n",
    "\n",
    "for i in range(int(can_buy)+1):\n",
    "    m, w, cur_candies, cur_pass = cur_min_state\n",
    "\n",
    "    will_buy = i\n",
    "#     print(will_buy)\n",
    "\n",
    "    cur_candies -= will_buy*p_global\n",
    "\n",
    "    if m < w:\n",
    "        diff = w-m\n",
    "        to_buy = min(will_buy, diff)\n",
    "\n",
    "        m += to_buy\n",
    "        will_buy -= to_buy\n",
    "\n",
    "    elif w < m:\n",
    "        diff = m-w\n",
    "        to_buy = min(will_buy, diff)\n",
    "\n",
    "        w += to_buy\n",
    "        will_buy -= to_buy\n",
    "\n",
    "    half = will_buy//2\n",
    "\n",
    "    m += will_buy - half\n",
    "    w += half\n",
    "\n",
    "\n",
    "    proj = (n_global-cur_candies) / (m*w)\n",
    "    proj_pass = cur_pass + proj\n",
    "    list_proj_pass.append(proj_pass)\n",
    "    "
   ]
  },
  {
   "cell_type": "code",
   "execution_count": 607,
   "id": "f8ef6daa-fe4b-476f-b8f0-076f3dc2c2e3",
   "metadata": {
    "tags": []
   },
   "outputs": [
    {
     "data": {
      "text/plain": [
       "[24.948552425665103,\n",
       " 24.93113425925926,\n",
       " 24.914193302891935,\n",
       " 24.897354100206417,\n",
       " 24.880970011106996,\n",
       " 24.864682249817385,\n",
       " 24.84882882882883,\n",
       " 24.833066666666667,\n",
       " 24.817719298245613,\n",
       " 24.802458448753463,\n",
       " 24.787593984962406,\n",
       " 24.772811603980436,\n",
       " 24.75840825840826,\n",
       " 24.744082840236686,\n",
       " 24.730120090879584,\n",
       " 24.716231373177376,\n",
       " 24.70268987341772,\n",
       " 24.68921875,\n",
       " 24.676080246913582,\n",
       " 24.663008687700046,\n",
       " 24.650255947003913,\n",
       " 24.637566924449732,\n",
       " 24.62518366147517,\n",
       " 24.61286108288576,\n",
       " 24.60083189902467,\n",
       " 24.588860544217688,\n",
       " 24.577170868347338,\n",
       " 24.56553633217993,\n",
       " 24.554172366621067,\n",
       " 24.542861005949163,\n",
       " 24.53180967655707,\n",
       " 24.520808561236624,\n",
       " 24.510057471264368,\n",
       " 24.499354338842977,\n",
       " 24.48889172625128,\n",
       " 24.478474940032825,\n",
       " 24.46828963795256,\n",
       " 24.458148148148148,\n",
       " 24.44822954822955,\n",
       " 24.438352855935275,\n",
       " 24.428690874343047,\n",
       " 24.41906899810964,\n",
       " 24.409654043945768,\n",
       " 24.40027748872702,\n",
       " 24.39110043468314,\n",
       " 24.38196016296967,\n",
       " 24.373012318029115,\n",
       " 24.36409972299169,\n",
       " 24.355372807017545,\n",
       " 24.3466796875,\n",
       " 24.338165807560138,\n",
       " 24.32968434477628,\n",
       " 24.32137597306964,\n",
       " 24.313098708871305,\n",
       " 24.30498866213152,\n",
       " 24.29690847872666,\n",
       " 24.2889898989899,\n",
       " 24.2811,\n",
       " 24.273366336633664,\n",
       " 24.265660229389276,\n",
       " 24.258105222286936,\n",
       " 24.25057670126874,\n",
       " 24.24319436512469,\n",
       " 24.235837496465265,\n",
       " 24.22862210604929,\n",
       " 24.221431213017752,\n",
       " 24.21437728937729,\n",
       " 24.207346938775512,\n",
       " 24.200449236298294,\n",
       " 24.1935742257031,\n",
       " 24.18682771997884,\n",
       " 24.180103065769938,\n",
       " 24.17350294219453,\n",
       " 24.166923868312757,\n",
       " 24.16046551138294,\n",
       " 24.15402743876778,\n",
       " 24.14770642201835,\n",
       " 24.141404958677686,\n",
       " 24.135217035217035,\n",
       " 24.129047966885803,\n",
       " 24.12298906048906,\n",
       " 24.116948341836736,\n",
       " 24.111014538558788,\n",
       " 24.105098284908763,\n",
       " 24.099285825182424,\n",
       " 24.093490304709142,\n",
       " 24.087795575896262,\n",
       " 24.08211720226843,\n",
       " 24.07653673163418,\n",
       " 24.07097205707491,\n",
       " 24.065502505157678,\n",
       " 24.06004821389437,\n",
       " 24.05468636824569,\n",
       " 24.04933927032462,\n",
       " 24.044082039595498,\n",
       " 24.03883906503778,\n",
       " 24.033683473389356,\n",
       " 24.028541666666666,\n",
       " 24.02348484848485,\n",
       " 24.01844136329486,\n",
       " 24.013480558189947,\n",
       " 24.008532652512766,\n",
       " 24.003665200586433]"
      ]
     },
     "execution_count": 607,
     "metadata": {},
     "output_type": "execute_result"
    }
   ],
   "source": [
    "list_proj_pass"
   ]
  },
  {
   "cell_type": "code",
   "execution_count": 119,
   "id": "67f587aa-07a3-4c22-a539-084ff4421e9e",
   "metadata": {},
   "outputs": [
    {
     "data": {
      "text/plain": [
       "[(1, 1, 1, 1, 45),\n",
       " (2, 1, 2, 7, 29),\n",
       " (2, 2, 4, 10, 21),\n",
       " (3, 2, 8, 12, 19),\n",
       " (3, 3, 11, 13, 17),\n",
       " (4, 3, 17, 14, 17),\n",
       " (5, 4, 25, 15, 16),\n",
       " (7, 6, 43, 16, 17)]"
      ]
     },
     "execution_count": 119,
     "metadata": {},
     "output_type": "execute_result"
    }
   ],
   "source": [
    "list_vals"
   ]
  },
  {
   "cell_type": "code",
   "execution_count": 115,
   "id": "129613db-0c8d-4507-a0a4-11ec51e1e638",
   "metadata": {},
   "outputs": [
    {
     "data": {
      "text/plain": [
       "45"
      ]
     },
     "execution_count": 115,
     "metadata": {},
     "output_type": "execute_result"
    }
   ],
   "source": [
    "n"
   ]
  },
  {
   "cell_type": "markdown",
   "id": "15ac1689-c434-4ed4-89e0-16e3aa7e0109",
   "metadata": {
    "tags": []
   },
   "source": [
    "### Eval"
   ]
  },
  {
   "cell_type": "code",
   "execution_count": 4,
   "id": "7be6e76f-7cd2-4ef2-8296-8b4234b1401c",
   "metadata": {},
   "outputs": [],
   "source": [
    "def eval_state(m,w,cur_candies,cur_pass, will_buy, p, n,):\n",
    "\n",
    "    cur_candies -= will_buy*p\n",
    "\n",
    "    if m < w:\n",
    "        diff = w-m\n",
    "        to_buy = min(will_buy, diff)\n",
    "\n",
    "        m += to_buy\n",
    "        will_buy -= to_buy\n",
    "\n",
    "    elif w < m:\n",
    "        diff = m-w\n",
    "        to_buy = min(will_buy, diff)\n",
    "\n",
    "        w += to_buy\n",
    "        will_buy -= to_buy\n",
    "\n",
    "    half = will_buy//2\n",
    "\n",
    "    m += will_buy - half\n",
    "    w += half\n",
    "\n",
    "    proj = (n -cur_candies) / (m*w)\n",
    "    proj_pass = cur_pass + proj\n",
    "    proj_pass\n",
    "    \n",
    "    return m, w, cur_candies, cur_pass, proj_pass"
   ]
  },
  {
   "cell_type": "markdown",
   "id": "9cefd5da-f0a7-4040-a733-4ed3b68470c0",
   "metadata": {
    "tags": []
   },
   "source": [
    "### Fine Search"
   ]
  },
  {
   "cell_type": "code",
   "execution_count": 5,
   "id": "4bda98bc-3129-445f-a6c6-85dc46a14b2c",
   "metadata": {
    "tags": []
   },
   "outputs": [],
   "source": [
    "def min_search(min_state, p, n):\n",
    "    \n",
    "    \n",
    "    can_buy = min_state[2] // p\n",
    "    \n",
    "    left_buy = 0\n",
    "    right_buy = can_buy\n",
    "    \n",
    "    left_state = (*min_state,left_buy)\n",
    "    right_state = (*min_state,right_buy)\n",
    "#     mid_state = (*min_state,mid_buy)\n",
    "    \n",
    "    proj_left = eval_state(*left_state, p, n)\n",
    "    proj_right = eval_state(*right_state, p, n)\n",
    "    \n",
    "    if proj_left < proj_right:\n",
    "        new_min_state = left_state\n",
    "    else:\n",
    "        new_min_state = right_state\n",
    "    \n",
    "    #Infinite loop?\n",
    "    while True:\n",
    "    \n",
    "        mid_buy =  (left_state[4] + right_state[4]) // 2\n",
    "        print(mid_buy)\n",
    "\n",
    "        proj_mid = eval_state(*min_state,mid_buy, p, n)\n",
    "\n",
    "        if proj_left < proj_mid:\n",
    "            right_state  = (*left_state[:-1], midpoint-1)\n",
    "            proj_right =  eval_state(*right_state, p, n)\n",
    "\n",
    "        elif proj_right < proj_mid:\n",
    "            left_state  = (*left_state[:-1], midpoint), p, n\n",
    "            proj_left = eval_state(*left_state, p, n)\n",
    "\n",
    "        else:\n",
    "            new_min_state = (*left_state[:-1], mid_buy)\n",
    "            break\n",
    "    \n",
    "    return new_min_state\n",
    "    \n",
    "    \n",
    "        \n",
    "    \n",
    "    #eval midpoint\n",
    "\n",
    "\n",
    "    #"
   ]
  },
  {
   "cell_type": "code",
   "execution_count": 611,
   "id": "9b0731fa-e1a8-4550-b8eb-f5197d8ea386",
   "metadata": {},
   "outputs": [
    {
     "name": "stdout",
     "output_type": "stream",
     "text": [
      "51\n"
     ]
    },
    {
     "ename": "NameError",
     "evalue": "name 'midpoint' is not defined",
     "output_type": "error",
     "traceback": [
      "\u001b[1;31m---------------------------------------------------------------------------\u001b[0m",
      "\u001b[1;31mNameError\u001b[0m                                 Traceback (most recent call last)",
      "Cell \u001b[1;32mIn[611], line 1\u001b[0m\n\u001b[1;32m----> 1\u001b[0m \u001b[43mmin_search\u001b[49m\u001b[43m(\u001b[49m\u001b[43mlist_min_states\u001b[49m\u001b[43m[\u001b[49m\u001b[38;5;241;43m0\u001b[39;49m\u001b[43m]\u001b[49m\u001b[43m,\u001b[49m\u001b[43m \u001b[49m\u001b[43mp_global\u001b[49m\u001b[43m,\u001b[49m\u001b[43m \u001b[49m\u001b[43mn_global\u001b[49m\u001b[43m)\u001b[49m\n",
      "Cell \u001b[1;32mIn[610], line 34\u001b[0m, in \u001b[0;36mmin_search\u001b[1;34m(min_state, p, n)\u001b[0m\n\u001b[0;32m     31\u001b[0m     proj_right \u001b[38;5;241m=\u001b[39m  eval_state(\u001b[38;5;241m*\u001b[39mright_state, p, n)\n\u001b[0;32m     33\u001b[0m \u001b[38;5;28;01melif\u001b[39;00m proj_right \u001b[38;5;241m<\u001b[39m proj_mid:\n\u001b[1;32m---> 34\u001b[0m     left_state  \u001b[38;5;241m=\u001b[39m (\u001b[38;5;241m*\u001b[39mleft_state[:\u001b[38;5;241m-\u001b[39m\u001b[38;5;241m1\u001b[39m], \u001b[43mmidpoint\u001b[49m), p, n\n\u001b[0;32m     35\u001b[0m     proj_left \u001b[38;5;241m=\u001b[39m eval_state(\u001b[38;5;241m*\u001b[39mleft_state, p, n)\n\u001b[0;32m     37\u001b[0m \u001b[38;5;28;01melse\u001b[39;00m:\n",
      "\u001b[1;31mNameError\u001b[0m: name 'midpoint' is not defined"
     ]
    }
   ],
   "source": [
    "min_search(list_min_states[0], p_global, n_global)"
   ]
  },
  {
   "cell_type": "markdown",
   "id": "330a5558-a823-4258-95ad-91cdcfdea2eb",
   "metadata": {},
   "source": [
    "## Input Tests"
   ]
  },
  {
   "cell_type": "code",
   "execution_count": 345,
   "id": "9531be57-80ce-4f3d-b26b-0860995fcbc8",
   "metadata": {},
   "outputs": [
    {
     "data": {
      "text/plain": [
       "23"
      ]
     },
     "execution_count": 345,
     "metadata": {},
     "output_type": "execute_result"
    }
   ],
   "source": [
    "minimumPasses(5, 5, 50, 2566)"
   ]
  },
  {
   "cell_type": "code",
   "execution_count": 240,
   "id": "0727aa62-8544-45a9-aedd-786d6f696a91",
   "metadata": {},
   "outputs": [
    {
     "data": {
      "text/plain": [
       "22"
      ]
     },
     "execution_count": 240,
     "metadata": {},
     "output_type": "execute_result"
    }
   ],
   "source": [
    "min_pass"
   ]
  },
  {
   "cell_type": "code",
   "execution_count": 237,
   "id": "43e212d7-9fe1-453c-8d6e-31f7bb63c654",
   "metadata": {},
   "outputs": [
    {
     "data": {
      "text/plain": [
       "[(23, 22, 552, 19), (28, 28, 786, 20), (36, 35, 1296, 21)]"
      ]
     },
     "execution_count": 237,
     "metadata": {},
     "output_type": "execute_result"
    }
   ],
   "source": [
    "\n",
    "list_min_states"
   ]
  },
  {
   "cell_type": "code",
   "execution_count": 513,
   "id": "0598384a-7fda-4f23-b670-1ba66848aa91",
   "metadata": {
    "tags": []
   },
   "outputs": [
    {
     "data": {
      "text/plain": [
       "[(5, 5, 25, 1, 603),\n",
       " (6, 5, 30, 3, 505),\n",
       " (6, 6, 46, 5, 423),\n",
       " (7, 6, 74, 7, 365),\n",
       " (7, 7, 73, 8, 315),\n",
       " (8, 7, 79, 9, 277),\n",
       " (8, 8, 93, 10, 245),\n",
       " (9, 8, 115, 11, 219),\n",
       " (10, 9, 105, 12, 179),\n",
       " (11, 10, 115, 13, 149),\n",
       " (12, 11, 147, 14, 128),\n",
       " (13, 12, 203, 15, 111),\n",
       " (15, 14, 213, 16, 87),\n",
       " (17, 16, 285, 17, 72),\n",
       " (19, 19, 396, 18, 59),\n",
       " (23, 22, 552, 19, 48),\n",
       " (28, 28, 786, 20, 39),\n",
       " (36, 35, 1296, 21, 32),\n",
       " (48, 48, 2350, 22, 28),\n",
       " (72, 71, 5112, 23, 25),\n",
       " (123, 122, 15018, 24, 25)]"
      ]
     },
     "execution_count": 513,
     "metadata": {},
     "output_type": "execute_result"
    }
   ],
   "source": [
    "list_vals"
   ]
  },
  {
   "cell_type": "markdown",
   "id": "4f2d47fb-974a-450b-92c3-64d22bd85508",
   "metadata": {
    "tags": []
   },
   "source": [
    "## Input Generator"
   ]
  },
  {
   "cell_type": "code",
   "execution_count": null,
   "id": "0fc45b6d-524b-460d-b04a-10a8e3ead8d6",
   "metadata": {},
   "outputs": [],
   "source": [
    "print(random.randint(0,5000))"
   ]
  },
  {
   "cell_type": "code",
   "execution_count": 266,
   "id": "9388ee87-1a6b-44a0-8689-e1b55d828e31",
   "metadata": {},
   "outputs": [],
   "source": [
    "from math import floor"
   ]
  },
  {
   "cell_type": "code",
   "execution_count": 493,
   "id": "c92ca86f-8ea0-4397-bf48-c60033b8ec1b",
   "metadata": {},
   "outputs": [
    {
     "name": "stdout",
     "output_type": "stream",
     "text": [
      "185\n",
      "5 5 50 15073\n"
     ]
    }
   ],
   "source": [
    "list_random = random.sample(range(1000, 1000000), 10000)\n",
    "\n",
    "\n",
    "for last_r_i, rand_num in enumerate(list_random):\n",
    "    min_pass = minimumPasses(5, 5, 50, rand_num)\n",
    "    \n",
    "    if len(list_min_states) < 2:\n",
    "        continue\n",
    "        \n",
    "    case_found = False\n",
    "        \n",
    "    for cur_min_state in list_min_states:\n",
    "        m, w, cur_candies, cur_pass = cur_min_state\n",
    "        \n",
    "        proj = (n_global-cur_candies) / (m*w)\n",
    "        proj_pass = cur_pass + proj\n",
    "        proj_pass\n",
    "        \n",
    "        dec = proj - floor(proj)\n",
    "        \n",
    "        if  dec < 0.05 and dec > 0:\n",
    "            case_found = True\n",
    "            break\n",
    "    \n",
    "    if case_found:\n",
    "        break\n",
    "    \n",
    "print(last_r_i)\n",
    "print(5, 5, 50, rand_num)"
   ]
  }
 ],
 "metadata": {
  "kernelspec": {
   "display_name": "Python [conda env:hackerrank]",
   "language": "python",
   "name": "conda-env-hackerrank-py"
  },
  "language_info": {
   "codemirror_mode": {
    "name": "ipython",
    "version": 3
   },
   "file_extension": ".py",
   "mimetype": "text/x-python",
   "name": "python",
   "nbconvert_exporter": "python",
   "pygments_lexer": "ipython3",
   "version": "3.11.3"
  }
 },
 "nbformat": 4,
 "nbformat_minor": 5
}
