{
 "cells": [
  {
   "cell_type": "code",
   "execution_count": 1,
   "id": "b4445fbc-76be-42e2-8690-6714f1da9648",
   "metadata": {},
   "outputs": [],
   "source": [
    "#!/bin/python3\n",
    "\n",
    "import math\n",
    "import os\n",
    "import random\n",
    "import re\n",
    "import sys\n",
    "\n",
    "#\n",
    "# Complete the 'swapNodes' function below.\n",
    "#\n",
    "# The function is expected to return a 2D_INTEGER_ARRAY.\n",
    "# The function accepts following parameters:\n",
    "#  1. 2D_INTEGER_ARRAY indexes\n",
    "#  2. INTEGER_ARRAY queries\n",
    "#"
   ]
  },
  {
   "cell_type": "code",
   "execution_count": 8,
   "id": "37a399f0-8d88-4f7d-9ab0-8218a11d18f6",
   "metadata": {},
   "outputs": [],
   "source": [
    "class Node:\n",
    "    def __init__(self, value):\n",
    "        self.value = value\n",
    "        self.left = None\n",
    "        self.right = None\n",
    "    \n",
    "    \n",
    "def swapNodes(indexes, queries):\n",
    "    \n",
    "    root = Node(1)\n",
    "    list_parents = [root]\n",
    "\n",
    "    for children in indexes:\n",
    "\n",
    "        cur_parent = list_parents.pop(0)\n",
    "        \n",
    "        l,r = children\n",
    "        \n",
    "        if l != -1:\n",
    "            left_node = Node(l)\n",
    "            cur_parent.left = left_node\n",
    "            list_parents.append(left_node)\n",
    "            \n",
    "        if r != -1:\n",
    "            right_node = Node(r)\n",
    "            cur_parent.right = right_node\n",
    "            list_parents.append(right_node)\n",
    "        \n",
    "    list_res = []\n",
    "    \n",
    "    for k in queries:\n",
    "        list_cur_levels = get_levels(root,k)\n",
    "        \n",
    "        for list_cur_level in list_cur_levels:\n",
    "            for parent in list_cur_level:\n",
    "                left = parent.left\n",
    "                parent.left = parent.right\n",
    "                parent.right = left\n",
    "            \n",
    "        trav = inorder_traversal(root)\n",
    "        list_res.append(trav)\n",
    "        \n",
    "        \n",
    "    for res in list_res:\n",
    "        print(res)\n",
    "   \n",
    "    return list_res\n",
    "\n",
    "\n",
    "def get_levels(root, k):\n",
    "    \n",
    "    cur_level = 1\n",
    "    list_cur_level = [root]\n",
    "    list_to_swap = []\n",
    "\n",
    "    while list_cur_level:\n",
    "\n",
    "        if cur_level % k == 0:\n",
    "            list_to_swap.append(list_cur_level)\n",
    "        \n",
    "        cur_level+=1\n",
    "        list_next_level = []\n",
    "        \n",
    "        for parent in list_cur_level:\n",
    "            if parent.left:\n",
    "                list_next_level.append(parent.left)\n",
    "            if parent.right:\n",
    "                list_next_level.append(parent.right)\n",
    "      \n",
    "        list_cur_level = list_next_level\n",
    "\n",
    "    return list_to_swap\n",
    "        \n",
    "def inorder_traversal(node):\n",
    "    results = []\n",
    "    if  node.left:\n",
    "        subresults = inorder_traversal(node.left)\n",
    "        results.extend(subresults)\n",
    "        \n",
    "    results.append(node.value)\n",
    "          \n",
    "    if node.right:\n",
    "        subresults = inorder_traversal(node.right)\n",
    "        results.extend(subresults)\n",
    " \n",
    "    return results\n",
    "\n"
   ]
  },
  {
   "cell_type": "code",
   "execution_count": 16,
   "id": "14ddb298-f1f3-4e15-a3be-4cd45d0421ab",
   "metadata": {},
   "outputs": [
    {
     "name": "stdout",
     "output_type": "stream",
     "text": [
      "[1]\n"
     ]
    }
   ],
   "source": [
    "final_res = swapNodes([[-1,-1]], [2])"
   ]
  },
  {
   "cell_type": "code",
   "execution_count": 17,
   "id": "2e6a7633-c2db-4cab-8d95-52acdfc70cf6",
   "metadata": {},
   "outputs": [
    {
     "data": {
      "text/plain": [
       "'1'"
      ]
     },
     "execution_count": 17,
     "metadata": {},
     "output_type": "execute_result"
    }
   ],
   "source": [
    "('\\n'.join([' '.join(map(str, x)) for x in final_res]))"
   ]
  },
  {
   "cell_type": "code",
   "execution_count": null,
   "id": "411ae4d4-72f5-494e-97a4-a3b145333d17",
   "metadata": {},
   "outputs": [],
   "source": []
  },
  {
   "cell_type": "code",
   "execution_count": 11,
   "id": "8135f35c-bf5d-4348-abc0-1d1637aaf254",
   "metadata": {},
   "outputs": [
    {
     "data": {
      "text/plain": [
       "[1]"
      ]
     },
     "execution_count": 11,
     "metadata": {},
     "output_type": "execute_result"
    }
   ],
   "source": [
    "inorder_traversal(Node(1))"
   ]
  },
  {
   "cell_type": "markdown",
   "id": "2ef6e8fe-f077-4e1d-ae37-431822ac8e13",
   "metadata": {
    "tags": []
   },
   "source": [
    "## Run"
   ]
  },
  {
   "cell_type": "code",
   "execution_count": 9,
   "id": "6b948ac4-198f-46ee-973f-173c602f49d5",
   "metadata": {},
   "outputs": [
    {
     "name": "stdout",
     "output_type": "stream",
     "text": [
      "[3, 1, 2]\n",
      "[2, 1, 3]\n"
     ]
    }
   ],
   "source": [
    "name_test = 'input00.txt'\n",
    "\n",
    "f_input = open(f\"./in/{name_test}\", \"r\")\n",
    "\n",
    "if __name__ == '__main__':\n",
    "#     fptr = open(os.environ['OUTPUT_PATH'], 'w')\n",
    "\n",
    "    n = int(f_input.readline().strip())\n",
    "\n",
    "    indexes = []\n",
    "\n",
    "    for _ in range(n):\n",
    "        indexes.append(list(map(int, f_input.readline().rstrip().split())))\n",
    "\n",
    "    queries_count = int(f_input.readline().strip())\n",
    "\n",
    "    queries = []\n",
    "\n",
    "    for _ in range(queries_count):\n",
    "        queries_item = int(f_input.readline().strip())\n",
    "        queries.append(queries_item)\n",
    "\n",
    "    result = swapNodes(indexes, queries)\n",
    "\n",
    "    print('\\n'.join([' '.join(map(str, x)) for x in result]))\n",
    "    \n",
    "#     fptr.write('\\n'.join([' '.join(map(str, x)) for x in result]))\n",
    "#     fptr.write('\\n')\n",
    "\n",
    "#     fptr.close()"
   ]
  }
 ],
 "metadata": {
  "kernelspec": {
   "display_name": "Python [conda env:hackerrank]",
   "language": "python",
   "name": "conda-env-hackerrank-py"
  },
  "language_info": {
   "codemirror_mode": {
    "name": "ipython",
    "version": 3
   },
   "file_extension": ".py",
   "mimetype": "text/x-python",
   "name": "python",
   "nbconvert_exporter": "python",
   "pygments_lexer": "ipython3",
   "version": "3.11.3"
  }
 },
 "nbformat": 4,
 "nbformat_minor": 5
}
