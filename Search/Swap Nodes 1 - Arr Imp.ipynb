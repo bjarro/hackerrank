{
 "cells": [
  {
   "cell_type": "code",
   "execution_count": null,
   "id": "5b6c5271-8937-4448-ad03-280003076983",
   "metadata": {},
   "outputs": [],
   "source": []
  },
  {
   "cell_type": "code",
   "execution_count": 5,
   "id": "b4445fbc-76be-42e2-8690-6714f1da9648",
   "metadata": {},
   "outputs": [],
   "source": [
    "#!/bin/python3\n",
    "\n",
    "import math\n",
    "import os\n",
    "import random\n",
    "import re\n",
    "import sys\n",
    "\n",
    "#\n",
    "# Complete the 'swapNodes' function below.\n",
    "#\n",
    "# The function is expected to return a 2D_INTEGER_ARRAY.\n",
    "# The function accepts following parameters:\n",
    "#  1. 2D_INTEGER_ARRAY indexes\n",
    "#  2. INTEGER_ARRAY queries\n",
    "#"
   ]
  },
  {
   "cell_type": "code",
   "execution_count": 6,
   "id": "87e07546-0fa4-4353-933e-c6bd67bec1cd",
   "metadata": {},
   "outputs": [],
   "source": [
    "temp_list = []"
   ]
  },
  {
   "cell_type": "code",
   "execution_count": 11,
   "id": "cde88a9b-9a5b-469a-9f2f-0195e795fc28",
   "metadata": {},
   "outputs": [
    {
     "data": {
      "text/plain": [
       "1.0"
      ]
     },
     "execution_count": 11,
     "metadata": {},
     "output_type": "execute_result"
    }
   ],
   "source": [
    "math.log2(2)"
   ]
  },
  {
   "cell_type": "code",
   "execution_count": 28,
   "id": "9e7daa7d-ba3a-4639-8af8-9c15b01aacb1",
   "metadata": {},
   "outputs": [
    {
     "data": {
      "text/plain": [
       "0.0"
      ]
     },
     "execution_count": 28,
     "metadata": {},
     "output_type": "execute_result"
    }
   ],
   "source": [
    "math.log2(1)"
   ]
  },
  {
   "cell_type": "code",
   "execution_count": 69,
   "id": "1940b706-93db-4c89-b3b1-94eca5821395",
   "metadata": {},
   "outputs": [
    {
     "data": {
      "text/plain": [
       "2"
      ]
     },
     "execution_count": 69,
     "metadata": {},
     "output_type": "execute_result"
    }
   ],
   "source": [
    "i=6\n",
    "temp_ans = math.floor(math.log2(i+1))\n",
    "temp_ans"
   ]
  },
  {
   "cell_type": "code",
   "execution_count": 100,
   "id": "2db2c890-039b-4793-9227-c82a1ab4a1c0",
   "metadata": {},
   "outputs": [
    {
     "data": {
      "text/plain": [
       "3"
      ]
     },
     "execution_count": 100,
     "metadata": {},
     "output_type": "execute_result"
    }
   ],
   "source": [
    "2**(temp_ans)-1"
   ]
  },
  {
   "cell_type": "code",
   "execution_count": 73,
   "id": "232b44f7-09d3-4a92-a092-a301647a5db7",
   "metadata": {},
   "outputs": [
    {
     "data": {
      "text/plain": [
       "3"
      ]
     },
     "execution_count": 73,
     "metadata": {},
     "output_type": "execute_result"
    }
   ],
   "source": [
    "i - (2**(temp_ans)-1)"
   ]
  },
  {
   "cell_type": "code",
   "execution_count": 62,
   "id": "17981262-33d6-4f66-8008-89f10ec4db60",
   "metadata": {},
   "outputs": [
    {
     "data": {
      "text/plain": [
       "6.0"
      ]
     },
     "execution_count": 62,
     "metadata": {},
     "output_type": "execute_result"
    }
   ],
   "source": [
    "2**(temp_ans) - 1"
   ]
  },
  {
   "cell_type": "code",
   "execution_count": 39,
   "id": "fac42c6a-991f-4c75-853c-9c0e98eab02b",
   "metadata": {},
   "outputs": [
    {
     "data": {
      "text/plain": [
       "1"
      ]
     },
     "execution_count": 39,
     "metadata": {},
     "output_type": "execute_result"
    }
   ],
   "source": [
    "i=1\n",
    "math.ceil(math.log2(i+1))"
   ]
  },
  {
   "cell_type": "markdown",
   "id": "2f28ae24-5646-44f3-884f-7e4c42852081",
   "metadata": {},
   "source": [
    "## SwapNodes"
   ]
  },
  {
   "cell_type": "code",
   "execution_count": 129,
   "id": "18474013-6707-4859-8466-7d28b12cf3af",
   "metadata": {},
   "outputs": [],
   "source": [
    "def swapNodes(indexes, queries):\n",
    "    \n",
    "    #Convert input into BST array\n",
    "    \n",
    "    global list_bst, list_res\n",
    "    \n",
    "    list_bst = [1]\n",
    "    list_parents = [1]\n",
    "    \n",
    "    for l,r in indexes:\n",
    "        \n",
    "        cur_parent = list_parents.pop(0)\n",
    "        \n",
    "        while cur_parent == -1:\n",
    "            list_bst.extend([-1,-1])\n",
    "            list_parents.extend([-1,-1])\n",
    "            cur_parent = list_parents.pop(0)\n",
    "\n",
    "        list_bst.extend([l,r])\n",
    "        list_parents.extend([l,r])\n",
    "        \n",
    "        \n",
    "    print(list_bst)\n",
    "    print(indexes)\n",
    "    \n",
    "    list_res = []\n",
    "    \n",
    "    for k in queries:\n",
    "        \n",
    "        #start at level k+1  \n",
    "        #Swap nodes\n",
    "        \n",
    "        start = 2**(k+1) -1\n",
    "        \n",
    "        for cur_depth in range(k, math.ceil(math.log2(len(list_bst)))-1):\n",
    "            #get max horizontal\n",
    "            #Store first half / left\n",
    "            #store left\n",
    "            n_horizontal = 2**(cur_depth-1)\n",
    "            cur_depth_i = 2**(cur_depth) - 1\n",
    "            \n",
    "            list_left = [list_bst[i] for i in range(cur_depth_i,cur_depth_i+n_horizontal//2)]\n",
    "            \n",
    "            \n",
    "            #assign right to left\n",
    "            #assign left to right\n",
    "            for i in range(n_horizontal//2):\n",
    "                left_i = cur_depth_i + i\n",
    "                right_i = cur_depth_i + n_horizontal//2 + i\n",
    "        \n",
    "                list_bst[left_i] = list_bst[right_i]\n",
    "                list_bst[right_i] = list_left[i]\n",
    "\n",
    "        #Run traversal\n",
    "        trav = inorder_traversal(list_bst, 0)\n",
    "        #Append to results\n",
    "        list_res.append(trav)\n",
    "        \n",
    "        \n",
    "    for trav in list_res:\n",
    "        print(trav)\n",
    "        \n",
    "    return list_res\n",
    "    "
   ]
  },
  {
   "cell_type": "code",
   "execution_count": 98,
   "id": "a3c037f1-d9d9-4d28-9bbe-e563a5b6f1aa",
   "metadata": {},
   "outputs": [
    {
     "name": "stdout",
     "output_type": "stream",
     "text": [
      "3\n",
      "4\n",
      "5\n"
     ]
    }
   ],
   "source": [
    "k=2\n",
    "\n",
    "\n",
    "for cur_depth in range(k+1, math.ceil(math.log2(55))):\n",
    "    print(cur_depth)"
   ]
  },
  {
   "cell_type": "code",
   "execution_count": 109,
   "id": "1b86584a-62af-4787-ac29-4780afb0ee07",
   "metadata": {},
   "outputs": [
    {
     "ename": "TypeError",
     "evalue": "'float' object cannot be interpreted as an integer",
     "output_type": "error",
     "traceback": [
      "\u001b[1;31m---------------------------------------------------------------------------\u001b[0m",
      "\u001b[1;31mTypeError\u001b[0m                                 Traceback (most recent call last)",
      "Cell \u001b[1;32mIn[109], line 1\u001b[0m\n\u001b[1;32m----> 1\u001b[0m \u001b[38;5;28;01mfor\u001b[39;00m i \u001b[38;5;129;01min\u001b[39;00m \u001b[38;5;28;43mrange\u001b[39;49m\u001b[43m(\u001b[49m\u001b[38;5;241;43m2.0\u001b[39;49m\u001b[43m)\u001b[49m:\n\u001b[0;32m      2\u001b[0m     \u001b[38;5;28mprint\u001b[39m(i)\n",
      "\u001b[1;31mTypeError\u001b[0m: 'float' object cannot be interpreted as an integer"
     ]
    }
   ],
   "source": [
    "for i in range(2.0):\n",
    "    print(i)"
   ]
  },
  {
   "cell_type": "markdown",
   "id": "326a7042-82fb-47ec-8c67-d10bca1a57fb",
   "metadata": {},
   "source": [
    "## Traversal"
   ]
  },
  {
   "cell_type": "code",
   "execution_count": 130,
   "id": "a4cda810-3f57-4a05-a665-d4bb4c8a11bf",
   "metadata": {},
   "outputs": [],
   "source": [
    "def inorder_traversal(arr, i):\n",
    "    \n",
    "    results = []\n",
    "    \n",
    "    cur_depth = math.floor(math.log2(i+1))\n",
    "    \n",
    "    prev_depth_i = 2**(cur_depth-1) - 1\n",
    "    cur_depth_i = 2**(cur_depth) - 1\n",
    "    next_depth_i = 2**(cur_depth + 1) -1\n",
    "    \n",
    "    hor_i = i - cur_depth_i\n",
    "    \n",
    "    #check if has left - traverse\n",
    "#     print(f'check left = {next_depth_i + hor_i*2}')\n",
    "    if arr[next_depth_i + hor_i*2] > -1:\n",
    "        subresults = inorder_traversal(arr, next_depth_i + hor_i*2)\n",
    "        results.extend(subresults)\n",
    "        \n",
    "    #if no more left, visit current\n",
    "    \n",
    "    results.append(arr[i])\n",
    "          \n",
    "#     print(f'check right = {next_depth_i + hor_i*2+1}')\n",
    "    if arr[next_depth_i + hor_i*2+1] > -1:\n",
    "        subresults = inorder_traversal(arr, next_depth_i + hor_i*2+1)\n",
    "        results.extend(subresults)\n",
    " \n",
    "#     print(results)\n",
    "\n",
    "    return results\n"
   ]
  },
  {
   "cell_type": "code",
   "execution_count": 106,
   "id": "8fd773a3-afc3-4350-a63c-59bd64a1dc89",
   "metadata": {},
   "outputs": [
    {
     "data": {
      "text/plain": [
       "[6, 9, 4, 2, 1, 7, 5, 10, 8, 11, 3]"
      ]
     },
     "execution_count": 106,
     "metadata": {},
     "output_type": "execute_result"
    }
   ],
   "source": [
    "inorder_traversal(list_bst, 0)"
   ]
  },
  {
   "cell_type": "markdown",
   "id": "2ef6e8fe-f077-4e1d-ae37-431822ac8e13",
   "metadata": {},
   "source": [
    "## Run"
   ]
  },
  {
   "cell_type": "code",
   "execution_count": 131,
   "id": "6b948ac4-198f-46ee-973f-173c602f49d5",
   "metadata": {},
   "outputs": [
    {
     "name": "stdout",
     "output_type": "stream",
     "text": [
      "[1, 2, 3, 4, -1, 5, -1, 6, -1, -1, -1, 7, 8, -1, -1, -1, 9, -1, -1, -1, -1, -1, -1, -1, -1, 10, 11, -1, -1, -1, -1, -1, -1, -1, -1, -1, -1, -1, -1, -1, -1, -1, -1, -1, -1, -1, -1, -1, -1, -1, -1, -1, -1, -1, -1]\n",
      "[[2, 3], [4, -1], [5, -1], [6, -1], [7, 8], [-1, 9], [-1, -1], [10, 11], [-1, -1], [-1, -1], [-1, -1]]\n",
      "[2, 6, 9, 4, 1, 7, 5, 10, 8, 11, 3]\n",
      "[2, 6, 4, 1, 7, 5, 10, 8, 11, 3]\n"
     ]
    }
   ],
   "source": [
    "name_test = 'input03.txt'\n",
    "\n",
    "f_input = open(f\"./in/{name_test}\", \"r\")\n",
    "\n",
    "if __name__ == '__main__':\n",
    "#     fptr = open(os.environ['OUTPUT_PATH'], 'w')\n",
    "\n",
    "    n = int(f_input.readline().strip())\n",
    "\n",
    "    indexes = []\n",
    "\n",
    "    for _ in range(n):\n",
    "        indexes.append(list(map(int, f_input.readline().rstrip().split())))\n",
    "\n",
    "    queries_count = int(f_input.readline().strip())\n",
    "\n",
    "    queries = []\n",
    "\n",
    "    for _ in range(queries_count):\n",
    "        queries_item = int(f_input.readline().strip())\n",
    "        queries.append(queries_item)\n",
    "\n",
    "    result = swapNodes(indexes, queries)\n",
    "\n",
    "#     fptr.write('\\n'.join([' '.join(map(str, x)) for x in result]))\n",
    "#     fptr.write('\\n')\n",
    "\n",
    "#     fptr.close()"
   ]
  }
 ],
 "metadata": {
  "kernelspec": {
   "display_name": "Python [conda env:hackerrank]",
   "language": "python",
   "name": "conda-env-hackerrank-py"
  },
  "language_info": {
   "codemirror_mode": {
    "name": "ipython",
    "version": 3
   },
   "file_extension": ".py",
   "mimetype": "text/x-python",
   "name": "python",
   "nbconvert_exporter": "python",
   "pygments_lexer": "ipython3",
   "version": "3.11.3"
  }
 },
 "nbformat": 4,
 "nbformat_minor": 5
}
