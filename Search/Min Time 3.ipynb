{
 "cells": [
  {
   "cell_type": "code",
   "execution_count": 4,
   "id": "c31ad02c-1617-45b1-bf5d-f5c3ca624c69",
   "metadata": {},
   "outputs": [],
   "source": [
    "#!/bin/python3\n",
    "\n",
    "import math\n",
    "import os\n",
    "import random\n",
    "import re\n",
    "import sys\n",
    "\n",
    "# Complete the minTime function below.\n"
   ]
  },
  {
   "cell_type": "code",
   "execution_count": 5,
   "id": "46a23d36-171e-40d5-97cc-82370dccd182",
   "metadata": {},
   "outputs": [],
   "source": [
    "from bisect import bisect_left, bisect_right\n",
    "from math import floor, ceil"
   ]
  },
  {
   "cell_type": "code",
   "execution_count": 6,
   "id": "40ae4546-f154-4c2a-9b91-32c40e576ef5",
   "metadata": {},
   "outputs": [],
   "source": [
    "def eval_all(machines, day):\n",
    "    items = sum([day//eff for eff in machines])\n",
    "    return items"
   ]
  },
  {
   "cell_type": "code",
   "execution_count": 5,
   "id": "64190c2a-89f4-4732-aa2a-a9bbfbb61036",
   "metadata": {},
   "outputs": [],
   "source": [
    "# def get_next_min(i_cumsum, cur_days):\n",
    "#     cur_i = bisect_right(m_cumsum, cur_goal)\n",
    "#     i_rightmost = cur_i\n",
    "#     cur_m = m_sorted[cur_i]\n",
    "\n",
    "#     adv_days = cur_days % cur_m\n",
    "    \n",
    "#     cur_days = \n",
    "    \n",
    "#     cur_actual = eval_all(m_sorted, initial)\n",
    "    \n",
    "#     return cur_actual\n",
    "    "
   ]
  },
  {
   "cell_type": "markdown",
   "id": "7cf99705-c3dc-481a-b484-93626aac5c0d",
   "metadata": {},
   "source": [
    "## Function"
   ]
  },
  {
   "cell_type": "code",
   "execution_count": 30,
   "id": "ca9aa5e2-3d9a-432d-bf61-e052f8bc498c",
   "metadata": {},
   "outputs": [],
   "source": [
    "from math import floor, ceil\n",
    "\n",
    "def eval_all(machines, day):\n",
    "    items = sum([day//eff for eff in machines])\n",
    "    return items\n",
    "\n",
    "def minTime(machines, goal):\n",
    "    m_sorted = sorted(machines)\n",
    "\n",
    "#     for m, count in m_sorted:\n",
    "#         cur_sum = count + cum_sum * m/prev_m\n",
    "#         m_cumsum.append(floor(cur_sum))\n",
    "#         cum_sum = cur_sum\n",
    "#         prev_m = m \n",
    "\n",
    "    print(f'goal = {goal}')\n",
    "        \n",
    "    \n",
    "    #Eval total using last machine\n",
    "\n",
    "    cur_total = eval_all(m_sorted, m_sorted[-1])\n",
    "    print(f'cur_total = {cur_total}')\n",
    "    #Use last machine to set upper bound for binary search\n",
    "    upper_bound = ceil(goal/cur_total) * m_sorted[-1]\n",
    "    lower_bound = 0\n",
    "    cur_total = eval_all(m_sorted,upper_bound)\n",
    "    \n",
    "    cur_day = upper_bound\n",
    "    \n",
    "    min_greater = cur_day\n",
    "    \n",
    "    print(f'lower_bound = {lower_bound}')\n",
    "    print(f'upper_bound = {upper_bound}')\n",
    "    print(f'cur_day = {cur_day}')\n",
    "    print(f'cur_total = {cur_total}')\n",
    "    print(f'--------------------')\n",
    "    \n",
    "    loop_count = 0\n",
    "    \n",
    "    while upper_bound - lower_bound > 1:\n",
    "    #while cur_total != goal:\n",
    "        \n",
    "        if cur_total < goal:\n",
    "            lower_bound = cur_day\n",
    "            print(f'lower_bound = {lower_bound}')\n",
    "\n",
    "        elif cur_total >= goal:\n",
    "            upper_bound = cur_day\n",
    "            min_greater = cur_day\n",
    "            print(f'upper_bound = {upper_bound}')\n",
    "\n",
    "        cur_day = (upper_bound + lower_bound) // 2\n",
    "        cur_total = eval_all(m_sorted, cur_day)\n",
    "        \n",
    "        print(f'cur_day = {cur_day}')\n",
    "        print(f'min_greater = {min_greater}')\n",
    "        print(f'cur_total = {cur_total}')\n",
    "        print(f'--------------------')\n",
    "        \n",
    "        loop_count += 1\n",
    "        \n",
    "        if loop_count >= 25:\n",
    "            print('loop count exceeded')\n",
    "            break\n",
    "        \n",
    "    return min_greater\n",
    "\n",
    "            \n",
    "            \n",
    "    \n",
    "    \n",
    "    \n"
   ]
  },
  {
   "cell_type": "markdown",
   "id": "a63402f8-d69f-469f-89de-856e69b88ad1",
   "metadata": {
    "tags": []
   },
   "source": [
    "## Run"
   ]
  },
  {
   "cell_type": "code",
   "execution_count": 29,
   "id": "49e7ec5e-6463-4ce0-8e08-3063e9e5a05d",
   "metadata": {
    "tags": []
   },
   "outputs": [
    {
     "name": "stdout",
     "output_type": "stream",
     "text": [
      "goal = 12\n",
      "cur_total = 3\n",
      "lower_bound = 0\n",
      "upper_bound = 24\n",
      "cur_day = 24\n",
      "cur_total = 14\n",
      "--------------------\n",
      "upper_bound = 24\n",
      "cur_day = 12\n",
      "min_greater = 24\n",
      "cur_total = 7\n",
      "--------------------\n",
      "lower_bound = 12\n",
      "cur_day = 18\n",
      "min_greater = 24\n",
      "cur_total = 10\n",
      "--------------------\n",
      "lower_bound = 18\n",
      "cur_day = 21\n",
      "min_greater = 24\n",
      "cur_total = 12\n",
      "--------------------\n",
      "upper_bound = 21\n",
      "cur_day = 19\n",
      "min_greater = 21\n",
      "cur_total = 10\n",
      "--------------------\n",
      "lower_bound = 19\n",
      "cur_day = 20\n",
      "min_greater = 21\n",
      "cur_total = 12\n",
      "--------------------\n",
      "upper_bound = 20\n",
      "cur_day = 19\n",
      "min_greater = 20\n",
      "cur_total = 10\n",
      "--------------------\n",
      "20\n"
     ]
    }
   ],
   "source": [
    "name_test = 'mt02.txt'\n",
    "\n",
    "f_input = open(f\"./in/{name_test}\", \"r\")\n",
    "\n",
    "if __name__ == '__main__':\n",
    "\n",
    "    nGoal = f_input.readline().split()\n",
    "\n",
    "    n = int(nGoal[0])\n",
    "\n",
    "    goal = int(nGoal[1])\n",
    "    \n",
    "    machines = list(map(int, f_input.readline().rstrip().split()))\n",
    "    \n",
    "    ans = minTime(machines, goal)\n",
    "    print(ans)\n",
    "\n"
   ]
  },
  {
   "cell_type": "markdown",
   "id": "85897736-1663-40db-9698-93b635bb32d1",
   "metadata": {},
   "source": [
    "# Benchmarks"
   ]
  },
  {
   "cell_type": "code",
   "execution_count": null,
   "id": "76a7d5ba-3d28-47af-a373-93e81c1bea5f",
   "metadata": {},
   "outputs": [],
   "source": [
    "%%time\n",
    "\n",
    "list_cum = []\n",
    "for i, m in enumerate(m_sorted):\n",
    "    list_cum.append(eval_all(m_sorted[0:i+1], m))"
   ]
  },
  {
   "cell_type": "code",
   "execution_count": 140,
   "id": "db5107f1-89cd-45f7-99ee-ae9e54c8f712",
   "metadata": {},
   "outputs": [
    {
     "data": {
      "text/plain": [
       "2856"
      ]
     },
     "execution_count": 140,
     "metadata": {},
     "output_type": "execute_result"
    }
   ],
   "source": [
    "m_sorted[57012]"
   ]
  },
  {
   "cell_type": "code",
   "execution_count": 130,
   "id": "8439b047-7cfc-4797-9bec-a23b1903d2f5",
   "metadata": {},
   "outputs": [
    {
     "data": {
      "text/plain": [
       "7"
      ]
     },
     "execution_count": 130,
     "metadata": {},
     "output_type": "execute_result"
    }
   ],
   "source": [
    "eval_all(m_sorted, 17)"
   ]
  },
  {
   "cell_type": "markdown",
   "id": "0e3d3833-d31f-42ff-b70b-d49346f0b5a7",
   "metadata": {},
   "source": [
    "# Backup"
   ]
  }
 ],
 "metadata": {
  "kernelspec": {
   "display_name": "Python [conda env:hackerrank]",
   "language": "python",
   "name": "conda-env-hackerrank-py"
  },
  "language_info": {
   "codemirror_mode": {
    "name": "ipython",
    "version": 3
   },
   "file_extension": ".py",
   "mimetype": "text/x-python",
   "name": "python",
   "nbconvert_exporter": "python",
   "pygments_lexer": "ipython3",
   "version": "3.11.3"
  }
 },
 "nbformat": 4,
 "nbformat_minor": 5
}
