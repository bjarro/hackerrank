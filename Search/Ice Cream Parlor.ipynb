{
 "cells": [
  {
   "cell_type": "code",
   "execution_count": 3,
   "id": "4553236a-eb7c-496f-839f-e20f95aecd7d",
   "metadata": {},
   "outputs": [],
   "source": [
    "#!/bin/python3\n",
    "\n",
    "import math\n",
    "import os\n",
    "import random\n",
    "import re\n",
    "import sys\n"
   ]
  },
  {
   "cell_type": "code",
   "execution_count": 4,
   "id": "3ef0da77-5c99-452e-9f04-be1dc902a52e",
   "metadata": {},
   "outputs": [],
   "source": [
    "from bisect import bisect_left"
   ]
  },
  {
   "cell_type": "code",
   "execution_count": 5,
   "id": "0e34e365-7747-4aff-8500-cd0f42633444",
   "metadata": {},
   "outputs": [],
   "source": [
    "    # Loop\n",
    "    # Start from right most -> cost == money - 1\n",
    "    # # Search for money-1, get rightmost | left if missing\n",
    "      # or search for money, get leftmost - 1 | get left is missing\n",
    "    # left most -> index 0\n",
    "    # if sum is greater than money: rightmost - 1\n",
    "    # if sum is less than money: leftmost - 1\n",
    "    # store and evaluate min:"
   ]
  },
  {
   "cell_type": "code",
   "execution_count": 16,
   "id": "4cd31358-a22d-4787-90ff-c72d3fb62766",
   "metadata": {},
   "outputs": [],
   "source": [
    "def whatFlavors(cost, money):\n",
    "    \n",
    "    global arr_sorted # Debug\n",
    "    \n",
    "    #list of tuples (c,i)\n",
    "    arr_sorted = sorted([(c,i+1) for i,c in enumerate(cost)])\n",
    "    \n",
    "    i_r = bisect_left(arr_sorted, money, key = lambda tup: tup[0])\n",
    "    i_r = min(len(arr_sorted) - 1, i_r)\n",
    "    \n",
    "    i_l = 0\n",
    "    \n",
    "    cur_min = float('inf')\n",
    "    \n",
    "    while cur_min != 0 and i_r > i_l:\n",
    "        \n",
    "        try:\n",
    "            \n",
    "            c_l = arr_sorted[i_l][0]\n",
    "            c_r = arr_sorted[i_r][0]\n",
    "        except Exception as e:\n",
    "            print(i_r)\n",
    "            raise e\n",
    "        \n",
    "        \n",
    "        if c_l + c_r <= money:  \n",
    "            rem = money - (c_l + c_r)\n",
    "            \n",
    "            if rem < cur_min:\n",
    "                i_r_min = i_r\n",
    "                i_l_min = i_l\n",
    "                cur_min = rem\n",
    "                \n",
    "            i_l += 1\n",
    "            \n",
    "        else:\n",
    "            i_r -= 1\n",
    "    \n",
    "    print(*sorted([arr_sorted[i_l_min][1], arr_sorted[i_r_min][1]]))    "
   ]
  },
  {
   "cell_type": "code",
   "execution_count": 17,
   "id": "917da26b-42a2-446a-847c-e54cfd9ba065",
   "metadata": {},
   "outputs": [
    {
     "name": "stdout",
     "output_type": "stream",
     "text": [
      "2 4\n",
      "1 3\n"
     ]
    }
   ],
   "source": [
    "\n",
    "name_test = 'icp02.txt'\n",
    "\n",
    "f_input = open(f\"./in/{name_test}\", \"r\")\n",
    "\n",
    "if __name__ == '__main__':\n",
    "    t = int(f_input.readline().strip())\n",
    "\n",
    "    for t_itr in range(t):\n",
    "        money = int(f_input.readline().strip())\n",
    "\n",
    "        n = int(f_input.readline().strip())\n",
    "\n",
    "        cost = list(map(int, f_input.readline().rstrip().split()))\n",
    "\n",
    "        whatFlavors(cost, money)"
   ]
  }
 ],
 "metadata": {
  "kernelspec": {
   "display_name": "Python [conda env:hackerrank]",
   "language": "python",
   "name": "conda-env-hackerrank-py"
  },
  "language_info": {
   "codemirror_mode": {
    "name": "ipython",
    "version": 3
   },
   "file_extension": ".py",
   "mimetype": "text/x-python",
   "name": "python",
   "nbconvert_exporter": "python",
   "pygments_lexer": "ipython3",
   "version": "3.11.3"
  }
 },
 "nbformat": 4,
 "nbformat_minor": 5
}
