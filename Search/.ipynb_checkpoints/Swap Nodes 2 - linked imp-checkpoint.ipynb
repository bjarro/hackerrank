{
 "cells": [
  {
   "cell_type": "code",
   "execution_count": null,
   "id": "5b6c5271-8937-4448-ad03-280003076983",
   "metadata": {},
   "outputs": [],
   "source": []
  },
  {
   "cell_type": "code",
   "execution_count": 3,
   "id": "b4445fbc-76be-42e2-8690-6714f1da9648",
   "metadata": {},
   "outputs": [],
   "source": [
    "#!/bin/python3\n",
    "\n",
    "import math\n",
    "import os\n",
    "import random\n",
    "import re\n",
    "import sys\n",
    "\n",
    "#\n",
    "# Complete the 'swapNodes' function below.\n",
    "#\n",
    "# The function is expected to return a 2D_INTEGER_ARRAY.\n",
    "# The function accepts following parameters:\n",
    "#  1. 2D_INTEGER_ARRAY indexes\n",
    "#  2. INTEGER_ARRAY queries\n",
    "#"
   ]
  },
  {
   "cell_type": "code",
   "execution_count": 4,
   "id": "87e07546-0fa4-4353-933e-c6bd67bec1cd",
   "metadata": {},
   "outputs": [],
   "source": [
    "temp_list = []"
   ]
  },
  {
   "cell_type": "code",
   "execution_count": 5,
   "id": "cde88a9b-9a5b-469a-9f2f-0195e795fc28",
   "metadata": {},
   "outputs": [
    {
     "data": {
      "text/plain": [
       "1.0"
      ]
     },
     "execution_count": 5,
     "metadata": {},
     "output_type": "execute_result"
    }
   ],
   "source": [
    "math.log2(2)"
   ]
  },
  {
   "cell_type": "code",
   "execution_count": 6,
   "id": "9e7daa7d-ba3a-4639-8af8-9c15b01aacb1",
   "metadata": {},
   "outputs": [
    {
     "data": {
      "text/plain": [
       "0.0"
      ]
     },
     "execution_count": 6,
     "metadata": {},
     "output_type": "execute_result"
    }
   ],
   "source": [
    "math.log2(1)"
   ]
  },
  {
   "cell_type": "code",
   "execution_count": 7,
   "id": "1940b706-93db-4c89-b3b1-94eca5821395",
   "metadata": {},
   "outputs": [
    {
     "data": {
      "text/plain": [
       "2"
      ]
     },
     "execution_count": 7,
     "metadata": {},
     "output_type": "execute_result"
    }
   ],
   "source": [
    "i=6\n",
    "temp_ans = math.floor(math.log2(i+1))\n",
    "temp_ans"
   ]
  },
  {
   "cell_type": "code",
   "execution_count": 8,
   "id": "2db2c890-039b-4793-9227-c82a1ab4a1c0",
   "metadata": {},
   "outputs": [
    {
     "data": {
      "text/plain": [
       "3"
      ]
     },
     "execution_count": 8,
     "metadata": {},
     "output_type": "execute_result"
    }
   ],
   "source": [
    "2**(temp_ans)-1"
   ]
  },
  {
   "cell_type": "code",
   "execution_count": 9,
   "id": "232b44f7-09d3-4a92-a092-a301647a5db7",
   "metadata": {},
   "outputs": [
    {
     "data": {
      "text/plain": [
       "3"
      ]
     },
     "execution_count": 9,
     "metadata": {},
     "output_type": "execute_result"
    }
   ],
   "source": [
    "i - (2**(temp_ans)-1)"
   ]
  },
  {
   "cell_type": "code",
   "execution_count": 10,
   "id": "17981262-33d6-4f66-8008-89f10ec4db60",
   "metadata": {},
   "outputs": [
    {
     "data": {
      "text/plain": [
       "3"
      ]
     },
     "execution_count": 10,
     "metadata": {},
     "output_type": "execute_result"
    }
   ],
   "source": [
    "2**(temp_ans) - 1"
   ]
  },
  {
   "cell_type": "code",
   "execution_count": 11,
   "id": "fac42c6a-991f-4c75-853c-9c0e98eab02b",
   "metadata": {},
   "outputs": [
    {
     "data": {
      "text/plain": [
       "1"
      ]
     },
     "execution_count": 11,
     "metadata": {},
     "output_type": "execute_result"
    }
   ],
   "source": [
    "i=1\n",
    "math.ceil(math.log2(i+1))"
   ]
  },
  {
   "cell_type": "code",
   "execution_count": 12,
   "id": "37a399f0-8d88-4f7d-9ab0-8218a11d18f6",
   "metadata": {},
   "outputs": [],
   "source": [
    "class Node:\n",
    "    def __init__(self, value):\n",
    "        self.value = value\n",
    "        self.left = None\n",
    "        self.right = None\n",
    "    \n",
    "    "
   ]
  },
  {
   "cell_type": "code",
   "execution_count": null,
   "id": "c50bbad4-f1c8-45bf-9bee-b22c53a4666d",
   "metadata": {},
   "outputs": [],
   "source": []
  },
  {
   "cell_type": "code",
   "execution_count": 13,
   "id": "692f6f94-06ca-443d-947a-a500f9e15b36",
   "metadata": {},
   "outputs": [
    {
     "data": {
      "text/plain": [
       "True"
      ]
     },
     "execution_count": 13,
     "metadata": {},
     "output_type": "execute_result"
    }
   ],
   "source": [
    "bool(-1)"
   ]
  },
  {
   "cell_type": "markdown",
   "id": "2f28ae24-5646-44f3-884f-7e4c42852081",
   "metadata": {},
   "source": [
    "## SwapNodes"
   ]
  },
  {
   "cell_type": "code",
   "execution_count": 27,
   "id": "18474013-6707-4859-8466-7d28b12cf3af",
   "metadata": {
    "tags": []
   },
   "outputs": [],
   "source": [
    "def swapNodes(indexes, queries):\n",
    "    \n",
    "    #Convert input into BST array\n",
    "    global root, list_res\n",
    "    \n",
    "    list_bst = [1]\n",
    "\n",
    "    root = Node(1)\n",
    "    list_parents = [root]\n",
    "    #Build tree\n",
    "    \n",
    "    for children in indexes:\n",
    "\n",
    "        cur_parent = list_parents.pop(0)\n",
    "        \n",
    "        l,r = children\n",
    "        \n",
    "        if l != -1:\n",
    "            left_node = Node(l)\n",
    "            cur_parent.left = left_node\n",
    "            list_parents.append(left_node)\n",
    "            \n",
    "        if r != -1:\n",
    "            right_node = Node(r)\n",
    "            cur_parent.right = right_node\n",
    "            list_parents.append(right_node)\n",
    "        \n",
    "    print(list_bst)\n",
    "    print(indexes)\n",
    "    \n",
    "    list_res = []\n",
    "    \n",
    "    for k in queries:\n",
    "        \n",
    "        #start at level k+1  \n",
    "        #Swap nodes\n",
    "        \n",
    "        list_cur_levels = get_levels(root,k)\n",
    "        \n",
    "        for list_cur_level in list_cur_levels:\n",
    "            for parent in list_cur_level:\n",
    "                left = parent.left\n",
    "                parent.left = parent.right\n",
    "                parent.right = left\n",
    "            \n",
    "        #Run traversal\n",
    "        trav = inorder_traversal(root)\n",
    "        #Append to results\n",
    "        list_res.append(trav)\n",
    "        \n",
    "        \n",
    "    for trav in list_res:\n",
    "        print(trav)\n",
    "        \n",
    "    return list_res\n",
    "    "
   ]
  },
  {
   "cell_type": "code",
   "execution_count": 15,
   "id": "a3c037f1-d9d9-4d28-9bbe-e563a5b6f1aa",
   "metadata": {},
   "outputs": [
    {
     "name": "stdout",
     "output_type": "stream",
     "text": [
      "3\n",
      "4\n",
      "5\n"
     ]
    }
   ],
   "source": [
    "k=2\n",
    "\n",
    "\n",
    "for cur_depth in range(k+1, math.ceil(math.log2(55))):\n",
    "    print(cur_depth)"
   ]
  },
  {
   "cell_type": "markdown",
   "id": "d45e44d5-3fa2-423c-adc0-beb3cca5a530",
   "metadata": {},
   "source": [
    "## level traversal"
   ]
  },
  {
   "cell_type": "code",
   "execution_count": 25,
   "id": "980084c4-9759-433d-963e-776b769c49bc",
   "metadata": {},
   "outputs": [],
   "source": [
    "def get_level(root, k):\n",
    "    \n",
    "    cur_level = 1\n",
    "    \n",
    "    list_cur_level = [root]\n",
    "    \n",
    "    print('before get_level loop')\n",
    "    while cur_level < k:\n",
    "\n",
    "        list_next_level = []\n",
    "        \n",
    "        for parent in list_cur_level:\n",
    "            if parent.left:\n",
    "                list_next_level.append(parent.left)\n",
    "            if parent.right:\n",
    "                list_next_level.append(parent.right) \n",
    "        cur_level+=1\n",
    "        \n",
    "        list_cur_level = list_next_level\n",
    "        \n",
    "    print('after get_level loop')\n",
    "    print([node.value for node in list_cur_level])\n",
    "        \n",
    "    return list_cur_level\n",
    "        \n",
    "    \n",
    "    "
   ]
  },
  {
   "cell_type": "code",
   "execution_count": 33,
   "id": "91b1cdc0-d331-4c79-8217-3c42b6afcb0a",
   "metadata": {},
   "outputs": [],
   "source": [
    "def get_levels(root, k):\n",
    "    \n",
    "    cur_level = 2\n",
    "    \n",
    "    list_cur_level = [root]\n",
    "    \n",
    "    list_to_swap = []\n",
    "    \n",
    "    print('before get_level loop')\n",
    "    while list_cur_level:\n",
    "#         cur_level+=1\n",
    "\n",
    "        list_next_level = []\n",
    "        \n",
    "        for parent in list_cur_level:\n",
    "            if parent.left:\n",
    "                list_next_level.append(parent.left)\n",
    "            if parent.right:\n",
    "                list_next_level.append(parent.right)\n",
    "                \n",
    "                \n",
    "        if cur_level % k == 0:\n",
    "            print(f'cur_level [{cur_level}] | k = [{k}]')\n",
    "            print([node.value for node in list_next_level])\n",
    "            #appending to swap:\n",
    "            list_to_swap.append(list_next_level)\n",
    "                \n",
    "        cur_level+=1\n",
    "        list_cur_level = list_next_level\n",
    "        \n",
    "        \n",
    "    print('after get_level loop')\n",
    "        \n",
    "    return list_to_swap\n",
    "        \n",
    "    \n",
    "    "
   ]
  },
  {
   "cell_type": "markdown",
   "id": "326a7042-82fb-47ec-8c67-d10bca1a57fb",
   "metadata": {
    "tags": []
   },
   "source": [
    "## inorder traversal"
   ]
  },
  {
   "cell_type": "code",
   "execution_count": 18,
   "id": "a4cda810-3f57-4a05-a665-d4bb4c8a11bf",
   "metadata": {},
   "outputs": [],
   "source": [
    "def inorder_traversal(node):\n",
    "    results = []\n",
    "    if  node.left:\n",
    "        subresults = inorder_traversal(node.left)\n",
    "        results.extend(subresults)\n",
    "        \n",
    "    results.append(node.value)\n",
    "          \n",
    "    if node.right:\n",
    "        subresults = inorder_traversal(node.right)\n",
    "        results.extend(subresults)\n",
    " \n",
    "    return results\n"
   ]
  },
  {
   "cell_type": "code",
   "execution_count": 35,
   "id": "8fd773a3-afc3-4350-a63c-59bd64a1dc89",
   "metadata": {},
   "outputs": [
    {
     "data": {
      "text/plain": [
       "[2, 9, 6, 4, 1, 3, 7, 5, 11, 8, 10]"
      ]
     },
     "execution_count": 35,
     "metadata": {},
     "output_type": "execute_result"
    }
   ],
   "source": [
    "inorder_traversal(root)"
   ]
  },
  {
   "cell_type": "markdown",
   "id": "2ef6e8fe-f077-4e1d-ae37-431822ac8e13",
   "metadata": {},
   "source": [
    "## Run"
   ]
  },
  {
   "cell_type": "code",
   "execution_count": 34,
   "id": "6b948ac4-198f-46ee-973f-173c602f49d5",
   "metadata": {},
   "outputs": [
    {
     "name": "stdout",
     "output_type": "stream",
     "text": [
      "[1]\n",
      "[[2, 3], [4, -1], [5, -1], [6, -1], [7, 8], [-1, 9], [-1, -1], [10, 11], [-1, -1], [-1, -1], [-1, -1]]\n",
      "before get_level loop\n",
      "cur_level [2] | k = [2]\n",
      "[2, 3]\n",
      "cur_level [4] | k = [2]\n",
      "[6, 7, 8]\n",
      "cur_level [6] | k = [2]\n",
      "[]\n",
      "after get_level loop\n",
      "before get_level loop\n",
      "cur_level [4] | k = [4]\n",
      "[6, 7, 8]\n",
      "after get_level loop\n",
      "[2, 9, 6, 4, 1, 3, 7, 5, 11, 8, 10]\n",
      "[2, 6, 9, 4, 1, 3, 7, 5, 10, 8, 11]\n"
     ]
    }
   ],
   "source": [
    "name_test = 'input03.txt'\n",
    "\n",
    "f_input = open(f\"./in/{name_test}\", \"r\")\n",
    "\n",
    "if __name__ == '__main__':\n",
    "#     fptr = open(os.environ['OUTPUT_PATH'], 'w')\n",
    "\n",
    "    n = int(f_input.readline().strip())\n",
    "\n",
    "    indexes = []\n",
    "\n",
    "    for _ in range(n):\n",
    "        indexes.append(list(map(int, f_input.readline().rstrip().split())))\n",
    "\n",
    "    queries_count = int(f_input.readline().strip())\n",
    "\n",
    "    queries = []\n",
    "\n",
    "    for _ in range(queries_count):\n",
    "        queries_item = int(f_input.readline().strip())\n",
    "        queries.append(queries_item)\n",
    "\n",
    "    result = swapNodes(indexes, queries)\n",
    "\n",
    "#     fptr.write('\\n'.join([' '.join(map(str, x)) for x in result]))\n",
    "#     fptr.write('\\n')\n",
    "\n",
    "#     fptr.close()"
   ]
  },
  {
   "cell_type": "markdown",
   "id": "012a7e65-ec79-40ca-9641-6285f16f8450",
   "metadata": {},
   "source": [
    "# Backup"
   ]
  },
  {
   "cell_type": "code",
   "execution_count": 16,
   "id": "280edef1-f991-4348-8fb1-dd8c865725c9",
   "metadata": {},
   "outputs": [],
   "source": [
    "def swapNodes(indexes, queries):\n",
    "    \n",
    "    #Convert input into BST array\n",
    "    global root, list_res\n",
    "    \n",
    "    list_bst = [1]\n",
    "\n",
    "    root = Node(1)\n",
    "    list_parents = [root]\n",
    "    #Build tree\n",
    "    \n",
    "    for children in indexes:\n",
    "\n",
    "        cur_parent = list_parents.pop(0)\n",
    "        \n",
    "        l,r = children\n",
    "        \n",
    "        if l != -1:\n",
    "            left_node = Node(l)\n",
    "            cur_parent.left = left_node\n",
    "            list_parents.append(left_node)\n",
    "            \n",
    "        if r != -1:\n",
    "            right_node = Node(r)\n",
    "            cur_parent.right = right_node\n",
    "            list_parents.append(right_node)\n",
    "        \n",
    "    print(list_bst)\n",
    "    print(indexes)\n",
    "    \n",
    "    list_res = []\n",
    "    \n",
    "    for k in queries:\n",
    "        \n",
    "        #start at level k+1  \n",
    "        #Swap nodes\n",
    "        \n",
    "        list_cur_level = get_level(root,k)\n",
    "        \n",
    "        for parent in list_cur_level:\n",
    "            left = parent.left\n",
    "            parent.left = parent.right\n",
    "            parent.right = left\n",
    "            \n",
    "        #Run traversal\n",
    "        trav = inorder_traversal(root)\n",
    "        #Append to results\n",
    "        list_res.append(trav)\n",
    "        \n",
    "        \n",
    "    for trav in list_res:\n",
    "        print(trav)\n",
    "        \n",
    "    return list_res\n",
    "    "
   ]
  }
 ],
 "metadata": {
  "kernelspec": {
   "display_name": "Python [conda env:hackerrank]",
   "language": "python",
   "name": "conda-env-hackerrank-py"
  },
  "language_info": {
   "codemirror_mode": {
    "name": "ipython",
    "version": 3
   },
   "file_extension": ".py",
   "mimetype": "text/x-python",
   "name": "python",
   "nbconvert_exporter": "python",
   "pygments_lexer": "ipython3",
   "version": "3.11.3"
  }
 },
 "nbformat": 4,
 "nbformat_minor": 5
}
