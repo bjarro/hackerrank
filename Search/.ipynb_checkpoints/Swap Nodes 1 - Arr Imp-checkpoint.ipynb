{
 "cells": [
  {
   "cell_type": "code",
   "execution_count": null,
   "id": "5b6c5271-8937-4448-ad03-280003076983",
   "metadata": {},
   "outputs": [],
   "source": []
  },
  {
   "cell_type": "code",
   "execution_count": 5,
   "id": "b4445fbc-76be-42e2-8690-6714f1da9648",
   "metadata": {},
   "outputs": [],
   "source": [
    "#!/bin/python3\n",
    "\n",
    "import math\n",
    "import os\n",
    "import random\n",
    "import re\n",
    "import sys\n",
    "\n",
    "#\n",
    "# Complete the 'swapNodes' function below.\n",
    "#\n",
    "# The function is expected to return a 2D_INTEGER_ARRAY.\n",
    "# The function accepts following parameters:\n",
    "#  1. 2D_INTEGER_ARRAY indexes\n",
    "#  2. INTEGER_ARRAY queries\n",
    "#"
   ]
  },
  {
   "cell_type": "code",
   "execution_count": 6,
   "id": "87e07546-0fa4-4353-933e-c6bd67bec1cd",
   "metadata": {},
   "outputs": [],
   "source": [
    "temp_list = []"
   ]
  },
  {
   "cell_type": "code",
   "execution_count": 1,
   "id": "18474013-6707-4859-8466-7d28b12cf3af",
   "metadata": {},
   "outputs": [],
   "source": [
    "\n",
    "def inorder_traversal(arr):\n",
    "    return []\n",
    "\n",
    "def swapNodes(indexes, queries):\n",
    "    \n",
    "    \n",
    "    #Convert input into BST array\n",
    "    \n",
    "    list_bst = [1]\n",
    "    \n",
    "    list_parents = [1]\n",
    "    \n",
    "    for l,r in indexes:\n",
    "        \n",
    "        cur_parent = list_parents.pop(0)\n",
    "        \n",
    "        while cur_parent == -1:\n",
    "            list_bst.extend([-1,-1])\n",
    "            list_parents.extend([-1,-1])\n",
    "            cur_parent = list_parents.pop(0)\n",
    "        \n",
    "        list_bst.extend([l,r])\n",
    "        list_parents.extend([l,r])\n",
    "        \n",
    "        \n",
    "    \n",
    "    \n",
    "    print(indexes)\n",
    "    \n",
    "    list_res = []\n",
    "    \n",
    "    for k in queries:\n",
    "        \n",
    "        #start at level k+1\n",
    "                \n",
    "        #Swap nodes\n",
    "\n",
    "                \n",
    "        start = 2**(k+1) -1\n",
    "        \n",
    "        for depth in range(k+1, math.ceil(math.log2(len(indexes)))):\n",
    "            \n",
    "            #store left\n",
    "            list_left = []\n",
    "            \n",
    "            #assign right to left\n",
    "            #swapNodes[] = None\n",
    "            \n",
    "            #assign left to right\n",
    "\n",
    "        \n",
    "        #Run traversal\n",
    "        #Append to results\n",
    "    "
   ]
  },
  {
   "cell_type": "code",
   "execution_count": 4,
   "id": "6b948ac4-198f-46ee-973f-173c602f49d5",
   "metadata": {},
   "outputs": [
    {
     "name": "stdout",
     "output_type": "stream",
     "text": [
      "[[2, 3], [4, -1], [5, -1], [6, -1], [7, 8], [-1, 9], [-1, -1], [10, 11], [-1, -1], [-1, -1], [-1, -1]]\n"
     ]
    },
    {
     "ename": "NameError",
     "evalue": "name 'math' is not defined",
     "output_type": "error",
     "traceback": [
      "\u001b[1;31m---------------------------------------------------------------------------\u001b[0m",
      "\u001b[1;31mNameError\u001b[0m                                 Traceback (most recent call last)",
      "Cell \u001b[1;32mIn[4], line 23\u001b[0m\n\u001b[0;32m     20\u001b[0m         queries_item \u001b[38;5;241m=\u001b[39m \u001b[38;5;28mint\u001b[39m(f_input\u001b[38;5;241m.\u001b[39mreadline()\u001b[38;5;241m.\u001b[39mstrip())\n\u001b[0;32m     21\u001b[0m         queries\u001b[38;5;241m.\u001b[39mappend(queries_item)\n\u001b[1;32m---> 23\u001b[0m     result \u001b[38;5;241m=\u001b[39m \u001b[43mswapNodes\u001b[49m\u001b[43m(\u001b[49m\u001b[43mindexes\u001b[49m\u001b[43m,\u001b[49m\u001b[43m \u001b[49m\u001b[43mqueries\u001b[49m\u001b[43m)\u001b[49m\n\u001b[0;32m     25\u001b[0m \u001b[38;5;66;03m#     fptr.write('\\n'.join([' '.join(map(str, x)) for x in result]))\u001b[39;00m\n\u001b[0;32m     26\u001b[0m \u001b[38;5;66;03m#     fptr.write('\\n')\u001b[39;00m\n\u001b[0;32m     27\u001b[0m \n\u001b[0;32m     28\u001b[0m \u001b[38;5;66;03m#     fptr.close()\u001b[39;00m\n",
      "Cell \u001b[1;32mIn[1], line 20\u001b[0m, in \u001b[0;36mswapNodes\u001b[1;34m(indexes, queries)\u001b[0m\n\u001b[0;32m     11\u001b[0m \u001b[38;5;28;01mfor\u001b[39;00m k \u001b[38;5;129;01min\u001b[39;00m queries:\n\u001b[0;32m     12\u001b[0m     \n\u001b[0;32m     13\u001b[0m     \u001b[38;5;66;03m#start at level k+1\u001b[39;00m\n\u001b[0;32m     14\u001b[0m             \n\u001b[0;32m     15\u001b[0m     \u001b[38;5;66;03m#Swap nodes\u001b[39;00m\n\u001b[0;32m     18\u001b[0m     start \u001b[38;5;241m=\u001b[39m \u001b[38;5;241m2\u001b[39m\u001b[38;5;241m*\u001b[39m\u001b[38;5;241m*\u001b[39m(k\u001b[38;5;241m+\u001b[39m\u001b[38;5;241m1\u001b[39m) \u001b[38;5;241m-\u001b[39m\u001b[38;5;241m1\u001b[39m\n\u001b[1;32m---> 20\u001b[0m     \u001b[38;5;28;01mfor\u001b[39;00m depth \u001b[38;5;129;01min\u001b[39;00m \u001b[38;5;28mrange\u001b[39m(k\u001b[38;5;241m+\u001b[39m\u001b[38;5;241m1\u001b[39m, \u001b[43mmath\u001b[49m\u001b[38;5;241m.\u001b[39mceil(math\u001b[38;5;241m.\u001b[39mlog2(\u001b[38;5;28mlen\u001b[39m(indexes)))):\n\u001b[0;32m     21\u001b[0m         \n\u001b[0;32m     22\u001b[0m         \u001b[38;5;66;03m#store left\u001b[39;00m\n\u001b[0;32m     23\u001b[0m         list_left \u001b[38;5;241m=\u001b[39m []\n",
      "\u001b[1;31mNameError\u001b[0m: name 'math' is not defined"
     ]
    }
   ],
   "source": [
    "name_test = 'input03.txt'\n",
    "\n",
    "f_input = open(f\"./in/{name_test}\", \"r\")\n",
    "\n",
    "if __name__ == '__main__':\n",
    "#     fptr = open(os.environ['OUTPUT_PATH'], 'w')\n",
    "\n",
    "    n = int(f_input.readline().strip())\n",
    "\n",
    "    indexes = []\n",
    "\n",
    "    for _ in range(n):\n",
    "        indexes.append(list(map(int, f_input.readline().rstrip().split())))\n",
    "\n",
    "    queries_count = int(f_input.readline().strip())\n",
    "\n",
    "    queries = []\n",
    "\n",
    "    for _ in range(queries_count):\n",
    "        queries_item = int(f_input.readline().strip())\n",
    "        queries.append(queries_item)\n",
    "\n",
    "    result = swapNodes(indexes, queries)\n",
    "\n",
    "#     fptr.write('\\n'.join([' '.join(map(str, x)) for x in result]))\n",
    "#     fptr.write('\\n')\n",
    "\n",
    "#     fptr.close()"
   ]
  }
 ],
 "metadata": {
  "kernelspec": {
   "display_name": "Python [conda env:hackerrank]",
   "language": "python",
   "name": "conda-env-hackerrank-py"
  },
  "language_info": {
   "codemirror_mode": {
    "name": "ipython",
    "version": 3
   },
   "file_extension": ".py",
   "mimetype": "text/x-python",
   "name": "python",
   "nbconvert_exporter": "python",
   "pygments_lexer": "ipython3",
   "version": "3.11.3"
  }
 },
 "nbformat": 4,
 "nbformat_minor": 5
}
