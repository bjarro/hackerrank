{
 "cells": [
  {
   "cell_type": "code",
   "execution_count": 3,
   "id": "16184a4c-7d4e-46d6-bdc3-dc31a89bb7ce",
   "metadata": {},
   "outputs": [],
   "source": [
    "#!/bin/python3\n",
    "\n",
    "import math\n",
    "import os\n",
    "import random\n",
    "import re\n",
    "import sys\n",
    "\n",
    "\n"
   ]
  },
  {
   "cell_type": "code",
   "execution_count": 1,
   "id": "9193adab-69df-4ce6-bcdf-19451d8b819e",
   "metadata": {},
   "outputs": [],
   "source": [
    "from bisect import bisect_left"
   ]
  },
  {
   "cell_type": "code",
   "execution_count": 5,
   "id": "045a2af2-2fbd-4de4-bffb-834ea6ec6907",
   "metadata": {},
   "outputs": [],
   "source": [
    "\n",
    "# Complete the triplets function below.\n",
    "def triplets(a, b, c):\n",
    "    \n",
    "    a_sorted = sorted(a)\n",
    "    b_sorted = sorted(b)\n",
    "    c_sorted = sorted(c)\n",
    "    \n",
    "    total = 0\n",
    "    \n",
    "    for limit in b_sorted:\n",
    "        a_i_max = bisect_left(b_sorted, limit)\n",
    "        c_i_max = bisect_left(a_sorted, limit)\n",
    "        \n",
    "        comb = a_i_max*c_i_max\n",
    "        total += comb\n",
    "    \n",
    "    return total\n",
    "        \n"
   ]
  },
  {
   "cell_type": "code",
   "execution_count": 14,
   "id": "cecec512-ebb6-48d4-8e5a-4be021b5aec0",
   "metadata": {},
   "outputs": [
    {
     "name": "stdout",
     "output_type": "stream",
     "text": [
      "5\n"
     ]
    }
   ],
   "source": [
    "name_test = 'ts00.txt'\n",
    "\n",
    "f_input = open(f\"./in/{name_test}\", \"r\")\n",
    "\n",
    "if __name__ == '__main__':\n",
    "    lenaLenbLenc = f_input.readline().split()\n",
    "\n",
    "    lena = int(lenaLenbLenc[0])\n",
    "\n",
    "    lenb = int(lenaLenbLenc[1])\n",
    "\n",
    "    lenc = int(lenaLenbLenc[2])\n",
    "\n",
    "    arra = list(map(int, f_input.readline().rstriZp().split()))\n",
    "\n",
    "    arrb = list(map(int, f_input.readline().rstrip().split()))\n",
    "\n",
    "    arrc = list(map(int, f_input.readline().rstrip().split()))\n",
    "\n",
    "    ans = triplets(arra, arrb, arrc)\n"
   ]
  }
 ],
 "metadata": {
  "kernelspec": {
   "display_name": "Python [conda env:hackerrank]",
   "language": "python",
   "name": "conda-env-hackerrank-py"
  },
  "language_info": {
   "codemirror_mode": {
    "name": "ipython",
    "version": 3
   },
   "file_extension": ".py",
   "mimetype": "text/x-python",
   "name": "python",
   "nbconvert_exporter": "python",
   "pygments_lexer": "ipython3",
   "version": "3.11.3"
  }
 },
 "nbformat": 4,
 "nbformat_minor": 5
}
