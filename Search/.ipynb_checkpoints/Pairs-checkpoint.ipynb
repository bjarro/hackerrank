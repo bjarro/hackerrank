{
 "cells": [
  {
   "cell_type": "code",
   "execution_count": 3,
   "id": "16184a4c-7d4e-46d6-bdc3-dc31a89bb7ce",
   "metadata": {},
   "outputs": [],
   "source": [
    "#!/bin/python3\n",
    "\n",
    "import math\n",
    "import os\n",
    "import random\n",
    "import re\n",
    "import sys\n",
    "\n",
    "\n"
   ]
  },
  {
   "cell_type": "code",
   "execution_count": 11,
   "id": "045a2af2-2fbd-4de4-bffb-834ea6ec6907",
   "metadata": {},
   "outputs": [],
   "source": [
    "def pairs(k, arr):\n",
    "    # Write your code here\n",
    "    arr_sorted = sorted(arr)\n",
    "    \n",
    "    i_l = 0\n",
    "    i_r = 1\n",
    "    count = 0\n",
    "    while i_r < len(arr_sorted):\n",
    "        \n",
    "        diff = arr_sorted[i_r] - arr_sorted[i_l]\n",
    "        \n",
    "        if diff == k:\n",
    "            count += 1\n",
    "            i_r += 1\n",
    "            \n",
    "        elif diff < k:\n",
    "            i_r += 1\n",
    "        \n",
    "        else:\n",
    "            i_l +=1\n",
    "            if i_l == i_r:\n",
    "                i_r +=1\n",
    "                \n",
    "#         if i_l > 100 or i_r > 100:\n",
    "#             break\n",
    "            \n",
    "#     print(count)\n",
    "                \n",
    "    return count\n",
    "                \n",
    "    \n",
    "\n",
    "    \n",
    "    \n",
    "    "
   ]
  },
  {
   "cell_type": "code",
   "execution_count": 14,
   "id": "cecec512-ebb6-48d4-8e5a-4be021b5aec0",
   "metadata": {},
   "outputs": [
    {
     "name": "stdout",
     "output_type": "stream",
     "text": [
      "5\n"
     ]
    }
   ],
   "source": [
    "name_test = 'pair02.txt'\n",
    "\n",
    "f_input = open(f\"./in/{name_test}\", \"r\")\n",
    "\n",
    "\n",
    "if __name__ == '__main__':\n",
    "\n",
    "    first_multiple_input = f_input.readline().rstrip().split()\n",
    "\n",
    "    n = int(first_multiple_input[0])\n",
    "\n",
    "    k = int(first_multiple_input[1])\n",
    "\n",
    "    arr = list(map(int, f_input.readline().rstrip().split()))\n",
    "\n",
    "    result = pairs(k, arr)\n"
   ]
  },
  {
   "cell_type": "code",
   "execution_count": null,
   "id": "562bf58d-e5b5-45c0-b905-2eaff740c3a9",
   "metadata": {},
   "outputs": [],
   "source": []
  }
 ],
 "metadata": {
  "kernelspec": {
   "display_name": "Python [conda env:hackerrank]",
   "language": "python",
   "name": "conda-env-hackerrank-py"
  },
  "language_info": {
   "codemirror_mode": {
    "name": "ipython",
    "version": 3
   },
   "file_extension": ".py",
   "mimetype": "text/x-python",
   "name": "python",
   "nbconvert_exporter": "python",
   "pygments_lexer": "ipython3",
   "version": "3.11.3"
  }
 },
 "nbformat": 4,
 "nbformat_minor": 5
}
