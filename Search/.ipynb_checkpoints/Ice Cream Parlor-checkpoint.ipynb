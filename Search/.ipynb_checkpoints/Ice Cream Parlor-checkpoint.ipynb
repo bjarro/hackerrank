{
 "cells": [
  {
   "cell_type": "code",
   "execution_count": 1,
   "id": "4553236a-eb7c-496f-839f-e20f95aecd7d",
   "metadata": {},
   "outputs": [],
   "source": [
    "#!/bin/python3\n",
    "\n",
    "import math\n",
    "import os\n",
    "import random\n",
    "import re\n",
    "import sys\n"
   ]
  },
  {
   "cell_type": "code",
   "execution_count": 2,
   "id": "4cd31358-a22d-4787-90ff-c72d3fb62766",
   "metadata": {},
   "outputs": [],
   "source": [
    "def whatFlavors(cost, money):\n",
    "    \n",
    "    cur_min = 0\n",
    "    \n",
    "    "
   ]
  },
  {
   "cell_type": "code",
   "execution_count": null,
   "id": "917da26b-42a2-446a-847c-e54cfd9ba065",
   "metadata": {},
   "outputs": [],
   "source": [
    "    # Write your code here\n",
    "    \n",
    "name_test = 'input00.txt'\n",
    "\n",
    "f_input = open(f\"./in/{name_test}\", \"r\")\n",
    "\n",
    "if __name__ == '__main__':\n",
    "    t = int(f_input.readline().strip())\n",
    "\n",
    "    for t_itr in range(t):\n",
    "        money = int(f_input.readline().strip())\n",
    "\n",
    "        n = int(f_input.readline().strip())\n",
    "\n",
    "        cost = list(map(int, f_input.readline().rstrip().split()))\n",
    "\n",
    "        whatFlavors(cost, money)"
   ]
  }
 ],
 "metadata": {
  "kernelspec": {
   "display_name": "Python [conda env:hackerrank]",
   "language": "python",
   "name": "conda-env-hackerrank-py"
  },
  "language_info": {
   "codemirror_mode": {
    "name": "ipython",
    "version": 3
   },
   "file_extension": ".py",
   "mimetype": "text/x-python",
   "name": "python",
   "nbconvert_exporter": "python",
   "pygments_lexer": "ipython3",
   "version": "3.11.3"
  }
 },
 "nbformat": 4,
 "nbformat_minor": 5
}
