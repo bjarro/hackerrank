{
 "cells": [
  {
   "cell_type": "code",
   "execution_count": 6,
   "id": "e7e37a58-99ff-4d52-a0fa-3e0fdeb9c802",
   "metadata": {},
   "outputs": [],
   "source": [
    "#!/bin/python3\n",
    "\n",
    "import math\n",
    "import os\n",
    "import random\n",
    "import re\n",
    "import sys\n",
    "\n",
    "\n"
   ]
  },
  {
   "cell_type": "code",
   "execution_count": 35,
   "id": "c991061b-fbb3-4ad2-9838-9f1eb3e08968",
   "metadata": {},
   "outputs": [],
   "source": [
    "from bisect import insort_right, bisect_left"
   ]
  },
  {
   "cell_type": "code",
   "execution_count": 46,
   "id": "168dd68c-6e94-42d6-add7-a25033a680a5",
   "metadata": {},
   "outputs": [],
   "source": [
    "def activityNotifications(expenditure, d):\n",
    "    # Write your code here\n",
    "    \n",
    "    is_odd = bool(d % 2)\n",
    "    i_median = d // 2\n",
    "    n_notif = 0\n",
    "    \n",
    "    list_prev = sorted(expenditure[0:d-1])\n",
    "    \n",
    "    for i in range(d, len(expenditure)):\n",
    "        \n",
    "        insort_right(list_prev, expenditure[i-1])\n",
    "        \n",
    "        if is_odd:\n",
    "            median = list_prev[i_median]\n",
    "        \n",
    "        else:\n",
    "            median = (list_prev[i_median-1] + list_prev[i_median])/2\n",
    "\n",
    "        if expenditure[i] >= 2*median:\n",
    "            n_notif += 1\n",
    "            \n",
    "        del list_prev[bisect_left(list_prev, expenditure[i-d])]\n",
    "        #sublist_prev = list_prev\n",
    "        \n",
    "    print(n_notif)\n",
    "            \n",
    "    return n_notif\n",
    "        \n"
   ]
  },
  {
   "cell_type": "markdown",
   "id": "2743914d-bf29-438d-8b23-bc4f89fc2c21",
   "metadata": {},
   "source": [
    "## Run"
   ]
  },
  {
   "cell_type": "code",
   "execution_count": 49,
   "id": "f928f0f0-5e0a-4d96-bb7a-cf027e05da4d",
   "metadata": {},
   "outputs": [
    {
     "name": "stdout",
     "output_type": "stream",
     "text": [
      "2\n"
     ]
    }
   ],
   "source": [
    "name_test = 'input00.txt'\n",
    "\n",
    "f_input = open(f\"./in/{name_test}\", \"r\")\n",
    "\n",
    "\n",
    "if __name__ == '__main__':\n",
    "#     fptr = open(os.environ['OUTPUT_PATH'], 'w')\n",
    "\n",
    "    first_multiple_input = f_input.readline().rstrip().split()\n",
    "\n",
    "    n = int(first_multiple_input[0])\n",
    "\n",
    "    d = int(first_multiple_input[1])\n",
    "\n",
    "    expenditure = list(map(int, f_input.readline().rstrip().split()))\n",
    "\n",
    "    result = activityNotifications(expenditure, d)\n",
    "\n",
    "#     fptr.write(str(result) + '\\n')\n",
    "\n",
    "#     fptr.close()\n"
   ]
  },
  {
   "cell_type": "code",
   "execution_count": 64,
   "id": "fd3b057e-2cfa-4f91-9826-0554d596e507",
   "metadata": {},
   "outputs": [],
   "source": [
    "def countInversions_0(arr):\n",
    "        \n",
    "    a = arr\n",
    "    num_swaps = 0\n",
    "    for i,_ in enumerate(a):\n",
    "        \n",
    "        for j in range(len(a)-1):\n",
    "            if a[j] > a[j+1]:\n",
    "                left = a[j]\n",
    "                a[j] = a[j+1]\n",
    "                a[j+1] = left\n",
    "                num_swaps += 1\n",
    "                \n",
    "    print(num_swaps)\n",
    "    return num_swaps"
   ]
  }
 ],
 "metadata": {
  "kernelspec": {
   "display_name": "Python [conda env:hackerrank]",
   "language": "python",
   "name": "conda-env-hackerrank-py"
  },
  "language_info": {
   "codemirror_mode": {
    "name": "ipython",
    "version": 3
   },
   "file_extension": ".py",
   "mimetype": "text/x-python",
   "name": "python",
   "nbconvert_exporter": "python",
   "pygments_lexer": "ipython3",
   "version": "3.11.3"
  }
 },
 "nbformat": 4,
 "nbformat_minor": 5
}
