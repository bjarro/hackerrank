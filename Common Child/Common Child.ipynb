{
 "cells": [
  {
   "cell_type": "markdown",
   "id": "6c5b2b6b-6a49-48dc-a2a4-6647107c888e",
   "metadata": {},
   "source": [
    "# Setup"
   ]
  },
  {
   "cell_type": "code",
   "execution_count": 14,
   "id": "87286a42-b0d0-44f0-9b56-490896dc9c19",
   "metadata": {},
   "outputs": [],
   "source": [
    "#!/bin/python3\n",
    "\n",
    "import math\n",
    "import os\n",
    "import random\n",
    "import re\n",
    "import sys\n",
    "\n",
    "from collections import defaultdict\n",
    "\n",
    "#\n",
    "# Complete the 'commonChild' function below.\n",
    "#\n",
    "# The function is expected to return an INTEGER.\n",
    "# The function accepts following parameters:\n",
    "#  1. STRING s1\n",
    "#  2. STRING s2\n",
    "#\n",
    "\n",
    "    \n",
    "        \n",
    "\n"
   ]
  },
  {
   "cell_type": "markdown",
   "id": "1ea173b6-94e4-4a7d-bc08-0f14f2056b04",
   "metadata": {
    "tags": []
   },
   "source": [
    "# Impl Latest"
   ]
  },
  {
   "cell_type": "code",
   "execution_count": 10,
   "id": "84be8205-7fd2-4c4c-a70f-55d658f67530",
   "metadata": {},
   "outputs": [],
   "source": [
    "### Backtracking:\n",
    "\n",
    "## Data Structure\n",
    "# Store indices per letter for S1 and S2 (DS 1)\n",
    "\n",
    "#letter: dict(index:(matched))\n",
    "\n",
    "\n",
    "## Algorithm\n",
    "# Check if letter has match from other string / vice versa by looking up DS 1\n",
    "# If has match: Loop through indices then adjust max value and is_matched boolean\n"
   ]
  },
  {
   "cell_type": "code",
   "execution_count": 20,
   "id": "a5a0c903-b3ae-4a20-87d0-3bbee6c344df",
   "metadata": {},
   "outputs": [
    {
     "name": "stdout",
     "output_type": "stream",
     "text": [
      "0\n",
      "1\n",
      "2\n",
      "3\n",
      "4\n"
     ]
    }
   ],
   "source": [
    "for i in range(5):\n",
    "    print(i)"
   ]
  },
  {
   "cell_type": "code",
   "execution_count": 175,
   "id": "9ea2a4fe-223e-49b5-8ac4-672d326d56f5",
   "metadata": {},
   "outputs": [
    {
     "data": {
      "text/plain": [
       "[]"
      ]
     },
     "execution_count": 175,
     "metadata": {},
     "output_type": "execute_result"
    }
   ],
   "source": [
    "list(range(-1, 0, -1))"
   ]
  },
  {
   "cell_type": "code",
   "execution_count": 98,
   "id": "b4c78993-17c4-4052-9283-5aae9d39cae4",
   "metadata": {},
   "outputs": [],
   "source": [
    "from bisect import bisect_left"
   ]
  },
  {
   "cell_type": "code",
   "execution_count": 195,
   "id": "4bf92b9a-18d7-41f7-ac31-f1e97e18d132",
   "metadata": {},
   "outputs": [],
   "source": [
    "\n",
    "def dict_dict():\n",
    "    return defaultdict(dict)"
   ]
  },
  {
   "cell_type": "code",
   "execution_count": 196,
   "id": "0a644404-ef47-4947-ac0e-e5fbebc83b66",
   "metadata": {},
   "outputs": [],
   "source": [
    "def get_max_prev(tup, dict_max):\n",
    "    x,y = tup\n",
    "    x = x-1\n",
    "    y = y-1\n",
    "    \n",
    "    if x < 0 or y < 0:\n",
    "        return 0\n",
    "    \n",
    "    higher = max(x,y)\n",
    "    \n",
    "    prev_max_bounds = dict_max[higher][higher]\n",
    "    y_highest = -1\n",
    "    \n",
    "    latest_max = 0\n",
    "    \n",
    "\n",
    "    for i in range(x, 0, -1):\n",
    "        #bisect list (get highest element less than y, higher than y_highest)\n",
    "        #O(n) worst case because of conversion\n",
    "        list_keys = list(dict_max[i])\n",
    "        list_i = bisect_right(list_keys, y) -1\n",
    "        \n",
    "        if list_i == -1:\n",
    "            print('No existing higher y')\n",
    "            continue\n",
    "        \n",
    "        j = list_keys[list_i]\n",
    "\n",
    "        cur_max = dict_max[i][j]\n",
    "        y_highest = j\n",
    "        \n",
    "        latest_max = max(latest_max,cur_max)\n",
    "\n",
    "        if latest_max == prev_max_bounds or y_highest == y:\n",
    "            break            \n",
    "            \n",
    "            \n",
    "    print(f'prev max of [{tup}] = [{latest_max}]')\n",
    "            \n",
    "    return latest_max\n",
    "            \n",
    "            \n",
    "    \n",
    "    \n"
   ]
  },
  {
   "cell_type": "code",
   "execution_count": 200,
   "id": "10b9c0ac-1ed7-48fe-98c7-baf61865d402",
   "metadata": {},
   "outputs": [],
   "source": [
    "dict_max = defaultdict(dict_dict)"
   ]
  },
  {
   "cell_type": "code",
   "execution_count": 202,
   "id": "0fcdddc1-fb1f-4fdb-82bd-cdc6fb2cdc37",
   "metadata": {},
   "outputs": [
    {
     "data": {
      "text/plain": [
       "{}"
      ]
     },
     "execution_count": 202,
     "metadata": {},
     "output_type": "execute_result"
    }
   ],
   "source": [
    "dict_max[0][0]"
   ]
  },
  {
   "cell_type": "code",
   "execution_count": 203,
   "id": "b2e1c61f-98ba-46e9-9723-09a543d66deb",
   "metadata": {},
   "outputs": [],
   "source": [
    "# def get_max_prev(tup, dict_max):\n",
    "#     x,y = tup\n",
    "#     x = x-1\n",
    "#     y = y-1\n",
    "#     max_top = get_top((x,y), dict_max)\n",
    "#     max_left = get_left((x,y), dict_max)\n",
    "#     return max(max_top, max_left)\n",
    "\n",
    "    \n",
    "def get_top(tup, dict_max):\n",
    "    print('in get_top')\n",
    "    x,y = tup\n",
    "    while x > 0:\n",
    "        if y in dict_max[x]:\n",
    "            print(f'get top matched : [{dict_max[x][y]}] at [({x},{y})]')\n",
    "            return dict_max[x][y]\n",
    "        x -= 1\n",
    "    return 0\n",
    "\n",
    "def get_left(tup, dict_max):\n",
    "    print('in get_left')\n",
    "    x,y = tup\n",
    "    while y > 0:\n",
    "        if y in dict_max[x]:\n",
    "            print(f'get left matched : [{dict_max[x][y]}] at [({x},{y})]')\n",
    "            return dict_max[x][y]\n",
    "        y -= 1  \n",
    "    return 0\n",
    "\n",
    "\n",
    "def commonChild(s1, s2):\n",
    "    \n",
    "    global dict_max\n",
    "    \n",
    "    s1 = s1.strip()\n",
    "    s2 = s2.strip()\n",
    "    \n",
    "    highest = 0\n",
    "    \n",
    "    dict_s1 = defaultdict(set)\n",
    "    dict_s2 = defaultdict(set)\n",
    "\n",
    "    #dict_max = defaultdict(dict_dict) # Dict of (i:dict(i:(max,is_taken)))\\\n",
    "    dict_max = defaultdict(lambda: defaultdict(int)) # Dict of (i:dict(i:(max,is_taken)))\\\n",
    "    \n",
    "    \n",
    "    \n",
    "    print(s1)\n",
    "    print(list(range(len(s1))))\n",
    "    print(s2)\n",
    "    \n",
    "    dict_max[-1][-1] = 0\n",
    "    \n",
    "    for i in range(len(s1)):\n",
    "        \n",
    "        c1 = s1[i]\n",
    "        c2 = s2[i]\n",
    "        \n",
    "        print('===== next diagonal ===== ')\n",
    "        print(f'i = {i}')\n",
    "        print(f'c1 = {c1} | c2 = {c2}')\n",
    "        \n",
    "        dict_s1[c1].add(i)\n",
    "        dict_s2[c2].add(i)\n",
    "        \n",
    "        #Generalized version must not have this clause\n",
    "#         if c1 == c2:\n",
    "            \n",
    "#             if i == 0:\n",
    "#                 dict_max[0][0] = 1\n",
    "#             else:\n",
    "#                 dict_max[i][i] = dict_max[i-1][i-1] + 1\n",
    "                \n",
    "#         else:\n",
    "            \n",
    "        max_c1 = 0\n",
    "        max_c2 = 0\n",
    "\n",
    "        #check if letter1 in other string\n",
    "        if c1 in dict_s2:\n",
    "            print('c1 matched')\n",
    "            matched_c1 = True\n",
    "\n",
    "            #loop every match\n",
    "            dict_i = dict_s2[c1]\n",
    "            for i_1 in dict_i:\n",
    "                print(f'c1 : [{c1}] at index : [{i_1}]')\n",
    "\n",
    "                max_prev = get_max_prev((i,i_1), dict_max)\n",
    "\n",
    "                dict_max[i][i_1] =  max_prev + 1\n",
    "\n",
    "            max_c1 = get_left((i,i), dict_max)\n",
    "            \n",
    "        #check if letter2 in other string\n",
    "        if c2 in dict_s1:\n",
    "            print('c2 matched')\n",
    "            #loop every match\n",
    "            dict_i = dict_s1[c2]\n",
    "            for i_1 in dict_i:\n",
    "                print(f'c2 : [{c2}] at index : [{i_1}]')\n",
    "\n",
    "                max_prev = get_max_prev((i_1,i), dict_max)\n",
    "\n",
    "                dict_max[i_1][i] =  max_prev + 1\n",
    "\n",
    "            max_c2 = get_top((i,i), dict_max)          \n",
    "\n",
    "\n",
    "        if max_c1 or max_c2:\n",
    "            print('matched')\n",
    "            \n",
    "#         print(max_c1)\n",
    "#         print(max_c2)\n",
    "#         print(dict_max[i-1][i-1])\n",
    "            \n",
    "        dict_max[i][i] = max(max_c1, max_c2, dict_max[i-1][i-1])\n",
    "\n",
    "#         else:\n",
    "#             dict_max[i][i] = dict_max[i-1][i-1]\n",
    "            \n",
    "        print(f'max = [{dict_max[i][i]}]')\n",
    "                \n",
    "            \n",
    "    i_last = len(s1)-1\n",
    "    \n",
    "    print(dict_max[i_last][i_last])\n",
    "    print('dict_s1')\n",
    "    print(dict_s1)\n",
    "    print('dict_s2')\n",
    "    print(dict_s2)\n",
    "    \n",
    "    print(dict_max)\n",
    "    \n",
    "    return dict_max[i_last][i_last]"
   ]
  },
  {
   "cell_type": "code",
   "execution_count": 154,
   "id": "b6f437a6-b4d3-4d87-bb62-13c0d3879059",
   "metadata": {},
   "outputs": [],
   "source": [
    "keys_temp = dict_max[3].keys()"
   ]
  },
  {
   "cell_type": "code",
   "execution_count": 155,
   "id": "67850db3-c944-4de6-9614-ea9dca5e3e5e",
   "metadata": {},
   "outputs": [
    {
     "data": {
      "text/plain": [
       "dict_keys([0, 3])"
      ]
     },
     "execution_count": 155,
     "metadata": {},
     "output_type": "execute_result"
    }
   ],
   "source": [
    "keys_temp"
   ]
  },
  {
   "cell_type": "code",
   "execution_count": 156,
   "id": "b4283035-5b44-473b-8c55-729abddfc5f7",
   "metadata": {},
   "outputs": [
    {
     "data": {
      "text/plain": [
       "[0, 3]"
      ]
     },
     "execution_count": 156,
     "metadata": {},
     "output_type": "execute_result"
    }
   ],
   "source": [
    "list(dict_max[3])"
   ]
  },
  {
   "cell_type": "code",
   "execution_count": 113,
   "id": "2b3c1acd-e82e-4f0e-b623-25ced06fcb67",
   "metadata": {},
   "outputs": [],
   "source": [
    "from bisect import bisect_right"
   ]
  },
  {
   "cell_type": "code",
   "execution_count": 126,
   "id": "a25e03bb-b083-471f-8ef5-fc6e6ede2189",
   "metadata": {},
   "outputs": [
    {
     "data": {
      "text/plain": [
       "1"
      ]
     },
     "execution_count": 126,
     "metadata": {},
     "output_type": "execute_result"
    }
   ],
   "source": [
    "bisect_left(list(keys_temp), 3)"
   ]
  },
  {
   "cell_type": "code",
   "execution_count": 140,
   "id": "862855c6-9607-403b-8389-a8696a75515a",
   "metadata": {},
   "outputs": [
    {
     "data": {
      "text/plain": [
       "1"
      ]
     },
     "execution_count": 140,
     "metadata": {},
     "output_type": "execute_result"
    }
   ],
   "source": [
    "bisect_right(list(keys_temp),0)"
   ]
  },
  {
   "cell_type": "code",
   "execution_count": 199,
   "id": "27716ca2-234a-4536-a9a3-625b7cc84ea1",
   "metadata": {},
   "outputs": [
    {
     "data": {
      "text/plain": [
       "0"
      ]
     },
     "execution_count": 199,
     "metadata": {},
     "output_type": "execute_result"
    }
   ],
   "source": [
    "dict_max[0][0]"
   ]
  },
  {
   "cell_type": "markdown",
   "id": "b06f9b5d-2e53-4309-ba2c-a71d93bd312c",
   "metadata": {},
   "source": [
    "## Run"
   ]
  },
  {
   "cell_type": "code",
   "execution_count": 204,
   "id": "13912045-fbcd-4bf7-a7b0-3bbdbe32705c",
   "metadata": {},
   "outputs": [
    {
     "name": "stdout",
     "output_type": "stream",
     "text": [
      "SHINCHAN\n",
      "[0, 1, 2, 3, 4, 5, 6, 7]\n",
      "NOHARAAA\n",
      "===== next diagonal ===== \n",
      "i = 0\n",
      "c1 = S | c2 = N\n",
      "max = [0]\n",
      "===== next diagonal ===== \n",
      "i = 1\n",
      "c1 = H | c2 = O\n",
      "max = [0]\n",
      "===== next diagonal ===== \n",
      "i = 2\n",
      "c1 = I | c2 = H\n",
      "c2 matched\n",
      "c2 : [H] at index : [1]\n",
      "prev max of [(1, 2)] = [0]\n",
      "in get_top\n",
      "get top matched : [1] at [(1,2)]\n",
      "matched\n",
      "max = [1]\n",
      "===== next diagonal ===== \n",
      "i = 3\n",
      "c1 = N | c2 = A\n",
      "c1 matched\n",
      "c1 : [N] at index : [0]\n",
      "in get_left\n",
      "max = [1]\n",
      "===== next diagonal ===== \n",
      "i = 4\n",
      "c1 = C | c2 = R\n",
      "max = [1]\n",
      "===== next diagonal ===== \n",
      "i = 5\n",
      "c1 = H | c2 = A\n",
      "c1 matched\n",
      "c1 : [H] at index : [2]\n",
      "No existing higher y\n",
      "prev max of [(5, 2)] = [1]\n",
      "in get_left\n",
      "get left matched : [2] at [(5,2)]\n",
      "matched\n",
      "max = [2]\n",
      "===== next diagonal ===== \n",
      "i = 6\n",
      "c1 = A | c2 = A\n",
      "c1 matched\n",
      "c1 : [A] at index : [3]\n",
      "prev max of [(6, 3)] = [2]\n",
      "c1 : [A] at index : [5]\n",
      "prev max of [(6, 5)] = [2]\n",
      "c1 : [A] at index : [6]\n",
      "prev max of [(6, 6)] = [2]\n",
      "in get_left\n",
      "get left matched : [3] at [(6,6)]\n",
      "c2 matched\n",
      "c2 : [A] at index : [6]\n",
      "prev max of [(6, 6)] = [2]\n",
      "in get_top\n",
      "get top matched : [3] at [(6,6)]\n",
      "matched\n",
      "max = [3]\n",
      "===== next diagonal ===== \n",
      "i = 7\n",
      "c1 = N | c2 = A\n",
      "c1 matched\n",
      "c1 : [N] at index : [0]\n",
      "in get_left\n",
      "c2 matched\n",
      "c2 : [A] at index : [6]\n",
      "prev max of [(6, 7)] = [2]\n",
      "in get_top\n",
      "get top matched : [3] at [(6,7)]\n",
      "matched\n",
      "max = [3]\n",
      "3\n",
      "dict_s1\n",
      "defaultdict(<class 'set'>, {'S': {0}, 'H': {1, 5}, 'I': {2}, 'N': {3, 7}, 'C': {4}, 'A': {6}})\n",
      "dict_s2\n",
      "defaultdict(<class 'set'>, {'N': {0}, 'O': {1}, 'H': {2}, 'A': {3, 5, 6, 7}, 'R': {4}})\n",
      "defaultdict(<function commonChild.<locals>.<lambda> at 0x0000026DEE982DE0>, {-1: defaultdict(<class 'int'>, {-1: 0}), 0: defaultdict(<class 'int'>, {0: 0}), 1: defaultdict(<class 'int'>, {1: 0, 2: 1}), 2: defaultdict(<class 'int'>, {2: 1}), 3: defaultdict(<class 'int'>, {0: 1, 3: 1}), 4: defaultdict(<class 'int'>, {4: 1}), 5: defaultdict(<class 'int'>, {2: 2, 5: 2}), 6: defaultdict(<class 'int'>, {3: 3, 5: 3, 6: 3, 7: 3}), 7: defaultdict(<class 'int'>, {0: 1, 7: 3})})\n"
     ]
    }
   ],
   "source": [
    "name_test = 'input14.txt'\n",
    "\n",
    "f_input = open(f\"./in/{name_test}\", \"r\")\n",
    "\n",
    "\n",
    "if __name__ == '__main__':\n",
    "#     fptr = open(os.environ['OUTPUT_PATH'], 'w')\n",
    "\n",
    "    s1 = f_input.readline()\n",
    "\n",
    "    s2 = f_input.readline()\n",
    "\n",
    "    result = commonChild(s1, s2)\n",
    "\n",
    "#     fptr.write(str(result) + '\\n')\n",
    "\n",
    "#     fptr.close()\n"
   ]
  },
  {
   "cell_type": "markdown",
   "id": "ea7d6edc-88b7-4189-bb21-e58105542aeb",
   "metadata": {},
   "source": [
    "# Tests"
   ]
  },
  {
   "cell_type": "code",
   "execution_count": 205,
   "id": "58917897-f93b-4088-a3da-a3abe6439704",
   "metadata": {},
   "outputs": [],
   "source": [
    "\n",
    "import string\n",
    "import random\n",
    " \n",
    "# initializing size of string\n",
    "N = 200\n",
    " \n",
    "# using random.choices()\n",
    "# generating random strings\n",
    "r_str1 = ''.join(random.choices(string.ascii_uppercase, k=N))\n",
    "r_str2 = ''.join(random.choices(string.ascii_uppercase, k=N))"
   ]
  },
  {
   "cell_type": "code",
   "execution_count": 192,
   "id": "3e56b807-ca82-4b0e-a9c0-a561cca67cc3",
   "metadata": {},
   "outputs": [
    {
     "data": {
      "text/plain": [
       "'FEMFPOEMNCAHPLSEIHLBHPZXUUVRCOZJRYSDTFBXUIBHTUBMRENIOWEJXGDKMBZCJJJTHOZHMEOXAUADCOXINSFLHIXOUUFLXUOHWWKBSIUGEZSSKSAWNPERVKLRAJPGGLETHIEOXFLGMCVFOECMTPSNXRMJQBOQDKUQNMNRGKEIQCAXJOFMUAAPZIPLDDDFKZJVKXUH'"
      ]
     },
     "execution_count": 192,
     "metadata": {},
     "output_type": "execute_result"
    }
   ],
   "source": [
    "r_str1"
   ]
  },
  {
   "cell_type": "code",
   "execution_count": 193,
   "id": "9b33701c-1af9-4ede-884a-ab90197d2506",
   "metadata": {},
   "outputs": [
    {
     "data": {
      "text/plain": [
       "'NEISAJDOENOMMHNDKSNYGLBNZATUPXRSDCWCHYDWZCHIAMFWOKOZVNWSUBVHXFECWBKBJRLVOAIFFJCXTDCDCQLIFOBWEZKYOHLMXDJMGEIWRIDVEHMHTVUNAIRJFNAZLQKMJEJLCKODCFWOTKTEBYNVZQVALNKLQKPICKCATGBTFVYNHPJZNZUWWTCABFESXKGKVYDA'"
      ]
     },
     "execution_count": 193,
     "metadata": {},
     "output_type": "execute_result"
    }
   ],
   "source": [
    "r_str2"
   ]
  },
  {
   "cell_type": "code",
   "execution_count": null,
   "id": "f09a2412-47b1-4848-9bf7-edb3a7683638",
   "metadata": {},
   "outputs": [],
   "source": [
    "%%time\n",
    "\n"
   ]
  },
  {
   "cell_type": "markdown",
   "id": "f81b98f4-a6b1-4ca0-b45a-264dcbbf7e79",
   "metadata": {},
   "source": [
    "# Latest Backup"
   ]
  },
  {
   "cell_type": "code",
   "execution_count": null,
   "id": "241ab508-0c09-4649-bb3b-53a0aca6d71e",
   "metadata": {},
   "outputs": [],
   "source": [
    "# def get_max_prev(tup, dict_max):\n",
    "#     x,y = tup\n",
    "#     x = x-1\n",
    "#     y = y-1\n",
    "    \n",
    "#     if x < 0 or y < 0:\n",
    "#         return 0\n",
    "    \n",
    "#     higher = max(x,y)\n",
    "    \n",
    "#     prev_max_bounds = dict_max[higher][higher]\n",
    "#     y_highest = -1\n",
    "    \n",
    "#     latest_max = 0\n",
    "    \n",
    "\n",
    "#     for i in range(x, 0, -1):\n",
    "#         #bisect list (get highest element less than y, higher than y_highest)\n",
    "#         #O(n) worst case because of conversion\n",
    "#         list_keys = list(dict_max[i])\n",
    "#         list_i = bisect_right(list_keys, y) -1\n",
    "        \n",
    "#         if list_i == -1:\n",
    "#             print('No existing higher y')\n",
    "#             continue\n",
    "        \n",
    "#         j = list_keys[list_i]\n",
    "\n",
    "#         cur_max = dict_max[i][j]\n",
    "#         y_highest = j\n",
    "        \n",
    "#         latest_max = max(latest_max,cur_max)\n",
    "\n",
    "#         if cur_max == prev_max_bounds:\n",
    "#             return cur_max\n",
    "        \n",
    "#         else:       \n",
    "#             latest_max = max(latest_max,cur_max)\n",
    "            \n",
    "#         if y_highest == y:\n",
    "#             print('y_highest == y')\n",
    "#             break\n",
    "\n",
    "            \n",
    "#     return latest_max\n",
    "            \n",
    "            \n",
    "    \n",
    "    \n"
   ]
  },
  {
   "cell_type": "code",
   "execution_count": null,
   "id": "814785b7-8dec-4ead-8194-6305d19246c5",
   "metadata": {},
   "outputs": [],
   "source": [
    "# def commonChild(s1, s2):\n",
    "    \n",
    "#     highest = 0\n",
    "    \n",
    "#     dict_s1 = defaultdict(dict)\n",
    "#     dict_s2 = defaultdict(dict)\n",
    "\n",
    "#     dict_max = defaultdict(dict_dict) # Dict of (i:dict(i:(max,is_taken)))\n",
    "    \n",
    "    \n",
    "#     #Build letter-index dicts:\n",
    "#     dict_lookup_s1 = defaultdict(dict)\n",
    "#     dict_lookup_s2 = defaultdict(dict)\n",
    "    \n",
    "# #     for i, char in enumerate(s1):\n",
    "# #         dict_lookup_s1[char].add(i)\n",
    "\n",
    "        \n",
    "# #     for i, char in enumerate(s2):\n",
    "# #         dict_lookup_s2[char].add(i)\n",
    "#     for i in range(len(s1)):\n",
    "        \n",
    "#         c1 = s1[i]\n",
    "#         c2 = s2[i]\n",
    "        \n",
    "# #         dict_s1[c1].add(i)\n",
    "# #         dict_s2[c2].add(i)\n",
    "#         dict_s1[c1][i] = False\n",
    "#         dict_s2[c2][i] = False\n",
    "        \n",
    "#         matched_c1 = False\n",
    "#         matched_c2 = False\n",
    "        \n",
    "#         if c1 == c2:\n",
    "            \n",
    "#             if i == 0:\n",
    "#                 dict_max[0][0] = 1\n",
    "#             else:\n",
    "#                 dict_max[i][i] = dict_max[i-1][i-1] + 1\n",
    "                \n",
    "#             matched_c1 = True\n",
    "#             matched_c2 = True\n",
    "\n",
    "#         else:\n",
    "            \n",
    "#             #check if letter1 in other string\n",
    "#             if c1 in dict_s2[c1]:\n",
    "                    \n",
    "                    \n",
    "#                 #loop every match - maybe unnecessary\n",
    "#                 dict_i = dict_s2[c1]\n",
    "#                 for i_1, tup in list_i:\n",
    "\n",
    "#                     is_matched, other_var = tup\n",
    "\n",
    "#                     if not is_matched:\n",
    "#                         # change tuple to matched\n",
    "#                         matched_c1 = \n",
    "                        \n",
    "                        \n",
    "#                     dict_max[i_1][i] =  dict_max[i_1][i] + 1\n",
    "                        \n",
    "                        \n",
    "               \n",
    "                \n",
    "                \n",
    "\n",
    "#             #check if letter2 in other string\n",
    "#             if c2 in dict_s1[c1]:\n",
    "#                 pass\n",
    "\n",
    "#         if matched_c1 or matched_c2:\n",
    "            \n",
    "            \n",
    "        \n",
    "    \n",
    "#     # Loop from i to range(len(s1))\n",
    "#     # Check max child of s1[:i+1] and s2[:i+1]\n",
    "#     # # Check if new characters have new matches\n",
    "#     # # Add new matches to max\n",
    "#     # # \n",
    "#     # # # 1: S1[i] == S2[i]\n",
    "#     # # # 2: S1[i] in S2[:i]\n",
    "#     # # # 3: S1[:i] in S2[i]\n",
    "#     # # # 4: Case 2 + 3\n",
    "    \n",
    "#     #Implementation\n",
    "#     # Create data structure dict(letter,set(indices)) for s1 and s2 dict_unmatched1, dict_unmatched2\n",
    "#     # For each i:\n",
    "#     # add s1[i] to dict1[s1[i]], s2[i] to dict2[s2[i]]\n",
    "#     # Check if S\n",
    "    "
   ]
  },
  {
   "cell_type": "markdown",
   "id": "96f37794-5285-4e4d-9dbe-e0bff08e417e",
   "metadata": {},
   "source": [
    "# Old"
   ]
  },
  {
   "cell_type": "code",
   "execution_count": 1,
   "id": "a7af446c-eb07-4531-b121-389b3a7ee4ed",
   "metadata": {},
   "outputs": [],
   "source": [
    "sparse_table = {\n",
    "    0: {1: 5, 4: 9},\n",
    "    1: {0: 3, 2: 7},\n",
    "    3: {1: 2, 3: 6},\n",
    "    # ...\n",
    "}\n",
    "\n",
    "def find_next_non_empty(table, current_row, current_col):\n",
    "    for row in range(current_row, len(table)):\n",
    "        if row == current_row:\n",
    "            start_col = current_col\n",
    "        else:\n",
    "            start_col = 0\n",
    "        for col in range(start_col, len(table[row])):\n",
    "            if col > current_col or row > current_row:\n",
    "                return (row, col, table[row][col])\n",
    "    return None\n"
   ]
  },
  {
   "cell_type": "code",
   "execution_count": 3,
   "id": "33a9a17c-6b2a-4ce2-9abe-ab2bc589d028",
   "metadata": {},
   "outputs": [
    {
     "ename": "KeyError",
     "evalue": "2",
     "output_type": "error",
     "traceback": [
      "\u001b[1;31m---------------------------------------------------------------------------\u001b[0m",
      "\u001b[1;31mKeyError\u001b[0m                                  Traceback (most recent call last)",
      "Cell \u001b[1;32mIn[3], line 3\u001b[0m\n\u001b[0;32m      1\u001b[0m current_row \u001b[38;5;241m=\u001b[39m \u001b[38;5;241m2\u001b[39m\n\u001b[0;32m      2\u001b[0m current_col \u001b[38;5;241m=\u001b[39m \u001b[38;5;241m0\u001b[39m\n\u001b[1;32m----> 3\u001b[0m next_non_empty \u001b[38;5;241m=\u001b[39m \u001b[43mfind_next_non_empty\u001b[49m\u001b[43m(\u001b[49m\u001b[43msparse_table\u001b[49m\u001b[43m,\u001b[49m\u001b[43m \u001b[49m\u001b[43mcurrent_row\u001b[49m\u001b[43m,\u001b[49m\u001b[43m \u001b[49m\u001b[43mcurrent_col\u001b[49m\u001b[43m)\u001b[49m\n\u001b[0;32m      4\u001b[0m \u001b[38;5;28;01mif\u001b[39;00m next_non_empty:\n\u001b[0;32m      5\u001b[0m     next_row, next_col, value \u001b[38;5;241m=\u001b[39m next_non_empty\n",
      "Cell \u001b[1;32mIn[1], line 14\u001b[0m, in \u001b[0;36mfind_next_non_empty\u001b[1;34m(table, current_row, current_col)\u001b[0m\n\u001b[0;32m     12\u001b[0m \u001b[38;5;28;01melse\u001b[39;00m:\n\u001b[0;32m     13\u001b[0m     start_col \u001b[38;5;241m=\u001b[39m \u001b[38;5;241m0\u001b[39m\n\u001b[1;32m---> 14\u001b[0m \u001b[38;5;28;01mfor\u001b[39;00m col \u001b[38;5;129;01min\u001b[39;00m \u001b[38;5;28mrange\u001b[39m(start_col, \u001b[38;5;28mlen\u001b[39m(\u001b[43mtable\u001b[49m\u001b[43m[\u001b[49m\u001b[43mrow\u001b[49m\u001b[43m]\u001b[49m)):\n\u001b[0;32m     15\u001b[0m     \u001b[38;5;28;01mif\u001b[39;00m col \u001b[38;5;241m>\u001b[39m current_col \u001b[38;5;129;01mor\u001b[39;00m row \u001b[38;5;241m>\u001b[39m current_row:\n\u001b[0;32m     16\u001b[0m         \u001b[38;5;28;01mreturn\u001b[39;00m (row, col, table[row][col])\n",
      "\u001b[1;31mKeyError\u001b[0m: 2"
     ]
    }
   ],
   "source": [
    "current_row = 2\n",
    "current_col = 0\n",
    "next_non_empty = find_next_non_empty(sparse_table, current_row, current_col)\n",
    "if next_non_empty:\n",
    "    next_row, next_col, value = next_non_empty\n",
    "    print(f\"Next non-empty value: ({next_row}, {next_col}): {value}\")\n",
    "else:\n",
    "    print(\"No non-empty values found.\")"
   ]
  },
  {
   "cell_type": "code",
   "execution_count": 7,
   "id": "fa888a32-d44c-48a2-ae66-7e1e0543388e",
   "metadata": {},
   "outputs": [],
   "source": [
    "from collections import defaultdict"
   ]
  },
  {
   "cell_type": "code",
   "execution_count": 9,
   "id": "edd01faa-9dcc-48fd-98bf-8f5fbef5ee7e",
   "metadata": {},
   "outputs": [],
   "source": [
    "def dict_set():\n",
    "    return defaultdict(set)"
   ]
  },
  {
   "cell_type": "code",
   "execution_count": null,
   "id": "928eda2e-cf21-4483-850c-444bcd6f1d93",
   "metadata": {},
   "outputs": [],
   "source": [
    "dict_temp = defaultdict(dict_set)"
   ]
  },
  {
   "cell_type": "code",
   "execution_count": null,
   "id": "de824cf4-528b-49c6-bad2-19ed9c6dbdc4",
   "metadata": {},
   "outputs": [],
   "source": [
    "dict_temp[1][2].add(1)"
   ]
  },
  {
   "cell_type": "code",
   "execution_count": null,
   "id": "21b058f6-48d8-4f4a-8744-bd82a807814c",
   "metadata": {},
   "outputs": [
    {
     "data": {
      "text/plain": [
       "defaultdict(<function __main__.dict_set()>, {1: defaultdict(set, {2: {1}})})"
      ]
     },
     "execution_count": 14,
     "metadata": {},
     "output_type": "execute_result"
    }
   ],
   "source": [
    "dict_temp"
   ]
  },
  {
   "cell_type": "code",
   "execution_count": 15,
   "id": "f78c0ba3-4953-46df-b778-9bbca96f52ad",
   "metadata": {},
   "outputs": [
    {
     "ename": "IndentationError",
     "evalue": "expected an indented block after 'if' statement on line 20 (3991764360.py, line 25)",
     "output_type": "error",
     "traceback": [
      "\u001b[1;36m  Cell \u001b[1;32mIn[15], line 25\u001b[1;36m\u001b[0m\n\u001b[1;33m    if c1 in dict_s1[c1]:\u001b[0m\n\u001b[1;37m    ^\u001b[0m\n\u001b[1;31mIndentationError\u001b[0m\u001b[1;31m:\u001b[0m expected an indented block after 'if' statement on line 20\n"
     ]
    }
   ],
   "source": [
    "\n",
    "# def dict_dict():\n",
    "#     return defaultdict(dict)\n",
    "\n",
    "# def has_match(char, i, dict_other):\n",
    "#     if char in dict_other:\n",
    "        \n",
    "    \n",
    "    \n",
    "# def commonChild(s1, s2):\n",
    "    \n",
    "#     dict_s1 = defaultdict(dict)\n",
    "#     dict_s2 = defaultdict(dict)\n",
    "\n",
    "#     dict_max = defaultdict(dict_dict) # Dict of (i:dict(i:(max,is_taken)))\n",
    "    \n",
    "#     for i in range(len(s1)):\n",
    "        \n",
    "#         c1 = s1[i]\n",
    "#         c2 = s2[i]\n",
    "        \n",
    "# #         dict_s1[c1].add(i)\n",
    "# #         dict_s2[c2].add(i)\n",
    "#         dict_s1[c1][i] = False\n",
    "#         dict_s2[c2][i] = False\n",
    "        \n",
    "#         if c1 == c2:\n",
    "\n",
    "#             if i == 0:\n",
    "#                 dict_max[0][0] = 1\n",
    "#             else:\n",
    "#                 dict_max[i][i] = dict_max[i-1][i-1] + 1\n",
    "\n",
    "#         else:\n",
    "\n",
    "#             if c1 in dict_s2[c1]:\n",
    "\n",
    "#                 list_i = []\n",
    "\n",
    "#                 for i_match in dis\n",
    "\n",
    "\n",
    "\n",
    "\n",
    "#             if c2 in dict_s1[c1]:\n",
    "        \n",
    "    \n",
    "    \n",
    "#     # Loop from i to range(len(s1))\n",
    "#     # Check max child of s1[:i+1] and s2[:i+1]\n",
    "#     # # Check if new characters have new matches\n",
    "#     # # Add new matches to max\n",
    "#     # # \n",
    "#     # # # 1: S1[i] == S2[i]\n",
    "#     # # # 2: S1[i] in S2[:i]\n",
    "#     # # # 3: S1[:i] in S2[i]\n",
    "#     # # # 4: Case 2 + 3\n",
    "    \n",
    "#     #Implementation\n",
    "#     # Create data structure dict(letter,set(indices)) for s1 and s2 dict_unmatched1, dict_unmatched2\n",
    "#     # For each i:\n",
    "#     # add s1[i] to dict1[s1[i]], s2[i] to dict2[s2[i]]\n",
    "#     # Check if S\n",
    "    "
   ]
  },
  {
   "cell_type": "code",
   "execution_count": null,
   "id": "7a71ff46-d765-47f3-a502-38784d60ccda",
   "metadata": {},
   "outputs": [],
   "source": [
    "if __name__ == '__main__':\n",
    "    fptr = open(os.environ['OUTPUT_PATH'], 'w')\n",
    "\n",
    "    s1 = input()\n",
    "\n",
    "    s2 = input()\n",
    "\n",
    "    result = commonChild(s1, s2)\n",
    "\n",
    "    fptr.write(str(result) + '\\n')\n",
    "\n",
    "    fptr.close()\n"
   ]
  }
 ],
 "metadata": {
  "kernelspec": {
   "display_name": "Python [conda env:hackerrank]",
   "language": "python",
   "name": "conda-env-hackerrank-py"
  },
  "language_info": {
   "codemirror_mode": {
    "name": "ipython",
    "version": 3
   },
   "file_extension": ".py",
   "mimetype": "text/x-python",
   "name": "python",
   "nbconvert_exporter": "python",
   "pygments_lexer": "ipython3",
   "version": "3.11.3"
  }
 },
 "nbformat": 4,
 "nbformat_minor": 5
}
