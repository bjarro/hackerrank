{
 "cells": [
  {
   "cell_type": "code",
   "execution_count": 7,
   "id": "2a9fb8c5-221a-44ed-b915-ea577905704c",
   "metadata": {},
   "outputs": [],
   "source": [
    "#!/bin/python3\n",
    "\n",
    "import math\n",
    "import os\n",
    "import random\n",
    "import re\n",
    "import sys\n",
    "\n",
    "\n"
   ]
  },
  {
   "cell_type": "code",
   "execution_count": 1,
   "id": "a4ff6458-55b5-4040-ab21-3d30f2a0e7f7",
   "metadata": {},
   "outputs": [
    {
     "name": "stdout",
     "output_type": "stream",
     "text": [
      "dsada\n"
     ]
    }
   ],
   "source": [
    "print('dsada')"
   ]
  },
  {
   "cell_type": "code",
   "execution_count": 4,
   "id": "6cef82be-d1d1-4af5-a0e5-e2ec8e1a49c6",
   "metadata": {},
   "outputs": [],
   "source": [
    "arr_outer = [[] for i in range(6)]\n",
    "\n",
    "\n",
    "for i, l in enumerate(arr_outer):\n",
    "    arr_inner = [(i,j) for j in range(6)]\n",
    "    arr_outer[i] = arr_inner\n"
   ]
  },
  {
   "cell_type": "code",
   "execution_count": 10,
   "id": "667713d2-d8ae-40c6-8fc8-825dc5e3efb4",
   "metadata": {},
   "outputs": [
    {
     "data": {
      "text/plain": [
       "[[(0, 0), (0, 1), (0, 2), (0, 3), (0, 4), (0, 5)],\n",
       " [(1, 0), (1, 1), (1, 2), (1, 3), (1, 4), (1, 5)],\n",
       " [(2, 0), (2, 1), (2, 2), (2, 3), (2, 4), (2, 5)]]"
      ]
     },
     "execution_count": 10,
     "metadata": {},
     "output_type": "execute_result"
    }
   ],
   "source": [
    "arr_outer[0:3][0:3][0:3]"
   ]
  },
  {
   "cell_type": "code",
   "execution_count": 3,
   "id": "43b72f62-f3f3-4329-b307-c1fdadb475f5",
   "metadata": {},
   "outputs": [
    {
     "name": "stdout",
     "output_type": "stream",
     "text": [
      "dsa\n",
      "dsa\n",
      "dsa\n",
      "dsa\n",
      "dsa\n",
      "dsa\n"
     ]
    }
   ],
   "source": [
    "for i, l in enumerate(arr_outer):\n",
    "    arr_inner = [(i,j) for j in range(6)]\n",
    "    print('dsa')"
   ]
  },
  {
   "cell_type": "code",
   "execution_count": null,
   "id": "9da443ce-491d-409f-88c4-0a11ebcf792e",
   "metadata": {},
   "outputs": [],
   "source": []
  },
  {
   "cell_type": "code",
   "execution_count": null,
   "id": "214e4dbf-4c4f-4e1c-a88e-afa5d52916c2",
   "metadata": {},
   "outputs": [],
   "source": []
  },
  {
   "cell_type": "code",
   "execution_count": 83,
   "id": "1fa088c0-2571-461d-95a0-9744b44042e3",
   "metadata": {},
   "outputs": [
    {
     "data": {
      "text/plain": [
       "1"
      ]
     },
     "execution_count": 83,
     "metadata": {},
     "output_type": "execute_result"
    }
   ],
   "source": [
    "3 // 2"
   ]
  },
  {
   "cell_type": "code",
   "execution_count": 81,
   "id": "8c38825f-ac1b-4ecb-9ab3-3f3683dcb038",
   "metadata": {},
   "outputs": [],
   "source": [
    "#\n",
    "# Complete the 'countInversions' function below.\n",
    "#\n",
    "# The function is expected to return a LONG_INTEGER.\n",
    "# The function accepts INTEGER_ARRAY arr as parameter.\n",
    "#\n",
    "\n",
    "def countInversions(arr):\n",
    "    \n",
    "    num_inv = [0]\n",
    "        \n",
    "    arr_sorted = mergesort(arr, num_inv)\n",
    "    \n",
    "    print(arr)\n",
    "    print(arr_sorted)\n",
    "    print(num_inv)\n",
    "    \n",
    "    \n",
    "    return num_inv[0]\n",
    "\n",
    "def merge(arr_l, arr_r, num_inv):\n",
    "    \n",
    "    arr_sorted = []\n",
    "    \n",
    "    last_i_r = 0\n",
    "    \n",
    "    for i_l, e_l in enumerate(arr_l):\n",
    "        for i_r in range(last_i_r, len(arr_r)):\n",
    "            e_r = arr_r[i_r]\n",
    "            try:\n",
    "                if e_l <= e_r:\n",
    "                    break\n",
    "                else:\n",
    "                    arr_sorted.append(e_r)\n",
    "                    last_i_r += 1\n",
    "                    num_inv[0] += len(arr_l) - i_l\n",
    "                    \n",
    "                \n",
    "            except Exception as e:\n",
    "                print(e_l)\n",
    "                print(e_r)\n",
    "                print(arr_l)\n",
    "                print(arr_r)\n",
    "                raise e\n",
    "                \n",
    "        arr_sorted.append(e_l)\n",
    "        \n",
    "    for i_r in range(last_i_r, len(arr_r)):\n",
    "        arr_sorted.append(arr_r[i_r])\n",
    "        \n",
    "    return arr_sorted\n",
    "            \n",
    "        \n",
    "    \n",
    "\n",
    "def mergesort(arr, num_inv):\n",
    "    \n",
    "    len_left = len(arr) // 2\n",
    "    #len_right = len(arr) - len_left\n",
    "    \n",
    "    if len(arr) == 1:\n",
    "        return arr\n",
    "    \n",
    "    elif len(arr) == 2:\n",
    "        return merge([arr[0]], [arr[1]], num_inv)\n",
    "    \n",
    "    else:\n",
    "        left = mergesort(arr[0:len_left], num_inv)\n",
    "        right = mergesort(arr[len_left:], num_inv)\n",
    "        return merge(left, right, num_inv)\n",
    "    \n",
    "\n"
   ]
  },
  {
   "cell_type": "markdown",
   "id": "b497fc20-7337-465e-a04a-1a1d6ade95af",
   "metadata": {},
   "source": [
    "## Run"
   ]
  },
  {
   "cell_type": "code",
   "execution_count": 82,
   "id": "8021b9e0-90e5-4096-b243-318d097d0a89",
   "metadata": {},
   "outputs": [
    {
     "name": "stdout",
     "output_type": "stream",
     "text": [
      "[1, 5, 3, 7]\n",
      "[1, 3, 5, 7]\n",
      "[1]\n",
      "[7, 5, 3, 1]\n",
      "[1, 3, 5, 7]\n",
      "[6]\n"
     ]
    }
   ],
   "source": [
    "name_test = 'input14.txt'\n",
    "\n",
    "f_input = open(f\"./in/{name_test}\", \"r\")\n",
    "\n",
    "\n",
    "if __name__ == '__main__':\n",
    "#     fptr = open(os.environ['OUTPUT_PATH'], 'w')\n",
    "\n",
    "    t = int(f_input.readline().strip())\n",
    "\n",
    "    for t_itr in range(t):\n",
    "        n = int(f_input.readline().strip())\n",
    "\n",
    "        arr = list(map(int, f_input.readline().rstrip().split()))\n",
    "\n",
    "        result = countInversions(arr)\n",
    "\n",
    "#         fptr.write(str(result) + '\\n')\n",
    "\n",
    "#     fptr.close()"
   ]
  },
  {
   "cell_type": "code",
   "execution_count": 64,
   "id": "c3dbd9d2-9192-4f6c-877e-bdf795ff9c14",
   "metadata": {},
   "outputs": [],
   "source": [
    "def countInversions_0(arr):\n",
    "        \n",
    "    a = arr\n",
    "    num_swaps = 0\n",
    "    for i,_ in enumerate(a):\n",
    "        \n",
    "        for j in range(len(a)-1):\n",
    "            if a[j] > a[j+1]:\n",
    "                left = a[j]\n",
    "                a[j] = a[j+1]\n",
    "                a[j+1] = left\n",
    "                num_swaps += 1\n",
    "                \n",
    "    print(num_swaps)\n",
    "    return num_swaps"
   ]
  }
 ],
 "metadata": {
  "kernelspec": {
   "display_name": "Python [conda env:hackerrank]",
   "language": "python",
   "name": "conda-env-hackerrank-py"
  },
  "language_info": {
   "codemirror_mode": {
    "name": "ipython",
    "version": 3
   },
   "file_extension": ".py",
   "mimetype": "text/x-python",
   "name": "python",
   "nbconvert_exporter": "python",
   "pygments_lexer": "ipython3",
   "version": "3.11.3"
  }
 },
 "nbformat": 4,
 "nbformat_minor": 5
}
