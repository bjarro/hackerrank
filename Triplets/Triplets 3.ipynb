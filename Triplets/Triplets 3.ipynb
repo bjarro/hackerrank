{
 "cells": [
  {
   "cell_type": "markdown",
   "id": "3d5d2f87-0aa7-44c5-81bc-532a889e8bcb",
   "metadata": {
    "tags": []
   },
   "source": [
    "# Set up"
   ]
  },
  {
   "cell_type": "code",
   "execution_count": 2,
   "id": "cb2d0871-9356-4f34-8b3b-e8780ca2d564",
   "metadata": {},
   "outputs": [],
   "source": [
    "\n",
    "import math\n",
    "import os\n",
    "import random\n",
    "import re\n",
    "import sys\n",
    "\n",
    "from bisect import bisect_right\n",
    "#from math import comb"
   ]
  },
  {
   "cell_type": "code",
   "execution_count": 3,
   "id": "0921935d-3ebf-464f-b130-409fde937482",
   "metadata": {},
   "outputs": [],
   "source": [
    "# name_test = 'test_10.txt'\n",
    "name_test = 'test_6.txt'"
   ]
  },
  {
   "cell_type": "code",
   "execution_count": 4,
   "id": "de8f925e-3005-4391-b48f-c51c604db57f",
   "metadata": {},
   "outputs": [],
   "source": [
    "os.environ['OUTPUT_PATH'] = f\"./out/{name_test}.txt\""
   ]
  },
  {
   "cell_type": "markdown",
   "id": "0ae0d0b4-65b4-4713-aff9-dfe61a5bfbff",
   "metadata": {},
   "source": [
    "## Input"
   ]
  },
  {
   "cell_type": "code",
   "execution_count": 5,
   "id": "6d478bd6-487c-4523-bc63-f799c3aa846e",
   "metadata": {},
   "outputs": [],
   "source": [
    "f_input = open(f\"./in/{name_test}\", \"r\")"
   ]
  },
  {
   "cell_type": "code",
   "execution_count": 5,
   "id": "b239d316-e3ae-4ff1-b5d5-960436fc8dc2",
   "metadata": {
    "tags": []
   },
   "outputs": [],
   "source": [
    "#f_input.readline()"
   ]
  },
  {
   "cell_type": "markdown",
   "id": "451a74c2-e625-495a-80f4-704b9931d8c5",
   "metadata": {},
   "source": [
    "# Code"
   ]
  },
  {
   "cell_type": "code",
   "execution_count": 7,
   "id": "bd35a04b-0271-4e8c-8605-5508f03a1642",
   "metadata": {},
   "outputs": [],
   "source": []
  },
  {
   "cell_type": "code",
   "execution_count": 13,
   "id": "f28330bd-673f-46b6-bdde-c56511367d63",
   "metadata": {},
   "outputs": [
    {
     "name": "stdout",
     "output_type": "stream",
     "text": [
      "CPU times: total: 0 ns\n",
      "Wall time: 0 ns\n"
     ]
    }
   ],
   "source": [
    "%%time\n",
    "\n",
    "from collections import OrderedDict\n",
    "from collections import Counter\n",
    "from math import comb\n",
    "\n",
    "def find_less(i_k1_start, i_k2, list_k1):\n",
    "    for i in range(i_k1_start, len(list_k1)):\n",
    "        i_k1, k1 = list_k1[i]\n",
    "        if i_k1 >= i_k2:\n",
    "            return i - 1\n",
    "    return i\n",
    "        \n"
   ]
  },
  {
   "cell_type": "code",
   "execution_count": 14,
   "id": "b8efbde3-beb5-47a1-8140-61c9f79425ee",
   "metadata": {},
   "outputs": [],
   "source": [
    "#!/bin/python3\n",
    "\n",
    "\n",
    "# Complete the countTriplets function below.\n",
    "def countTriplets(arr, r):\n",
    "    # ------------- Filters and Data Structure\n",
    "    \n",
    "    if r == 1:\n",
    "        \n",
    "        dict_indices =  {k:[] for k in set(arr)}\n",
    "        for i, v in enumerate(arr):\n",
    "            dict_indices[v].append(i)\n",
    "            \n",
    "        total_counts = 0\n",
    "        \n",
    "        for k in dict_indices.keys():\n",
    "            total_counts += comb(len(dict_indices[k]), 3)\n",
    "            \n",
    "        return total_counts\n",
    "    \n",
    "    set_k = set(arr)\n",
    "    dict_unique = OrderedDict.fromkeys(sorted(set_k))\n",
    "    \n",
    "    ## --- Build List of Progressions\n",
    "    list_progression = []\n",
    "    i = 0\n",
    "    while dict_unique:\n",
    "        k = next(iter(dict_unique))\n",
    "        dict_unique.pop(k)\n",
    "        list_sequence = [k]\n",
    "\n",
    "        while k*r in dict_unique:\n",
    "            k *= r\n",
    "            dict_unique.pop(k)\n",
    "            list_sequence.append(k)\n",
    "\n",
    "        list_progression.append(list_sequence)\n",
    "        i += 1\n",
    "\n",
    "    ## Get useful progressions (contains triplets), elements in useful progressions\n",
    "    list_progression = [sublist for sublist in list_progression if len(sublist) >=3]\n",
    "    set_valid = set([item for sublist in list_progression for item in sublist])\n",
    "    arr_f = [x for x in arr if x in set_valid]\n",
    "    \n",
    "    ## Build dictionary of Counts(Singles)\n",
    "    dict_counts_k =  {k:[] for k in set_valid}\n",
    "    for i, k in enumerate(arr_f):\n",
    "        if dict_counts_k[k]:\n",
    "            cur_count = dict_counts_k[k][-1][1]\n",
    "        else:\n",
    "            cur_count = 0\n",
    "\n",
    "        dict_counts_k[k].append((i, cur_count+1)) \n",
    "        \n",
    "    # --------- Count Twins    \n",
    "    \n",
    "    ## Build dictionary of Counts(Twins)\n",
    "    dict_counts_twin = {}\n",
    "    for g_p in list_progression:\n",
    "        for i in range(len(g_p)-1):\n",
    "            k1 = g_p[i]\n",
    "            k2 = g_p[i+1]\n",
    "            dict_counts_twin[k1,k2] = [(0,0)]\n",
    "\n",
    "            i_k1 = 0\n",
    "\n",
    "            list_k1 = dict_counts_k[k1]\n",
    "            list_k2 = dict_counts_k[k2]\n",
    "\n",
    "            for cur_i, c_k2 in list_k2:\n",
    "\n",
    "                i_k1_before = i_k1\n",
    "                i_k1 = max(i_k1, 0)\n",
    "                i_k1 = find_less(i_k1, cur_i, list_k1)\n",
    "\n",
    "                prev_c = dict_counts_twin[k1,k2][-1][1]\n",
    "\n",
    "                if i_k1 < 0:\n",
    "                    continue\n",
    "\n",
    "                c_k1 = list_k1[i_k1][1]\n",
    "                dict_counts_twin[k1,k2].append((cur_i, prev_c+c_k1))   \n",
    "                \n",
    "    # ---- Count Triplets\n",
    "    \n",
    "    ## Get Total, code can be generalized\n",
    "    total_counts = 0\n",
    "    for g_p in list_progression:\n",
    "        for i in range(len(g_p)-2):\n",
    "            k1 = g_p[i]\n",
    "            k2 = g_p[i+1]\n",
    "            k3 = g_p[i+2]\n",
    "\n",
    "            list_k3 = dict_counts_k[k3]\n",
    "            list_twin = dict_counts_twin[k1,k2]\n",
    "            i_twin = 0\n",
    "\n",
    "            for cur_i, c_k3 in list_k3:\n",
    "\n",
    "                i_twin_before = i_twin\n",
    "                i_twin = max(i_twin, 0)\n",
    "                i_twin = find_less(i_twin, cur_i, list_twin)\n",
    "\n",
    "                if i_twin < 0:\n",
    "                    continue\n",
    "\n",
    "                c_twin = list_twin[i_twin][1]\n",
    "\n",
    "                total_counts += c_twin\n",
    "    \n",
    "    return total_counts"
   ]
  },
  {
   "cell_type": "markdown",
   "id": "f6908f6d-3666-464f-b525-7665943d3597",
   "metadata": {},
   "source": [
    "## Run"
   ]
  },
  {
   "cell_type": "code",
   "execution_count": 13,
   "id": "fe7f0af1-6ee0-4bca-b1d5-3b3d0fcae437",
   "metadata": {},
   "outputs": [],
   "source": [
    "## Change input() -> f_input.readline()"
   ]
  },
  {
   "cell_type": "code",
   "execution_count": 15,
   "id": "5f6f01cb-6199-412e-a003-7d175096fac5",
   "metadata": {},
   "outputs": [
    {
     "name": "stdout",
     "output_type": "stream",
     "text": [
      "CPU times: total: 62.5 ms\n",
      "Wall time: 36 ms\n"
     ]
    },
    {
     "data": {
      "text/plain": [
       "166661666700000"
      ]
     },
     "execution_count": 15,
     "metadata": {},
     "output_type": "execute_result"
    }
   ],
   "source": [
    "%%time\n",
    "\n",
    "name_test = 'test_3.txt'\n",
    "\n",
    "f_input = open(f\"./in/{name_test}\", \"r\")\n",
    "\n",
    "if __name__ == '__main__':\n",
    "    fptr = open(os.environ['OUTPUT_PATH'], 'w')\n",
    "\n",
    "    nr = f_input.readline().rstrip().split()\n",
    "\n",
    "    n = int(nr[0])\n",
    "\n",
    "    r = int(nr[1])\n",
    "\n",
    "    arr = list(map(int, f_input.readline().rstrip().split()))\n",
    "    \n",
    "    ans = countTriplets(arr, r)\n",
    "\n",
    "    fptr.write(str(ans) + '\\n')\n",
    "\n",
    "    fptr.close()\n",
    "    \n",
    "ans"
   ]
  },
  {
   "cell_type": "code",
   "execution_count": 55,
   "id": "f244f155-fc91-4ed3-9352-c9a652c31f7f",
   "metadata": {},
   "outputs": [
    {
     "data": {
      "text/plain": [
       "2325652489"
      ]
     },
     "execution_count": 55,
     "metadata": {},
     "output_type": "execute_result"
    }
   ],
   "source": [
    "ans"
   ]
  },
  {
   "cell_type": "code",
   "execution_count": 1,
   "id": "e0dcc91a-f772-4eba-aa38-7a76abf4e5a9",
   "metadata": {},
   "outputs": [],
   "source": [
    "dict_temp = {}"
   ]
  },
  {
   "cell_type": "code",
   "execution_count": 2,
   "id": "9b19efc9-9c28-4706-8495-2f7b849cd546",
   "metadata": {},
   "outputs": [],
   "source": [
    "dict_temp[0] = []"
   ]
  },
  {
   "cell_type": "markdown",
   "id": "bfdbc80b-3d08-4db7-8182-bc073a5fc666",
   "metadata": {
    "tags": []
   },
   "source": [
    "# Step by Step"
   ]
  },
  {
   "cell_type": "code",
   "execution_count": 204,
   "id": "7d22051c-fde5-4f3d-b615-ae368273ae9a",
   "metadata": {},
   "outputs": [],
   "source": [
    "name_test = 'test_10.txt'\n",
    "\n",
    "f_input = open(f\"./in/{name_test}\", \"r\")\n",
    "\n",
    "if __name__ == '__main__':\n",
    "    fptr = open(os.environ['OUTPUT_PATH'], 'w')\n",
    "\n",
    "    nr = f_input.readline().rstrip().split()\n",
    "\n",
    "    n = int(nr[0])\n",
    "\n",
    "    r = int(nr[1])\n",
    "\n",
    "    arr = list(map(int, f_input.readline().rstrip().split()))"
   ]
  },
  {
   "cell_type": "code",
   "execution_count": 205,
   "id": "cb36bc42-0d7e-46f1-9bf2-302fae3c88b7",
   "metadata": {},
   "outputs": [],
   "source": [
    "from collections import OrderedDict"
   ]
  },
  {
   "cell_type": "code",
   "execution_count": 206,
   "id": "726a934a-765c-48b7-99fc-713a25ded2ed",
   "metadata": {},
   "outputs": [
    {
     "name": "stdout",
     "output_type": "stream",
     "text": [
      "Wall time: 3 ms\n"
     ]
    }
   ],
   "source": [
    "%%time\n",
    "set_k = set(arr)\n",
    "dict_unique = OrderedDict.fromkeys(sorted(set_k))\n"
   ]
  },
  {
   "cell_type": "code",
   "execution_count": 207,
   "id": "fe333432-e740-4f0d-8acf-cd97c963b547",
   "metadata": {},
   "outputs": [],
   "source": [
    "\n",
    "list_progression = []\n",
    "dict_lookup = {}\n",
    "i = 0\n",
    "\n",
    "while dict_unique:\n",
    "    \n",
    "    k = next(iter(dict_unique))\n",
    "    dict_unique.pop(k)\n",
    "    dict_lookup[k] = i\n",
    "    list_sequence = [k]\n",
    "\n",
    "    while k*r in dict_unique:\n",
    "        k *= r\n",
    "        dict_unique.pop(k)\n",
    "        dict_lookup[k] = i\n",
    "        list_sequence.append(k)\n",
    "\n",
    "    list_progression.append(list_sequence)\n",
    "    i += 1\n",
    "    \n",
    "    \n",
    "list_progression = [sublist for sublist in list_progression if len(sublist) >=3]\n",
    "set_valid = set([item for sublist in list_progression for item in sublist])"
   ]
  },
  {
   "cell_type": "code",
   "execution_count": 208,
   "id": "16553faf-55d3-4e47-8103-dde0d9ac8335",
   "metadata": {},
   "outputs": [
    {
     "name": "stdout",
     "output_type": "stream",
     "text": [
      "Wall time: 116 ms\n"
     ]
    }
   ],
   "source": [
    "%%time\n",
    "\n",
    "arr_f = [x for x in arr if x in set_valid]\n",
    "\n",
    "dict_counts_k =  {k:[] for k in set_valid}\n",
    "\n",
    "for i, k in enumerate(arr_f):\n",
    "    if dict_counts_k[k]:\n",
    "        cur_count = dict_counts_k[k][-1][1]\n",
    "    else:\n",
    "        cur_count = 0\n",
    "        \n",
    "    dict_counts_k[k].append((i, cur_count+1)) "
   ]
  },
  {
   "cell_type": "code",
   "execution_count": 209,
   "id": "3b797a96-ac1b-4acd-812d-f0271350cc04",
   "metadata": {},
   "outputs": [],
   "source": [
    "def find_less(i_k1_start, i_k2, list_k1):\n",
    "#     print('in find less')\n",
    "    for i in range(i_k1_start, len(list_k1)):\n",
    "        try:\n",
    "            i_k1, k1 = list_k1[i]\n",
    "            if i_k1 >= i_k2:\n",
    "                return i - 1\n",
    "        except Exception as e:\n",
    "            print(e)\n",
    "            print(i)\n",
    "\n",
    "#     print(f'last i = {i} | last i_k1 = {i_k1} | i_k2 = {i_k2}')\n",
    "    \n",
    "    return i\n",
    "        "
   ]
  },
  {
   "cell_type": "code",
   "execution_count": 210,
   "id": "cb566c4a-3267-4fa6-8ce4-3d4e90ec767a",
   "metadata": {},
   "outputs": [],
   "source": [
    "dict_counts_twin = {}\n",
    "\n",
    "for g_p in list_progression:\n",
    "    for i in range(len(g_p)-1):\n",
    "        k1 = g_p[i]\n",
    "        k2 = g_p[i+1]\n",
    "        dict_counts_twin[k1,k2] = [(0,0)]\n",
    "        \n",
    "        i_k1 = 0\n",
    "        \n",
    "        list_k1 = dict_counts_k[k1]\n",
    "        list_k2 = dict_counts_k[k2]\n",
    "        \n",
    "#         print(f'list_k1 = {list_k1} | list_k2 = {list_k2}')\n",
    "        \n",
    "        for cur_i, c_k2 in list_k2:\n",
    "            \n",
    "            i_k1_before = i_k1\n",
    "            \n",
    "            i_k1 = max(i_k1, 0)\n",
    "        \n",
    "            i_k1 = find_less(i_k1, cur_i, list_k1)\n",
    "            \n",
    "#             print('in for loop')\n",
    "\n",
    "            prev_c = dict_counts_twin[k1,k2][-1][1]\n",
    "            \n",
    "\n",
    "            \n",
    "#             print(f'cur_k2 = {k2} | cur_i = {cur_i} | i_k1_before = {i_twin_before} | i_k1 = {i_k1}')\n",
    "\n",
    "#             print(f'cur_i = {cur_i} | i_k1 = {i_k1}')\n",
    "            \n",
    "            if i_k1 < 0:\n",
    "                continue\n",
    "            \n",
    "            try:\n",
    "                c_k1 = list_k1[i_k1][1]\n",
    "            except Exception as e:\n",
    "                pass\n",
    "#                 print(e)\n",
    "#                 print(i_k1)\n",
    "            \n",
    "            dict_counts_twin[k1,k2].append((cur_i, prev_c+c_k1))   \n"
   ]
  },
  {
   "cell_type": "code",
   "execution_count": 211,
   "id": "300929b3-5034-4fa6-a2e2-fa709d18d133",
   "metadata": {
    "tags": []
   },
   "outputs": [],
   "source": [
    "total_counts = 0\n",
    "\n",
    "for g_p in list_progression:\n",
    "    for i in range(len(g_p)-2):\n",
    "        k1 = g_p[i]\n",
    "        k2 = g_p[i+1]\n",
    "        k3 = g_p[i+2]\n",
    "        \n",
    "        list_k3 = dict_counts_k[k3]\n",
    "        list_twin = dict_counts_twin[k1,k2]\n",
    "        i_twin = 0\n",
    "        \n",
    "        for cur_i, c_k3 in list_k3:\n",
    "\n",
    "            i_twin_before = i_twin\n",
    "            i_twin = max(i_twin, 0)\n",
    "            i_twin = find_less(i_twin, cur_i, list_twin)\n",
    "            \n",
    "#             print(f'cur_k3 = {k3} | cur_i = {cur_i} | i_twin_before = {i_twin_before} | i_twin = {i_twin}')\n",
    "            \n",
    "            if i_twin < 0:\n",
    "                continue\n",
    "            \n",
    "            c_twin = list_twin[i_twin][1]\n",
    "        \n",
    "            \n",
    "#             print(f'c_twin = {c_twin} | k3 = {k3}')\n",
    "            \n",
    "#             print('---------------------------')\n",
    "            \n",
    "            total_counts += c_twin"
   ]
  },
  {
   "cell_type": "code",
   "execution_count": 212,
   "id": "bc4fd9e9-8dd8-494f-a489-10e6c1b58eab",
   "metadata": {},
   "outputs": [
    {
     "data": {
      "text/plain": [
       "1339347780085"
      ]
     },
     "execution_count": 215,
     "metadata": {},
     "output_type": "execute_result"
    }
   ],
   "source": [
    "total_counts"
   ]
  },
  {
   "cell_type": "markdown",
   "id": "77053b1d-55aa-485f-8a86-39e171c9ebcd",
   "metadata": {},
   "source": [
    "# Debug"
   ]
  },
  {
   "cell_type": "code",
   "execution_count": 123,
   "id": "d5a8d766-6c63-4373-b06f-1a69a8bbdc08",
   "metadata": {},
   "outputs": [
    {
     "data": {
      "text/plain": [
       "20"
      ]
     },
     "execution_count": 123,
     "metadata": {},
     "output_type": "execute_result"
    }
   ],
   "source": [
    "temp_str = ''\n",
    "temp_str = '10000000 100 10 10000000 100 10 10000000 100000 1000000000 10000 10000 10 1000000 1000000000 10000000 10 1000000 10000 100000 100000000 '\n",
    "count_delimited = len(temp_str.split())\n",
    "count_delimited"
   ]
  },
  {
   "cell_type": "code",
   "execution_count": 142,
   "id": "a56f370f-40ba-46fe-9a5a-26ebfcb10721",
   "metadata": {},
   "outputs": [
    {
     "data": {
      "text/plain": [
       "0"
      ]
     },
     "execution_count": 142,
     "metadata": {},
     "output_type": "execute_result"
    }
   ],
   "source": [
    "total_counts"
   ]
  },
  {
   "cell_type": "code",
   "execution_count": 143,
   "id": "9fa4f6fd-fa36-4454-aa8f-bfa22665db4d",
   "metadata": {},
   "outputs": [
    {
     "data": {
      "text/plain": [
       "[[10000, 100000, 1000000, 10000000, 100000000, 1000000000]]"
      ]
     },
     "execution_count": 143,
     "metadata": {},
     "output_type": "execute_result"
    }
   ],
   "source": [
    "list_progression "
   ]
  },
  {
   "cell_type": "code",
   "execution_count": 146,
   "id": "b1f666e7-c18c-47f4-9b7d-3fab76c3aebf",
   "metadata": {},
   "outputs": [
    {
     "data": {
      "text/plain": [
       "[10000000,\n",
       " 10000000,\n",
       " 10000000,\n",
       " 100000,\n",
       " 1000000000,\n",
       " 10000,\n",
       " 10000,\n",
       " 1000000,\n",
       " 1000000000,\n",
       " 10000000,\n",
       " 1000000,\n",
       " 10000,\n",
       " 100000,\n",
       " 100000000]"
      ]
     },
     "execution_count": 146,
     "metadata": {},
     "output_type": "execute_result"
    }
   ],
   "source": [
    "arr_f"
   ]
  },
  {
   "cell_type": "code",
   "execution_count": 147,
   "id": "4abc674d-587d-4977-a7da-f1352624c1df",
   "metadata": {},
   "outputs": [
    {
     "data": {
      "text/plain": [
       "10000000"
      ]
     },
     "execution_count": 147,
     "metadata": {},
     "output_type": "execute_result"
    }
   ],
   "source": [
    "arr[14]"
   ]
  },
  {
   "cell_type": "code",
   "execution_count": 161,
   "id": "ff5c4532-e297-454f-9485-79b1d6faadf6",
   "metadata": {
    "tags": []
   },
   "outputs": [
    {
     "data": {
      "text/plain": [
       "{100000000: [(13, 1)],\n",
       " 1000000: [(7, 1), (10, 2)],\n",
       " 10000000: [(0, 1), (1, 2), (2, 3), (9, 4)],\n",
       " 100000: [(3, 1), (12, 2)],\n",
       " 1000000000: [(4, 1), (8, 2)],\n",
       " 10000: [(5, 1), (6, 2), (11, 3)]}"
      ]
     },
     "execution_count": 161,
     "metadata": {},
     "output_type": "execute_result"
    }
   ],
   "source": [
    "dict_counts_k"
   ]
  },
  {
   "cell_type": "code",
   "execution_count": 145,
   "id": "11c3e48f-930f-464c-9ce3-0ba42783af61",
   "metadata": {
    "tags": []
   },
   "outputs": [
    {
     "data": {
      "text/plain": [
       "{(10000, 100000): [(0, 0), (12, 3)],\n",
       " (100000, 1000000): [(0, 0), (7, 1), (10, 2)],\n",
       " (1000000, 10000000): [(0, 0)],\n",
       " (10000000, 100000000): [(0, 0), (13, 4)],\n",
       " (100000000, 1000000000): [(0, 0)]}"
      ]
     },
     "execution_count": 145,
     "metadata": {},
     "output_type": "execute_result"
    }
   ],
   "source": [
    "dict_counts_twin"
   ]
  },
  {
   "cell_type": "code",
   "execution_count": 150,
   "id": "e08c71c0-322c-4970-8a5e-c85539103ae6",
   "metadata": {},
   "outputs": [
    {
     "data": {
      "text/plain": [
       "[(0, 0), (7, 1), (10, 2)]"
      ]
     },
     "execution_count": 150,
     "metadata": {},
     "output_type": "execute_result"
    }
   ],
   "source": [
    "dict_counts_twin[100000, 1000000]"
   ]
  },
  {
   "cell_type": "code",
   "execution_count": 149,
   "id": "53d43fe5-8d79-4416-8d58-c8c977d72bbc",
   "metadata": {},
   "outputs": [
    {
     "data": {
      "text/plain": [
       "[(0, 1), (1, 2), (2, 3), (9, 4)]"
      ]
     },
     "execution_count": 149,
     "metadata": {},
     "output_type": "execute_result"
    }
   ],
   "source": [
    "dict_counts_k[10000000]"
   ]
  },
  {
   "cell_type": "code",
   "execution_count": 163,
   "id": "69425fda-52aa-472d-8711-026f38e6dbd0",
   "metadata": {},
   "outputs": [
    {
     "data": {
      "text/plain": [
       "[(0, 0)]"
      ]
     },
     "execution_count": 163,
     "metadata": {},
     "output_type": "execute_result"
    }
   ],
   "source": [
    "dict_counts_twin[1000000, 10000000]"
   ]
  },
  {
   "cell_type": "code",
   "execution_count": 159,
   "id": "33ecfd94-9413-49a7-911b-e89cd2dff084",
   "metadata": {},
   "outputs": [
    {
     "data": {
      "text/plain": [
       "[10000000,\n",
       " 10000000,\n",
       " 10000000,\n",
       " 100000,\n",
       " 1000000000,\n",
       " 10000,\n",
       " 10000,\n",
       " 1000000,\n",
       " 1000000000,\n",
       " 10000000,\n",
       " 1000000,\n",
       " 10000,\n",
       " 100000,\n",
       " 100000000]"
      ]
     },
     "execution_count": 159,
     "metadata": {},
     "output_type": "execute_result"
    }
   ],
   "source": [
    "[10000000,\n",
    " 10000000,\n",
    " 10000000,\n",
    " 100000,\n",
    " 1000000000,\n",
    " 10000,\n",
    " 10000,\n",
    " 1000000,\n",
    " 1000000000,\n",
    " 10000000,\n",
    " 1000000,\n",
    " 10000,\n",
    " 100000,\n",
    " 100000000,\n",
    "]"
   ]
  }
 ],
 "metadata": {
  "kernelspec": {
   "display_name": "Python [conda env:hackerrank]",
   "language": "python",
   "name": "conda-env-hackerrank-py"
  },
  "language_info": {
   "codemirror_mode": {
    "name": "ipython",
    "version": 3
   },
   "file_extension": ".py",
   "mimetype": "text/x-python",
   "name": "python",
   "nbconvert_exporter": "python",
   "pygments_lexer": "ipython3",
   "version": "3.11.3"
  },
  "toc-autonumbering": true
 },
 "nbformat": 4,
 "nbformat_minor": 5
}
