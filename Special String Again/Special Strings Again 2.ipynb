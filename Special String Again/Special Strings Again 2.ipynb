{
 "cells": [
  {
   "cell_type": "code",
   "execution_count": 8,
   "id": "9f128c88-bcc6-40fe-89e8-af6bc909f23e",
   "metadata": {},
   "outputs": [],
   "source": [
    "#!/bin/python3\n",
    "\n",
    "import math\n",
    "import os\n",
    "import random\n",
    "import re\n",
    "import sys\n",
    "\n",
    "\n",
    "    \n"
   ]
  },
  {
   "cell_type": "code",
   "execution_count": 9,
   "id": "d020297f-79aa-4d60-8605-abf09432e96f",
   "metadata": {},
   "outputs": [],
   "source": [
    "from collections import defaultdict"
   ]
  },
  {
   "cell_type": "code",
   "execution_count": 17,
   "id": "792d9212-e46a-4a74-82e4-0aa658c30c46",
   "metadata": {},
   "outputs": [],
   "source": [
    "# Complete the substrCount function below.\n",
    "def substrCount(n, s):\n",
    "    \n",
    "    global list_dict\n",
    "    \n",
    "    list_dict = []\n",
    "    \n",
    "    dict_single = defaultdict(set)\n",
    "    #dict_valid = {chr(code):set() for code in range(ord('a'),ord('z')+1)}\n",
    "    \n",
    "    for i, char in enumerate(s):\n",
    "        dict_single[char].add(i)\n",
    "    \n",
    "    dict_2 = defaultdict(set)\n",
    "    dict_3 = defaultdict(set)\n",
    "    \n",
    "    for i in range(n-1):  \n",
    "        if s[i] == s[i+1]:\n",
    "            key = s[i]*2\n",
    "            dict_2[key].add(i)\n",
    "     \n",
    "    for i in range(n-2):  \n",
    "        if s[i] == s[i+2]:\n",
    "            key = s[i:i+3]\n",
    "            dict_3[key].add(i)       \n",
    "         \n",
    "    list_dict.append(dict_single)\n",
    "    list_dict.append(dict_2)\n",
    "    list_dict.append(dict_3)\n",
    "    \n",
    "      \n",
    "    i_list = 1\n",
    "    prev_dict = None\n",
    "    \n",
    "    while list_dict[i_list] or prev_dict:\n",
    "        dict_p = list_dict[i_list]\n",
    "        dict_next = defaultdict(set)\n",
    "        \n",
    "        for k,v in dict_p.items():\n",
    "            \n",
    "            char = k[0]\n",
    "            str_key = f'{char}{k}{char}'\n",
    "            \n",
    "            for i in v:\n",
    "                \n",
    "                if i == 0 or i + len(k) >= len(s):\n",
    "                    continue\n",
    "                else:\n",
    "                    if s[i-1] == char and s[i+len(k)] == char:\n",
    "                        dict_next[str_key].add(i-1)\n",
    "\n",
    "        list_dict.append(dict_next)\n",
    "        \n",
    "        prev_dict = list_dict[i_list] \n",
    "        i_list += 1\n",
    "                  \n",
    "            \n",
    "    total = sum([len(v) for d in list_dict for v in d.values()])\n",
    "    return total\n",
    "    "
   ]
  },
  {
   "cell_type": "code",
   "execution_count": null,
   "id": "2219d617-c57d-4898-8786-2f7e79813d45",
   "metadata": {},
   "outputs": [],
   "source": []
  },
  {
   "cell_type": "code",
   "execution_count": 18,
   "id": "ce5fe846-9ba9-4033-9da6-bbb7c3e9a663",
   "metadata": {},
   "outputs": [
    {
     "data": {
      "text/plain": [
       "16"
      ]
     },
     "execution_count": 18,
     "metadata": {},
     "output_type": "execute_result"
    }
   ],
   "source": [
    "target_str = 'aaadaaa'\n",
    "\n",
    "substrCount(len(target_str), target_str)"
   ]
  },
  {
   "cell_type": "code",
   "execution_count": 19,
   "id": "7b10a255-8db1-41af-ad6f-2e8d73cace9d",
   "metadata": {},
   "outputs": [
    {
     "data": {
      "text/plain": [
       "[defaultdict(set, {'a': {0, 1, 2, 4, 5, 6}, 'd': {3}}),\n",
       " defaultdict(set, {'aa': {0, 1, 4, 5}}),\n",
       " defaultdict(set, {'aaa': {0, 4}, 'ada': {2}}),\n",
       " defaultdict(set, {}),\n",
       " defaultdict(set, {'aadaa': {1}}),\n",
       " defaultdict(set, {}),\n",
       " defaultdict(set, {'aaadaaa': {0}}),\n",
       " defaultdict(set, {}),\n",
       " defaultdict(set, {}),\n",
       " defaultdict(set, {})]"
      ]
     },
     "execution_count": 19,
     "metadata": {},
     "output_type": "execute_result"
    }
   ],
   "source": [
    "list_dict"
   ]
  },
  {
   "cell_type": "code",
   "execution_count": null,
   "id": "693956d7-7a85-4e30-a726-0cbed228f9cd",
   "metadata": {},
   "outputs": [],
   "source": []
  },
  {
   "cell_type": "markdown",
   "id": "612da745-32e3-45a8-83b0-c6478c394070",
   "metadata": {},
   "source": [
    "## Clean"
   ]
  },
  {
   "cell_type": "code",
   "execution_count": null,
   "id": "65b88668-5a35-4716-a07c-0663659240e6",
   "metadata": {},
   "outputs": [],
   "source": [
    "%%time\n",
    "name_test = 'input09.txt'\n",
    "\n",
    "f_input = open(f\"./in/{name_test}\", \"r\")\n",
    "\n",
    "if __name__ == '__main__':\n",
    "    fptr = open(os.environ['OUTPUT_PATH'], 'w')\n",
    "\n",
    "    n = int(f_input.readline())\n",
    "\n",
    "    s = f_input.readline()\n",
    "\n",
    "    result = substrCount(n, s)\n",
    "\n",
    "    fptr.write(str(result) + '\\n')\n",
    "\n",
    "    fptr.close()\n"
   ]
  },
  {
   "cell_type": "markdown",
   "id": "14ac75bd-0e15-43f9-8c33-7805889495d2",
   "metadata": {},
   "source": [
    "# Backup"
   ]
  },
  {
   "cell_type": "code",
   "execution_count": null,
   "id": "b3581274-ab0f-42ef-80f6-73d9c1952d9c",
   "metadata": {},
   "outputs": [],
   "source": [
    "# Complete the substrCount function below.\n",
    "def substrCount(n, s):\n",
    "    \n",
    "    list_dict = []\n",
    "    \n",
    "    dict_single = defaultdict(set)\n",
    "\n",
    "    for i, char in enumerate(s):\n",
    "        dict_single[char].add(i)\n",
    "        \n",
    "    list_dict.append(dict_single)\n",
    "\n",
    "    dict_2 = defaultdict(set)\n",
    "    dict_3 = defaultdict(set)\n",
    "    for k,v in dict_single.items():\n",
    "        \n",
    "        pairs = list(combinations(v, 2))\n",
    "        \n",
    "        #Filter adjacent only\n",
    "        pairs_1 = [sorted(pair) for pair in pairs if abs(pair[0] - pair[1])==1]\n",
    "        \n",
    "        key = k*2\n",
    "        \n",
    "        for pair in pairs_1:  \n",
    "            dict_2[key].add(pair[0])\n",
    "        \n",
    "            \n",
    "        #Case 2:\n",
    "        pairs_2 = [sorted(pair) for pair in pairs if abs(pair[0] - pair[1])==2]\n",
    "        base_key = [k, None, k]\n",
    "        \n",
    "        \n",
    "\n",
    "        for pair in pairs_2:\n",
    "            base_key[1] =  s[pair[0]+1]\n",
    "            \n",
    "            str_key = \"\".join(base_key)\n",
    "            dict_3[str_key].add(pair[0])\n",
    "            \n",
    "            \n",
    "    list_dict.append(dict_2)\n",
    "    list_dict.append(dict_3)\n",
    "    \n",
    "    i_list = 1\n",
    "    \n",
    "    \n",
    "    prev_dict = None\n",
    "    \n",
    "    while list_dict[i_list] or prev_dict:\n",
    "\n",
    "        \n",
    "        dict_p = list_dict[i_list]\n",
    "        dict_next = defaultdict(set)\n",
    "        \n",
    "        for k,v in dict_p.items():\n",
    "            \n",
    "            char = k[0]\n",
    "            str_key = f'{char}{k}{char}'\n",
    "            \n",
    "            for i in v:\n",
    "                \n",
    "                if i == 0 or i + len(k) >= len(s):\n",
    "                    continue\n",
    "                else:\n",
    "                    if s[i-1] == char and s[i+len(k)] == char:\n",
    "                        dict_next[str_key].add(i-1)\n",
    "\n",
    "        list_dict.append(dict_next)\n",
    "        \n",
    "        prev_dict = list_dict[i_list] \n",
    "        i_list += 1\n",
    "                  \n",
    "            \n",
    "    total = sum([len(v) for d in list_dict for v in d.values()])\n",
    "    return total\n",
    "    "
   ]
  }
 ],
 "metadata": {
  "kernelspec": {
   "display_name": "Python [conda env:hackerrank]",
   "language": "python",
   "name": "conda-env-hackerrank-py"
  },
  "language_info": {
   "codemirror_mode": {
    "name": "ipython",
    "version": 3
   },
   "file_extension": ".py",
   "mimetype": "text/x-python",
   "name": "python",
   "nbconvert_exporter": "python",
   "pygments_lexer": "ipython3",
   "version": "3.11.3"
  }
 },
 "nbformat": 4,
 "nbformat_minor": 5
}
