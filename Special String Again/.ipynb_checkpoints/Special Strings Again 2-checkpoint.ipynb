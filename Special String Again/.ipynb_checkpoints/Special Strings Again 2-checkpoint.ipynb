{
 "cells": [
  {
   "cell_type": "code",
   "execution_count": 4,
   "id": "9f128c88-bcc6-40fe-89e8-af6bc909f23e",
   "metadata": {},
   "outputs": [],
   "source": [
    "#!/bin/python3\n",
    "\n",
    "import math\n",
    "import os\n",
    "import random\n",
    "import re\n",
    "import sys\n",
    "\n",
    "\n",
    "    \n"
   ]
  },
  {
   "cell_type": "code",
   "execution_count": 5,
   "id": "846da477-0af3-462e-9c01-10e87ded9c1d",
   "metadata": {},
   "outputs": [],
   "source": [
    "from itertools import combinations"
   ]
  },
  {
   "cell_type": "code",
   "execution_count": 6,
   "id": "d020297f-79aa-4d60-8605-abf09432e96f",
   "metadata": {},
   "outputs": [],
   "source": [
    "from collections import defaultdict"
   ]
  },
  {
   "cell_type": "code",
   "execution_count": null,
   "id": "334f80d3-7b1b-45be-a1c8-845b3539e9e8",
   "metadata": {},
   "outputs": [],
   "source": []
  },
  {
   "cell_type": "code",
   "execution_count": 50,
   "id": "0ad681a9-5469-4822-b08f-06393e5cc8f7",
   "metadata": {},
   "outputs": [],
   "source": [
    "# Complete the substrCount function below.\n",
    "def substrCount(n, s):\n",
    "    \n",
    "    global dict_single, list_dict\n",
    "    \n",
    "    \n",
    "    list_dict = []\n",
    "    \n",
    "    dict_single = defaultdict(set)\n",
    "    #dict_valid = {chr(code):set() for code in range(ord('a'),ord('z')+1)}\n",
    "    \n",
    "    for i, char in enumerate(s):\n",
    "        dict_single[char].add(i)\n",
    "        \n",
    "    list_dict.append(dict_single)\n",
    "    #Get case 1: same char\n",
    "    #get combinations of pairs\n",
    "    #dict_add = defaultdict(set)\n",
    "    dict_2 = defaultdict(set)\n",
    "    dict_3 = defaultdict(set)\n",
    "    for k,v in dict_single.items():\n",
    "        \n",
    "        pairs = list(combinations(v, 2))\n",
    "        \n",
    "        print(f'pairs : {list(pairs)}')\n",
    "        \n",
    "\n",
    "        #Filter adjacent only\n",
    "        pairs_1 = [sorted(pair) for pair in pairs if abs(pair[0] - pair[1])==1]\n",
    "        \n",
    "        print(f'pairs_1 : {pairs_1}')\n",
    "        \n",
    "        key = k*2\n",
    "        \n",
    "        \n",
    "        for pair in pairs_1:  \n",
    "            dict_2[key].add(pair[0])\n",
    "        \n",
    "            \n",
    "        #Case 2:\n",
    "        print(f'pairs : {list(pairs)}')\n",
    "        pairs_2 = [sorted(pair) for pair in pairs if abs(pair[0] - pair[1])==2]\n",
    "        \n",
    "        base_key = [k, None, k]\n",
    "        \n",
    "        print(f'pairs_2 : {pairs_2}')\n",
    "        \n",
    "\n",
    "        for pair in pairs_2:\n",
    "            base_key[1] =  s[pair[0]+1]\n",
    "            \n",
    "            str_key = \"\".join(base_key)\n",
    "            dict_3[str_key].add(pair[0])\n",
    "            \n",
    "            \n",
    "    list_dict.append(dict_2)\n",
    "    list_dict.append(dict_3)\n",
    "    \n",
    "#     list_iterate = []\n",
    "            \n",
    "#     if dict_2:\n",
    "#         list_iterate.append(1)\n",
    "    \n",
    "#     if dict_3:\n",
    "#         list_iterate.append(2)\n",
    "    \n",
    "    \n",
    "    #Base case where dict_2 and/or dict_3 is empty is not yet covered\n",
    "    \n",
    "    \n",
    "    #Iterate by length\n",
    "    #Get keys of length 2: check adjacents for same char\n",
    "    #Get keys of length 3: check adjacents for same char\n",
    "    \n",
    "    \n",
    "    #While True\n",
    "    i_list = 1\n",
    "    \n",
    "    \n",
    "    prev_dict = None\n",
    "    \n",
    "    while list_dict[i_list] or prev_dict:\n",
    "#         print(list_iterate)\n",
    "#         print(len(list_dict))\n",
    "        \n",
    "#         cur_i = list_iterate[i_list]\n",
    "        \n",
    "        dict_p = list_dict[i_list]\n",
    "        dict_next = defaultdict(set)\n",
    "        \n",
    "        for k,v in dict_p.items():\n",
    "            \n",
    "            char = k[0]\n",
    "            str_key = f'{char}{k}{char}'\n",
    "            \n",
    "            for i in v:\n",
    "                \n",
    "                if i == 0 or i + len(k) >= len(s):\n",
    "                    print('In Continue clause')\n",
    "                    continue\n",
    "                else:\n",
    "                    if s[i-1] == char and s[i+len(k)] == char:\n",
    "                        print(f'k = [{k}], v = [{v}]')\n",
    "                        dict_next[str_key].add(i-1)\n",
    "                        \n",
    "#         if dict_next:  \n",
    "#             list_iterate.append(cur_i+2)\n",
    "            \n",
    "        list_dict.append(dict_next)\n",
    "        \n",
    "        prev_dict = list_dict[i_list] \n",
    "        i_list += 1\n",
    "                        \n",
    "                        \n",
    "            \n",
    "    total = sum([len(v) for d in list_dict for v in d.values()])\n",
    "    \n",
    "#     total = sum([len(v) for k,v in dict_all.values()])\n",
    "    print(total)\n",
    "\n",
    "        \n",
    "#     {k: v for d in L for k, v in d.items()}\n",
    "        \n",
    "        \n",
    "    "
   ]
  },
  {
   "cell_type": "code",
   "execution_count": 15,
   "id": "f070117c-4210-4f91-a386-a84dfbe9b1a8",
   "metadata": {},
   "outputs": [
    {
     "data": {
      "text/plain": [
       "False"
      ]
     },
     "execution_count": 15,
     "metadata": {},
     "output_type": "execute_result"
    }
   ],
   "source": [
    "dict_temp = defaultdict(set)\n",
    "\n",
    "bool(dict_temp)"
   ]
  },
  {
   "cell_type": "code",
   "execution_count": 51,
   "id": "a8d79609-85ff-40e6-8159-b77ca4cd7de2",
   "metadata": {},
   "outputs": [
    {
     "name": "stdout",
     "output_type": "stream",
     "text": [
      "pairs : [(0, 1), (0, 2), (0, 4), (0, 5), (0, 6), (1, 2), (1, 4), (1, 5), (1, 6), (2, 4), (2, 5), (2, 6), (4, 5), (4, 6), (5, 6)]\n",
      "pairs_1 : [[0, 1], [1, 2], [4, 5], [5, 6]]\n",
      "pairs : [(0, 1), (0, 2), (0, 4), (0, 5), (0, 6), (1, 2), (1, 4), (1, 5), (1, 6), (2, 4), (2, 5), (2, 6), (4, 5), (4, 6), (5, 6)]\n",
      "pairs_2 : [[0, 2], [2, 4], [4, 6]]\n",
      "pairs : []\n",
      "pairs_1 : []\n",
      "pairs : []\n",
      "pairs_2 : []\n",
      "In Continue clause\n",
      "In Continue clause\n",
      "In Continue clause\n",
      "In Continue clause\n",
      "k = [ada], v = [{2}]\n",
      "k = [aadaa], v = [{1}]\n",
      "In Continue clause\n",
      "16\n"
     ]
    }
   ],
   "source": [
    "substrCount(None, 'aaadaaa')"
   ]
  },
  {
   "cell_type": "code",
   "execution_count": 52,
   "id": "6aecf8a3-805b-4d13-8d81-308a2dd837af",
   "metadata": {},
   "outputs": [
    {
     "data": {
      "text/plain": [
       "[defaultdict(set, {'a': {0, 1, 2, 4, 5, 6}, 'd': {3}}),\n",
       " defaultdict(set, {'aa': {0, 1, 4, 5}}),\n",
       " defaultdict(set, {'aaa': {0, 4}, 'ada': {2}}),\n",
       " defaultdict(set, {}),\n",
       " defaultdict(set, {'aadaa': {1}}),\n",
       " defaultdict(set, {}),\n",
       " defaultdict(set, {'aaadaaa': {0}}),\n",
       " defaultdict(set, {}),\n",
       " defaultdict(set, {}),\n",
       " defaultdict(set, {})]"
      ]
     },
     "execution_count": 52,
     "metadata": {},
     "output_type": "execute_result"
    }
   ],
   "source": [
    "list_dict"
   ]
  },
  {
   "cell_type": "code",
   "execution_count": 45,
   "id": "acc8baf9-ccde-4863-bcbd-877364c1e472",
   "metadata": {},
   "outputs": [
    {
     "data": {
      "text/plain": [
       "defaultdict(set, {'a': {0, 1, 3, 4}, 'd': {2}, 'aa': {0, 3}, 'ada': {1}})"
      ]
     },
     "execution_count": 45,
     "metadata": {},
     "output_type": "execute_result"
    }
   ],
   "source": [
    "dict_valid"
   ]
  },
  {
   "cell_type": "code",
   "execution_count": null,
   "id": "f97eac20-1d71-48ed-bfe3-87e636e87473",
   "metadata": {},
   "outputs": [],
   "source": []
  },
  {
   "cell_type": "code",
   "execution_count": null,
   "id": "693956d7-7a85-4e30-a726-0cbed228f9cd",
   "metadata": {},
   "outputs": [],
   "source": []
  },
  {
   "cell_type": "markdown",
   "id": "612da745-32e3-45a8-83b0-c6478c394070",
   "metadata": {},
   "source": [
    "## Clean"
   ]
  },
  {
   "cell_type": "code",
   "execution_count": null,
   "id": "4ce7c54c-9e78-4af9-b16d-24d004138f71",
   "metadata": {},
   "outputs": [],
   "source": [
    "# Complete the substrCount function below.\n",
    "def substrCount(n, s):\n",
    "    \n",
    "    list_dict = []\n",
    "    \n",
    "    dict_single = defaultdict(set)\n",
    "\n",
    "    for i, char in enumerate(s):\n",
    "        dict_single[char].add(i)\n",
    "        \n",
    "    list_dict.append(dict_single)\n",
    "\n",
    "    dict_2 = defaultdict(set)\n",
    "    dict_3 = defaultdict(set)\n",
    "    for k,v in dict_single.items():\n",
    "        \n",
    "        pairs = list(combinations(v, 2))\n",
    "        \n",
    "        #Filter adjacent only\n",
    "        pairs_1 = [sorted(pair) for pair in pairs if abs(pair[0] - pair[1])==1]\n",
    "        \n",
    "        key = k*2\n",
    "        \n",
    "        for pair in pairs_1:  \n",
    "            dict_2[key].add(pair[0])\n",
    "        \n",
    "            \n",
    "        #Case 2:\n",
    "        pairs_2 = [sorted(pair) for pair in pairs if abs(pair[0] - pair[1])==2]\n",
    "        base_key = [k, None, k]\n",
    "        \n",
    "        \n",
    "\n",
    "        for pair in pairs_2:\n",
    "            base_key[1] =  s[pair[0]+1]\n",
    "            \n",
    "            str_key = \"\".join(base_key)\n",
    "            dict_3[str_key].add(pair[0])\n",
    "            \n",
    "            \n",
    "    list_dict.append(dict_2)\n",
    "    list_dict.append(dict_3)\n",
    "    \n",
    "    i_list = 1\n",
    "    \n",
    "    \n",
    "    prev_dict = None\n",
    "    \n",
    "    while list_dict[i_list] or prev_dict:\n",
    "\n",
    "        \n",
    "        dict_p = list_dict[i_list]\n",
    "        dict_next = defaultdict(set)\n",
    "        \n",
    "        for k,v in dict_p.items():\n",
    "            \n",
    "            char = k[0]\n",
    "            str_key = f'{char}{k}{char}'\n",
    "            \n",
    "            for i in v:\n",
    "                \n",
    "                if i == 0 or i + len(k) >= len(s):\n",
    "                    continue\n",
    "                else:\n",
    "                    if s[i-1] == char and s[i+len(k)] == char:\n",
    "                        dict_next[str_key].add(i-1)\n",
    "\n",
    "        list_dict.append(dict_next)\n",
    "        \n",
    "        prev_dict = list_dict[i_list] \n",
    "        i_list += 1\n",
    "                  \n",
    "            \n",
    "    total = sum([len(v) for d in list_dict for v in d.values()])\n",
    "    return total\n",
    "    "
   ]
  },
  {
   "cell_type": "code",
   "execution_count": null,
   "id": "65b88668-5a35-4716-a07c-0663659240e6",
   "metadata": {},
   "outputs": [],
   "source": [
    "%%time\n",
    "name_test = 'input09.txt'\n",
    "\n",
    "f_input = open(f\"./in/{name_test}\", \"r\")\n",
    "\n",
    "if __name__ == '__main__':\n",
    "    fptr = open(os.environ['OUTPUT_PATH'], 'w')\n",
    "\n",
    "    n = int(f_input.readline())\n",
    "\n",
    "    s = f_input.readline()\n",
    "\n",
    "    result = substrCount(n, s)\n",
    "\n",
    "    fptr.write(str(result) + '\\n')\n",
    "\n",
    "    fptr.close()\n"
   ]
  }
 ],
 "metadata": {
  "kernelspec": {
   "display_name": "Python [conda env:hackerrank]",
   "language": "python",
   "name": "conda-env-hackerrank-py"
  },
  "language_info": {
   "codemirror_mode": {
    "name": "ipython",
    "version": 3
   },
   "file_extension": ".py",
   "mimetype": "text/x-python",
   "name": "python",
   "nbconvert_exporter": "python",
   "pygments_lexer": "ipython3",
   "version": "3.11.3"
  }
 },
 "nbformat": 4,
 "nbformat_minor": 5
}
